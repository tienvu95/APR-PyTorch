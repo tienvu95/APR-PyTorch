{
 "cells": [
  {
   "cell_type": "code",
   "execution_count": 1,
   "id": "49fa4fca",
   "metadata": {},
   "outputs": [],
   "source": [
    "# import tensorflow as tf\n",
    "import time\n",
    "import numpy as np\n",
    "import os\n",
    "import copy\n",
    "import pickle\n",
    "import argparse\n",
    "import utility\n",
    "import pandas as pd\n",
    "from sklearn.metrics import *\n",
    "from sklearn.model_selection import train_test_split\n"
   ]
  },
  {
   "cell_type": "code",
   "execution_count": 155,
   "id": "09f4e13f",
   "metadata": {},
   "outputs": [],
   "source": [
    "import pandas as pd\n",
    "import numpy as np\n"
   ]
  },
  {
   "cell_type": "code",
   "execution_count": 156,
   "id": "2d2c3628",
   "metadata": {},
   "outputs": [],
   "source": [
    "train_df = pd.read_pickle(r'Yelp-4/training_df.pkl')    \n",
    "vali_df = pd.read_pickle(r'Yelp-4/valiing_df.pkl')       # for validation\n",
    "testing_df = pd.read_pickle(r'Yelp-4/testing_df.pkl')     # for testing\n",
    "key_genre = pd.read_pickle(r'Yelp-4/key_genre.pkl')  \n",
    "item_idd_genre_list = pd.read_pickle(r'Yelp-4/item_idd_genre_list.pkl')   \n",
    "genre_item_vector = pd.read_pickle(r'Yelp-4/genre_item_vector.pkl')    \n",
    "genre_count = pd.read_pickle(r'Yelp-4/genre_count.pkl')      \n",
    "user_genre_count = pd.read_pickle(r'Yelp-4/user_genre_count.pkl') \n",
    "\n",
    "num_item = len(train_df['item_id'].unique())\n",
    "num_user = len(train_df['user_id'].unique())\n",
    "num_genre = len(key_genre)\n",
    "\n",
    "item_genre_list = []\n",
    "for u in range(num_item):\n",
    "    gl = item_idd_genre_list[u]\n",
    "    tmp = []\n",
    "    for g in gl:\n",
    "        if g in key_genre:\n",
    "            tmp.append(g)\n",
    "    item_genre_list.append(tmp)"
   ]
  },
  {
   "cell_type": "code",
   "execution_count": 157,
   "id": "c0dd487e",
   "metadata": {},
   "outputs": [],
   "source": [
    "item_genre = np.zeros((num_item, num_genre))\n",
    "for i in range(num_item):\n",
    "    gl = item_genre_list[i]\n",
    "    for k in range(num_genre):\n",
    "        if key_genre[k] in gl:\n",
    "            item_genre[i, k] = 1.0"
   ]
  },
  {
   "cell_type": "code",
   "execution_count": 158,
   "id": "6a01f3a0",
   "metadata": {},
   "outputs": [
    {
     "data": {
      "text/plain": [
       "array([[0., 1., 0., 0.],\n",
       "       [0., 0., 1., 0.],\n",
       "       [1., 1., 1., 0.],\n",
       "       ...,\n",
       "       [0., 1., 0., 0.],\n",
       "       [1., 0., 0., 0.],\n",
       "       [0., 0., 1., 0.]])"
      ]
     },
     "execution_count": 158,
     "metadata": {},
     "output_type": "execute_result"
    }
   ],
   "source": [
    "item_genre"
   ]
  },
  {
   "cell_type": "code",
   "execution_count": 159,
   "id": "f3880e2b",
   "metadata": {},
   "outputs": [],
   "source": [
    "# train_df = train_df[train_df['user_id'].isin(vali_df['user_id'].unique())]\n",
    "# train_df = train_df[train_df['item_id'].isin(vali_df['item_id'].unique())]"
   ]
  },
  {
   "cell_type": "code",
   "execution_count": 160,
   "id": "247c3f74",
   "metadata": {},
   "outputs": [],
   "source": [
    "def create_user_list(df, user_size):\n",
    "    user_list = [list() for u in range(user_size)]\n",
    "    for row in df.itertuples():\n",
    "        user_list[row.user_id].append(row.item_id)\n",
    "    return user_list\n",
    "\n",
    "def create_pair(user_list):\n",
    "    pair = []\n",
    "    for user, item_list in enumerate(user_list):\n",
    "        pair.extend([(user, item) for item in item_list])\n",
    "    return pair"
   ]
  },
  {
   "cell_type": "code",
   "execution_count": 161,
   "id": "b4a6d7da",
   "metadata": {},
   "outputs": [],
   "source": [
    "train_df_loop = pd.read_pickle(r'Yelp-4/training_df.pkl')  "
   ]
  },
  {
   "cell_type": "code",
   "execution_count": 162,
   "id": "728918f9",
   "metadata": {},
   "outputs": [
    {
     "ename": "KeyboardInterrupt",
     "evalue": "",
     "output_type": "error",
     "traceback": [
      "\u001b[0;31m---------------------------------------------------------------------------\u001b[0m",
      "\u001b[0;31mKeyboardInterrupt\u001b[0m                         Traceback (most recent call last)",
      "Cell \u001b[0;32mIn [162], line 9\u001b[0m\n\u001b[1;32m      7\u001b[0m tune_idx \u001b[38;5;241m=\u001b[39m train_df_loop[train_df_loop[\u001b[38;5;124m'\u001b[39m\u001b[38;5;124muser_id\u001b[39m\u001b[38;5;124m'\u001b[39m] \u001b[38;5;241m==\u001b[39m user]\u001b[38;5;241m.\u001b[39msample(n\u001b[38;5;241m=\u001b[39m\u001b[38;5;241m1\u001b[39m, random_state\u001b[38;5;241m=\u001b[39m\u001b[38;5;241m181\u001b[39m)\u001b[38;5;241m.\u001b[39mindex[\u001b[38;5;241m0\u001b[39m]\n\u001b[1;32m      8\u001b[0m user_tune_list\u001b[38;5;241m.\u001b[39mappend(tune_idx)\n\u001b[0;32m----> 9\u001b[0m train_df_loop \u001b[38;5;241m=\u001b[39m \u001b[43mtrain_df_loop\u001b[49m\u001b[38;5;241;43m.\u001b[39;49m\u001b[43mdrop\u001b[49m\u001b[43m(\u001b[49m\u001b[43mtune_idx\u001b[49m\u001b[43m)\u001b[49m\n",
      "File \u001b[0;32m~/miniconda3/lib/python3.9/site-packages/pandas/util/_decorators.py:331\u001b[0m, in \u001b[0;36mdeprecate_nonkeyword_arguments.<locals>.decorate.<locals>.wrapper\u001b[0;34m(*args, **kwargs)\u001b[0m\n\u001b[1;32m    325\u001b[0m \u001b[38;5;28;01mif\u001b[39;00m \u001b[38;5;28mlen\u001b[39m(args) \u001b[38;5;241m>\u001b[39m num_allow_args:\n\u001b[1;32m    326\u001b[0m     warnings\u001b[38;5;241m.\u001b[39mwarn(\n\u001b[1;32m    327\u001b[0m         msg\u001b[38;5;241m.\u001b[39mformat(arguments\u001b[38;5;241m=\u001b[39m_format_argument_list(allow_args)),\n\u001b[1;32m    328\u001b[0m         \u001b[38;5;167;01mFutureWarning\u001b[39;00m,\n\u001b[1;32m    329\u001b[0m         stacklevel\u001b[38;5;241m=\u001b[39mfind_stack_level(),\n\u001b[1;32m    330\u001b[0m     )\n\u001b[0;32m--> 331\u001b[0m \u001b[38;5;28;01mreturn\u001b[39;00m \u001b[43mfunc\u001b[49m\u001b[43m(\u001b[49m\u001b[38;5;241;43m*\u001b[39;49m\u001b[43margs\u001b[49m\u001b[43m,\u001b[49m\u001b[43m \u001b[49m\u001b[38;5;241;43m*\u001b[39;49m\u001b[38;5;241;43m*\u001b[39;49m\u001b[43mkwargs\u001b[49m\u001b[43m)\u001b[49m\n",
      "File \u001b[0;32m~/miniconda3/lib/python3.9/site-packages/pandas/core/frame.py:5396\u001b[0m, in \u001b[0;36mDataFrame.drop\u001b[0;34m(self, labels, axis, index, columns, level, inplace, errors)\u001b[0m\n\u001b[1;32m   5248\u001b[0m \u001b[38;5;129m@deprecate_nonkeyword_arguments\u001b[39m(version\u001b[38;5;241m=\u001b[39m\u001b[38;5;28;01mNone\u001b[39;00m, allowed_args\u001b[38;5;241m=\u001b[39m[\u001b[38;5;124m\"\u001b[39m\u001b[38;5;124mself\u001b[39m\u001b[38;5;124m\"\u001b[39m, \u001b[38;5;124m\"\u001b[39m\u001b[38;5;124mlabels\u001b[39m\u001b[38;5;124m\"\u001b[39m])\n\u001b[1;32m   5249\u001b[0m \u001b[38;5;28;01mdef\u001b[39;00m \u001b[38;5;21mdrop\u001b[39m(  \u001b[38;5;66;03m# type: ignore[override]\u001b[39;00m\n\u001b[1;32m   5250\u001b[0m     \u001b[38;5;28mself\u001b[39m,\n\u001b[0;32m   (...)\u001b[0m\n\u001b[1;32m   5257\u001b[0m     errors: IgnoreRaise \u001b[38;5;241m=\u001b[39m \u001b[38;5;124m\"\u001b[39m\u001b[38;5;124mraise\u001b[39m\u001b[38;5;124m\"\u001b[39m,\n\u001b[1;32m   5258\u001b[0m ) \u001b[38;5;241m-\u001b[39m\u001b[38;5;241m>\u001b[39m DataFrame \u001b[38;5;241m|\u001b[39m \u001b[38;5;28;01mNone\u001b[39;00m:\n\u001b[1;32m   5259\u001b[0m     \u001b[38;5;124;03m\"\"\"\u001b[39;00m\n\u001b[1;32m   5260\u001b[0m \u001b[38;5;124;03m    Drop specified labels from rows or columns.\u001b[39;00m\n\u001b[1;32m   5261\u001b[0m \n\u001b[0;32m   (...)\u001b[0m\n\u001b[1;32m   5394\u001b[0m \u001b[38;5;124;03m            weight  1.0     0.8\u001b[39;00m\n\u001b[1;32m   5395\u001b[0m \u001b[38;5;124;03m    \"\"\"\u001b[39;00m\n\u001b[0;32m-> 5396\u001b[0m     \u001b[38;5;28;01mreturn\u001b[39;00m \u001b[38;5;28;43msuper\u001b[39;49m\u001b[43m(\u001b[49m\u001b[43m)\u001b[49m\u001b[38;5;241;43m.\u001b[39;49m\u001b[43mdrop\u001b[49m\u001b[43m(\u001b[49m\n\u001b[1;32m   5397\u001b[0m \u001b[43m        \u001b[49m\u001b[43mlabels\u001b[49m\u001b[38;5;241;43m=\u001b[39;49m\u001b[43mlabels\u001b[49m\u001b[43m,\u001b[49m\n\u001b[1;32m   5398\u001b[0m \u001b[43m        \u001b[49m\u001b[43maxis\u001b[49m\u001b[38;5;241;43m=\u001b[39;49m\u001b[43maxis\u001b[49m\u001b[43m,\u001b[49m\n\u001b[1;32m   5399\u001b[0m \u001b[43m        \u001b[49m\u001b[43mindex\u001b[49m\u001b[38;5;241;43m=\u001b[39;49m\u001b[43mindex\u001b[49m\u001b[43m,\u001b[49m\n\u001b[1;32m   5400\u001b[0m \u001b[43m        \u001b[49m\u001b[43mcolumns\u001b[49m\u001b[38;5;241;43m=\u001b[39;49m\u001b[43mcolumns\u001b[49m\u001b[43m,\u001b[49m\n\u001b[1;32m   5401\u001b[0m \u001b[43m        \u001b[49m\u001b[43mlevel\u001b[49m\u001b[38;5;241;43m=\u001b[39;49m\u001b[43mlevel\u001b[49m\u001b[43m,\u001b[49m\n\u001b[1;32m   5402\u001b[0m \u001b[43m        \u001b[49m\u001b[43minplace\u001b[49m\u001b[38;5;241;43m=\u001b[39;49m\u001b[43minplace\u001b[49m\u001b[43m,\u001b[49m\n\u001b[1;32m   5403\u001b[0m \u001b[43m        \u001b[49m\u001b[43merrors\u001b[49m\u001b[38;5;241;43m=\u001b[39;49m\u001b[43merrors\u001b[49m\u001b[43m,\u001b[49m\n\u001b[1;32m   5404\u001b[0m \u001b[43m    \u001b[49m\u001b[43m)\u001b[49m\n",
      "File \u001b[0;32m~/miniconda3/lib/python3.9/site-packages/pandas/util/_decorators.py:331\u001b[0m, in \u001b[0;36mdeprecate_nonkeyword_arguments.<locals>.decorate.<locals>.wrapper\u001b[0;34m(*args, **kwargs)\u001b[0m\n\u001b[1;32m    325\u001b[0m \u001b[38;5;28;01mif\u001b[39;00m \u001b[38;5;28mlen\u001b[39m(args) \u001b[38;5;241m>\u001b[39m num_allow_args:\n\u001b[1;32m    326\u001b[0m     warnings\u001b[38;5;241m.\u001b[39mwarn(\n\u001b[1;32m    327\u001b[0m         msg\u001b[38;5;241m.\u001b[39mformat(arguments\u001b[38;5;241m=\u001b[39m_format_argument_list(allow_args)),\n\u001b[1;32m    328\u001b[0m         \u001b[38;5;167;01mFutureWarning\u001b[39;00m,\n\u001b[1;32m    329\u001b[0m         stacklevel\u001b[38;5;241m=\u001b[39mfind_stack_level(),\n\u001b[1;32m    330\u001b[0m     )\n\u001b[0;32m--> 331\u001b[0m \u001b[38;5;28;01mreturn\u001b[39;00m \u001b[43mfunc\u001b[49m\u001b[43m(\u001b[49m\u001b[38;5;241;43m*\u001b[39;49m\u001b[43margs\u001b[49m\u001b[43m,\u001b[49m\u001b[43m \u001b[49m\u001b[38;5;241;43m*\u001b[39;49m\u001b[38;5;241;43m*\u001b[39;49m\u001b[43mkwargs\u001b[49m\u001b[43m)\u001b[49m\n",
      "File \u001b[0;32m~/miniconda3/lib/python3.9/site-packages/pandas/core/generic.py:4505\u001b[0m, in \u001b[0;36mNDFrame.drop\u001b[0;34m(self, labels, axis, index, columns, level, inplace, errors)\u001b[0m\n\u001b[1;32m   4503\u001b[0m \u001b[38;5;28;01mfor\u001b[39;00m axis, labels \u001b[38;5;129;01min\u001b[39;00m axes\u001b[38;5;241m.\u001b[39mitems():\n\u001b[1;32m   4504\u001b[0m     \u001b[38;5;28;01mif\u001b[39;00m labels \u001b[38;5;129;01mis\u001b[39;00m \u001b[38;5;129;01mnot\u001b[39;00m \u001b[38;5;28;01mNone\u001b[39;00m:\n\u001b[0;32m-> 4505\u001b[0m         obj \u001b[38;5;241m=\u001b[39m \u001b[43mobj\u001b[49m\u001b[38;5;241;43m.\u001b[39;49m\u001b[43m_drop_axis\u001b[49m\u001b[43m(\u001b[49m\u001b[43mlabels\u001b[49m\u001b[43m,\u001b[49m\u001b[43m \u001b[49m\u001b[43maxis\u001b[49m\u001b[43m,\u001b[49m\u001b[43m \u001b[49m\u001b[43mlevel\u001b[49m\u001b[38;5;241;43m=\u001b[39;49m\u001b[43mlevel\u001b[49m\u001b[43m,\u001b[49m\u001b[43m \u001b[49m\u001b[43merrors\u001b[49m\u001b[38;5;241;43m=\u001b[39;49m\u001b[43merrors\u001b[49m\u001b[43m)\u001b[49m\n\u001b[1;32m   4507\u001b[0m \u001b[38;5;28;01mif\u001b[39;00m inplace:\n\u001b[1;32m   4508\u001b[0m     \u001b[38;5;28mself\u001b[39m\u001b[38;5;241m.\u001b[39m_update_inplace(obj)\n",
      "File \u001b[0;32m~/miniconda3/lib/python3.9/site-packages/pandas/core/generic.py:4585\u001b[0m, in \u001b[0;36mNDFrame._drop_axis\u001b[0;34m(self, labels, axis, level, errors, only_slice)\u001b[0m\n\u001b[1;32m   4582\u001b[0m     new_axis \u001b[38;5;241m=\u001b[39m axis\u001b[38;5;241m.\u001b[39mtake(indexer)\n\u001b[1;32m   4584\u001b[0m bm_axis \u001b[38;5;241m=\u001b[39m \u001b[38;5;28mself\u001b[39m\u001b[38;5;241m.\u001b[39mndim \u001b[38;5;241m-\u001b[39m axis_num \u001b[38;5;241m-\u001b[39m \u001b[38;5;241m1\u001b[39m\n\u001b[0;32m-> 4585\u001b[0m new_mgr \u001b[38;5;241m=\u001b[39m \u001b[38;5;28;43mself\u001b[39;49m\u001b[38;5;241;43m.\u001b[39;49m\u001b[43m_mgr\u001b[49m\u001b[38;5;241;43m.\u001b[39;49m\u001b[43mreindex_indexer\u001b[49m\u001b[43m(\u001b[49m\n\u001b[1;32m   4586\u001b[0m \u001b[43m    \u001b[49m\u001b[43mnew_axis\u001b[49m\u001b[43m,\u001b[49m\n\u001b[1;32m   4587\u001b[0m \u001b[43m    \u001b[49m\u001b[43mindexer\u001b[49m\u001b[43m,\u001b[49m\n\u001b[1;32m   4588\u001b[0m \u001b[43m    \u001b[49m\u001b[43maxis\u001b[49m\u001b[38;5;241;43m=\u001b[39;49m\u001b[43mbm_axis\u001b[49m\u001b[43m,\u001b[49m\n\u001b[1;32m   4589\u001b[0m \u001b[43m    \u001b[49m\u001b[43mallow_dups\u001b[49m\u001b[38;5;241;43m=\u001b[39;49m\u001b[38;5;28;43;01mTrue\u001b[39;49;00m\u001b[43m,\u001b[49m\n\u001b[1;32m   4590\u001b[0m \u001b[43m    \u001b[49m\u001b[43monly_slice\u001b[49m\u001b[38;5;241;43m=\u001b[39;49m\u001b[43monly_slice\u001b[49m\u001b[43m,\u001b[49m\n\u001b[1;32m   4591\u001b[0m \u001b[43m\u001b[49m\u001b[43m)\u001b[49m\n\u001b[1;32m   4592\u001b[0m result \u001b[38;5;241m=\u001b[39m \u001b[38;5;28mself\u001b[39m\u001b[38;5;241m.\u001b[39m_constructor(new_mgr)\n\u001b[1;32m   4593\u001b[0m \u001b[38;5;28;01mif\u001b[39;00m \u001b[38;5;28mself\u001b[39m\u001b[38;5;241m.\u001b[39mndim \u001b[38;5;241m==\u001b[39m \u001b[38;5;241m1\u001b[39m:\n",
      "File \u001b[0;32m~/miniconda3/lib/python3.9/site-packages/pandas/core/internals/managers.py:753\u001b[0m, in \u001b[0;36mBaseBlockManager.reindex_indexer\u001b[0;34m(self, new_axis, indexer, axis, fill_value, allow_dups, copy, only_slice, use_na_proxy)\u001b[0m\n\u001b[1;32m    751\u001b[0m     parent \u001b[38;5;241m=\u001b[39m \u001b[38;5;28;01mNone\u001b[39;00m \u001b[38;5;28;01mif\u001b[39;00m com\u001b[38;5;241m.\u001b[39mall_none(\u001b[38;5;241m*\u001b[39mnew_refs) \u001b[38;5;28;01melse\u001b[39;00m \u001b[38;5;28mself\u001b[39m\n\u001b[1;32m    752\u001b[0m \u001b[38;5;28;01melse\u001b[39;00m:\n\u001b[0;32m--> 753\u001b[0m     new_blocks \u001b[38;5;241m=\u001b[39m [\n\u001b[1;32m    754\u001b[0m         blk\u001b[38;5;241m.\u001b[39mtake_nd(\n\u001b[1;32m    755\u001b[0m             indexer,\n\u001b[1;32m    756\u001b[0m             axis\u001b[38;5;241m=\u001b[39m\u001b[38;5;241m1\u001b[39m,\n\u001b[1;32m    757\u001b[0m             fill_value\u001b[38;5;241m=\u001b[39m(\n\u001b[1;32m    758\u001b[0m                 fill_value \u001b[38;5;28;01mif\u001b[39;00m fill_value \u001b[38;5;129;01mis\u001b[39;00m \u001b[38;5;129;01mnot\u001b[39;00m \u001b[38;5;28;01mNone\u001b[39;00m \u001b[38;5;28;01melse\u001b[39;00m blk\u001b[38;5;241m.\u001b[39mfill_value\n\u001b[1;32m    759\u001b[0m             ),\n\u001b[1;32m    760\u001b[0m         )\n\u001b[1;32m    761\u001b[0m         \u001b[38;5;28;01mfor\u001b[39;00m blk \u001b[38;5;129;01min\u001b[39;00m \u001b[38;5;28mself\u001b[39m\u001b[38;5;241m.\u001b[39mblocks\n\u001b[1;32m    762\u001b[0m     ]\n\u001b[1;32m    763\u001b[0m     new_refs \u001b[38;5;241m=\u001b[39m \u001b[38;5;28;01mNone\u001b[39;00m\n\u001b[1;32m    764\u001b[0m     parent \u001b[38;5;241m=\u001b[39m \u001b[38;5;28;01mNone\u001b[39;00m\n",
      "File \u001b[0;32m~/miniconda3/lib/python3.9/site-packages/pandas/core/internals/managers.py:754\u001b[0m, in \u001b[0;36m<listcomp>\u001b[0;34m(.0)\u001b[0m\n\u001b[1;32m    751\u001b[0m     parent \u001b[38;5;241m=\u001b[39m \u001b[38;5;28;01mNone\u001b[39;00m \u001b[38;5;28;01mif\u001b[39;00m com\u001b[38;5;241m.\u001b[39mall_none(\u001b[38;5;241m*\u001b[39mnew_refs) \u001b[38;5;28;01melse\u001b[39;00m \u001b[38;5;28mself\u001b[39m\n\u001b[1;32m    752\u001b[0m \u001b[38;5;28;01melse\u001b[39;00m:\n\u001b[1;32m    753\u001b[0m     new_blocks \u001b[38;5;241m=\u001b[39m [\n\u001b[0;32m--> 754\u001b[0m         \u001b[43mblk\u001b[49m\u001b[38;5;241;43m.\u001b[39;49m\u001b[43mtake_nd\u001b[49m\u001b[43m(\u001b[49m\n\u001b[1;32m    755\u001b[0m \u001b[43m            \u001b[49m\u001b[43mindexer\u001b[49m\u001b[43m,\u001b[49m\n\u001b[1;32m    756\u001b[0m \u001b[43m            \u001b[49m\u001b[43maxis\u001b[49m\u001b[38;5;241;43m=\u001b[39;49m\u001b[38;5;241;43m1\u001b[39;49m\u001b[43m,\u001b[49m\n\u001b[1;32m    757\u001b[0m \u001b[43m            \u001b[49m\u001b[43mfill_value\u001b[49m\u001b[38;5;241;43m=\u001b[39;49m\u001b[43m(\u001b[49m\n\u001b[1;32m    758\u001b[0m \u001b[43m                \u001b[49m\u001b[43mfill_value\u001b[49m\u001b[43m \u001b[49m\u001b[38;5;28;43;01mif\u001b[39;49;00m\u001b[43m \u001b[49m\u001b[43mfill_value\u001b[49m\u001b[43m \u001b[49m\u001b[38;5;129;43;01mis\u001b[39;49;00m\u001b[43m \u001b[49m\u001b[38;5;129;43;01mnot\u001b[39;49;00m\u001b[43m \u001b[49m\u001b[38;5;28;43;01mNone\u001b[39;49;00m\u001b[43m \u001b[49m\u001b[38;5;28;43;01melse\u001b[39;49;00m\u001b[43m \u001b[49m\u001b[43mblk\u001b[49m\u001b[38;5;241;43m.\u001b[39;49m\u001b[43mfill_value\u001b[49m\n\u001b[1;32m    759\u001b[0m \u001b[43m            \u001b[49m\u001b[43m)\u001b[49m\u001b[43m,\u001b[49m\n\u001b[1;32m    760\u001b[0m \u001b[43m        \u001b[49m\u001b[43m)\u001b[49m\n\u001b[1;32m    761\u001b[0m         \u001b[38;5;28;01mfor\u001b[39;00m blk \u001b[38;5;129;01min\u001b[39;00m \u001b[38;5;28mself\u001b[39m\u001b[38;5;241m.\u001b[39mblocks\n\u001b[1;32m    762\u001b[0m     ]\n\u001b[1;32m    763\u001b[0m     new_refs \u001b[38;5;241m=\u001b[39m \u001b[38;5;28;01mNone\u001b[39;00m\n\u001b[1;32m    764\u001b[0m     parent \u001b[38;5;241m=\u001b[39m \u001b[38;5;28;01mNone\u001b[39;00m\n",
      "File \u001b[0;32m~/miniconda3/lib/python3.9/site-packages/pandas/core/internals/blocks.py:880\u001b[0m, in \u001b[0;36mBlock.take_nd\u001b[0;34m(self, indexer, axis, new_mgr_locs, fill_value)\u001b[0m\n\u001b[1;32m    877\u001b[0m     allow_fill \u001b[38;5;241m=\u001b[39m \u001b[38;5;28;01mTrue\u001b[39;00m\n\u001b[1;32m    879\u001b[0m \u001b[38;5;66;03m# Note: algos.take_nd has upcast logic similar to coerce_to_target_dtype\u001b[39;00m\n\u001b[0;32m--> 880\u001b[0m new_values \u001b[38;5;241m=\u001b[39m \u001b[43malgos\u001b[49m\u001b[38;5;241;43m.\u001b[39;49m\u001b[43mtake_nd\u001b[49m\u001b[43m(\u001b[49m\n\u001b[1;32m    881\u001b[0m \u001b[43m    \u001b[49m\u001b[43mvalues\u001b[49m\u001b[43m,\u001b[49m\u001b[43m \u001b[49m\u001b[43mindexer\u001b[49m\u001b[43m,\u001b[49m\u001b[43m \u001b[49m\u001b[43maxis\u001b[49m\u001b[38;5;241;43m=\u001b[39;49m\u001b[43maxis\u001b[49m\u001b[43m,\u001b[49m\u001b[43m \u001b[49m\u001b[43mallow_fill\u001b[49m\u001b[38;5;241;43m=\u001b[39;49m\u001b[43mallow_fill\u001b[49m\u001b[43m,\u001b[49m\u001b[43m \u001b[49m\u001b[43mfill_value\u001b[49m\u001b[38;5;241;43m=\u001b[39;49m\u001b[43mfill_value\u001b[49m\n\u001b[1;32m    882\u001b[0m \u001b[43m\u001b[49m\u001b[43m)\u001b[49m\n\u001b[1;32m    884\u001b[0m \u001b[38;5;66;03m# Called from three places in managers, all of which satisfy\u001b[39;00m\n\u001b[1;32m    885\u001b[0m \u001b[38;5;66;03m#  this assertion\u001b[39;00m\n\u001b[1;32m    886\u001b[0m \u001b[38;5;28;01massert\u001b[39;00m \u001b[38;5;129;01mnot\u001b[39;00m (axis \u001b[38;5;241m==\u001b[39m \u001b[38;5;241m0\u001b[39m \u001b[38;5;129;01mand\u001b[39;00m new_mgr_locs \u001b[38;5;129;01mis\u001b[39;00m \u001b[38;5;28;01mNone\u001b[39;00m)\n",
      "File \u001b[0;32m~/miniconda3/lib/python3.9/site-packages/pandas/core/array_algos/take.py:117\u001b[0m, in \u001b[0;36mtake_nd\u001b[0;34m(arr, indexer, axis, fill_value, allow_fill)\u001b[0m\n\u001b[1;32m    114\u001b[0m     \u001b[38;5;28;01mreturn\u001b[39;00m arr\u001b[38;5;241m.\u001b[39mtake(indexer, fill_value\u001b[38;5;241m=\u001b[39mfill_value, allow_fill\u001b[38;5;241m=\u001b[39mallow_fill)\n\u001b[1;32m    116\u001b[0m arr \u001b[38;5;241m=\u001b[39m np\u001b[38;5;241m.\u001b[39masarray(arr)\n\u001b[0;32m--> 117\u001b[0m \u001b[38;5;28;01mreturn\u001b[39;00m \u001b[43m_take_nd_ndarray\u001b[49m\u001b[43m(\u001b[49m\u001b[43marr\u001b[49m\u001b[43m,\u001b[49m\u001b[43m \u001b[49m\u001b[43mindexer\u001b[49m\u001b[43m,\u001b[49m\u001b[43m \u001b[49m\u001b[43maxis\u001b[49m\u001b[43m,\u001b[49m\u001b[43m \u001b[49m\u001b[43mfill_value\u001b[49m\u001b[43m,\u001b[49m\u001b[43m \u001b[49m\u001b[43mallow_fill\u001b[49m\u001b[43m)\u001b[49m\n",
      "File \u001b[0;32m~/miniconda3/lib/python3.9/site-packages/pandas/core/array_algos/take.py:163\u001b[0m, in \u001b[0;36m_take_nd_ndarray\u001b[0;34m(arr, indexer, axis, fill_value, allow_fill)\u001b[0m\n\u001b[1;32m    158\u001b[0m     out \u001b[38;5;241m=\u001b[39m np\u001b[38;5;241m.\u001b[39mempty(out_shape, dtype\u001b[38;5;241m=\u001b[39mdtype)\n\u001b[1;32m    160\u001b[0m func \u001b[38;5;241m=\u001b[39m _get_take_nd_function(\n\u001b[1;32m    161\u001b[0m     arr\u001b[38;5;241m.\u001b[39mndim, arr\u001b[38;5;241m.\u001b[39mdtype, out\u001b[38;5;241m.\u001b[39mdtype, axis\u001b[38;5;241m=\u001b[39maxis, mask_info\u001b[38;5;241m=\u001b[39mmask_info\n\u001b[1;32m    162\u001b[0m )\n\u001b[0;32m--> 163\u001b[0m \u001b[43mfunc\u001b[49m\u001b[43m(\u001b[49m\u001b[43marr\u001b[49m\u001b[43m,\u001b[49m\u001b[43m \u001b[49m\u001b[43mindexer\u001b[49m\u001b[43m,\u001b[49m\u001b[43m \u001b[49m\u001b[43mout\u001b[49m\u001b[43m,\u001b[49m\u001b[43m \u001b[49m\u001b[43mfill_value\u001b[49m\u001b[43m)\u001b[49m\n\u001b[1;32m    165\u001b[0m \u001b[38;5;28;01mif\u001b[39;00m flip_order:\n\u001b[1;32m    166\u001b[0m     out \u001b[38;5;241m=\u001b[39m out\u001b[38;5;241m.\u001b[39mT\n",
      "\u001b[0;31mKeyboardInterrupt\u001b[0m: "
     ]
    }
   ],
   "source": [
    "user_train_list=[]\n",
    "user_tune_list=[]\n",
    "for user in train_df['user_id'].unique():\n",
    "    train_idx = train_df_loop[train_df_loop['user_id'] == user].sample(n=1, random_state=18).index[0]\n",
    "    user_train_list.append(train_idx)\n",
    "    train_df_loop = train_df_loop.drop(train_idx)\n",
    "    tune_idx = train_df_loop[train_df_loop['user_id'] == user].sample(n=1, random_state=181).index[0]\n",
    "    user_tune_list.append(tune_idx)\n",
    "    train_df_loop = train_df_loop.drop(tune_idx)"
   ]
  },
  {
   "cell_type": "code",
   "execution_count": null,
   "id": "82363854",
   "metadata": {},
   "outputs": [],
   "source": [
    "train_df_loop = pd.read_pickle(r'Yelp-4/training_df.pkl')\n",
    "tune_df_loop = pd.read_pickle(r'Yelp-4/training_df.pkl')  \n",
    "train_df = pd.read_pickle(r'Yelp-4/training_df.pkl') "
   ]
  },
  {
   "cell_type": "code",
   "execution_count": null,
   "id": "fea6af47",
   "metadata": {},
   "outputs": [],
   "source": [
    "train_df.loc[train_df.index[user_tune_list]]['user_id'].nunique(),train_df.loc[train_df.index[user_train_list]]['user_id'].nunique()"
   ]
  },
  {
   "cell_type": "code",
   "execution_count": null,
   "id": "22b01470",
   "metadata": {},
   "outputs": [],
   "source": [
    "indexes_to_keep_train_item = set(range(train_df.shape[0])) - set(user_tune_list)\n",
    "train_df_loop = train_df_loop.take(list(indexes_to_keep_train_item))\n",
    "indexes_to_keep_tune_item = set(range(train_df.shape[0])) - set(user_train_list)\n",
    "tune_df_loop = tune_df_loop.take(list(indexes_to_keep_tune_item))"
   ]
  },
  {
   "cell_type": "code",
   "execution_count": null,
   "id": "00a9459e",
   "metadata": {},
   "outputs": [],
   "source": [
    "item_train_list=[]\n",
    "item_tune_list=[]\n",
    "for item in train_df['item_id'].unique():\n",
    "    train_idx = train_df_loop[train_df_loop['item_id'] == item].sample(n=1, random_state=18).index[0]\n",
    "    item_train_list.append(train_idx)\n",
    "    train_df_loop = train_df_loop.drop(train_idx)\n",
    "    if train_idx in tune_df_loop.index:\n",
    "        tune_df_loop = tune_df_loop.drop(train_idx)\n",
    "    else:\n",
    "        tune_df_loop = tune_df_loop\n",
    "    tune_idx = tune_df_loop[tune_df_loop['item_id'] == item].sample(n=1, random_state=181).index[0]\n",
    "    item_tune_list.append(tune_idx)\n",
    "    tune_df_loop = tune_df_loop.drop(tune_idx)\n",
    "    if tune_idx in train_df_loop.index:\n",
    "        train_df_loop = train_df_loop.drop(tune_idx)\n",
    "    else:\n",
    "        train_df_loop = train_df_loop"
   ]
  },
  {
   "cell_type": "code",
   "execution_count": null,
   "id": "8e16494b",
   "metadata": {},
   "outputs": [],
   "source": [
    "# train_df_loop = pd.read_pickle(r'Yelp-2/training_df.pkl')  \n",
    "train_df = pd.read_pickle(r'Yelp-4/training_df.pkl') "
   ]
  },
  {
   "cell_type": "code",
   "execution_count": null,
   "id": "6b6ba98c",
   "metadata": {},
   "outputs": [],
   "source": [
    "train_df.loc[train_df.index[item_train_list]]['item_id'].nunique(),train_df.loc[train_df.index[item_tune_list]]['item_id'].nunique()"
   ]
  },
  {
   "cell_type": "code",
   "execution_count": null,
   "id": "f622d384",
   "metadata": {},
   "outputs": [],
   "source": [
    "num_item, num_user"
   ]
  },
  {
   "cell_type": "code",
   "execution_count": null,
   "id": "f241bd3a",
   "metadata": {},
   "outputs": [],
   "source": [
    "train_list_preocc = train_df.loc[train_df.index[list(set(user_train_list+item_train_list))]]"
   ]
  },
  {
   "cell_type": "code",
   "execution_count": null,
   "id": "12dc89b6",
   "metadata": {},
   "outputs": [],
   "source": [
    "len(train_list_preocc)"
   ]
  },
  {
   "cell_type": "code",
   "execution_count": null,
   "id": "43433428",
   "metadata": {},
   "outputs": [],
   "source": [
    "tune_list_preocc = train_df.loc[train_df.index[list(set(user_tune_list+item_tune_list))]]"
   ]
  },
  {
   "cell_type": "code",
   "execution_count": null,
   "id": "276d8656",
   "metadata": {},
   "outputs": [],
   "source": [
    "len(tune_list_preocc)"
   ]
  },
  {
   "cell_type": "code",
   "execution_count": null,
   "id": "bd66e03f",
   "metadata": {},
   "outputs": [],
   "source": [
    "train_df.shape[0]"
   ]
  },
  {
   "cell_type": "code",
   "execution_count": null,
   "id": "127c73e1",
   "metadata": {},
   "outputs": [],
   "source": [
    "indexes_to_keep = set(range(train_df.shape[0])) - set(user_train_list+item_train_list+user_tune_list+item_tune_list)\n",
    "sample_pool = train_df.take(list(indexes_to_keep))"
   ]
  },
  {
   "cell_type": "code",
   "execution_count": null,
   "id": "4b0b6341",
   "metadata": {},
   "outputs": [],
   "source": [
    "len(train_df)"
   ]
  },
  {
   "cell_type": "code",
   "execution_count": null,
   "id": "62311596",
   "metadata": {},
   "outputs": [],
   "source": [
    "len(sample_pool)+len(train_list_preocc)+len(tune_list_preocc)"
   ]
  },
  {
   "cell_type": "code",
   "execution_count": null,
   "id": "5c434923",
   "metadata": {},
   "outputs": [],
   "source": [
    "test_ratio = (int(len(train_df)*1/6)-len(tune_list_preocc))/len(sample_pool)\n",
    "test_ratio"
   ]
  },
  {
   "cell_type": "code",
   "execution_count": null,
   "id": "283bc623",
   "metadata": {},
   "outputs": [],
   "source": [
    "train_set, tune_set = train_test_split(sample_pool,test_size = test_ratio, random_state = 181)"
   ]
  },
  {
   "cell_type": "code",
   "execution_count": null,
   "id": "ee749fa8",
   "metadata": {},
   "outputs": [],
   "source": [
    "train_set = pd.concat([train_set,train_list_preocc])\n",
    "tune_set = pd.concat([tune_set,tune_list_preocc])"
   ]
  },
  {
   "cell_type": "code",
   "execution_count": null,
   "id": "861d7976",
   "metadata": {},
   "outputs": [],
   "source": [
    "len(tune_set)/len(train_set)"
   ]
  },
  {
   "cell_type": "code",
   "execution_count": null,
   "id": "5827eade",
   "metadata": {},
   "outputs": [],
   "source": [
    "train_set['user_id'].nunique(),train_set['item_id'].nunique()"
   ]
  },
  {
   "cell_type": "code",
   "execution_count": null,
   "id": "0ef88e39",
   "metadata": {},
   "outputs": [],
   "source": [
    "tune_set['user_id'].nunique(),tune_set['item_id'].nunique()"
   ]
  },
  {
   "cell_type": "code",
   "execution_count": null,
   "id": "e016b662",
   "metadata": {},
   "outputs": [],
   "source": [
    "with open(\"Yelp-4/train_df.pkl\", \"wb\") as f:\n",
    "    pickle.dump(train_set, f, pickle.HIGHEST_PROTOCOL)\n",
    "with open(\"Yelp-4/tune_df.pkl\", \"wb\") as f:\n",
    "    pickle.dump(tune_set, f, pickle.HIGHEST_PROTOCOL)"
   ]
  },
  {
   "cell_type": "code",
   "execution_count": null,
   "id": "aa455cfe",
   "metadata": {},
   "outputs": [],
   "source": []
  },
  {
   "cell_type": "code",
   "execution_count": 113,
   "id": "aab75235",
   "metadata": {},
   "outputs": [],
   "source": [
    "train_user_list = create_user_list(train_set, num_user)\n",
    "test_user_list = create_user_list(testing_df, num_user)\n",
    "train_pair = create_pair(train_user_list)\n"
   ]
  },
  {
   "cell_type": "code",
   "execution_count": 114,
   "id": "f8063914",
   "metadata": {},
   "outputs": [],
   "source": [
    "num_sample, user_list, item_pos_list, item_neg_list = utility.negative_sample(testing_df, num_user,\n",
    "                                                                                      num_item, 5)"
   ]
  },
  {
   "cell_type": "code",
   "execution_count": 115,
   "id": "3f457d89",
   "metadata": {},
   "outputs": [],
   "source": [
    "pair = []\n",
    "pair.extend([(int(user), int(item)) for user, item in zip(user_list,item_pos_list)])"
   ]
  },
  {
   "cell_type": "code",
   "execution_count": 116,
   "id": "5b0175e9",
   "metadata": {},
   "outputs": [
    {
     "data": {
      "text/plain": [
       "101625"
      ]
     },
     "execution_count": 116,
     "metadata": {},
     "output_type": "execute_result"
    }
   ],
   "source": [
    "len(pair)"
   ]
  },
  {
   "cell_type": "code",
   "execution_count": 117,
   "id": "ff6c469e",
   "metadata": {},
   "outputs": [
    {
     "data": {
      "text/plain": [
       "10163"
      ]
     },
     "execution_count": 117,
     "metadata": {},
     "output_type": "execute_result"
    }
   ],
   "source": [
    "len(train_pair)"
   ]
  },
  {
   "cell_type": "code",
   "execution_count": 118,
   "id": "55303d46",
   "metadata": {},
   "outputs": [],
   "source": [
    "dataset = {'user_size': num_user, 'item_size': num_item,\n",
    "            'train_user_list': train_user_list, 'test_user_list': test_user_list,\n",
    "            'train_pair': pair}"
   ]
  },
  {
   "cell_type": "code",
   "execution_count": 119,
   "id": "2038a6fc",
   "metadata": {},
   "outputs": [],
   "source": [
    "dirname = os.path.dirname(os.path.abspath('preprocessed/yelp-4-tune-data.pickle'))\n",
    "os.makedirs(dirname, exist_ok=True)\n",
    "with open('preprocessed/yelp-4-tune-data', 'wb') as f:\n",
    "    pickle.dump(dataset, f, protocol=pickle.HIGHEST_PROTOCOL)"
   ]
  },
  {
   "cell_type": "code",
   "execution_count": null,
   "id": "1700778f",
   "metadata": {},
   "outputs": [],
   "source": []
  }
 ],
 "metadata": {
  "kernelspec": {
   "display_name": "Python 3 (ipykernel)",
   "language": "python",
   "name": "python3"
  },
  "language_info": {
   "codemirror_mode": {
    "name": "ipython",
    "version": 3
   },
   "file_extension": ".py",
   "mimetype": "text/x-python",
   "name": "python",
   "nbconvert_exporter": "python",
   "pygments_lexer": "ipython3",
   "version": "3.9.12"
  }
 },
 "nbformat": 4,
 "nbformat_minor": 5
}
