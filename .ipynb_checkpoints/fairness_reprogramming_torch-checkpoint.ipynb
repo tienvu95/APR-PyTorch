{
 "cells": [
  {
   "cell_type": "markdown",
   "id": "35dba935",
   "metadata": {},
   "source": [
    "Thinking of APR. Are we doing the dual optimization with the classification model + the pertubation added?\n",
    "\n",
    "1. Run BPR and retrieve the model parameters + predict with fixed parameters\n",
    "2. Use predictions by BPR, train an adversary, save the trained parameters of the MLPs\n",
    "3. Load parameters of BPR, optimize for a perturbations with the new overall objective\n",
    "\n",
    "    Loss BPR (with fixed params + perturbation) + Loss adversary (with fixed params + perturbation)\n",
    "\n",
    "\n",
    "To Do?\n",
    "\n",
    "\n",
    "1. How to compute P(g = G1)? How to retrieve $P_{adv}(i)$ and $P_{adv}(j)$. As of now it is computed as, for a batch of 512 predictions for group membership, compute % of item predicted as G1, G2,...,Gn. Find conditional prob for each item -- TO FIX\n",
    "2. Audit the formula for REO and RSP -- Seems alright but cannot reproduce the recall for R@5, R@10, R@15\n",
    " - Checked all the formulae and coherent with the logics\n",
    " - The problems might be in the u,i,j generation process?. How do we sample data\n",
    "3. Tranformation function is necessary, how can we define such transformation? i.e. cannot directly optimize embedding + $\\delta$ if $\\delta$ is just a fixed tensor size = embedding dim\n",
    "4. Tuning for the adversary, check case for 6-groups\n",
    "5. Test on more extensive dataset\n",
    "6. Summarize pipeline\n",
    "7. Check the popularity of REO, RSP. Is this fairness definition widely used?\n",
    "    - https://github.com/sisinflab/The-Idiosyncratic-Effects-of-Adversarial-Training/tree/main/src/evaluation recsys\n",
    "    - https://www.semanticscholar.org/reader/f2c12f705aea19ab5e129f72ae9030375f06602f www\n",
    "    - https://www.semanticscholar.org/reader/1459f5a33ae88d4c26594d867201635651c1dd72 recsys\n",
    "    - https://oar.a-star.edu.sg/storage/8/8d1z0edy00/lzz-tois-fairness.pdf  TOIS\n",
    "    - https://www.semanticscholar.org/reader/9eb96c7554d4dac063b47443f38866adbf90b829 recsys\n",
    "    - https://arxiv.org/pdf/2203.01155.pdf UMAP\n",
    "8. Will the universal perturbation work for recsys? do we have to fine-tune, add complexity to the perturbation"
   ]
  },
  {
   "cell_type": "code",
   "execution_count": 1,
   "id": "04a30440",
   "metadata": {},
   "outputs": [],
   "source": [
    "#import relevant library\n",
    "\n",
    "import math\n",
    "import os\n",
    "import random\n",
    "import pickle\n",
    "import argparse\n",
    "from collections import deque\n",
    "import time\n",
    "import utility\n",
    "import tqdm\n",
    "import copy\n",
    "from operator import itemgetter\n",
    "from datetime import timedelta\n",
    "import numpy as np\n",
    "import pandas as pd\n",
    "import torch\n",
    "import torch.nn as nn\n",
    "import torch.nn.functional as F\n",
    "import torch.optim as optim\n",
    "# from torchvision.datasets import CIFAR10\n",
    "from torch.utils.data import DataLoader\n",
    "# from torchvision import transforms\n",
    "from torch.utils.data import IterableDataset, DataLoader, get_worker_info\n",
    "import matplotlib.pyplot as plt\n",
    "from sklearn.model_selection import train_test_split\n",
    "\n"
   ]
  },
  {
   "cell_type": "code",
   "execution_count": 2,
   "id": "f262aa84",
   "metadata": {},
   "outputs": [
    {
     "data": {
      "text/plain": [
       "'cpu'"
      ]
     },
     "execution_count": 2,
     "metadata": {},
     "output_type": "execute_result"
    }
   ],
   "source": [
    "device = \"cuda\" if torch.cuda.is_available() else \"cpu\"\n",
    "device"
   ]
  },
  {
   "cell_type": "code",
   "execution_count": 126,
   "id": "d897bb8d",
   "metadata": {},
   "outputs": [],
   "source": [
    "## time the process\n",
    "def get_time_dif(start_time):\n",
    "    \"\"\"get the running time\"\"\"\n",
    "    end_time = time.time()\n",
    "    time_dif = end_time - start_time\n",
    "    return timedelta(seconds=int(round(time_dif)))\n",
    "\n",
    "\n",
    "## set up the u,i,j triplet for BPR framework\n",
    "class GetTriplePair(IterableDataset):\n",
    "    # for ml-1m we load in 3760 item 6040 user and 994169 train pair\n",
    "    def __init__(self, item_size, user_list, pair, shuffle, num_epochs):\n",
    "        self.item_size = item_size\n",
    "        self.user_list = user_list\n",
    "        self.pair = pair\n",
    "        self.shuffle = shuffle\n",
    "        self.num_epochs = num_epochs\n",
    "\n",
    "    def __iter__(self):\n",
    "        self.example_size = self.num_epochs * len(self.pair)\n",
    "        self.example_index_queue = deque([])\n",
    "        self.seed = 0\n",
    "        self.start_list_index = None\n",
    "        self.num_workers = 1\n",
    "        self.index = 0\n",
    "        return self\n",
    "\n",
    "    def __next__(self):\n",
    "        if self.index >= self.example_size:\n",
    "            raise StopIteration\n",
    "        # If `example_index_queue` is used up, replenish this list.\n",
    "        while len(self.example_index_queue) == 0:\n",
    "            index_list = list(range(len(self.pair)))\n",
    "            if self.shuffle:\n",
    "                random.Random(self.seed).shuffle(index_list)\n",
    "                self.seed += 1\n",
    "            if self.start_list_index is not None:\n",
    "                index_list = index_list[self.start_list_index::self.num_workers]\n",
    "\n",
    "                # Calculate next start index\n",
    "                self.start_list_index = (self.start_list_index + (self.num_workers - (len(self.pair) % self.num_workers))) % self.num_workers\n",
    "            self.example_index_queue.extend(index_list)\n",
    "        result = self._example(self.example_index_queue.popleft())\n",
    "        self.index += self.num_workers\n",
    "        return result\n",
    "\n",
    "    def _example(self, idx):\n",
    "        # in a train pair, format = (u,i), j = a random item which does not exist in user u's list of items\n",
    "        u = self.pair[idx][0]\n",
    "        i = self.pair[idx][1]\n",
    "        j = np.random.randint(self.item_size)\n",
    "        while j in self.user_list[u]:\n",
    "            j = np.random.randint(self.item_size)\n",
    "        return u, i, j\n",
    "\n",
    "## chunk to define matrix factorization part\n",
    "class MF(nn.Module):\n",
    "    def __init__(self, user_size, item_size, dim, reg, reg_adv, eps):\n",
    "        super().__init__()\n",
    "        ##init the embedding for U and I\n",
    "        self.W = nn.Parameter(torch.empty(user_size, dim))  # User embedding\n",
    "        self.H = nn.Parameter(torch.empty(item_size, dim))  # Item embedding\n",
    "        nn.init.xavier_normal_(self.W.data)\n",
    "        nn.init.xavier_normal_(self.H.data)\n",
    "        self.reg = reg\n",
    "        self.user_size = user_size\n",
    "        self.item_size = item_size\n",
    "        self.dim = dim\n",
    "        self.reg_adv = reg_adv\n",
    "        self.eps = eps\n",
    "        self.update_u = None\n",
    "        self.update_i = None\n",
    "        self.update_j = None\n",
    "\n",
    "## forward cal\n",
    "    def forward(self, u, i, j, epoch):\n",
    "        \"\"\"Return loss value.\n",
    "\n",
    "        Args:\n",
    "            u(torch.LongTensor): tensor stored user indexes. [batch_size,]\n",
    "            i(torch.LongTensor): tensor stored item indexes which is prefered by user. [batch_size,]\n",
    "            j(torch.LongTensor): tensor stored item indexes which is not prefered by user. [batch_size,]\n",
    "            epoch\n",
    "\n",
    "        Returns:\n",
    "            torch.FloatTensor\n",
    "        \"\"\"\n",
    "        ##u,i,j respectively, each is a vector of dim embedding (default = 64)\n",
    "        u = self.W[u, :]\n",
    "        i = self.H[i, :]\n",
    "        j = self.H[j, :]\n",
    "\n",
    "        ## Enables this Tensor to have their grad populated during backward(), convert any non-leaf tensor into a leaf tensor,\n",
    "        ##https://stackoverflow.com/questions/73698041/how-retain-grad-in-pytorch-works-i-found-its-position-changes-the-grad-result\n",
    "        u.retain_grad()\n",
    "        u_clone = u.data.clone()\n",
    "        i.retain_grad()\n",
    "        i_clone = i.data.clone()\n",
    "        j.retain_grad()\n",
    "        j_clone = j.data.clone()\n",
    "\n",
    "        ## mf, dot product of user with pos/neg item\n",
    "        x_ui = torch.mul(u, i).sum(dim=1)\n",
    "        x_uj = torch.mul(u, j).sum(dim=1)\n",
    "\n",
    "\n",
    "        #similar to clip value, find diff between ui and uj\n",
    "        x_uij =torch.clamp(x_ui - x_uj,min=-80.0,max=1e8)\n",
    "        #logsigmoid this is equivalent to equation 1 in the paper (classic loss of bpr)\n",
    "#         log_prob = F.logsigmoid(x_uij).sum()\n",
    "        log_prob = F.softplus(x_uij).sum() #should we add minus sign here -x_uij\n",
    "\n",
    "        # regularization = lambda * l2 norm of u, i, j\n",
    "        regularization = self.reg * (u.norm(dim=1).pow(2).sum() + i.norm(dim=1).pow(2).sum() + j.norm(dim=1).pow(2).sum())\n",
    "\n",
    "        ## original bpr loss,\n",
    "        loss = -log_prob + regularization\n",
    "\n",
    "        loss.backward()\n",
    "        return loss\n",
    "        # add adv training after a certain number of epochs, here is the part which we add hypernet module\n",
    "#         if epoch not in range(args.epochs, args.adv_epoch + args.epochs):\n",
    "#             \"\"\"Normal training\"\"\"\n",
    "#             loss.backward()\n",
    "#             return loss\n",
    "\n",
    "#         else:\n",
    "#             \"\"\"Adversarial training:\n",
    "#                     1.Backward to get grads\n",
    "#                     2.Construct adversarial perturbation\n",
    "#                     3.Add adversarial perturbation to embeddings\n",
    "#                     4.Calculate APR loss\n",
    "#             \"\"\"\n",
    "#             # Backward to get grads\n",
    "#             # this would be the part we change in defining delta, delta = HPN (phi)\n",
    "\n",
    "#             # should we calculate based on gradient of the adv_loss instead of the loss function?, originally, computed based on loss function\n",
    "#             loss.backward(retain_graph=True) ## need to retain graph here so as to we can backprop the adv_loss\n",
    "#             ##recheck this\n",
    "#             grad_u = u.grad\n",
    "#             grad_i = i.grad\n",
    "#             grad_j = j.grad\n",
    "\n",
    "#             # Construct adversarial perturbation based on gradient of loss function, and normalize it with epsilon * norm\n",
    "#             if grad_u is not None:\n",
    "#                 delta_u = nn.functional.normalize(grad_u, p=2, dim=1, eps=self.eps)\n",
    "#             else:\n",
    "#                 delta_u = torch.rand(u.size())\n",
    "#             if grad_i is not None:\n",
    "#                 delta_i = nn.functional.normalize(grad_i, p=2, dim=1, eps=self.eps)\n",
    "#             else:\n",
    "#                 delta_i = torch.rand(i.size())\n",
    "#             if grad_j is not None:\n",
    "#                 delta_j = nn.functional.normalize(grad_j, p=2, dim=1, eps=self.eps)\n",
    "#             else:\n",
    "#                 delta_j = torch.rand(j.size())\n",
    "\n",
    "#             # Add adversarial perturbation to embeddings, now we have q+delta, p+delta\n",
    "#             x_ui_adv = torch.mul(u + delta_u, i + delta_i).sum(dim=1)\n",
    "#             x_uj_adv = torch.mul(u + delta_u, j + delta_j).sum(dim=1)\n",
    "\n",
    "#             # find difference between pos and neg item, then clip value\n",
    "# #             x_uij_adv = torch.clamp(x_ui_adv - x_uj_adv,min=-80.0,max=1e8)\n",
    "#             log_prob = torch.sofplus(x_ui_adv - x_uj_adv).sum()\n",
    "#             # Calculate APR loss with logsigmoid\n",
    "# #             log_prob = F.logsigmoid(x_uij_adv).sum()\n",
    "#             adv_loss = self.reg_adv *(-log_prob) + loss # this is adversarial loss (equation 4 in paper)\n",
    "#             adv_loss.backward()\n",
    "\n",
    "#             return adv_loss\n"
   ]
  },
  {
   "cell_type": "code",
   "execution_count": 127,
   "id": "c1a455a0",
   "metadata": {},
   "outputs": [],
   "source": [
    "def evaluate_k(user_emb, item_emb, train_user_list, test_user_list, klist, batch=512):\n",
    "    \"\"\"Compute HR and NDCG at k.\n",
    "\n",
    "    Args:\n",
    "        user_emb (torch.Tensor): embedding for user [user_num, dim]\n",
    "        item_emb (torch.Tensor): embedding for item [item_num, dim]\n",
    "        train_user_list (list(set)):\n",
    "        test_user_list (list(set)):\n",
    "        k (list(int)):\n",
    "    Returns:\n",
    "        (torch.Tensor, torch.Tensor) HR and NDCG at k\n",
    "    \"\"\"\n",
    "\n",
    "    # Calculate max k value\n",
    "    max_k = max(klist)\n",
    "    result = None\n",
    "\n",
    "    # no iteration = user_num / batch size (which is 512)\n",
    "    for i in range(0, user_emb.shape[0], batch):\n",
    "\n",
    "        # Construct mask for each batch\n",
    "\n",
    "        #new_ones returns a Tensor of size size filled with 1\n",
    "\n",
    "        # size of the mask vector = (min of batch or user embed) * item+embed\n",
    "        mask = user_emb.new_ones([min([batch, user_emb.shape[0]-i]), item_emb.shape[0]])\n",
    "        for j in range(batch):\n",
    "            if i+j >= user_emb.shape[0]:\n",
    "                break\n",
    "            mask[j].scatter_(dim=0, index=torch.tensor(list(train_user_list[i + j])), value=torch.tensor(0.0))\n",
    "\n",
    "        # Get current result\n",
    "        cur_result = torch.mm(user_emb[i:i+min(batch, user_emb.shape[0]-i), :], item_emb.t())\n",
    "        cur_result = torch.sigmoid(cur_result)\n",
    "        assert not torch.any(torch.isnan(cur_result))\n",
    "\n",
    "        # Make zero for already observed item\n",
    "        cur_result = torch.mul(mask, cur_result)\n",
    "        _, cur_result = torch.topk(cur_result, k=max_k, dim=1)\n",
    "        result = cur_result if result is None else torch.cat((result, cur_result), dim=0)\n",
    "\n",
    "\n",
    "    ## basically this chunk collects the results\n",
    "    result = result.cpu()\n",
    "\n",
    "    # Sort indice and get HR_NDCG_topk\n",
    "    HRs, NDCGs = [], []\n",
    "    for k in klist:\n",
    "        ndcg, hr = 0, 0\n",
    "        #for all user\n",
    "        for i in range(user_emb.shape[0]):\n",
    "            #set helps to identify unique members in a list\n",
    "            test = set(test_user_list[i])\n",
    "            #top k item from prediction list\n",
    "            pred = set(result[i, :k].numpy().tolist())\n",
    "            #if topk lies on both test and pred list\n",
    "            val = len(test & pred)\n",
    "            #hit ratio = %item hit\n",
    "            hr += val / max([len(test), 1])\n",
    "            #convert pred back to list\n",
    "            pred = list(pred)\n",
    "            if test_user_list[i] == []:\n",
    "                continue\n",
    "            else:\n",
    "                x = int(test_user_list[i][0])\n",
    "                ## check if x is in the prediction where x = 1st member of user list\n",
    "                if pred.count(x) != 0:\n",
    "                    position = pred.index(x)\n",
    "                    ndcg += math.log(2) / math.log(position + 2) if position < k else 0\n",
    "                else:\n",
    "                    ndcg += 0                \n",
    "#                 for x in test_user_list[i]:\n",
    "#                     x = int(x)\n",
    "#                     ## check if x is in the prediction where x = 1st member of user list\n",
    "#                     if pred.count(x) != 0:\n",
    "#                         position = pred.index(x)\n",
    "#                         ndcg += math.log(2) / math.log(position + 2) if position < k else 0\n",
    "#                     else:\n",
    "#                         ndcg += 0\n",
    "        NDCGs.append(ndcg / user_emb.shape[0])\n",
    "        HRs.append(hr / user_emb.shape[0])\n",
    "        NDCGs.append(ndcg / user_emb.shape[0])\n",
    "    return HRs, NDCGs\n"
   ]
  },
  {
   "cell_type": "code",
   "execution_count": 128,
   "id": "f204e348",
   "metadata": {},
   "outputs": [],
   "source": [
    "with open('preprocessed/ml-1m-2.pickle', 'rb') as f:\n",
    "    dataset = pickle.load(f)\n",
    "    user_size, item_size = dataset['user_size'], dataset['item_size']\n",
    "    train_user_list, test_user_list = dataset['train_user_list'], dataset['test_user_list']\n",
    "    train_pair = dataset['train_pair']"
   ]
  },
  {
   "cell_type": "code",
   "execution_count": 129,
   "id": "2e7ffdb1",
   "metadata": {
    "scrolled": true
   },
   "outputs": [],
   "source": [
    "# Create dataset, model, optimizer\n",
    "dataset = GetTriplePair(item_size, train_user_list, train_pair, True, 1000)\n",
    "\n",
    "# load batch of 512 item triplets\n",
    "loader = DataLoader(dataset, batch_size=512)\n",
    "# for the measuring paper, regulalization  = 0.1/2\n",
    "model = MF(user_size, item_size, 64, 0.05, 1, 0.5)"
   ]
  },
  {
   "cell_type": "code",
   "execution_count": 130,
   "id": "d655d783",
   "metadata": {},
   "outputs": [
    {
     "name": "stdout",
     "output_type": "stream",
     "text": [
      "time 0:00:00\n",
      "BPR-MF Epoch [20/1000]\n",
      "loss: -350.5695\n",
      "HR@50: 0.0301, HR@100: 0.0631, NDCG@50: 0.0073, NDCG@100: 0.0073\n",
      "BPR-MF Epoch [40/1000]\n",
      "loss: -351.4088\n",
      "HR@50: 0.0288, HR@100: 0.0601, NDCG@50: 0.0070, NDCG@100: 0.0070\n",
      "BPR-MF Epoch [60/1000]\n",
      "loss: -352.0920\n",
      "HR@50: 0.0271, HR@100: 0.0563, NDCG@50: 0.0066, NDCG@100: 0.0066\n",
      "BPR-MF Epoch [80/1000]\n",
      "loss: -352.5668\n",
      "HR@50: 0.0247, HR@100: 0.0549, NDCG@50: 0.0062, NDCG@100: 0.0062\n",
      "BPR-MF Epoch [100/1000]\n",
      "loss: -352.6829\n",
      "HR@50: 0.0242, HR@100: 0.0529, NDCG@50: 0.0056, NDCG@100: 0.0056\n",
      "time 0:00:16\n",
      "BPR-MF Epoch [120/1000]\n",
      "loss: -352.8713\n",
      "HR@50: 0.0255, HR@100: 0.0589, NDCG@50: 0.0061, NDCG@100: 0.0061\n",
      "BPR-MF Epoch [140/1000]\n",
      "loss: -352.7538\n",
      "HR@50: 0.0316, HR@100: 0.0637, NDCG@50: 0.0079, NDCG@100: 0.0079\n",
      "BPR-MF Epoch [160/1000]\n",
      "loss: -352.2998\n",
      "HR@50: 0.0349, HR@100: 0.0707, NDCG@50: 0.0082, NDCG@100: 0.0082\n",
      "BPR-MF Epoch [180/1000]\n",
      "loss: -352.0339\n",
      "HR@50: 0.0409, HR@100: 0.0795, NDCG@50: 0.0102, NDCG@100: 0.0102\n",
      "BPR-MF Epoch [200/1000]\n",
      "loss: -351.6123\n",
      "HR@50: 0.0484, HR@100: 0.0915, NDCG@50: 0.0118, NDCG@100: 0.0118\n",
      "BPR-MF Epoch [220/1000]\n",
      "loss: -351.5407\n",
      "HR@50: 0.0584, HR@100: 0.1101, NDCG@50: 0.0150, NDCG@100: 0.0150\n",
      "BPR-MF Epoch [240/1000]\n",
      "loss: -351.4745\n",
      "HR@50: 0.0738, HR@100: 0.1391, NDCG@50: 0.0196, NDCG@100: 0.0196\n",
      "BPR-MF Epoch [260/1000]\n",
      "loss: -351.4008\n",
      "HR@50: 0.0952, HR@100: 0.1738, NDCG@50: 0.0255, NDCG@100: 0.0255\n",
      "BPR-MF Epoch [280/1000]\n",
      "loss: -351.9207\n",
      "HR@50: 0.1204, HR@100: 0.2117, NDCG@50: 0.0319, NDCG@100: 0.0319\n",
      "BPR-MF Epoch [300/1000]\n",
      "loss: -353.7536\n",
      "HR@50: 0.1446, HR@100: 0.2499, NDCG@50: 0.0392, NDCG@100: 0.0392\n",
      "time 0:00:49\n",
      "BPR-MF Epoch [320/1000]\n",
      "loss: -355.1193\n",
      "HR@50: 0.1675, HR@100: 0.2814, NDCG@50: 0.0455, NDCG@100: 0.0455\n",
      "BPR-MF Epoch [340/1000]\n",
      "loss: -360.2210\n",
      "HR@50: 0.1856, HR@100: 0.3076, NDCG@50: 0.0518, NDCG@100: 0.0518\n",
      "BPR-MF Epoch [360/1000]\n",
      "loss: -365.3806\n",
      "HR@50: 0.2036, HR@100: 0.3277, NDCG@50: 0.0588, NDCG@100: 0.0588\n",
      "BPR-MF Epoch [380/1000]\n",
      "loss: -374.5986\n",
      "HR@50: 0.2168, HR@100: 0.3460, NDCG@50: 0.0636, NDCG@100: 0.0636\n",
      "BPR-MF Epoch [400/1000]\n",
      "loss: -389.4381\n",
      "HR@50: 0.2277, HR@100: 0.3544, NDCG@50: 0.0675, NDCG@100: 0.0675\n",
      "time 0:01:06\n",
      "BPR-MF Epoch [420/1000]\n",
      "loss: -401.1637\n",
      "HR@50: 0.2343, HR@100: 0.3609, NDCG@50: 0.0700, NDCG@100: 0.0700\n",
      "BPR-MF Epoch [440/1000]\n",
      "loss: -425.7090\n",
      "HR@50: 0.2379, HR@100: 0.3655, NDCG@50: 0.0709, NDCG@100: 0.0709\n",
      "BPR-MF Epoch [460/1000]\n",
      "loss: -448.5554\n",
      "HR@50: 0.2410, HR@100: 0.3684, NDCG@50: 0.0722, NDCG@100: 0.0722\n",
      "BPR-MF Epoch [480/1000]\n",
      "loss: -484.4282\n",
      "HR@50: 0.2454, HR@100: 0.3716, NDCG@50: 0.0730, NDCG@100: 0.0730\n",
      "BPR-MF Epoch [500/1000]\n",
      "loss: -531.6546\n",
      "HR@50: 0.2484, HR@100: 0.3736, NDCG@50: 0.0737, NDCG@100: 0.0737\n",
      "time 0:01:21\n",
      "BPR-MF Epoch [520/1000]\n",
      "loss: -599.0994\n",
      "HR@50: 0.2497, HR@100: 0.3748, NDCG@50: 0.0739, NDCG@100: 0.0739\n",
      "BPR-MF Epoch [540/1000]\n",
      "loss: -686.2762\n",
      "HR@50: 0.2513, HR@100: 0.3771, NDCG@50: 0.0742, NDCG@100: 0.0742\n",
      "BPR-MF Epoch [560/1000]\n",
      "loss: -746.6634\n",
      "HR@50: 0.2511, HR@100: 0.3775, NDCG@50: 0.0740, NDCG@100: 0.0740\n",
      "BPR-MF Epoch [580/1000]\n",
      "loss: -884.5375\n",
      "HR@50: 0.2508, HR@100: 0.3799, NDCG@50: 0.0734, NDCG@100: 0.0734\n",
      "BPR-MF Epoch [600/1000]\n",
      "loss: -1059.9679\n",
      "HR@50: 0.2514, HR@100: 0.3791, NDCG@50: 0.0730, NDCG@100: 0.0730\n",
      "time 0:01:36\n",
      "BPR-MF Epoch [620/1000]\n",
      "loss: -1095.8411\n",
      "HR@50: 0.2525, HR@100: 0.3791, NDCG@50: 0.0730, NDCG@100: 0.0730\n",
      "BPR-MF Epoch [640/1000]\n",
      "loss: -1310.1688\n",
      "HR@50: 0.2522, HR@100: 0.3800, NDCG@50: 0.0727, NDCG@100: 0.0727\n",
      "BPR-MF Epoch [660/1000]\n",
      "loss: -1455.0643\n",
      "HR@50: 0.2524, HR@100: 0.3808, NDCG@50: 0.0735, NDCG@100: 0.0735\n",
      "BPR-MF Epoch [680/1000]\n",
      "loss: -1514.2025\n",
      "HR@50: 0.2526, HR@100: 0.3814, NDCG@50: 0.0736, NDCG@100: 0.0736\n",
      "BPR-MF Epoch [700/1000]\n",
      "loss: -1894.0116\n",
      "HR@50: 0.2534, HR@100: 0.3822, NDCG@50: 0.0738, NDCG@100: 0.0738\n",
      "time 0:01:51\n",
      "BPR-MF Epoch [720/1000]\n",
      "loss: -2074.3477\n",
      "HR@50: 0.2548, HR@100: 0.3824, NDCG@50: 0.0744, NDCG@100: 0.0744\n",
      "BPR-MF Epoch [740/1000]\n",
      "loss: -2300.5762\n",
      "HR@50: 0.2556, HR@100: 0.3826, NDCG@50: 0.0749, NDCG@100: 0.0749\n",
      "BPR-MF Epoch [760/1000]\n",
      "loss: -2504.1367\n",
      "HR@50: 0.2564, HR@100: 0.3828, NDCG@50: 0.0756, NDCG@100: 0.0756\n",
      "BPR-MF Epoch [780/1000]\n",
      "loss: -2804.8303\n",
      "HR@50: 0.2579, HR@100: 0.3835, NDCG@50: 0.0761, NDCG@100: 0.0761\n",
      "BPR-MF Epoch [800/1000]\n",
      "loss: -2915.8640\n",
      "HR@50: 0.2581, HR@100: 0.3837, NDCG@50: 0.0758, NDCG@100: 0.0758\n",
      "time 0:02:07\n",
      "BPR-MF Epoch [820/1000]\n",
      "loss: -3302.4070\n",
      "HR@50: 0.2575, HR@100: 0.3837, NDCG@50: 0.0756, NDCG@100: 0.0756\n",
      "BPR-MF Epoch [840/1000]\n",
      "loss: -3452.7837\n",
      "HR@50: 0.2573, HR@100: 0.3838, NDCG@50: 0.0759, NDCG@100: 0.0759\n",
      "BPR-MF Epoch [860/1000]\n",
      "loss: -3465.2896\n",
      "HR@50: 0.2574, HR@100: 0.3838, NDCG@50: 0.0753, NDCG@100: 0.0753\n",
      "BPR-MF Epoch [880/1000]\n",
      "loss: -4009.6672\n",
      "HR@50: 0.2578, HR@100: 0.3850, NDCG@50: 0.0751, NDCG@100: 0.0751\n",
      "BPR-MF Epoch [900/1000]\n",
      "loss: -4273.5630\n",
      "HR@50: 0.2577, HR@100: 0.3849, NDCG@50: 0.0749, NDCG@100: 0.0749\n",
      "time 0:02:22\n",
      "BPR-MF Epoch [920/1000]\n",
      "loss: -4461.5225\n",
      "HR@50: 0.2581, HR@100: 0.3851, NDCG@50: 0.0746, NDCG@100: 0.0746\n",
      "BPR-MF Epoch [940/1000]\n",
      "loss: -4897.3843\n",
      "HR@50: 0.2585, HR@100: 0.3853, NDCG@50: 0.0745, NDCG@100: 0.0745\n",
      "BPR-MF Epoch [960/1000]\n",
      "loss: -4898.6528\n",
      "HR@50: 0.2588, HR@100: 0.3854, NDCG@50: 0.0742, NDCG@100: 0.0742\n",
      "BPR-MF Epoch [980/1000]\n",
      "loss: -5062.5083\n",
      "HR@50: 0.2584, HR@100: 0.3856, NDCG@50: 0.0739, NDCG@100: 0.0739\n",
      "BPR-MF Epoch [1000/1000]\n",
      "loss: -5187.0322\n",
      "HR@50: 0.2583, HR@100: 0.3859, NDCG@50: 0.0740, NDCG@100: 0.0740\n"
     ]
    }
   ],
   "source": [
    "optimizer = optim.Adam(model.parameters(), lr=0.00025) #.00025\n",
    "\n",
    "# Training\n",
    "start_time = time.time()\n",
    "eval_best_loss = float('inf')\n",
    "\n",
    "##zero_grad: zeroes the grad attribute of all the parameters passed to the optimizer upon construction\n",
    "optimizer.zero_grad()\n",
    "epoch = 0\n",
    "HR_history = []\n",
    "NDCG_history = []\n",
    "# result_history = []\n",
    "#loader has batch size of 512. In each batch there are 3 tensors of u i j accordingly\n",
    "for u, i, j in loader:\n",
    "    if epoch in range(1000):\n",
    "        loss = model(u, i, j, epoch)\n",
    "\n",
    "        ##  updates the value of those parameters according to the optimization strategy implemented by the specific optimizer.\n",
    "        optimizer.step()\n",
    "        HR_list, NDCG_list = evaluate_k(model.W.detach(),\n",
    "                                        model.H.detach(),\n",
    "                                        train_user_list,\n",
    "                                        test_user_list,\n",
    "                                        klist=[50, 100])\n",
    "        if epoch % 20 == (20- 1):\n",
    "            if epoch in range(1000):\n",
    "                print('BPR-MF Epoch [{}/{}]'.format(epoch + 1, 1000))\n",
    "            print('loss: %.4f' % loss)\n",
    "            print('HR@50: %.4f, HR@100: %.4f, NDCG@50: %.4f, NDCG@100: %.4f' % (\n",
    "                HR_list[0], HR_list[1], NDCG_list[0], NDCG_list[1]))\n",
    "        HR_history.append(HR_list[1])\n",
    "        NDCG_history.append(NDCG_list[1])\n",
    "        if epoch % 100 == 0:\n",
    "            if loss < eval_best_loss:\n",
    "                eval_best_loss = loss\n",
    "                dirname = os.path.dirname(os.path.abspath('output/bpr_manual'))\n",
    "                os.makedirs(dirname, exist_ok=True)\n",
    "                torch.save(model.state_dict(), 'output/bpr_manual')\n",
    "                time_dif = get_time_dif(start_time)\n",
    "                print(\"time\", time_dif)\n",
    "        epoch += 1\n",
    "    else:\n",
    "        break\n"
   ]
  },
  {
   "cell_type": "markdown",
   "id": "c1b039d9",
   "metadata": {},
   "source": [
    "for ml-1m-2 data set with continue , epoch 1000 has\n",
    "loss: 160.6638\n",
    "HR@50: 0.3218, HR@100: 0.4558, NDCG@50: 0.0939, NDCG@100: 0.0939\n",
    "\n",
    "\n",
    "\n",
    "for ml-1m-6 data set with continue , epoch 1000 has\n",
    "loss: 160.6638\n",
    "HR@50: 0.3218, HR@100: 0.4558, NDCG@50: 0.0939, NDCG@100: 0.0939\n",
    "\n",
    "for ml-1m-6 data set with continue + for loop for X in test user set , epoch 1000 has\n",
    "loss: 196.0934\n",
    "HR@50: 0.3266, HR@100: 0.4649, NDCG@50: 0.7004, NDCG@100: 0.7004\n",
    "\n",
    "\n",
    "ml-1m normal dataset\n",
    "loss: 150.8645\n",
    "HR@50: 0.1437, HR@100: 0.2245, NDCG@50: 0.0365, NDCG@100: 0.0365\n",
    "\n",
    "test ml-1m normal dataset with for loop for X in test user set\n",
    "loss: 181.7949\n",
    "HR@50: 0.1480, HR@100: 0.2252, NDCG@50: 0.0373, NDCG@100: 0.0373"
   ]
  },
  {
   "cell_type": "code",
   "execution_count": 131,
   "id": "29d7f1e4",
   "metadata": {},
   "outputs": [
    {
     "data": {
      "image/png": "[encoded data removed]",
      "text/plain": [
       "<Figure size 432x288 with 1 Axes>"
      ]
     },
     "metadata": {
      "needs_background": "light"
     },
     "output_type": "display_data"
    },
    {
     "data": {
      "image/png": "[encoded data removed]",
      "text/plain": [
       "<Figure size 432x288 with 1 Axes>"
      ]
     },
     "metadata": {
      "needs_background": "light"
     },
     "output_type": "display_data"
    }
   ],
   "source": [
    "fig_HR = plt.figure(edgecolor='blue')\n",
    "ax1 = fig_HR.add_subplot(111)\n",
    "plt.ylabel('HR@100')\n",
    "plt.xlabel('Epoch')\n",
    "plt.title('ML-1M')\n",
    "ax1.plot(range(len(HR_history)), HR_history, c=np.array([255, 71, 90]) / 255.)\n",
    "plt.show()\n",
    "fig_P = plt.figure(edgecolor='blue')\n",
    "ax1 = fig_P.add_subplot(111)\n",
    "plt.ylabel('NDCG@100')\n",
    "plt.xlabel('Epoch')\n",
    "plt.title('ML-1M')\n",
    "ax1.plot(range(len(NDCG_history)), NDCG_history, c=np.array([255, 71, 90]) / 255.)\n",
    "plt.show()"
   ]
  },
  {
   "cell_type": "markdown",
   "id": "886dcf79",
   "metadata": {},
   "source": [
    "Running a saving output of BPR model\n",
    "\n",
    "Next up = train adversary based on fixed parameters of BPR"
   ]
  },
  {
   "cell_type": "code",
   "execution_count": 132,
   "id": "b6ae75b6",
   "metadata": {},
   "outputs": [],
   "source": [
    "train_df = pd.read_pickle(r'ml1m-6/training_df.pkl')\n",
    "vali_df = pd.read_pickle(r'ml1m-6/valiing_df.pkl')\n",
    "key_genre = pd.read_pickle(r'ml1m-6/key_genre.pkl')  \n",
    "item_idd_genre_list = pd.read_pickle(r'ml1m-6/item_idd_genre_list.pkl')   \n",
    "genre_item_vector = pd.read_pickle(r'ml1m-6/genre_item_vector.pkl')    \n",
    "genre_count = pd.read_pickle(r'ml1m-6/genre_count.pkl')      \n",
    "user_genre_count = pd.read_pickle(r'ml1m-6/user_genre_count.pkl') \n",
    "\n",
    "num_item = len(train_df['item_id'].unique())\n",
    "num_user = len(train_df['user_id'].unique())\n",
    "num_genre = len(key_genre)"
   ]
  },
  {
   "cell_type": "code",
   "execution_count": 133,
   "id": "4a9335ed",
   "metadata": {},
   "outputs": [
    {
     "data": {
      "text/plain": [
       "{'Sci-Fi': 271,\n",
       " 'Horror': 330,\n",
       " 'Crime': 193,\n",
       " 'Romance': 447,\n",
       " \"Children's\": 248,\n",
       " 'Adventure': 276}"
      ]
     },
     "execution_count": 133,
     "metadata": {},
     "output_type": "execute_result"
    }
   ],
   "source": [
    "genre_count"
   ]
  },
  {
   "cell_type": "code",
   "execution_count": 134,
   "id": "364be573",
   "metadata": {},
   "outputs": [],
   "source": [
    "item_genre_list = []\n",
    "for u in range(num_item):\n",
    "    gl = item_idd_genre_list[u]\n",
    "    tmp = []\n",
    "    for g in gl:\n",
    "        if g in key_genre:\n",
    "            tmp.append(g)\n",
    "    item_genre_list.append(tmp)\n",
    "\n",
    "item_genre = np.zeros((num_item, num_genre))\n",
    "for i in range(num_item):\n",
    "    gl = item_genre_list[i]\n",
    "    for k in range(num_genre):\n",
    "        if key_genre[k] in gl:\n",
    "            item_genre[i, k] = 1.0\n",
    "\n",
    "genre_count_mean_reciprocal = []\n",
    "\n",
    "##there are six key_genre --> in the training dataset, count the number of movies for each genre\n",
    "#genre_count = dictionary with number of movies for each keygrenre\n",
    "for k in key_genre:\n",
    "    genre_count_mean_reciprocal.append(1.0 / genre_count[k])\n",
    "genre_count_mean_reciprocal = (np.array(genre_count_mean_reciprocal)).reshape((num_genre, 1))\n",
    "genre_error_weight = np.dot(item_genre, genre_count_mean_reciprocal)"
   ]
  },
  {
   "cell_type": "code",
   "execution_count": 135,
   "id": "2326714e",
   "metadata": {},
   "outputs": [
    {
     "data": {
      "text/plain": [
       "array([[0.00369004],\n",
       "       [0.0030303 ],\n",
       "       [0.00518135],\n",
       "       [0.00362319],\n",
       "       [0.00403226],\n",
       "       [0.00223714]])"
      ]
     },
     "execution_count": 135,
     "metadata": {},
     "output_type": "execute_result"
    }
   ],
   "source": [
    "genre_count_mean_reciprocal"
   ]
  },
  {
   "cell_type": "code",
   "execution_count": 136,
   "id": "55f5af0e",
   "metadata": {},
   "outputs": [
    {
     "data": {
      "text/plain": [
       "torch.Size([1481, 6])"
      ]
     },
     "execution_count": 136,
     "metadata": {},
     "output_type": "execute_result"
    }
   ],
   "source": [
    "item_genre = torch.from_numpy(item_genre).type(torch.float)\n",
    "item_genre.size()"
   ]
  },
  {
   "cell_type": "code",
   "execution_count": 137,
   "id": "2000011e",
   "metadata": {},
   "outputs": [
    {
     "data": {
      "text/plain": [
       "(torch.Size([6036, 64]), torch.Size([1481, 64]))"
      ]
     },
     "execution_count": 137,
     "metadata": {},
     "output_type": "execute_result"
    }
   ],
   "source": [
    "#load the results of BPR\n",
    "model1 = (torch.load('output/bpr_manual'))\n",
    "list(model1.items())[0][1].size(),list(model1.items())[1][1].size()\n",
    "\n",
    "\n"
   ]
  },
  {
   "cell_type": "code",
   "execution_count": 138,
   "id": "0ed68cc1",
   "metadata": {},
   "outputs": [
    {
     "data": {
      "text/plain": [
       "tensor([[-0.2768,  0.2154,  0.3312,  ..., -0.3092, -0.3706, -0.3206],\n",
       "        [-0.3793,  0.2913,  0.2867,  ..., -0.3424, -0.4042, -0.4007],\n",
       "        [-0.3208,  0.2963,  0.3703,  ..., -0.3736, -0.3685, -0.4043],\n",
       "        ...,\n",
       "        [ 0.4154, -0.3784, -0.3618,  ...,  0.4009,  0.4251,  0.4217],\n",
       "        [ 0.4028, -0.3953, -0.4316,  ...,  0.4312,  0.4474,  0.4470],\n",
       "        [ 0.2876, -0.4030, -0.3718,  ...,  0.3845,  0.4682,  0.3601]])"
      ]
     },
     "execution_count": 138,
     "metadata": {},
     "output_type": "execute_result"
    }
   ],
   "source": [
    "list(model1.items())[1][1]"
   ]
  },
  {
   "cell_type": "code",
   "execution_count": 139,
   "id": "0c24762f",
   "metadata": {},
   "outputs": [
    {
     "data": {
      "text/plain": [
       "torch.Size([6036, 1481])"
      ]
     },
     "execution_count": 139,
     "metadata": {},
     "output_type": "execute_result"
    }
   ],
   "source": [
    "Rec = np.matmul(list(model1.items())[0][1], list(model1.items())[1][1].T)\n",
    "Rec.size()\n",
    "# Rec[1,:].size()\n"
   ]
  },
  {
   "cell_type": "code",
   "execution_count": 140,
   "id": "6d8d492c",
   "metadata": {},
   "outputs": [
    {
     "name": "stderr",
     "output_type": "stream",
     "text": [
      "/home/vuhoang181/Documents/code_base/APR-PyTorch/utility.py:305: FutureWarning: The input object of type 'Tensor' is an array-like implementing one of the corresponding protocols (`__array__`, `__array_interface__` or `__array_struct__`); but not a sequence (or 0-D). In the future, this object will be coerced as if it was first converted using `np.array(obj)`. To retain the old behaviour, you have to either modify the type 'Tensor', or assign to an empty array created with `np.empty(correct_shape, dtype=object)`.\n",
      "  top15 = (np.array([top15_item_idx_no_train, u_pred[top15_item_idx_no_train]])).T\n",
      "/home/vuhoang181/Documents/code_base/APR-PyTorch/utility.py:305: VisibleDeprecationWarning: Creating an ndarray from ragged nested sequences (which is a list-or-tuple of lists-or-tuples-or ndarrays with different lengths or shapes) is deprecated. If you meant to do this, you must specify 'dtype=object' when creating the ndarray.\n",
      "  top15 = (np.array([top15_item_idx_no_train, u_pred[top15_item_idx_no_train]])).T\n"
     ]
    },
    {
     "name": "stdout",
     "output_type": "stream",
     "text": [
      "\n",
      "####################################################################################################\n",
      "# System-level Recall:\n",
      "# \t\t\tRecall@1\tRecall@5\tRecall@10\tRecall@15\n",
      "# Sci-Fi\t\t0.00006\t\t0.00166\t\t0.00631\t\t0.01269\n",
      "# Horror\t\t0.00027\t\t0.00080\t\t0.00133\t\t0.00253\n",
      "# Crime\t\t0.00000\t\t0.00038\t\t0.00127\t\t0.00204\n",
      "# Adventure\t\t0.00053\t\t0.00515\t\t0.00969\t\t0.01612\n",
      "# Children's\t\t0.00804\t\t0.04257\t\t0.08543\t\t0.12758\n",
      "# Romance\t\t0.00048\t\t0.00198\t\t0.00320\t\t0.00538\n",
      "# relative std\t\t1.85770\t\t1.73608\t\t1.69838\t\t1.62151\n",
      "####################################################################################################\n",
      "# User-level Recall:\n",
      "# \t\t\tRecall@1\tRecall@5\tRecall@10\tRecall@15\n",
      "# Sci-Fi\t\t0.00002\t\t0.00315\t\t0.00938\t\t0.01772\n",
      "# Horror\t\t0.00047\t\t0.00141\t\t0.00198\t\t0.00519\n",
      "# Crime\t\t0.00000\t\t0.00039\t\t0.00196\t\t0.00311\n",
      "# Adventure\t\t0.00155\t\t0.01323\t\t0.02387\t\t0.03669\n",
      "# Children's\t\t0.00779\t\t0.04403\t\t0.08835\t\t0.13230\n",
      "# Romance\t\t0.00090\t\t0.00480\t\t0.00796\t\t0.01300\n",
      "# relative std\t\t1.52815\t\t1.36788\t\t1.36860\t\t1.29839\n",
      "####################################################################################################\n",
      "# System-level top ranking probability:\n",
      "# \t\t\t@1\t\t@5\t\t@10\t\t@15\n",
      "# Sci-Fi\t\t0.00139\t\t0.00869\t\t0.02141\t\t0.03455\n",
      "# Horror\t\t0.00027\t\t0.00139\t\t0.00276\t\t0.00407\n",
      "# Crime\t\t0.00076\t\t0.00385\t\t0.00626\t\t0.00780\n",
      "# Adventure\t\t0.00165\t\t0.00801\t\t0.01578\t\t0.02573\n",
      "# Children's\t\t0.00061\t\t0.00251\t\t0.00470\t\t0.00664\n",
      "# Romance\t\t0.00040\t\t0.00180\t\t0.00324\t\t0.00558\n",
      "# relative std\t\t0.59761\t\t0.66710\t\t0.78093\t\t0.83249\n",
      "####################################################################################################\n",
      "# User-level top ranking probability:\n",
      "# \t\t\t@1\t\t@5\t\t@10\t\t@15\n",
      "# Sci-Fi\t\t0.00142\t\t0.00878\t\t0.02150\t\t0.03468\n",
      "# Horror\t\t0.00027\t\t0.00139\t\t0.00276\t\t0.00407\n",
      "# Crime\t\t0.00076\t\t0.00386\t\t0.00628\t\t0.00784\n",
      "# Adventure\t\t0.00164\t\t0.00804\t\t0.01586\t\t0.02586\n",
      "# Children's\t\t0.00061\t\t0.00250\t\t0.00468\t\t0.00661\n",
      "# Romance\t\t0.00039\t\t0.00179\t\t0.00323\t\t0.00557\n",
      "# relative std\t\t0.60208\t\t0.67170\t\t0.78341\t\t0.83432\n",
      "####################################################################################################\n"
     ]
    },
    {
     "data": {
      "text/plain": [
       "(array([0.59761277, 0.66709647, 0.78092763, 0.8324881 ]),\n",
       " array([1.85769903, 1.73607845, 1.69838228, 1.62150917]))"
      ]
     },
     "execution_count": 140,
     "metadata": {},
     "output_type": "execute_result"
    }
   ],
   "source": [
    "import utility\n",
    "utility.ranking_analysis(Rec, vali_df, train_df, key_genre,\n",
    "                                                      item_genre_list, user_genre_count)"
   ]
  },
  {
   "cell_type": "code",
   "execution_count": 58,
   "id": "90785b71",
   "metadata": {},
   "outputs": [
    {
     "data": {
      "text/plain": [
       "(1184, 297, 1184, 297)"
      ]
     },
     "execution_count": 58,
     "metadata": {},
     "output_type": "execute_result"
    }
   ],
   "source": [
    "from sklearn.model_selection import train_test_split\n",
    "\n",
    "X_train, X_test, y_train, y_test = train_test_split(Rec.T, \n",
    "                                                    item_genre, \n",
    "                                                    test_size=0.2, # 20% test, 80% train\n",
    "                                                    random_state=181) # make the random split reproducible\n",
    "\n",
    "len(X_train), len(X_test), len(y_train), len(y_test)"
   ]
  },
  {
   "cell_type": "code",
   "execution_count": 71,
   "id": "494ea526",
   "metadata": {},
   "outputs": [],
   "source": [
    "#adv, linear-relu, linear-sigmoid last layer, numlayer = 4, 512,256,128,64 hidden units \n",
    "\n",
    "adversary = nn.Sequential(\n",
    "    nn.Linear(list(model1.items())[0][1].size()[0], 512),\n",
    "#     nn.ReLU(),\n",
    "    nn.Linear(512, 256),\n",
    "#     nn.ReLU(),\n",
    "    nn.Linear(256, 128),\n",
    "#     nn.ReLU(),\n",
    "    nn.Linear(128, 6),\n",
    "    nn.Softmax()\n",
    ")"
   ]
  },
  {
   "cell_type": "code",
   "execution_count": 72,
   "id": "8bf3ee5b",
   "metadata": {},
   "outputs": [],
   "source": [
    "# Create a loss function\n",
    "# loss_fn = nn.BCELoss() # BCELoss = no sigmoid built-in\n",
    "loss_fn = nn.BCEWithLogitsLoss() # BCEWithLogitsLoss = sigmoid built-in\n",
    "\n",
    "# Create an optimizer\n",
    "optimizer = torch.optim.Adam(params=adversary.parameters(), \n",
    "                            lr=0.000005)"
   ]
  },
  {
   "cell_type": "code",
   "execution_count": 73,
   "id": "7d1f7bd6",
   "metadata": {},
   "outputs": [
    {
     "data": {
      "text/plain": [
       "'cpu'"
      ]
     },
     "execution_count": 73,
     "metadata": {},
     "output_type": "execute_result"
    }
   ],
   "source": [
    "device = \"cuda\" if torch.cuda.is_available() else \"cpu\"\n",
    "device"
   ]
  },
  {
   "cell_type": "code",
   "execution_count": 74,
   "id": "896d5686",
   "metadata": {},
   "outputs": [],
   "source": [
    "# Calculate accuracy (a classification metric)\n",
    "def accuracy_fn(y_true, y_pred):\n",
    "    correct = torch.eq(y_true, y_pred).sum().item() # torch.eq() calculates where two tensors are equal\n",
    "    acc = (correct / (y_true.size()[0]*y_true.size()[1])) * 100 \n",
    "    return acc"
   ]
  },
  {
   "cell_type": "code",
   "execution_count": 75,
   "id": "28bda2f5",
   "metadata": {},
   "outputs": [
    {
     "name": "stderr",
     "output_type": "stream",
     "text": [
      "/home/vuhoang181/anaconda3/lib/python3.9/site-packages/torch/nn/modules/container.py:204: UserWarning: Implicit dimension choice for softmax has been deprecated. Change the call to include dim=X as an argument.\n",
      "  input = module(input)\n"
     ]
    },
    {
     "name": "stdout",
     "output_type": "stream",
     "text": [
      "Epoch: 0 | Loss: 0.75218, Accuracy: 72.40% | Test loss: 0.76171, Test acc: 70.20%\n",
      "Epoch: 10 | Loss: 0.75060, Accuracy: 72.71% | Test loss: 0.75816, Test acc: 70.88%\n",
      "Epoch: 20 | Loss: 0.74821, Accuracy: 73.18% | Test loss: 0.75442, Test acc: 71.66%\n",
      "Epoch: 30 | Loss: 0.74609, Accuracy: 73.61% | Test loss: 0.75217, Test acc: 72.11%\n",
      "Epoch: 40 | Loss: 0.74497, Accuracy: 73.83% | Test loss: 0.75102, Test acc: 72.33%\n",
      "Epoch: 50 | Loss: 0.74383, Accuracy: 74.06% | Test loss: 0.75158, Test acc: 72.22%\n",
      "Epoch: 60 | Loss: 0.74326, Accuracy: 74.17% | Test loss: 0.75047, Test acc: 72.45%\n",
      "Epoch: 70 | Loss: 0.74235, Accuracy: 74.34% | Test loss: 0.74879, Test acc: 72.78%\n",
      "Epoch: 80 | Loss: 0.74200, Accuracy: 74.42% | Test loss: 0.74988, Test acc: 72.56%\n",
      "Epoch: 90 | Loss: 0.74031, Accuracy: 74.76% | Test loss: 0.74874, Test acc: 72.78%\n",
      "Epoch: 100 | Loss: 0.73876, Accuracy: 75.07% | Test loss: 0.74587, Test acc: 73.34%\n",
      "Epoch: 110 | Loss: 0.73739, Accuracy: 75.32% | Test loss: 0.74541, Test acc: 73.46%\n",
      "Epoch: 120 | Loss: 0.73398, Accuracy: 76.03% | Test loss: 0.74204, Test acc: 74.13%\n",
      "Epoch: 130 | Loss: 0.73215, Accuracy: 76.39% | Test loss: 0.74235, Test acc: 74.02%\n",
      "Epoch: 140 | Loss: 0.73017, Accuracy: 76.79% | Test loss: 0.73644, Test acc: 75.25%\n",
      "Epoch: 150 | Loss: 0.72666, Accuracy: 77.49% | Test loss: 0.73641, Test acc: 75.25%\n",
      "Epoch: 160 | Loss: 0.72271, Accuracy: 78.28% | Test loss: 0.73476, Test acc: 75.59%\n",
      "Epoch: 170 | Loss: 0.71977, Accuracy: 78.87% | Test loss: 0.72969, Test acc: 76.60%\n",
      "Epoch: 180 | Loss: 0.71808, Accuracy: 79.21% | Test loss: 0.72860, Test acc: 76.82%\n",
      "Epoch: 190 | Loss: 0.71710, Accuracy: 79.41% | Test loss: 0.72800, Test acc: 76.94%\n",
      "Epoch: 200 | Loss: 0.71596, Accuracy: 79.63% | Test loss: 0.72529, Test acc: 77.50%\n",
      "Epoch: 210 | Loss: 0.71385, Accuracy: 80.05% | Test loss: 0.72187, Test acc: 78.17%\n",
      "Epoch: 220 | Loss: 0.70992, Accuracy: 80.84% | Test loss: 0.72116, Test acc: 78.28%\n",
      "Epoch: 230 | Loss: 0.70639, Accuracy: 81.55% | Test loss: 0.71520, Test acc: 79.52%\n",
      "Epoch: 240 | Loss: 0.70319, Accuracy: 82.19% | Test loss: 0.71345, Test acc: 79.85%\n",
      "Epoch: 250 | Loss: 0.70302, Accuracy: 82.22% | Test loss: 0.71336, Test acc: 79.85%\n",
      "Epoch: 260 | Loss: 0.70259, Accuracy: 82.31% | Test loss: 0.71348, Test acc: 79.85%\n",
      "Epoch: 270 | Loss: 0.70252, Accuracy: 82.33% | Test loss: 0.71569, Test acc: 79.41%\n",
      "Epoch: 280 | Loss: 0.70204, Accuracy: 82.42% | Test loss: 0.71549, Test acc: 79.41%\n",
      "Epoch: 290 | Loss: 0.70147, Accuracy: 82.53% | Test loss: 0.71687, Test acc: 79.18%\n",
      "Epoch: 300 | Loss: 0.70147, Accuracy: 82.53% | Test loss: 0.71717, Test acc: 79.07%\n",
      "Epoch: 310 | Loss: 0.70133, Accuracy: 82.56% | Test loss: 0.71633, Test acc: 79.29%\n",
      "Epoch: 320 | Loss: 0.70104, Accuracy: 82.62% | Test loss: 0.71681, Test acc: 79.18%\n",
      "Epoch: 330 | Loss: 0.70047, Accuracy: 82.76% | Test loss: 0.71457, Test acc: 79.63%\n",
      "Epoch: 340 | Loss: 0.69873, Accuracy: 83.09% | Test loss: 0.71510, Test acc: 79.52%\n",
      "Epoch: 350 | Loss: 0.69754, Accuracy: 83.32% | Test loss: 0.71335, Test acc: 79.85%\n",
      "Epoch: 360 | Loss: 0.69688, Accuracy: 83.46% | Test loss: 0.71457, Test acc: 79.63%\n",
      "Epoch: 370 | Loss: 0.69472, Accuracy: 83.88% | Test loss: 0.71177, Test acc: 80.19%\n",
      "Epoch: 380 | Loss: 0.69348, Accuracy: 84.14% | Test loss: 0.71280, Test acc: 79.97%\n",
      "Epoch: 390 | Loss: 0.69216, Accuracy: 84.39% | Test loss: 0.71174, Test acc: 80.19%\n",
      "Epoch: 400 | Loss: 0.68952, Accuracy: 84.92% | Test loss: 0.71174, Test acc: 80.19%\n",
      "Epoch: 410 | Loss: 0.68952, Accuracy: 84.92% | Test loss: 0.70781, Test acc: 80.98%\n",
      "Epoch: 420 | Loss: 0.68853, Accuracy: 85.12% | Test loss: 0.70807, Test acc: 80.98%\n",
      "Epoch: 430 | Loss: 0.68762, Accuracy: 85.29% | Test loss: 0.70727, Test acc: 81.09%\n",
      "Epoch: 440 | Loss: 0.68810, Accuracy: 85.21% | Test loss: 0.70780, Test acc: 80.98%\n",
      "Epoch: 450 | Loss: 0.68670, Accuracy: 85.49% | Test loss: 0.70671, Test acc: 81.20%\n",
      "Epoch: 460 | Loss: 0.68375, Accuracy: 86.08% | Test loss: 0.70496, Test acc: 81.54%\n",
      "Epoch: 470 | Loss: 0.68163, Accuracy: 86.50% | Test loss: 0.70165, Test acc: 82.21%\n",
      "Epoch: 480 | Loss: 0.68163, Accuracy: 86.50% | Test loss: 0.69920, Test acc: 82.66%\n",
      "Epoch: 490 | Loss: 0.68064, Accuracy: 86.70% | Test loss: 0.69937, Test acc: 82.66%\n"
     ]
    }
   ],
   "source": [
    "torch.manual_seed(18)\n",
    "\n",
    "# Set the number of epochs\n",
    "epochs = 500\n",
    "\n",
    "# Put data to target device\n",
    "X_train, y_train = X_train.to(device), y_train.to(device)\n",
    "X_test, y_test = X_test.to(device), y_test.to(device)\n",
    "\n",
    "# Build training and evaluation loop\n",
    "for epoch in range(epochs):\n",
    "    ### Training\n",
    "    adversary.train()\n",
    "\n",
    "    # 1. Forward pass (model outputs raw logits)\n",
    "    y_logits = adversary(X_train).squeeze() # squeeze to remove extra `1` dimensions, this won't work unless model and data are on same device \n",
    "    y_pred = torch.round((y_logits)) # turn logits -> pred probs -> pred labls\n",
    "  \n",
    "    # 2. Calculate loss/accuracy\n",
    "    # loss = loss_fn(torch.sigmoid(y_logits), # Using nn.BCELoss you need torch.sigmoid()\n",
    "    #                y_train) \n",
    "    loss = loss_fn(y_logits, # Using nn.BCEWithLogitsLoss works with raw logits\n",
    "                   y_train) \n",
    "    acc = accuracy_fn(y_true=y_train, \n",
    "                      y_pred=y_pred) \n",
    "\n",
    "    # 3. Optimizer zero grad\n",
    "    optimizer.zero_grad()\n",
    "\n",
    "    # 4. Loss backwards\n",
    "    loss.backward()\n",
    "\n",
    "    # 5. Optimizer step\n",
    "    optimizer.step()\n",
    "\n",
    "    ### Testing\n",
    "    adversary.eval()\n",
    "    with torch.inference_mode():\n",
    "        # 1. Forward pass\n",
    "        test_logits = adversary(X_test).squeeze() \n",
    "        test_pred = torch.round((test_logits))\n",
    "        # 2. Caculate loss/accuracy\n",
    "        test_loss = loss_fn(test_logits,\n",
    "                            y_test)\n",
    "        test_acc = accuracy_fn(y_true=y_test,\n",
    "                               y_pred=test_pred)\n",
    "\n",
    "    # Print out what's happening every 10 epochs\n",
    "    if epoch % 10 == 0:\n",
    "        print(f\"Epoch: {epoch} | Loss: {loss:.5f}, Accuracy: {acc:.2f}% | Test loss: {test_loss:.5f}, Test acc: {test_acc:.2f}%\")"
   ]
  },
  {
   "cell_type": "code",
   "execution_count": 78,
   "id": "97014932",
   "metadata": {},
   "outputs": [
    {
     "name": "stderr",
     "output_type": "stream",
     "text": [
      "Epoch 0: 100%|████████████| 23/23 [00:00<00:00, 46.62batch/s, acc=83, loss=0.69]\n"
     ]
    },
    {
     "name": "stdout",
     "output_type": "stream",
     "text": [
      "Epoch 0 validation: Cross-entropy=0.70, Accuracy=81.9%\n"
     ]
    },
    {
     "name": "stderr",
     "output_type": "stream",
     "text": [
      "Epoch 1: 100%|█████████| 23/23 [00:00<00:00, 66.94batch/s, acc=82.3, loss=0.687]\n"
     ]
    },
    {
     "name": "stdout",
     "output_type": "stream",
     "text": [
      "Epoch 1 validation: Cross-entropy=0.70, Accuracy=81.9%\n"
     ]
    },
    {
     "name": "stderr",
     "output_type": "stream",
     "text": [
      "Epoch 2: 100%|███████████| 23/23 [00:00<00:00, 70.19batch/s, acc=84, loss=0.683]\n"
     ]
    },
    {
     "name": "stdout",
     "output_type": "stream",
     "text": [
      "Epoch 2 validation: Cross-entropy=0.69, Accuracy=82.4%\n"
     ]
    },
    {
     "name": "stderr",
     "output_type": "stream",
     "text": [
      "Epoch 3: 100%|███████████| 23/23 [00:00<00:00, 62.75batch/s, acc=84, loss=0.683]\n"
     ]
    },
    {
     "name": "stdout",
     "output_type": "stream",
     "text": [
      "Epoch 3 validation: Cross-entropy=0.69, Accuracy=82.5%\n"
     ]
    },
    {
     "name": "stderr",
     "output_type": "stream",
     "text": [
      "Epoch 4: 100%|█████████| 23/23 [00:00<00:00, 59.55batch/s, acc=84.7, loss=0.683]\n"
     ]
    },
    {
     "name": "stdout",
     "output_type": "stream",
     "text": [
      "Epoch 4 validation: Cross-entropy=0.69, Accuracy=82.5%\n"
     ]
    },
    {
     "name": "stderr",
     "output_type": "stream",
     "text": [
      "Epoch 5: 100%|███████████| 23/23 [00:00<00:00, 49.47batch/s, acc=84, loss=0.686]\n"
     ]
    },
    {
     "name": "stdout",
     "output_type": "stream",
     "text": [
      "Epoch 5 validation: Cross-entropy=0.69, Accuracy=82.6%\n"
     ]
    },
    {
     "name": "stderr",
     "output_type": "stream",
     "text": [
      "Epoch 6: 100%|███████████| 23/23 [00:00<00:00, 58.61batch/s, acc=84, loss=0.686]\n"
     ]
    },
    {
     "name": "stdout",
     "output_type": "stream",
     "text": [
      "Epoch 6 validation: Cross-entropy=0.69, Accuracy=82.9%\n"
     ]
    },
    {
     "name": "stderr",
     "output_type": "stream",
     "text": [
      "Epoch 7: 100%|████████████| 23/23 [00:00<00:00, 59.63batch/s, acc=86, loss=0.68]\n"
     ]
    },
    {
     "name": "stdout",
     "output_type": "stream",
     "text": [
      "Epoch 7 validation: Cross-entropy=0.69, Accuracy=82.4%\n"
     ]
    },
    {
     "name": "stderr",
     "output_type": "stream",
     "text": [
      "Epoch 8: 100%|████████████| 23/23 [00:00<00:00, 59.61batch/s, acc=86, loss=0.68]\n"
     ]
    },
    {
     "name": "stdout",
     "output_type": "stream",
     "text": [
      "Epoch 8 validation: Cross-entropy=0.69, Accuracy=82.7%\n"
     ]
    },
    {
     "name": "stderr",
     "output_type": "stream",
     "text": [
      "Epoch 9: 100%|████████████| 23/23 [00:00<00:00, 51.23batch/s, acc=86, loss=0.68]\n"
     ]
    },
    {
     "name": "stdout",
     "output_type": "stream",
     "text": [
      "Epoch 9 validation: Cross-entropy=0.69, Accuracy=82.9%\n"
     ]
    },
    {
     "name": "stderr",
     "output_type": "stream",
     "text": [
      "Epoch 10: 100%|███████████| 23/23 [00:00<00:00, 56.61batch/s, acc=86, loss=0.68]\n"
     ]
    },
    {
     "name": "stdout",
     "output_type": "stream",
     "text": [
      "Epoch 10 validation: Cross-entropy=0.69, Accuracy=82.9%\n"
     ]
    },
    {
     "name": "stderr",
     "output_type": "stream",
     "text": [
      "Epoch 11: 100%|████████| 23/23 [00:00<00:00, 54.33batch/s, acc=85.3, loss=0.683]\n"
     ]
    },
    {
     "name": "stdout",
     "output_type": "stream",
     "text": [
      "Epoch 11 validation: Cross-entropy=0.69, Accuracy=82.9%\n"
     ]
    },
    {
     "name": "stderr",
     "output_type": "stream",
     "text": [
      "Epoch 12: 100%|████████| 23/23 [00:00<00:00, 67.02batch/s, acc=84.7, loss=0.684]\n"
     ]
    },
    {
     "name": "stdout",
     "output_type": "stream",
     "text": [
      "Epoch 12 validation: Cross-entropy=0.69, Accuracy=83.2%\n"
     ]
    },
    {
     "name": "stderr",
     "output_type": "stream",
     "text": [
      "Epoch 13: 100%|████████| 23/23 [00:00<00:00, 58.63batch/s, acc=86.3, loss=0.673]\n"
     ]
    },
    {
     "name": "stdout",
     "output_type": "stream",
     "text": [
      "Epoch 13 validation: Cross-entropy=0.69, Accuracy=83.1%\n"
     ]
    },
    {
     "name": "stderr",
     "output_type": "stream",
     "text": [
      "Epoch 14: 100%|████████| 23/23 [00:00<00:00, 49.54batch/s, acc=87.3, loss=0.673]\n"
     ]
    },
    {
     "name": "stdout",
     "output_type": "stream",
     "text": [
      "Epoch 14 validation: Cross-entropy=0.69, Accuracy=83.0%\n"
     ]
    },
    {
     "name": "stderr",
     "output_type": "stream",
     "text": [
      "Epoch 15: 100%|██████████| 23/23 [00:00<00:00, 53.75batch/s, acc=87, loss=0.673]\n"
     ]
    },
    {
     "name": "stdout",
     "output_type": "stream",
     "text": [
      "Epoch 15 validation: Cross-entropy=0.69, Accuracy=83.1%\n"
     ]
    },
    {
     "name": "stderr",
     "output_type": "stream",
     "text": [
      "Epoch 16: 100%|██████████| 23/23 [00:00<00:00, 54.58batch/s, acc=87, loss=0.673]\n"
     ]
    },
    {
     "name": "stdout",
     "output_type": "stream",
     "text": [
      "Epoch 16 validation: Cross-entropy=0.69, Accuracy=83.1%\n"
     ]
    },
    {
     "name": "stderr",
     "output_type": "stream",
     "text": [
      "Epoch 17: 100%|██████████| 23/23 [00:00<00:00, 53.12batch/s, acc=87, loss=0.673]\n"
     ]
    },
    {
     "name": "stdout",
     "output_type": "stream",
     "text": [
      "Epoch 17 validation: Cross-entropy=0.69, Accuracy=83.1%\n"
     ]
    },
    {
     "name": "stderr",
     "output_type": "stream",
     "text": [
      "Epoch 18: 100%|██████████| 23/23 [00:00<00:00, 54.96batch/s, acc=87, loss=0.673]\n"
     ]
    },
    {
     "name": "stdout",
     "output_type": "stream",
     "text": [
      "Epoch 18 validation: Cross-entropy=0.69, Accuracy=83.1%\n"
     ]
    },
    {
     "name": "stderr",
     "output_type": "stream",
     "text": [
      "Epoch 19: 100%|██████████| 23/23 [00:00<00:00, 53.28batch/s, acc=87, loss=0.673]\n"
     ]
    },
    {
     "name": "stdout",
     "output_type": "stream",
     "text": [
      "Epoch 19 validation: Cross-entropy=0.69, Accuracy=83.1%\n"
     ]
    },
    {
     "name": "stderr",
     "output_type": "stream",
     "text": [
      "Epoch 20: 100%|██████████| 23/23 [00:00<00:00, 54.19batch/s, acc=87, loss=0.673]\n"
     ]
    },
    {
     "name": "stdout",
     "output_type": "stream",
     "text": [
      "Epoch 20 validation: Cross-entropy=0.69, Accuracy=83.1%\n"
     ]
    },
    {
     "name": "stderr",
     "output_type": "stream",
     "text": [
      "Epoch 21: 100%|█████████| 23/23 [00:00<00:00, 55.62batch/s, acc=88.3, loss=0.67]\n"
     ]
    },
    {
     "name": "stdout",
     "output_type": "stream",
     "text": [
      "Epoch 21 validation: Cross-entropy=0.69, Accuracy=82.8%\n"
     ]
    },
    {
     "name": "stderr",
     "output_type": "stream",
     "text": [
      "Epoch 22: 100%|████████| 23/23 [00:00<00:00, 61.52batch/s, acc=87.7, loss=0.673]\n"
     ]
    },
    {
     "name": "stdout",
     "output_type": "stream",
     "text": [
      "Epoch 22 validation: Cross-entropy=0.69, Accuracy=82.9%\n"
     ]
    },
    {
     "name": "stderr",
     "output_type": "stream",
     "text": [
      "Epoch 23: 100%|████████| 23/23 [00:00<00:00, 68.16batch/s, acc=87.7, loss=0.673]\n"
     ]
    },
    {
     "name": "stdout",
     "output_type": "stream",
     "text": [
      "Epoch 23 validation: Cross-entropy=0.69, Accuracy=82.9%\n"
     ]
    },
    {
     "name": "stderr",
     "output_type": "stream",
     "text": [
      "Epoch 24: 100%|██████████| 23/23 [00:00<00:00, 65.36batch/s, acc=87, loss=0.673]\n"
     ]
    },
    {
     "name": "stdout",
     "output_type": "stream",
     "text": [
      "Epoch 24 validation: Cross-entropy=0.70, Accuracy=81.3%\n"
     ]
    },
    {
     "name": "stderr",
     "output_type": "stream",
     "text": [
      "Epoch 25: 100%|████████| 23/23 [00:00<00:00, 57.03batch/s, acc=86.7, loss=0.673]\n"
     ]
    },
    {
     "name": "stdout",
     "output_type": "stream",
     "text": [
      "Epoch 25 validation: Cross-entropy=0.70, Accuracy=81.4%\n"
     ]
    },
    {
     "name": "stderr",
     "output_type": "stream",
     "text": [
      "Epoch 26: 100%|████████| 23/23 [00:00<00:00, 62.36batch/s, acc=86.7, loss=0.673]\n"
     ]
    },
    {
     "name": "stdout",
     "output_type": "stream",
     "text": [
      "Epoch 26 validation: Cross-entropy=0.70, Accuracy=81.3%\n"
     ]
    },
    {
     "name": "stderr",
     "output_type": "stream",
     "text": [
      "Epoch 27: 100%|████████| 23/23 [00:00<00:00, 57.39batch/s, acc=86.7, loss=0.673]\n"
     ]
    },
    {
     "name": "stdout",
     "output_type": "stream",
     "text": [
      "Epoch 27 validation: Cross-entropy=0.70, Accuracy=81.3%\n"
     ]
    },
    {
     "name": "stderr",
     "output_type": "stream",
     "text": [
      "Epoch 28: 100%|██████████| 23/23 [00:00<00:00, 55.72batch/s, acc=87, loss=0.673]\n"
     ]
    },
    {
     "name": "stdout",
     "output_type": "stream",
     "text": [
      "Epoch 28 validation: Cross-entropy=0.70, Accuracy=81.3%\n"
     ]
    },
    {
     "name": "stderr",
     "output_type": "stream",
     "text": [
      "Epoch 29: 100%|██████████| 23/23 [00:00<00:00, 58.67batch/s, acc=87, loss=0.673]\n"
     ]
    },
    {
     "name": "stdout",
     "output_type": "stream",
     "text": [
      "Epoch 29 validation: Cross-entropy=0.70, Accuracy=81.5%\n"
     ]
    },
    {
     "name": "stderr",
     "output_type": "stream",
     "text": [
      "Epoch 30: 100%|█████████| 23/23 [00:00<00:00, 64.62batch/s, acc=85.7, loss=0.68]\n"
     ]
    },
    {
     "name": "stdout",
     "output_type": "stream",
     "text": [
      "Epoch 30 validation: Cross-entropy=0.70, Accuracy=81.3%\n"
     ]
    },
    {
     "name": "stderr",
     "output_type": "stream",
     "text": [
      "Epoch 31: 100%|███████████| 23/23 [00:00<00:00, 59.93batch/s, acc=86, loss=0.68]\n"
     ]
    },
    {
     "name": "stdout",
     "output_type": "stream",
     "text": [
      "Epoch 31 validation: Cross-entropy=0.70, Accuracy=81.6%\n"
     ]
    },
    {
     "name": "stderr",
     "output_type": "stream",
     "text": [
      "Epoch 32: 100%|█████████| 23/23 [00:00<00:00, 67.48batch/s, acc=85.3, loss=0.68]\n"
     ]
    },
    {
     "name": "stdout",
     "output_type": "stream",
     "text": [
      "Epoch 32 validation: Cross-entropy=0.70, Accuracy=81.0%\n"
     ]
    },
    {
     "name": "stderr",
     "output_type": "stream",
     "text": [
      "Epoch 33: 100%|████████| 23/23 [00:00<00:00, 74.51batch/s, acc=85.7, loss=0.683]\n"
     ]
    },
    {
     "name": "stdout",
     "output_type": "stream",
     "text": [
      "Epoch 33 validation: Cross-entropy=0.70, Accuracy=80.9%\n"
     ]
    },
    {
     "name": "stderr",
     "output_type": "stream",
     "text": [
      "Epoch 34: 100%|████████| 23/23 [00:00<00:00, 64.95batch/s, acc=85.7, loss=0.683]\n"
     ]
    },
    {
     "name": "stdout",
     "output_type": "stream",
     "text": [
      "Epoch 34 validation: Cross-entropy=0.70, Accuracy=80.9%\n"
     ]
    },
    {
     "name": "stderr",
     "output_type": "stream",
     "text": [
      "Epoch 35: 100%|████████| 23/23 [00:00<00:00, 62.31batch/s, acc=85.7, loss=0.683]\n"
     ]
    },
    {
     "name": "stdout",
     "output_type": "stream",
     "text": [
      "Epoch 35 validation: Cross-entropy=0.70, Accuracy=80.8%\n"
     ]
    },
    {
     "name": "stderr",
     "output_type": "stream",
     "text": [
      "Epoch 36: 100%|████████| 23/23 [00:00<00:00, 68.95batch/s, acc=85.3, loss=0.683]\n"
     ]
    },
    {
     "name": "stdout",
     "output_type": "stream",
     "text": [
      "Epoch 36 validation: Cross-entropy=0.70, Accuracy=80.9%\n"
     ]
    },
    {
     "name": "stderr",
     "output_type": "stream",
     "text": [
      "Epoch 37: 100%|████████| 23/23 [00:00<00:00, 60.60batch/s, acc=85.3, loss=0.683]\n"
     ]
    },
    {
     "name": "stdout",
     "output_type": "stream",
     "text": [
      "Epoch 37 validation: Cross-entropy=0.70, Accuracy=80.8%\n"
     ]
    },
    {
     "name": "stderr",
     "output_type": "stream",
     "text": [
      "Epoch 38: 100%|█████████| 23/23 [00:00<00:00, 58.92batch/s, acc=85.3, loss=0.68]\n"
     ]
    },
    {
     "name": "stdout",
     "output_type": "stream",
     "text": [
      "Epoch 38 validation: Cross-entropy=0.70, Accuracy=81.5%\n"
     ]
    },
    {
     "name": "stderr",
     "output_type": "stream",
     "text": [
      "Epoch 39: 100%|█████████| 23/23 [00:00<00:00, 62.90batch/s, acc=85.3, loss=0.68]\n"
     ]
    },
    {
     "name": "stdout",
     "output_type": "stream",
     "text": [
      "Epoch 39 validation: Cross-entropy=0.70, Accuracy=82.0%\n"
     ]
    },
    {
     "name": "stderr",
     "output_type": "stream",
     "text": [
      "Epoch 40: 100%|█████████| 23/23 [00:00<00:00, 63.09batch/s, acc=85.3, loss=0.68]\n"
     ]
    },
    {
     "name": "stdout",
     "output_type": "stream",
     "text": [
      "Epoch 40 validation: Cross-entropy=0.70, Accuracy=82.3%\n"
     ]
    },
    {
     "name": "stderr",
     "output_type": "stream",
     "text": [
      "Epoch 41: 100%|█████████| 23/23 [00:00<00:00, 57.43batch/s, acc=85.3, loss=0.68]\n"
     ]
    },
    {
     "name": "stdout",
     "output_type": "stream",
     "text": [
      "Epoch 41 validation: Cross-entropy=0.70, Accuracy=82.5%\n"
     ]
    },
    {
     "name": "stderr",
     "output_type": "stream",
     "text": [
      "Epoch 42: 100%|█████████| 23/23 [00:00<00:00, 64.08batch/s, acc=85.3, loss=0.68]\n"
     ]
    },
    {
     "name": "stdout",
     "output_type": "stream",
     "text": [
      "Epoch 42 validation: Cross-entropy=0.70, Accuracy=82.4%\n"
     ]
    },
    {
     "name": "stderr",
     "output_type": "stream",
     "text": [
      "Epoch 43: 100%|███████████| 23/23 [00:00<00:00, 75.49batch/s, acc=85, loss=0.68]\n"
     ]
    },
    {
     "name": "stdout",
     "output_type": "stream",
     "text": [
      "Epoch 43 validation: Cross-entropy=0.70, Accuracy=82.2%\n"
     ]
    },
    {
     "name": "stderr",
     "output_type": "stream",
     "text": [
      "Epoch 44: 100%|██████████| 23/23 [00:00<00:00, 54.32batch/s, acc=85, loss=0.683]\n"
     ]
    },
    {
     "name": "stdout",
     "output_type": "stream",
     "text": [
      "Epoch 44 validation: Cross-entropy=0.70, Accuracy=82.4%\n"
     ]
    },
    {
     "name": "stderr",
     "output_type": "stream",
     "text": [
      "Epoch 45: 100%|██████████| 23/23 [00:00<00:00, 52.33batch/s, acc=85, loss=0.683]\n"
     ]
    },
    {
     "name": "stdout",
     "output_type": "stream",
     "text": [
      "Epoch 45 validation: Cross-entropy=0.70, Accuracy=82.3%\n"
     ]
    },
    {
     "name": "stderr",
     "output_type": "stream",
     "text": [
      "Epoch 46: 100%|██████████| 23/23 [00:00<00:00, 59.29batch/s, acc=85, loss=0.683]\n"
     ]
    },
    {
     "name": "stdout",
     "output_type": "stream",
     "text": [
      "Epoch 46 validation: Cross-entropy=0.70, Accuracy=82.3%\n"
     ]
    },
    {
     "name": "stderr",
     "output_type": "stream",
     "text": [
      "Epoch 47: 100%|██████████| 23/23 [00:00<00:00, 59.08batch/s, acc=85, loss=0.683]\n"
     ]
    },
    {
     "name": "stdout",
     "output_type": "stream",
     "text": [
      "Epoch 47 validation: Cross-entropy=0.70, Accuracy=82.3%\n"
     ]
    },
    {
     "name": "stderr",
     "output_type": "stream",
     "text": [
      "Epoch 48: 100%|██████████| 23/23 [00:00<00:00, 60.05batch/s, acc=85, loss=0.683]\n"
     ]
    },
    {
     "name": "stdout",
     "output_type": "stream",
     "text": [
      "Epoch 48 validation: Cross-entropy=0.70, Accuracy=82.3%\n"
     ]
    },
    {
     "name": "stderr",
     "output_type": "stream",
     "text": [
      "Epoch 49: 100%|██████████| 23/23 [00:00<00:00, 59.68batch/s, acc=85, loss=0.683]\n"
     ]
    },
    {
     "name": "stdout",
     "output_type": "stream",
     "text": [
      "Epoch 49 validation: Cross-entropy=0.70, Accuracy=82.3%\n"
     ]
    },
    {
     "name": "stderr",
     "output_type": "stream",
     "text": [
      "Epoch 50: 100%|██████████| 23/23 [00:00<00:00, 58.16batch/s, acc=85, loss=0.683]\n"
     ]
    },
    {
     "name": "stdout",
     "output_type": "stream",
     "text": [
      "Epoch 50 validation: Cross-entropy=0.70, Accuracy=82.3%\n"
     ]
    },
    {
     "name": "stderr",
     "output_type": "stream",
     "text": [
      "Epoch 51: 100%|██████████| 23/23 [00:00<00:00, 53.59batch/s, acc=85, loss=0.683]\n"
     ]
    },
    {
     "name": "stdout",
     "output_type": "stream",
     "text": [
      "Epoch 51 validation: Cross-entropy=0.70, Accuracy=82.3%\n"
     ]
    },
    {
     "name": "stderr",
     "output_type": "stream",
     "text": [
      "Epoch 52: 100%|██████████| 23/23 [00:00<00:00, 57.75batch/s, acc=85, loss=0.683]\n"
     ]
    },
    {
     "name": "stdout",
     "output_type": "stream",
     "text": [
      "Epoch 52 validation: Cross-entropy=0.70, Accuracy=82.3%\n"
     ]
    },
    {
     "name": "stderr",
     "output_type": "stream",
     "text": [
      "Epoch 53: 100%|██████████| 23/23 [00:00<00:00, 53.71batch/s, acc=85, loss=0.683]\n"
     ]
    },
    {
     "name": "stdout",
     "output_type": "stream",
     "text": [
      "Epoch 53 validation: Cross-entropy=0.70, Accuracy=82.3%\n"
     ]
    },
    {
     "name": "stderr",
     "output_type": "stream",
     "text": [
      "Epoch 54: 100%|██████████| 23/23 [00:00<00:00, 55.73batch/s, acc=85, loss=0.683]\n"
     ]
    },
    {
     "name": "stdout",
     "output_type": "stream",
     "text": [
      "Epoch 54 validation: Cross-entropy=0.70, Accuracy=82.3%\n"
     ]
    },
    {
     "name": "stderr",
     "output_type": "stream",
     "text": [
      "Epoch 55: 100%|██████████| 23/23 [00:00<00:00, 60.52batch/s, acc=85, loss=0.683]\n"
     ]
    },
    {
     "name": "stdout",
     "output_type": "stream",
     "text": [
      "Epoch 55 validation: Cross-entropy=0.70, Accuracy=82.3%\n"
     ]
    },
    {
     "name": "stderr",
     "output_type": "stream",
     "text": [
      "Epoch 56: 100%|██████████| 23/23 [00:00<00:00, 60.08batch/s, acc=85, loss=0.683]\n"
     ]
    },
    {
     "name": "stdout",
     "output_type": "stream",
     "text": [
      "Epoch 56 validation: Cross-entropy=0.70, Accuracy=82.3%\n"
     ]
    },
    {
     "name": "stderr",
     "output_type": "stream",
     "text": [
      "Epoch 57: 100%|██████████| 23/23 [00:00<00:00, 56.31batch/s, acc=85, loss=0.683]\n"
     ]
    },
    {
     "name": "stdout",
     "output_type": "stream",
     "text": [
      "Epoch 57 validation: Cross-entropy=0.70, Accuracy=82.3%\n"
     ]
    },
    {
     "name": "stderr",
     "output_type": "stream",
     "text": [
      "Epoch 58: 100%|██████████| 23/23 [00:00<00:00, 55.88batch/s, acc=85, loss=0.683]\n"
     ]
    },
    {
     "name": "stdout",
     "output_type": "stream",
     "text": [
      "Epoch 58 validation: Cross-entropy=0.70, Accuracy=82.3%\n"
     ]
    },
    {
     "name": "stderr",
     "output_type": "stream",
     "text": [
      "Epoch 59: 100%|██████████| 23/23 [00:00<00:00, 55.38batch/s, acc=85, loss=0.683]\n"
     ]
    },
    {
     "name": "stdout",
     "output_type": "stream",
     "text": [
      "Epoch 59 validation: Cross-entropy=0.70, Accuracy=82.3%\n"
     ]
    },
    {
     "name": "stderr",
     "output_type": "stream",
     "text": [
      "Epoch 60: 100%|██████████| 23/23 [00:00<00:00, 54.58batch/s, acc=85, loss=0.683]\n"
     ]
    },
    {
     "name": "stdout",
     "output_type": "stream",
     "text": [
      "Epoch 60 validation: Cross-entropy=0.70, Accuracy=82.3%\n"
     ]
    },
    {
     "name": "stderr",
     "output_type": "stream",
     "text": [
      "Epoch 61: 100%|██████████| 23/23 [00:00<00:00, 54.89batch/s, acc=85, loss=0.683]\n"
     ]
    },
    {
     "name": "stdout",
     "output_type": "stream",
     "text": [
      "Epoch 61 validation: Cross-entropy=0.70, Accuracy=82.3%\n"
     ]
    },
    {
     "name": "stderr",
     "output_type": "stream",
     "text": [
      "Epoch 62: 100%|██████████| 23/23 [00:00<00:00, 60.04batch/s, acc=85, loss=0.683]\n"
     ]
    },
    {
     "name": "stdout",
     "output_type": "stream",
     "text": [
      "Epoch 62 validation: Cross-entropy=0.70, Accuracy=82.3%\n"
     ]
    },
    {
     "name": "stderr",
     "output_type": "stream",
     "text": [
      "Epoch 63: 100%|██████████| 23/23 [00:00<00:00, 54.68batch/s, acc=85, loss=0.683]\n"
     ]
    },
    {
     "name": "stdout",
     "output_type": "stream",
     "text": [
      "Epoch 63 validation: Cross-entropy=0.70, Accuracy=82.3%\n"
     ]
    },
    {
     "name": "stderr",
     "output_type": "stream",
     "text": [
      "Epoch 64: 100%|██████████| 23/23 [00:00<00:00, 57.96batch/s, acc=85, loss=0.683]\n"
     ]
    },
    {
     "name": "stdout",
     "output_type": "stream",
     "text": [
      "Epoch 64 validation: Cross-entropy=0.70, Accuracy=82.3%\n"
     ]
    },
    {
     "name": "stderr",
     "output_type": "stream",
     "text": [
      "Epoch 65: 100%|██████████| 23/23 [00:00<00:00, 57.65batch/s, acc=85, loss=0.683]\n"
     ]
    },
    {
     "name": "stdout",
     "output_type": "stream",
     "text": [
      "Epoch 65 validation: Cross-entropy=0.70, Accuracy=82.3%\n"
     ]
    },
    {
     "name": "stderr",
     "output_type": "stream",
     "text": [
      "Epoch 66: 100%|██████████| 23/23 [00:00<00:00, 54.91batch/s, acc=85, loss=0.683]\n"
     ]
    },
    {
     "name": "stdout",
     "output_type": "stream",
     "text": [
      "Epoch 66 validation: Cross-entropy=0.70, Accuracy=82.3%\n"
     ]
    },
    {
     "name": "stderr",
     "output_type": "stream",
     "text": [
      "Epoch 67: 100%|██████████| 23/23 [00:00<00:00, 55.73batch/s, acc=85, loss=0.683]\n"
     ]
    },
    {
     "name": "stdout",
     "output_type": "stream",
     "text": [
      "Epoch 67 validation: Cross-entropy=0.70, Accuracy=82.3%\n"
     ]
    },
    {
     "name": "stderr",
     "output_type": "stream",
     "text": [
      "Epoch 68: 100%|██████████| 23/23 [00:00<00:00, 56.44batch/s, acc=85, loss=0.683]\n"
     ]
    },
    {
     "name": "stdout",
     "output_type": "stream",
     "text": [
      "Epoch 68 validation: Cross-entropy=0.70, Accuracy=82.3%\n"
     ]
    },
    {
     "name": "stderr",
     "output_type": "stream",
     "text": [
      "Epoch 69: 100%|██████████| 23/23 [00:00<00:00, 55.50batch/s, acc=85, loss=0.683]\n"
     ]
    },
    {
     "name": "stdout",
     "output_type": "stream",
     "text": [
      "Epoch 69 validation: Cross-entropy=0.70, Accuracy=82.3%\n"
     ]
    },
    {
     "name": "stderr",
     "output_type": "stream",
     "text": [
      "Epoch 70: 100%|██████████| 23/23 [00:00<00:00, 56.55batch/s, acc=85, loss=0.683]\n"
     ]
    },
    {
     "name": "stdout",
     "output_type": "stream",
     "text": [
      "Epoch 70 validation: Cross-entropy=0.70, Accuracy=82.3%\n"
     ]
    },
    {
     "name": "stderr",
     "output_type": "stream",
     "text": [
      "Epoch 71: 100%|██████████| 23/23 [00:00<00:00, 53.56batch/s, acc=85, loss=0.683]\n"
     ]
    },
    {
     "name": "stdout",
     "output_type": "stream",
     "text": [
      "Epoch 71 validation: Cross-entropy=0.70, Accuracy=82.3%\n"
     ]
    },
    {
     "name": "stderr",
     "output_type": "stream",
     "text": [
      "Epoch 72: 100%|██████████| 23/23 [00:00<00:00, 58.77batch/s, acc=85, loss=0.683]\n"
     ]
    },
    {
     "name": "stdout",
     "output_type": "stream",
     "text": [
      "Epoch 72 validation: Cross-entropy=0.70, Accuracy=82.3%\n"
     ]
    },
    {
     "name": "stderr",
     "output_type": "stream",
     "text": [
      "Epoch 73: 100%|██████████| 23/23 [00:00<00:00, 56.64batch/s, acc=85, loss=0.683]\n"
     ]
    },
    {
     "name": "stdout",
     "output_type": "stream",
     "text": [
      "Epoch 73 validation: Cross-entropy=0.70, Accuracy=82.3%\n"
     ]
    },
    {
     "name": "stderr",
     "output_type": "stream",
     "text": [
      "Epoch 74: 100%|██████████| 23/23 [00:00<00:00, 62.64batch/s, acc=85, loss=0.683]\n"
     ]
    },
    {
     "name": "stdout",
     "output_type": "stream",
     "text": [
      "Epoch 74 validation: Cross-entropy=0.70, Accuracy=82.3%\n"
     ]
    },
    {
     "name": "stderr",
     "output_type": "stream",
     "text": [
      "Epoch 75: 100%|██████████| 23/23 [00:00<00:00, 58.78batch/s, acc=85, loss=0.683]\n"
     ]
    },
    {
     "name": "stdout",
     "output_type": "stream",
     "text": [
      "Epoch 75 validation: Cross-entropy=0.70, Accuracy=82.3%\n"
     ]
    },
    {
     "name": "stderr",
     "output_type": "stream",
     "text": [
      "Epoch 76: 100%|██████████| 23/23 [00:00<00:00, 54.60batch/s, acc=85, loss=0.683]\n"
     ]
    },
    {
     "name": "stdout",
     "output_type": "stream",
     "text": [
      "Epoch 76 validation: Cross-entropy=0.70, Accuracy=82.3%\n"
     ]
    },
    {
     "name": "stderr",
     "output_type": "stream",
     "text": [
      "Epoch 77: 100%|██████████| 23/23 [00:00<00:00, 58.57batch/s, acc=85, loss=0.683]\n"
     ]
    },
    {
     "name": "stdout",
     "output_type": "stream",
     "text": [
      "Epoch 77 validation: Cross-entropy=0.70, Accuracy=82.3%\n"
     ]
    },
    {
     "name": "stderr",
     "output_type": "stream",
     "text": [
      "Epoch 78: 100%|██████████| 23/23 [00:00<00:00, 58.18batch/s, acc=85, loss=0.683]\n"
     ]
    },
    {
     "name": "stdout",
     "output_type": "stream",
     "text": [
      "Epoch 78 validation: Cross-entropy=0.70, Accuracy=82.3%\n"
     ]
    },
    {
     "name": "stderr",
     "output_type": "stream",
     "text": [
      "Epoch 79: 100%|██████████| 23/23 [00:00<00:00, 58.86batch/s, acc=85, loss=0.683]\n"
     ]
    },
    {
     "name": "stdout",
     "output_type": "stream",
     "text": [
      "Epoch 79 validation: Cross-entropy=0.70, Accuracy=82.3%\n"
     ]
    },
    {
     "name": "stderr",
     "output_type": "stream",
     "text": [
      "Epoch 80: 100%|██████████| 23/23 [00:00<00:00, 53.28batch/s, acc=85, loss=0.683]\n"
     ]
    },
    {
     "name": "stdout",
     "output_type": "stream",
     "text": [
      "Epoch 80 validation: Cross-entropy=0.70, Accuracy=82.3%\n"
     ]
    },
    {
     "name": "stderr",
     "output_type": "stream",
     "text": [
      "Epoch 81: 100%|██████████| 23/23 [00:00<00:00, 54.65batch/s, acc=85, loss=0.683]\n"
     ]
    },
    {
     "name": "stdout",
     "output_type": "stream",
     "text": [
      "Epoch 81 validation: Cross-entropy=0.70, Accuracy=82.3%\n"
     ]
    },
    {
     "name": "stderr",
     "output_type": "stream",
     "text": [
      "Epoch 82: 100%|██████████| 23/23 [00:00<00:00, 55.01batch/s, acc=85, loss=0.683]\n"
     ]
    },
    {
     "name": "stdout",
     "output_type": "stream",
     "text": [
      "Epoch 82 validation: Cross-entropy=0.70, Accuracy=82.3%\n"
     ]
    },
    {
     "name": "stderr",
     "output_type": "stream",
     "text": [
      "Epoch 83: 100%|██████████| 23/23 [00:00<00:00, 59.71batch/s, acc=85, loss=0.683]\n"
     ]
    },
    {
     "name": "stdout",
     "output_type": "stream",
     "text": [
      "Epoch 83 validation: Cross-entropy=0.70, Accuracy=82.3%\n"
     ]
    },
    {
     "name": "stderr",
     "output_type": "stream",
     "text": [
      "Epoch 84: 100%|██████████| 23/23 [00:00<00:00, 56.67batch/s, acc=85, loss=0.683]\n"
     ]
    },
    {
     "name": "stdout",
     "output_type": "stream",
     "text": [
      "Epoch 84 validation: Cross-entropy=0.70, Accuracy=82.3%\n"
     ]
    },
    {
     "name": "stderr",
     "output_type": "stream",
     "text": [
      "Epoch 85: 100%|██████████| 23/23 [00:00<00:00, 55.81batch/s, acc=85, loss=0.683]\n"
     ]
    },
    {
     "name": "stdout",
     "output_type": "stream",
     "text": [
      "Epoch 85 validation: Cross-entropy=0.70, Accuracy=82.3%\n"
     ]
    },
    {
     "name": "stderr",
     "output_type": "stream",
     "text": [
      "Epoch 86: 100%|██████████| 23/23 [00:00<00:00, 52.09batch/s, acc=85, loss=0.683]\n"
     ]
    },
    {
     "name": "stdout",
     "output_type": "stream",
     "text": [
      "Epoch 86 validation: Cross-entropy=0.70, Accuracy=82.3%\n"
     ]
    },
    {
     "name": "stderr",
     "output_type": "stream",
     "text": [
      "Epoch 87: 100%|██████████| 23/23 [00:00<00:00, 57.83batch/s, acc=85, loss=0.683]\n"
     ]
    },
    {
     "name": "stdout",
     "output_type": "stream",
     "text": [
      "Epoch 87 validation: Cross-entropy=0.70, Accuracy=82.3%\n"
     ]
    },
    {
     "name": "stderr",
     "output_type": "stream",
     "text": [
      "Epoch 88: 100%|██████████| 23/23 [00:00<00:00, 54.25batch/s, acc=85, loss=0.683]\n"
     ]
    },
    {
     "name": "stdout",
     "output_type": "stream",
     "text": [
      "Epoch 88 validation: Cross-entropy=0.70, Accuracy=82.3%\n"
     ]
    },
    {
     "name": "stderr",
     "output_type": "stream",
     "text": [
      "Epoch 89: 100%|██████████| 23/23 [00:00<00:00, 56.26batch/s, acc=85, loss=0.683]\n"
     ]
    },
    {
     "name": "stdout",
     "output_type": "stream",
     "text": [
      "Epoch 89 validation: Cross-entropy=0.70, Accuracy=82.3%\n"
     ]
    },
    {
     "name": "stderr",
     "output_type": "stream",
     "text": [
      "Epoch 90: 100%|██████████| 23/23 [00:00<00:00, 57.49batch/s, acc=85, loss=0.683]\n"
     ]
    },
    {
     "name": "stdout",
     "output_type": "stream",
     "text": [
      "Epoch 90 validation: Cross-entropy=0.70, Accuracy=82.3%\n"
     ]
    },
    {
     "name": "stderr",
     "output_type": "stream",
     "text": [
      "Epoch 91: 100%|██████████| 23/23 [00:00<00:00, 51.31batch/s, acc=85, loss=0.683]\n"
     ]
    },
    {
     "name": "stdout",
     "output_type": "stream",
     "text": [
      "Epoch 91 validation: Cross-entropy=0.70, Accuracy=82.3%\n"
     ]
    },
    {
     "name": "stderr",
     "output_type": "stream",
     "text": [
      "Epoch 92: 100%|██████████| 23/23 [00:00<00:00, 57.54batch/s, acc=85, loss=0.683]\n"
     ]
    },
    {
     "name": "stdout",
     "output_type": "stream",
     "text": [
      "Epoch 92 validation: Cross-entropy=0.70, Accuracy=82.3%\n"
     ]
    },
    {
     "name": "stderr",
     "output_type": "stream",
     "text": [
      "Epoch 93: 100%|██████████| 23/23 [00:00<00:00, 58.59batch/s, acc=85, loss=0.683]\n"
     ]
    },
    {
     "name": "stdout",
     "output_type": "stream",
     "text": [
      "Epoch 93 validation: Cross-entropy=0.70, Accuracy=82.3%\n"
     ]
    },
    {
     "name": "stderr",
     "output_type": "stream",
     "text": [
      "Epoch 94: 100%|██████████| 23/23 [00:00<00:00, 55.70batch/s, acc=85, loss=0.683]\n"
     ]
    },
    {
     "name": "stdout",
     "output_type": "stream",
     "text": [
      "Epoch 94 validation: Cross-entropy=0.70, Accuracy=82.3%\n"
     ]
    },
    {
     "name": "stderr",
     "output_type": "stream",
     "text": [
      "Epoch 95: 100%|██████████| 23/23 [00:00<00:00, 57.89batch/s, acc=85, loss=0.683]\n"
     ]
    },
    {
     "name": "stdout",
     "output_type": "stream",
     "text": [
      "Epoch 95 validation: Cross-entropy=0.70, Accuracy=82.3%\n"
     ]
    },
    {
     "name": "stderr",
     "output_type": "stream",
     "text": [
      "Epoch 96: 100%|██████████| 23/23 [00:00<00:00, 55.65batch/s, acc=85, loss=0.683]\n"
     ]
    },
    {
     "name": "stdout",
     "output_type": "stream",
     "text": [
      "Epoch 96 validation: Cross-entropy=0.70, Accuracy=82.3%\n"
     ]
    },
    {
     "name": "stderr",
     "output_type": "stream",
     "text": [
      "Epoch 97: 100%|██████████| 23/23 [00:00<00:00, 55.41batch/s, acc=85, loss=0.683]\n"
     ]
    },
    {
     "name": "stdout",
     "output_type": "stream",
     "text": [
      "Epoch 97 validation: Cross-entropy=0.70, Accuracy=82.3%\n"
     ]
    },
    {
     "name": "stderr",
     "output_type": "stream",
     "text": [
      "Epoch 98: 100%|██████████| 23/23 [00:00<00:00, 56.55batch/s, acc=85, loss=0.683]\n"
     ]
    },
    {
     "name": "stdout",
     "output_type": "stream",
     "text": [
      "Epoch 98 validation: Cross-entropy=0.70, Accuracy=82.3%\n"
     ]
    },
    {
     "name": "stderr",
     "output_type": "stream",
     "text": [
      "Epoch 99: 100%|██████████| 23/23 [00:00<00:00, 57.10batch/s, acc=85, loss=0.683]\n"
     ]
    },
    {
     "name": "stdout",
     "output_type": "stream",
     "text": [
      "Epoch 99 validation: Cross-entropy=0.70, Accuracy=82.3%\n"
     ]
    },
    {
     "name": "stderr",
     "output_type": "stream",
     "text": [
      "Epoch 100: 100%|█████████| 23/23 [00:00<00:00, 60.08batch/s, acc=85, loss=0.683]\n"
     ]
    },
    {
     "name": "stdout",
     "output_type": "stream",
     "text": [
      "Epoch 100 validation: Cross-entropy=0.70, Accuracy=82.3%\n"
     ]
    },
    {
     "name": "stderr",
     "output_type": "stream",
     "text": [
      "Epoch 101: 100%|█████████| 23/23 [00:00<00:00, 59.34batch/s, acc=85, loss=0.683]\n"
     ]
    },
    {
     "name": "stdout",
     "output_type": "stream",
     "text": [
      "Epoch 101 validation: Cross-entropy=0.70, Accuracy=82.3%\n"
     ]
    },
    {
     "name": "stderr",
     "output_type": "stream",
     "text": [
      "Epoch 102: 100%|█████████| 23/23 [00:00<00:00, 60.11batch/s, acc=85, loss=0.683]\n"
     ]
    },
    {
     "name": "stdout",
     "output_type": "stream",
     "text": [
      "Epoch 102 validation: Cross-entropy=0.70, Accuracy=82.3%\n"
     ]
    },
    {
     "name": "stderr",
     "output_type": "stream",
     "text": [
      "Epoch 103: 100%|█████████| 23/23 [00:00<00:00, 58.86batch/s, acc=85, loss=0.683]\n"
     ]
    },
    {
     "name": "stdout",
     "output_type": "stream",
     "text": [
      "Epoch 103 validation: Cross-entropy=0.70, Accuracy=82.3%\n"
     ]
    },
    {
     "name": "stderr",
     "output_type": "stream",
     "text": [
      "Epoch 104: 100%|█████████| 23/23 [00:00<00:00, 57.03batch/s, acc=85, loss=0.683]\n"
     ]
    },
    {
     "name": "stdout",
     "output_type": "stream",
     "text": [
      "Epoch 104 validation: Cross-entropy=0.70, Accuracy=82.3%\n"
     ]
    },
    {
     "name": "stderr",
     "output_type": "stream",
     "text": [
      "Epoch 105: 100%|█████████| 23/23 [00:00<00:00, 57.53batch/s, acc=85, loss=0.683]\n"
     ]
    },
    {
     "name": "stdout",
     "output_type": "stream",
     "text": [
      "Epoch 105 validation: Cross-entropy=0.70, Accuracy=82.3%\n"
     ]
    },
    {
     "name": "stderr",
     "output_type": "stream",
     "text": [
      "Epoch 106: 100%|█████████| 23/23 [00:00<00:00, 60.09batch/s, acc=85, loss=0.683]\n"
     ]
    },
    {
     "name": "stdout",
     "output_type": "stream",
     "text": [
      "Epoch 106 validation: Cross-entropy=0.70, Accuracy=82.3%\n"
     ]
    },
    {
     "name": "stderr",
     "output_type": "stream",
     "text": [
      "Epoch 107: 100%|█████████| 23/23 [00:00<00:00, 54.11batch/s, acc=85, loss=0.683]\n"
     ]
    },
    {
     "name": "stdout",
     "output_type": "stream",
     "text": [
      "Epoch 107 validation: Cross-entropy=0.70, Accuracy=82.3%\n"
     ]
    },
    {
     "name": "stderr",
     "output_type": "stream",
     "text": [
      "Epoch 108: 100%|█████████| 23/23 [00:00<00:00, 53.80batch/s, acc=85, loss=0.683]\n"
     ]
    },
    {
     "name": "stdout",
     "output_type": "stream",
     "text": [
      "Epoch 108 validation: Cross-entropy=0.70, Accuracy=82.3%\n"
     ]
    },
    {
     "name": "stderr",
     "output_type": "stream",
     "text": [
      "Epoch 109: 100%|█████████| 23/23 [00:00<00:00, 58.71batch/s, acc=85, loss=0.683]\n"
     ]
    },
    {
     "name": "stdout",
     "output_type": "stream",
     "text": [
      "Epoch 109 validation: Cross-entropy=0.70, Accuracy=82.3%\n"
     ]
    },
    {
     "name": "stderr",
     "output_type": "stream",
     "text": [
      "Epoch 110: 100%|█████████| 23/23 [00:00<00:00, 56.90batch/s, acc=85, loss=0.683]\n"
     ]
    },
    {
     "name": "stdout",
     "output_type": "stream",
     "text": [
      "Epoch 110 validation: Cross-entropy=0.70, Accuracy=82.3%\n"
     ]
    },
    {
     "name": "stderr",
     "output_type": "stream",
     "text": [
      "Epoch 111: 100%|█████████| 23/23 [00:00<00:00, 57.92batch/s, acc=85, loss=0.683]\n"
     ]
    },
    {
     "name": "stdout",
     "output_type": "stream",
     "text": [
      "Epoch 111 validation: Cross-entropy=0.70, Accuracy=82.3%\n"
     ]
    },
    {
     "name": "stderr",
     "output_type": "stream",
     "text": [
      "Epoch 112: 100%|█████████| 23/23 [00:00<00:00, 56.42batch/s, acc=85, loss=0.683]\n"
     ]
    },
    {
     "name": "stdout",
     "output_type": "stream",
     "text": [
      "Epoch 112 validation: Cross-entropy=0.70, Accuracy=82.3%\n"
     ]
    },
    {
     "name": "stderr",
     "output_type": "stream",
     "text": [
      "Epoch 113: 100%|█████████| 23/23 [00:00<00:00, 59.17batch/s, acc=85, loss=0.683]\n"
     ]
    },
    {
     "name": "stdout",
     "output_type": "stream",
     "text": [
      "Epoch 113 validation: Cross-entropy=0.70, Accuracy=82.3%\n"
     ]
    },
    {
     "name": "stderr",
     "output_type": "stream",
     "text": [
      "Epoch 114: 100%|█████████| 23/23 [00:00<00:00, 51.11batch/s, acc=85, loss=0.683]\n"
     ]
    },
    {
     "name": "stdout",
     "output_type": "stream",
     "text": [
      "Epoch 114 validation: Cross-entropy=0.70, Accuracy=82.3%\n"
     ]
    },
    {
     "name": "stderr",
     "output_type": "stream",
     "text": [
      "Epoch 115: 100%|█████████| 23/23 [00:00<00:00, 53.49batch/s, acc=85, loss=0.683]\n"
     ]
    },
    {
     "name": "stdout",
     "output_type": "stream",
     "text": [
      "Epoch 115 validation: Cross-entropy=0.70, Accuracy=82.3%\n"
     ]
    },
    {
     "name": "stderr",
     "output_type": "stream",
     "text": [
      "Epoch 116: 100%|█████████| 23/23 [00:00<00:00, 52.53batch/s, acc=85, loss=0.683]\n"
     ]
    },
    {
     "name": "stdout",
     "output_type": "stream",
     "text": [
      "Epoch 116 validation: Cross-entropy=0.70, Accuracy=82.3%\n"
     ]
    },
    {
     "name": "stderr",
     "output_type": "stream",
     "text": [
      "Epoch 117: 100%|█████████| 23/23 [00:00<00:00, 58.22batch/s, acc=85, loss=0.683]\n"
     ]
    },
    {
     "name": "stdout",
     "output_type": "stream",
     "text": [
      "Epoch 117 validation: Cross-entropy=0.70, Accuracy=82.3%\n"
     ]
    },
    {
     "name": "stderr",
     "output_type": "stream",
     "text": [
      "Epoch 118: 100%|█████████| 23/23 [00:00<00:00, 55.38batch/s, acc=85, loss=0.683]\n"
     ]
    },
    {
     "name": "stdout",
     "output_type": "stream",
     "text": [
      "Epoch 118 validation: Cross-entropy=0.70, Accuracy=82.3%\n"
     ]
    },
    {
     "name": "stderr",
     "output_type": "stream",
     "text": [
      "Epoch 119: 100%|█████████| 23/23 [00:00<00:00, 54.57batch/s, acc=85, loss=0.683]\n"
     ]
    },
    {
     "name": "stdout",
     "output_type": "stream",
     "text": [
      "Epoch 119 validation: Cross-entropy=0.70, Accuracy=82.3%\n"
     ]
    },
    {
     "name": "stderr",
     "output_type": "stream",
     "text": [
      "Epoch 120: 100%|█████████| 23/23 [00:00<00:00, 59.65batch/s, acc=85, loss=0.683]\n"
     ]
    },
    {
     "name": "stdout",
     "output_type": "stream",
     "text": [
      "Epoch 120 validation: Cross-entropy=0.70, Accuracy=82.3%\n"
     ]
    },
    {
     "name": "stderr",
     "output_type": "stream",
     "text": [
      "Epoch 121: 100%|█████████| 23/23 [00:00<00:00, 55.65batch/s, acc=85, loss=0.683]\n"
     ]
    },
    {
     "name": "stdout",
     "output_type": "stream",
     "text": [
      "Epoch 121 validation: Cross-entropy=0.70, Accuracy=82.3%\n"
     ]
    },
    {
     "name": "stderr",
     "output_type": "stream",
     "text": [
      "Epoch 122: 100%|█████████| 23/23 [00:00<00:00, 51.59batch/s, acc=85, loss=0.683]\n"
     ]
    },
    {
     "name": "stdout",
     "output_type": "stream",
     "text": [
      "Epoch 122 validation: Cross-entropy=0.70, Accuracy=82.3%\n"
     ]
    },
    {
     "name": "stderr",
     "output_type": "stream",
     "text": [
      "Epoch 123: 100%|█████████| 23/23 [00:00<00:00, 57.52batch/s, acc=85, loss=0.683]\n"
     ]
    },
    {
     "name": "stdout",
     "output_type": "stream",
     "text": [
      "Epoch 123 validation: Cross-entropy=0.70, Accuracy=82.3%\n"
     ]
    },
    {
     "name": "stderr",
     "output_type": "stream",
     "text": [
      "Epoch 124: 100%|█████████| 23/23 [00:00<00:00, 58.23batch/s, acc=85, loss=0.683]\n"
     ]
    },
    {
     "name": "stdout",
     "output_type": "stream",
     "text": [
      "Epoch 124 validation: Cross-entropy=0.70, Accuracy=82.3%\n"
     ]
    },
    {
     "name": "stderr",
     "output_type": "stream",
     "text": [
      "Epoch 125: 100%|█████████| 23/23 [00:00<00:00, 55.37batch/s, acc=85, loss=0.683]\n"
     ]
    },
    {
     "name": "stdout",
     "output_type": "stream",
     "text": [
      "Epoch 125 validation: Cross-entropy=0.70, Accuracy=82.3%\n"
     ]
    },
    {
     "name": "stderr",
     "output_type": "stream",
     "text": [
      "Epoch 126: 100%|█████████| 23/23 [00:00<00:00, 56.45batch/s, acc=85, loss=0.683]\n"
     ]
    },
    {
     "name": "stdout",
     "output_type": "stream",
     "text": [
      "Epoch 126 validation: Cross-entropy=0.70, Accuracy=82.3%\n"
     ]
    },
    {
     "name": "stderr",
     "output_type": "stream",
     "text": [
      "Epoch 127: 100%|█████████| 23/23 [00:00<00:00, 57.31batch/s, acc=85, loss=0.683]\n"
     ]
    },
    {
     "name": "stdout",
     "output_type": "stream",
     "text": [
      "Epoch 127 validation: Cross-entropy=0.70, Accuracy=82.3%\n"
     ]
    },
    {
     "name": "stderr",
     "output_type": "stream",
     "text": [
      "Epoch 128: 100%|█████████| 23/23 [00:00<00:00, 61.10batch/s, acc=85, loss=0.683]\n"
     ]
    },
    {
     "name": "stdout",
     "output_type": "stream",
     "text": [
      "Epoch 128 validation: Cross-entropy=0.70, Accuracy=82.3%\n"
     ]
    },
    {
     "name": "stderr",
     "output_type": "stream",
     "text": [
      "Epoch 129: 100%|█████████| 23/23 [00:00<00:00, 56.40batch/s, acc=85, loss=0.683]\n"
     ]
    },
    {
     "name": "stdout",
     "output_type": "stream",
     "text": [
      "Epoch 129 validation: Cross-entropy=0.70, Accuracy=82.3%\n"
     ]
    },
    {
     "name": "stderr",
     "output_type": "stream",
     "text": [
      "Epoch 130: 100%|█████████| 23/23 [00:00<00:00, 55.42batch/s, acc=85, loss=0.683]\n"
     ]
    },
    {
     "name": "stdout",
     "output_type": "stream",
     "text": [
      "Epoch 130 validation: Cross-entropy=0.70, Accuracy=82.3%\n"
     ]
    },
    {
     "name": "stderr",
     "output_type": "stream",
     "text": [
      "Epoch 131: 100%|█████████| 23/23 [00:00<00:00, 56.63batch/s, acc=85, loss=0.683]\n"
     ]
    },
    {
     "name": "stdout",
     "output_type": "stream",
     "text": [
      "Epoch 131 validation: Cross-entropy=0.70, Accuracy=82.3%\n"
     ]
    },
    {
     "name": "stderr",
     "output_type": "stream",
     "text": [
      "Epoch 132: 100%|█████████| 23/23 [00:00<00:00, 53.42batch/s, acc=85, loss=0.683]\n"
     ]
    },
    {
     "name": "stdout",
     "output_type": "stream",
     "text": [
      "Epoch 132 validation: Cross-entropy=0.70, Accuracy=82.3%\n"
     ]
    },
    {
     "name": "stderr",
     "output_type": "stream",
     "text": [
      "Epoch 133: 100%|█████████| 23/23 [00:00<00:00, 58.01batch/s, acc=85, loss=0.683]\n"
     ]
    },
    {
     "name": "stdout",
     "output_type": "stream",
     "text": [
      "Epoch 133 validation: Cross-entropy=0.70, Accuracy=82.3%\n"
     ]
    },
    {
     "name": "stderr",
     "output_type": "stream",
     "text": [
      "Epoch 134: 100%|█████████| 23/23 [00:00<00:00, 53.31batch/s, acc=85, loss=0.683]\n"
     ]
    },
    {
     "name": "stdout",
     "output_type": "stream",
     "text": [
      "Epoch 134 validation: Cross-entropy=0.70, Accuracy=82.3%\n"
     ]
    },
    {
     "name": "stderr",
     "output_type": "stream",
     "text": [
      "Epoch 135: 100%|█████████| 23/23 [00:00<00:00, 58.95batch/s, acc=85, loss=0.683]\n"
     ]
    },
    {
     "name": "stdout",
     "output_type": "stream",
     "text": [
      "Epoch 135 validation: Cross-entropy=0.70, Accuracy=82.3%\n"
     ]
    },
    {
     "name": "stderr",
     "output_type": "stream",
     "text": [
      "Epoch 136: 100%|█████████| 23/23 [00:00<00:00, 54.59batch/s, acc=85, loss=0.683]\n"
     ]
    },
    {
     "name": "stdout",
     "output_type": "stream",
     "text": [
      "Epoch 136 validation: Cross-entropy=0.70, Accuracy=82.3%\n"
     ]
    },
    {
     "name": "stderr",
     "output_type": "stream",
     "text": [
      "Epoch 137: 100%|█████████| 23/23 [00:00<00:00, 59.26batch/s, acc=85, loss=0.683]\n"
     ]
    },
    {
     "name": "stdout",
     "output_type": "stream",
     "text": [
      "Epoch 137 validation: Cross-entropy=0.70, Accuracy=82.3%\n"
     ]
    },
    {
     "name": "stderr",
     "output_type": "stream",
     "text": [
      "Epoch 138: 100%|█████████| 23/23 [00:00<00:00, 54.66batch/s, acc=85, loss=0.683]\n"
     ]
    },
    {
     "name": "stdout",
     "output_type": "stream",
     "text": [
      "Epoch 138 validation: Cross-entropy=0.70, Accuracy=82.3%\n"
     ]
    },
    {
     "name": "stderr",
     "output_type": "stream",
     "text": [
      "Epoch 139: 100%|█████████| 23/23 [00:00<00:00, 54.50batch/s, acc=85, loss=0.683]\n"
     ]
    },
    {
     "name": "stdout",
     "output_type": "stream",
     "text": [
      "Epoch 139 validation: Cross-entropy=0.70, Accuracy=82.3%\n"
     ]
    },
    {
     "name": "stderr",
     "output_type": "stream",
     "text": [
      "Epoch 140: 100%|█████████| 23/23 [00:00<00:00, 55.28batch/s, acc=85, loss=0.683]\n"
     ]
    },
    {
     "name": "stdout",
     "output_type": "stream",
     "text": [
      "Epoch 140 validation: Cross-entropy=0.70, Accuracy=82.3%\n"
     ]
    },
    {
     "name": "stderr",
     "output_type": "stream",
     "text": [
      "Epoch 141: 100%|█████████| 23/23 [00:00<00:00, 53.76batch/s, acc=85, loss=0.683]\n"
     ]
    },
    {
     "name": "stdout",
     "output_type": "stream",
     "text": [
      "Epoch 141 validation: Cross-entropy=0.70, Accuracy=82.3%\n"
     ]
    },
    {
     "name": "stderr",
     "output_type": "stream",
     "text": [
      "Epoch 142: 100%|█████████| 23/23 [00:00<00:00, 56.83batch/s, acc=85, loss=0.683]\n"
     ]
    },
    {
     "name": "stdout",
     "output_type": "stream",
     "text": [
      "Epoch 142 validation: Cross-entropy=0.70, Accuracy=82.3%\n"
     ]
    },
    {
     "name": "stderr",
     "output_type": "stream",
     "text": [
      "Epoch 143: 100%|█████████| 23/23 [00:00<00:00, 56.13batch/s, acc=85, loss=0.683]\n"
     ]
    },
    {
     "name": "stdout",
     "output_type": "stream",
     "text": [
      "Epoch 143 validation: Cross-entropy=0.70, Accuracy=82.3%\n"
     ]
    },
    {
     "name": "stderr",
     "output_type": "stream",
     "text": [
      "Epoch 144: 100%|█████████| 23/23 [00:00<00:00, 58.26batch/s, acc=85, loss=0.683]\n"
     ]
    },
    {
     "name": "stdout",
     "output_type": "stream",
     "text": [
      "Epoch 144 validation: Cross-entropy=0.70, Accuracy=82.3%\n"
     ]
    },
    {
     "name": "stderr",
     "output_type": "stream",
     "text": [
      "Epoch 145: 100%|█████████| 23/23 [00:00<00:00, 55.32batch/s, acc=85, loss=0.683]\n"
     ]
    },
    {
     "name": "stdout",
     "output_type": "stream",
     "text": [
      "Epoch 145 validation: Cross-entropy=0.70, Accuracy=82.3%\n"
     ]
    },
    {
     "name": "stderr",
     "output_type": "stream",
     "text": [
      "Epoch 146: 100%|█████████| 23/23 [00:00<00:00, 57.56batch/s, acc=85, loss=0.683]\n"
     ]
    },
    {
     "name": "stdout",
     "output_type": "stream",
     "text": [
      "Epoch 146 validation: Cross-entropy=0.70, Accuracy=82.3%\n"
     ]
    },
    {
     "name": "stderr",
     "output_type": "stream",
     "text": [
      "Epoch 147: 100%|█████████| 23/23 [00:00<00:00, 58.54batch/s, acc=85, loss=0.683]\n"
     ]
    },
    {
     "name": "stdout",
     "output_type": "stream",
     "text": [
      "Epoch 147 validation: Cross-entropy=0.70, Accuracy=82.3%\n"
     ]
    },
    {
     "name": "stderr",
     "output_type": "stream",
     "text": [
      "Epoch 148: 100%|█████████| 23/23 [00:00<00:00, 56.41batch/s, acc=85, loss=0.683]\n"
     ]
    },
    {
     "name": "stdout",
     "output_type": "stream",
     "text": [
      "Epoch 148 validation: Cross-entropy=0.70, Accuracy=82.3%\n"
     ]
    },
    {
     "name": "stderr",
     "output_type": "stream",
     "text": [
      "Epoch 149: 100%|█████████| 23/23 [00:00<00:00, 60.13batch/s, acc=85, loss=0.683]\n"
     ]
    },
    {
     "name": "stdout",
     "output_type": "stream",
     "text": [
      "Epoch 149 validation: Cross-entropy=0.70, Accuracy=82.3%\n"
     ]
    },
    {
     "name": "stderr",
     "output_type": "stream",
     "text": [
      "Epoch 150: 100%|█████████| 23/23 [00:00<00:00, 61.60batch/s, acc=85, loss=0.683]\n"
     ]
    },
    {
     "name": "stdout",
     "output_type": "stream",
     "text": [
      "Epoch 150 validation: Cross-entropy=0.70, Accuracy=82.3%\n"
     ]
    },
    {
     "name": "stderr",
     "output_type": "stream",
     "text": [
      "Epoch 151: 100%|█████████| 23/23 [00:00<00:00, 58.61batch/s, acc=85, loss=0.683]\n"
     ]
    },
    {
     "name": "stdout",
     "output_type": "stream",
     "text": [
      "Epoch 151 validation: Cross-entropy=0.70, Accuracy=82.3%\n"
     ]
    },
    {
     "name": "stderr",
     "output_type": "stream",
     "text": [
      "Epoch 152: 100%|█████████| 23/23 [00:00<00:00, 60.83batch/s, acc=85, loss=0.683]\n"
     ]
    },
    {
     "name": "stdout",
     "output_type": "stream",
     "text": [
      "Epoch 152 validation: Cross-entropy=0.70, Accuracy=82.3%\n"
     ]
    },
    {
     "name": "stderr",
     "output_type": "stream",
     "text": [
      "Epoch 153: 100%|█████████| 23/23 [00:00<00:00, 53.93batch/s, acc=85, loss=0.683]\n"
     ]
    },
    {
     "name": "stdout",
     "output_type": "stream",
     "text": [
      "Epoch 153 validation: Cross-entropy=0.70, Accuracy=82.3%\n"
     ]
    },
    {
     "name": "stderr",
     "output_type": "stream",
     "text": [
      "Epoch 154: 100%|█████████| 23/23 [00:00<00:00, 56.10batch/s, acc=85, loss=0.683]\n"
     ]
    },
    {
     "name": "stdout",
     "output_type": "stream",
     "text": [
      "Epoch 154 validation: Cross-entropy=0.70, Accuracy=82.3%\n"
     ]
    },
    {
     "name": "stderr",
     "output_type": "stream",
     "text": [
      "Epoch 155: 100%|█████████| 23/23 [00:00<00:00, 57.05batch/s, acc=85, loss=0.683]\n"
     ]
    },
    {
     "name": "stdout",
     "output_type": "stream",
     "text": [
      "Epoch 155 validation: Cross-entropy=0.70, Accuracy=82.3%\n"
     ]
    },
    {
     "name": "stderr",
     "output_type": "stream",
     "text": [
      "Epoch 156: 100%|█████████| 23/23 [00:00<00:00, 58.67batch/s, acc=85, loss=0.683]\n"
     ]
    },
    {
     "name": "stdout",
     "output_type": "stream",
     "text": [
      "Epoch 156 validation: Cross-entropy=0.70, Accuracy=82.3%\n"
     ]
    },
    {
     "name": "stderr",
     "output_type": "stream",
     "text": [
      "Epoch 157: 100%|█████████| 23/23 [00:00<00:00, 58.02batch/s, acc=85, loss=0.683]\n"
     ]
    },
    {
     "name": "stdout",
     "output_type": "stream",
     "text": [
      "Epoch 157 validation: Cross-entropy=0.70, Accuracy=82.3%\n"
     ]
    },
    {
     "name": "stderr",
     "output_type": "stream",
     "text": [
      "Epoch 158: 100%|█████████| 23/23 [00:00<00:00, 62.80batch/s, acc=85, loss=0.683]\n"
     ]
    },
    {
     "name": "stdout",
     "output_type": "stream",
     "text": [
      "Epoch 158 validation: Cross-entropy=0.70, Accuracy=82.3%\n"
     ]
    },
    {
     "name": "stderr",
     "output_type": "stream",
     "text": [
      "Epoch 159: 100%|█████████| 23/23 [00:00<00:00, 53.77batch/s, acc=85, loss=0.683]\n"
     ]
    },
    {
     "name": "stdout",
     "output_type": "stream",
     "text": [
      "Epoch 159 validation: Cross-entropy=0.70, Accuracy=82.3%\n"
     ]
    },
    {
     "name": "stderr",
     "output_type": "stream",
     "text": [
      "Epoch 160: 100%|█████████| 23/23 [00:00<00:00, 56.98batch/s, acc=85, loss=0.683]\n"
     ]
    },
    {
     "name": "stdout",
     "output_type": "stream",
     "text": [
      "Epoch 160 validation: Cross-entropy=0.70, Accuracy=82.3%\n"
     ]
    },
    {
     "name": "stderr",
     "output_type": "stream",
     "text": [
      "Epoch 161: 100%|█████████| 23/23 [00:00<00:00, 57.15batch/s, acc=85, loss=0.683]\n"
     ]
    },
    {
     "name": "stdout",
     "output_type": "stream",
     "text": [
      "Epoch 161 validation: Cross-entropy=0.70, Accuracy=82.3%\n"
     ]
    },
    {
     "name": "stderr",
     "output_type": "stream",
     "text": [
      "Epoch 162: 100%|█████████| 23/23 [00:00<00:00, 58.44batch/s, acc=85, loss=0.683]\n"
     ]
    },
    {
     "name": "stdout",
     "output_type": "stream",
     "text": [
      "Epoch 162 validation: Cross-entropy=0.70, Accuracy=82.3%\n"
     ]
    },
    {
     "name": "stderr",
     "output_type": "stream",
     "text": [
      "Epoch 163: 100%|█████████| 23/23 [00:00<00:00, 57.32batch/s, acc=85, loss=0.683]\n"
     ]
    },
    {
     "name": "stdout",
     "output_type": "stream",
     "text": [
      "Epoch 163 validation: Cross-entropy=0.70, Accuracy=82.3%\n"
     ]
    },
    {
     "name": "stderr",
     "output_type": "stream",
     "text": [
      "Epoch 164: 100%|█████████| 23/23 [00:00<00:00, 53.24batch/s, acc=85, loss=0.683]\n"
     ]
    },
    {
     "name": "stdout",
     "output_type": "stream",
     "text": [
      "Epoch 164 validation: Cross-entropy=0.70, Accuracy=82.3%\n"
     ]
    },
    {
     "name": "stderr",
     "output_type": "stream",
     "text": [
      "Epoch 165: 100%|█████████| 23/23 [00:00<00:00, 60.11batch/s, acc=85, loss=0.683]\n"
     ]
    },
    {
     "name": "stdout",
     "output_type": "stream",
     "text": [
      "Epoch 165 validation: Cross-entropy=0.70, Accuracy=82.3%\n"
     ]
    },
    {
     "name": "stderr",
     "output_type": "stream",
     "text": [
      "Epoch 166: 100%|█████████| 23/23 [00:00<00:00, 57.77batch/s, acc=85, loss=0.683]\n"
     ]
    },
    {
     "name": "stdout",
     "output_type": "stream",
     "text": [
      "Epoch 166 validation: Cross-entropy=0.70, Accuracy=82.3%\n"
     ]
    },
    {
     "name": "stderr",
     "output_type": "stream",
     "text": [
      "Epoch 167: 100%|█████████| 23/23 [00:00<00:00, 56.81batch/s, acc=85, loss=0.683]\n"
     ]
    },
    {
     "name": "stdout",
     "output_type": "stream",
     "text": [
      "Epoch 167 validation: Cross-entropy=0.70, Accuracy=82.3%\n"
     ]
    },
    {
     "name": "stderr",
     "output_type": "stream",
     "text": [
      "Epoch 168: 100%|█████████| 23/23 [00:00<00:00, 57.25batch/s, acc=85, loss=0.683]\n"
     ]
    },
    {
     "name": "stdout",
     "output_type": "stream",
     "text": [
      "Epoch 168 validation: Cross-entropy=0.70, Accuracy=82.3%\n"
     ]
    },
    {
     "name": "stderr",
     "output_type": "stream",
     "text": [
      "Epoch 169: 100%|█████████| 23/23 [00:00<00:00, 58.29batch/s, acc=85, loss=0.683]\n"
     ]
    },
    {
     "name": "stdout",
     "output_type": "stream",
     "text": [
      "Epoch 169 validation: Cross-entropy=0.70, Accuracy=82.3%\n"
     ]
    },
    {
     "name": "stderr",
     "output_type": "stream",
     "text": [
      "Epoch 170: 100%|█████████| 23/23 [00:00<00:00, 58.54batch/s, acc=85, loss=0.683]\n"
     ]
    },
    {
     "name": "stdout",
     "output_type": "stream",
     "text": [
      "Epoch 170 validation: Cross-entropy=0.70, Accuracy=82.3%\n"
     ]
    },
    {
     "name": "stderr",
     "output_type": "stream",
     "text": [
      "Epoch 171: 100%|█████████| 23/23 [00:00<00:00, 52.89batch/s, acc=85, loss=0.683]\n"
     ]
    },
    {
     "name": "stdout",
     "output_type": "stream",
     "text": [
      "Epoch 171 validation: Cross-entropy=0.70, Accuracy=82.3%\n"
     ]
    },
    {
     "name": "stderr",
     "output_type": "stream",
     "text": [
      "Epoch 172: 100%|█████████| 23/23 [00:00<00:00, 55.04batch/s, acc=85, loss=0.683]\n"
     ]
    },
    {
     "name": "stdout",
     "output_type": "stream",
     "text": [
      "Epoch 172 validation: Cross-entropy=0.70, Accuracy=82.3%\n"
     ]
    },
    {
     "name": "stderr",
     "output_type": "stream",
     "text": [
      "Epoch 173: 100%|█████████| 23/23 [00:00<00:00, 55.80batch/s, acc=85, loss=0.683]\n"
     ]
    },
    {
     "name": "stdout",
     "output_type": "stream",
     "text": [
      "Epoch 173 validation: Cross-entropy=0.70, Accuracy=82.3%\n"
     ]
    },
    {
     "name": "stderr",
     "output_type": "stream",
     "text": [
      "Epoch 174: 100%|█████████| 23/23 [00:00<00:00, 55.51batch/s, acc=85, loss=0.683]\n"
     ]
    },
    {
     "name": "stdout",
     "output_type": "stream",
     "text": [
      "Epoch 174 validation: Cross-entropy=0.70, Accuracy=82.3%\n"
     ]
    },
    {
     "name": "stderr",
     "output_type": "stream",
     "text": [
      "Epoch 175: 100%|█████████| 23/23 [00:00<00:00, 58.24batch/s, acc=85, loss=0.683]\n"
     ]
    },
    {
     "name": "stdout",
     "output_type": "stream",
     "text": [
      "Epoch 175 validation: Cross-entropy=0.70, Accuracy=82.3%\n"
     ]
    },
    {
     "name": "stderr",
     "output_type": "stream",
     "text": [
      "Epoch 176: 100%|█████████| 23/23 [00:00<00:00, 57.57batch/s, acc=85, loss=0.683]\n"
     ]
    },
    {
     "name": "stdout",
     "output_type": "stream",
     "text": [
      "Epoch 176 validation: Cross-entropy=0.70, Accuracy=82.3%\n"
     ]
    },
    {
     "name": "stderr",
     "output_type": "stream",
     "text": [
      "Epoch 177: 100%|█████████| 23/23 [00:00<00:00, 57.12batch/s, acc=85, loss=0.683]\n"
     ]
    },
    {
     "name": "stdout",
     "output_type": "stream",
     "text": [
      "Epoch 177 validation: Cross-entropy=0.70, Accuracy=82.3%\n"
     ]
    },
    {
     "name": "stderr",
     "output_type": "stream",
     "text": [
      "Epoch 178: 100%|█████████| 23/23 [00:00<00:00, 61.46batch/s, acc=85, loss=0.683]\n"
     ]
    },
    {
     "name": "stdout",
     "output_type": "stream",
     "text": [
      "Epoch 178 validation: Cross-entropy=0.70, Accuracy=82.3%\n"
     ]
    },
    {
     "name": "stderr",
     "output_type": "stream",
     "text": [
      "Epoch 179: 100%|█████████| 23/23 [00:00<00:00, 56.51batch/s, acc=85, loss=0.683]\n"
     ]
    },
    {
     "name": "stdout",
     "output_type": "stream",
     "text": [
      "Epoch 179 validation: Cross-entropy=0.70, Accuracy=82.3%\n"
     ]
    },
    {
     "name": "stderr",
     "output_type": "stream",
     "text": [
      "Epoch 180: 100%|█████████| 23/23 [00:00<00:00, 57.62batch/s, acc=85, loss=0.683]\n"
     ]
    },
    {
     "name": "stdout",
     "output_type": "stream",
     "text": [
      "Epoch 180 validation: Cross-entropy=0.70, Accuracy=82.3%\n"
     ]
    },
    {
     "name": "stderr",
     "output_type": "stream",
     "text": [
      "Epoch 181: 100%|█████████| 23/23 [00:00<00:00, 56.05batch/s, acc=85, loss=0.683]\n"
     ]
    },
    {
     "name": "stdout",
     "output_type": "stream",
     "text": [
      "Epoch 181 validation: Cross-entropy=0.70, Accuracy=82.3%\n"
     ]
    },
    {
     "name": "stderr",
     "output_type": "stream",
     "text": [
      "Epoch 182: 100%|█████████| 23/23 [00:00<00:00, 56.86batch/s, acc=85, loss=0.683]\n"
     ]
    },
    {
     "name": "stdout",
     "output_type": "stream",
     "text": [
      "Epoch 182 validation: Cross-entropy=0.70, Accuracy=82.3%\n"
     ]
    },
    {
     "name": "stderr",
     "output_type": "stream",
     "text": [
      "Epoch 183: 100%|█████████| 23/23 [00:00<00:00, 57.32batch/s, acc=85, loss=0.683]\n"
     ]
    },
    {
     "name": "stdout",
     "output_type": "stream",
     "text": [
      "Epoch 183 validation: Cross-entropy=0.70, Accuracy=82.3%\n"
     ]
    },
    {
     "name": "stderr",
     "output_type": "stream",
     "text": [
      "Epoch 184: 100%|█████████| 23/23 [00:00<00:00, 54.32batch/s, acc=85, loss=0.683]\n"
     ]
    },
    {
     "name": "stdout",
     "output_type": "stream",
     "text": [
      "Epoch 184 validation: Cross-entropy=0.70, Accuracy=82.3%\n"
     ]
    },
    {
     "name": "stderr",
     "output_type": "stream",
     "text": [
      "Epoch 185: 100%|█████████| 23/23 [00:00<00:00, 57.88batch/s, acc=85, loss=0.683]\n"
     ]
    },
    {
     "name": "stdout",
     "output_type": "stream",
     "text": [
      "Epoch 185 validation: Cross-entropy=0.70, Accuracy=82.3%\n"
     ]
    },
    {
     "name": "stderr",
     "output_type": "stream",
     "text": [
      "Epoch 186: 100%|█████████| 23/23 [00:00<00:00, 53.62batch/s, acc=85, loss=0.683]\n"
     ]
    },
    {
     "name": "stdout",
     "output_type": "stream",
     "text": [
      "Epoch 186 validation: Cross-entropy=0.70, Accuracy=82.3%\n"
     ]
    },
    {
     "name": "stderr",
     "output_type": "stream",
     "text": [
      "Epoch 187: 100%|█████████| 23/23 [00:00<00:00, 57.00batch/s, acc=85, loss=0.683]\n"
     ]
    },
    {
     "name": "stdout",
     "output_type": "stream",
     "text": [
      "Epoch 187 validation: Cross-entropy=0.70, Accuracy=82.3%\n"
     ]
    },
    {
     "name": "stderr",
     "output_type": "stream",
     "text": [
      "Epoch 188: 100%|█████████| 23/23 [00:00<00:00, 56.15batch/s, acc=85, loss=0.683]\n"
     ]
    },
    {
     "name": "stdout",
     "output_type": "stream",
     "text": [
      "Epoch 188 validation: Cross-entropy=0.70, Accuracy=82.3%\n"
     ]
    },
    {
     "name": "stderr",
     "output_type": "stream",
     "text": [
      "Epoch 189: 100%|█████████| 23/23 [00:00<00:00, 54.54batch/s, acc=85, loss=0.683]\n"
     ]
    },
    {
     "name": "stdout",
     "output_type": "stream",
     "text": [
      "Epoch 189 validation: Cross-entropy=0.70, Accuracy=82.3%\n"
     ]
    },
    {
     "name": "stderr",
     "output_type": "stream",
     "text": [
      "Epoch 190: 100%|█████████| 23/23 [00:00<00:00, 54.90batch/s, acc=85, loss=0.683]\n"
     ]
    },
    {
     "name": "stdout",
     "output_type": "stream",
     "text": [
      "Epoch 190 validation: Cross-entropy=0.70, Accuracy=82.3%\n"
     ]
    },
    {
     "name": "stderr",
     "output_type": "stream",
     "text": [
      "Epoch 191: 100%|█████████| 23/23 [00:00<00:00, 56.34batch/s, acc=85, loss=0.683]\n"
     ]
    },
    {
     "name": "stdout",
     "output_type": "stream",
     "text": [
      "Epoch 191 validation: Cross-entropy=0.70, Accuracy=82.3%\n"
     ]
    },
    {
     "name": "stderr",
     "output_type": "stream",
     "text": [
      "Epoch 192: 100%|█████████| 23/23 [00:00<00:00, 58.80batch/s, acc=85, loss=0.683]\n"
     ]
    },
    {
     "name": "stdout",
     "output_type": "stream",
     "text": [
      "Epoch 192 validation: Cross-entropy=0.70, Accuracy=82.3%\n"
     ]
    },
    {
     "name": "stderr",
     "output_type": "stream",
     "text": [
      "Epoch 193: 100%|█████████| 23/23 [00:00<00:00, 56.90batch/s, acc=85, loss=0.683]\n"
     ]
    },
    {
     "name": "stdout",
     "output_type": "stream",
     "text": [
      "Epoch 193 validation: Cross-entropy=0.70, Accuracy=82.3%\n"
     ]
    },
    {
     "name": "stderr",
     "output_type": "stream",
     "text": [
      "Epoch 194: 100%|█████████| 23/23 [00:00<00:00, 54.11batch/s, acc=85, loss=0.683]\n"
     ]
    },
    {
     "name": "stdout",
     "output_type": "stream",
     "text": [
      "Epoch 194 validation: Cross-entropy=0.70, Accuracy=82.3%\n"
     ]
    },
    {
     "name": "stderr",
     "output_type": "stream",
     "text": [
      "Epoch 195: 100%|█████████| 23/23 [00:00<00:00, 56.77batch/s, acc=85, loss=0.683]\n"
     ]
    },
    {
     "name": "stdout",
     "output_type": "stream",
     "text": [
      "Epoch 195 validation: Cross-entropy=0.70, Accuracy=82.3%\n"
     ]
    },
    {
     "name": "stderr",
     "output_type": "stream",
     "text": [
      "Epoch 196: 100%|█████████| 23/23 [00:00<00:00, 57.98batch/s, acc=85, loss=0.683]\n"
     ]
    },
    {
     "name": "stdout",
     "output_type": "stream",
     "text": [
      "Epoch 196 validation: Cross-entropy=0.70, Accuracy=82.3%\n"
     ]
    },
    {
     "name": "stderr",
     "output_type": "stream",
     "text": [
      "Epoch 197: 100%|█████████| 23/23 [00:00<00:00, 56.62batch/s, acc=85, loss=0.683]\n"
     ]
    },
    {
     "name": "stdout",
     "output_type": "stream",
     "text": [
      "Epoch 197 validation: Cross-entropy=0.70, Accuracy=82.3%\n"
     ]
    },
    {
     "name": "stderr",
     "output_type": "stream",
     "text": [
      "Epoch 198: 100%|█████████| 23/23 [00:00<00:00, 60.21batch/s, acc=85, loss=0.683]\n"
     ]
    },
    {
     "name": "stdout",
     "output_type": "stream",
     "text": [
      "Epoch 198 validation: Cross-entropy=0.70, Accuracy=82.3%\n"
     ]
    },
    {
     "name": "stderr",
     "output_type": "stream",
     "text": [
      "Epoch 199: 100%|█████████| 23/23 [00:00<00:00, 56.33batch/s, acc=85, loss=0.683]\n"
     ]
    },
    {
     "name": "stdout",
     "output_type": "stream",
     "text": [
      "Epoch 199 validation: Cross-entropy=0.70, Accuracy=82.3%\n"
     ]
    },
    {
     "name": "stderr",
     "output_type": "stream",
     "text": [
      "Epoch 200: 100%|█████████| 23/23 [00:00<00:00, 58.00batch/s, acc=85, loss=0.683]\n"
     ]
    },
    {
     "name": "stdout",
     "output_type": "stream",
     "text": [
      "Epoch 200 validation: Cross-entropy=0.70, Accuracy=82.3%\n"
     ]
    },
    {
     "name": "stderr",
     "output_type": "stream",
     "text": [
      "Epoch 201: 100%|█████████| 23/23 [00:00<00:00, 58.76batch/s, acc=85, loss=0.683]\n"
     ]
    },
    {
     "name": "stdout",
     "output_type": "stream",
     "text": [
      "Epoch 201 validation: Cross-entropy=0.70, Accuracy=82.3%\n"
     ]
    },
    {
     "name": "stderr",
     "output_type": "stream",
     "text": [
      "Epoch 202: 100%|█████████| 23/23 [00:00<00:00, 61.15batch/s, acc=85, loss=0.683]\n"
     ]
    },
    {
     "name": "stdout",
     "output_type": "stream",
     "text": [
      "Epoch 202 validation: Cross-entropy=0.70, Accuracy=82.3%\n"
     ]
    },
    {
     "name": "stderr",
     "output_type": "stream",
     "text": [
      "Epoch 203: 100%|█████████| 23/23 [00:00<00:00, 58.72batch/s, acc=85, loss=0.683]\n"
     ]
    },
    {
     "name": "stdout",
     "output_type": "stream",
     "text": [
      "Epoch 203 validation: Cross-entropy=0.70, Accuracy=82.3%\n"
     ]
    },
    {
     "name": "stderr",
     "output_type": "stream",
     "text": [
      "Epoch 204: 100%|█████████| 23/23 [00:00<00:00, 58.40batch/s, acc=85, loss=0.683]\n"
     ]
    },
    {
     "name": "stdout",
     "output_type": "stream",
     "text": [
      "Epoch 204 validation: Cross-entropy=0.70, Accuracy=82.3%\n"
     ]
    },
    {
     "name": "stderr",
     "output_type": "stream",
     "text": [
      "Epoch 205: 100%|█████████| 23/23 [00:00<00:00, 55.80batch/s, acc=85, loss=0.683]\n"
     ]
    },
    {
     "name": "stdout",
     "output_type": "stream",
     "text": [
      "Epoch 205 validation: Cross-entropy=0.70, Accuracy=82.3%\n"
     ]
    },
    {
     "name": "stderr",
     "output_type": "stream",
     "text": [
      "Epoch 206: 100%|█████████| 23/23 [00:00<00:00, 59.41batch/s, acc=85, loss=0.683]\n"
     ]
    },
    {
     "name": "stdout",
     "output_type": "stream",
     "text": [
      "Epoch 206 validation: Cross-entropy=0.70, Accuracy=82.3%\n"
     ]
    },
    {
     "name": "stderr",
     "output_type": "stream",
     "text": [
      "Epoch 207: 100%|█████████| 23/23 [00:00<00:00, 58.94batch/s, acc=85, loss=0.683]\n"
     ]
    },
    {
     "name": "stdout",
     "output_type": "stream",
     "text": [
      "Epoch 207 validation: Cross-entropy=0.70, Accuracy=82.3%\n"
     ]
    },
    {
     "name": "stderr",
     "output_type": "stream",
     "text": [
      "Epoch 208: 100%|█████████| 23/23 [00:00<00:00, 57.92batch/s, acc=85, loss=0.683]\n"
     ]
    },
    {
     "name": "stdout",
     "output_type": "stream",
     "text": [
      "Epoch 208 validation: Cross-entropy=0.70, Accuracy=82.3%\n"
     ]
    },
    {
     "name": "stderr",
     "output_type": "stream",
     "text": [
      "Epoch 209: 100%|█████████| 23/23 [00:00<00:00, 56.25batch/s, acc=85, loss=0.683]\n"
     ]
    },
    {
     "name": "stdout",
     "output_type": "stream",
     "text": [
      "Epoch 209 validation: Cross-entropy=0.70, Accuracy=82.3%\n"
     ]
    },
    {
     "name": "stderr",
     "output_type": "stream",
     "text": [
      "Epoch 210: 100%|█████████| 23/23 [00:00<00:00, 57.00batch/s, acc=85, loss=0.683]\n"
     ]
    },
    {
     "name": "stdout",
     "output_type": "stream",
     "text": [
      "Epoch 210 validation: Cross-entropy=0.70, Accuracy=82.3%\n"
     ]
    },
    {
     "name": "stderr",
     "output_type": "stream",
     "text": [
      "Epoch 211: 100%|█████████| 23/23 [00:00<00:00, 54.78batch/s, acc=85, loss=0.683]\n"
     ]
    },
    {
     "name": "stdout",
     "output_type": "stream",
     "text": [
      "Epoch 211 validation: Cross-entropy=0.70, Accuracy=82.3%\n"
     ]
    },
    {
     "name": "stderr",
     "output_type": "stream",
     "text": [
      "Epoch 212: 100%|█████████| 23/23 [00:00<00:00, 58.05batch/s, acc=85, loss=0.683]\n"
     ]
    },
    {
     "name": "stdout",
     "output_type": "stream",
     "text": [
      "Epoch 212 validation: Cross-entropy=0.70, Accuracy=82.3%\n"
     ]
    },
    {
     "name": "stderr",
     "output_type": "stream",
     "text": [
      "Epoch 213: 100%|███████| 23/23 [00:00<00:00, 53.26batch/s, acc=85.3, loss=0.683]\n"
     ]
    },
    {
     "name": "stdout",
     "output_type": "stream",
     "text": [
      "Epoch 213 validation: Cross-entropy=0.70, Accuracy=82.3%\n"
     ]
    },
    {
     "name": "stderr",
     "output_type": "stream",
     "text": [
      "Epoch 214: 100%|███████| 23/23 [00:00<00:00, 57.10batch/s, acc=85.3, loss=0.683]\n"
     ]
    },
    {
     "name": "stdout",
     "output_type": "stream",
     "text": [
      "Epoch 214 validation: Cross-entropy=0.70, Accuracy=82.3%\n"
     ]
    },
    {
     "name": "stderr",
     "output_type": "stream",
     "text": [
      "Epoch 215: 100%|███████| 23/23 [00:00<00:00, 53.62batch/s, acc=85.3, loss=0.683]\n"
     ]
    },
    {
     "name": "stdout",
     "output_type": "stream",
     "text": [
      "Epoch 215 validation: Cross-entropy=0.70, Accuracy=82.3%\n"
     ]
    },
    {
     "name": "stderr",
     "output_type": "stream",
     "text": [
      "Epoch 216: 100%|███████| 23/23 [00:00<00:00, 56.57batch/s, acc=85.3, loss=0.683]\n"
     ]
    },
    {
     "name": "stdout",
     "output_type": "stream",
     "text": [
      "Epoch 216 validation: Cross-entropy=0.70, Accuracy=82.3%\n"
     ]
    },
    {
     "name": "stderr",
     "output_type": "stream",
     "text": [
      "Epoch 217: 100%|███████| 23/23 [00:00<00:00, 59.07batch/s, acc=85.3, loss=0.683]\n"
     ]
    },
    {
     "name": "stdout",
     "output_type": "stream",
     "text": [
      "Epoch 217 validation: Cross-entropy=0.70, Accuracy=82.3%\n"
     ]
    },
    {
     "name": "stderr",
     "output_type": "stream",
     "text": [
      "Epoch 218: 100%|███████| 23/23 [00:00<00:00, 57.54batch/s, acc=85.3, loss=0.683]\n"
     ]
    },
    {
     "name": "stdout",
     "output_type": "stream",
     "text": [
      "Epoch 218 validation: Cross-entropy=0.70, Accuracy=82.3%\n"
     ]
    },
    {
     "name": "stderr",
     "output_type": "stream",
     "text": [
      "Epoch 219: 100%|███████| 23/23 [00:00<00:00, 54.91batch/s, acc=85.3, loss=0.683]\n"
     ]
    },
    {
     "name": "stdout",
     "output_type": "stream",
     "text": [
      "Epoch 219 validation: Cross-entropy=0.70, Accuracy=82.3%\n"
     ]
    },
    {
     "name": "stderr",
     "output_type": "stream",
     "text": [
      "Epoch 220: 100%|███████| 23/23 [00:00<00:00, 58.62batch/s, acc=85.3, loss=0.683]\n"
     ]
    },
    {
     "name": "stdout",
     "output_type": "stream",
     "text": [
      "Epoch 220 validation: Cross-entropy=0.70, Accuracy=82.3%\n"
     ]
    },
    {
     "name": "stderr",
     "output_type": "stream",
     "text": [
      "Epoch 221: 100%|███████| 23/23 [00:00<00:00, 58.51batch/s, acc=85.3, loss=0.683]\n"
     ]
    },
    {
     "name": "stdout",
     "output_type": "stream",
     "text": [
      "Epoch 221 validation: Cross-entropy=0.70, Accuracy=82.3%\n"
     ]
    },
    {
     "name": "stderr",
     "output_type": "stream",
     "text": [
      "Epoch 222: 100%|███████| 23/23 [00:00<00:00, 57.20batch/s, acc=85.3, loss=0.683]\n"
     ]
    },
    {
     "name": "stdout",
     "output_type": "stream",
     "text": [
      "Epoch 222 validation: Cross-entropy=0.70, Accuracy=82.3%\n"
     ]
    },
    {
     "name": "stderr",
     "output_type": "stream",
     "text": [
      "Epoch 223: 100%|███████| 23/23 [00:00<00:00, 58.95batch/s, acc=85.3, loss=0.683]\n"
     ]
    },
    {
     "name": "stdout",
     "output_type": "stream",
     "text": [
      "Epoch 223 validation: Cross-entropy=0.70, Accuracy=82.3%\n"
     ]
    },
    {
     "name": "stderr",
     "output_type": "stream",
     "text": [
      "Epoch 224: 100%|███████| 23/23 [00:00<00:00, 56.70batch/s, acc=85.3, loss=0.683]\n"
     ]
    },
    {
     "name": "stdout",
     "output_type": "stream",
     "text": [
      "Epoch 224 validation: Cross-entropy=0.70, Accuracy=82.3%\n"
     ]
    },
    {
     "name": "stderr",
     "output_type": "stream",
     "text": [
      "Epoch 225: 100%|███████| 23/23 [00:00<00:00, 57.60batch/s, acc=85.3, loss=0.683]\n"
     ]
    },
    {
     "name": "stdout",
     "output_type": "stream",
     "text": [
      "Epoch 225 validation: Cross-entropy=0.70, Accuracy=82.3%\n"
     ]
    },
    {
     "name": "stderr",
     "output_type": "stream",
     "text": [
      "Epoch 226: 100%|███████| 23/23 [00:00<00:00, 59.33batch/s, acc=85.3, loss=0.683]\n"
     ]
    },
    {
     "name": "stdout",
     "output_type": "stream",
     "text": [
      "Epoch 226 validation: Cross-entropy=0.70, Accuracy=82.3%\n"
     ]
    },
    {
     "name": "stderr",
     "output_type": "stream",
     "text": [
      "Epoch 227: 100%|███████| 23/23 [00:00<00:00, 58.58batch/s, acc=85.3, loss=0.683]\n"
     ]
    },
    {
     "name": "stdout",
     "output_type": "stream",
     "text": [
      "Epoch 227 validation: Cross-entropy=0.70, Accuracy=82.3%\n"
     ]
    },
    {
     "name": "stderr",
     "output_type": "stream",
     "text": [
      "Epoch 228: 100%|███████| 23/23 [00:00<00:00, 57.33batch/s, acc=85.3, loss=0.683]\n"
     ]
    },
    {
     "name": "stdout",
     "output_type": "stream",
     "text": [
      "Epoch 228 validation: Cross-entropy=0.70, Accuracy=82.3%\n"
     ]
    },
    {
     "name": "stderr",
     "output_type": "stream",
     "text": [
      "Epoch 229: 100%|███████| 23/23 [00:00<00:00, 60.16batch/s, acc=85.3, loss=0.683]\n"
     ]
    },
    {
     "name": "stdout",
     "output_type": "stream",
     "text": [
      "Epoch 229 validation: Cross-entropy=0.70, Accuracy=82.3%\n"
     ]
    },
    {
     "name": "stderr",
     "output_type": "stream",
     "text": [
      "Epoch 230: 100%|███████| 23/23 [00:00<00:00, 57.20batch/s, acc=85.3, loss=0.683]\n"
     ]
    },
    {
     "name": "stdout",
     "output_type": "stream",
     "text": [
      "Epoch 230 validation: Cross-entropy=0.70, Accuracy=82.3%\n"
     ]
    },
    {
     "name": "stderr",
     "output_type": "stream",
     "text": [
      "Epoch 231: 100%|███████| 23/23 [00:00<00:00, 57.21batch/s, acc=85.3, loss=0.683]\n"
     ]
    },
    {
     "name": "stdout",
     "output_type": "stream",
     "text": [
      "Epoch 231 validation: Cross-entropy=0.70, Accuracy=82.3%\n"
     ]
    },
    {
     "name": "stderr",
     "output_type": "stream",
     "text": [
      "Epoch 232: 100%|███████| 23/23 [00:00<00:00, 57.91batch/s, acc=85.3, loss=0.683]\n"
     ]
    },
    {
     "name": "stdout",
     "output_type": "stream",
     "text": [
      "Epoch 232 validation: Cross-entropy=0.70, Accuracy=82.3%\n"
     ]
    },
    {
     "name": "stderr",
     "output_type": "stream",
     "text": [
      "Epoch 233: 100%|███████| 23/23 [00:00<00:00, 53.67batch/s, acc=85.3, loss=0.683]\n"
     ]
    },
    {
     "name": "stdout",
     "output_type": "stream",
     "text": [
      "Epoch 233 validation: Cross-entropy=0.70, Accuracy=82.3%\n"
     ]
    },
    {
     "name": "stderr",
     "output_type": "stream",
     "text": [
      "Epoch 234: 100%|███████| 23/23 [00:00<00:00, 55.53batch/s, acc=85.3, loss=0.683]\n"
     ]
    },
    {
     "name": "stdout",
     "output_type": "stream",
     "text": [
      "Epoch 234 validation: Cross-entropy=0.70, Accuracy=82.3%\n"
     ]
    },
    {
     "name": "stderr",
     "output_type": "stream",
     "text": [
      "Epoch 235: 100%|███████| 23/23 [00:00<00:00, 54.62batch/s, acc=85.3, loss=0.683]\n"
     ]
    },
    {
     "name": "stdout",
     "output_type": "stream",
     "text": [
      "Epoch 235 validation: Cross-entropy=0.70, Accuracy=82.3%\n"
     ]
    },
    {
     "name": "stderr",
     "output_type": "stream",
     "text": [
      "Epoch 236: 100%|███████| 23/23 [00:00<00:00, 52.73batch/s, acc=85.3, loss=0.683]\n"
     ]
    },
    {
     "name": "stdout",
     "output_type": "stream",
     "text": [
      "Epoch 236 validation: Cross-entropy=0.70, Accuracy=82.3%\n"
     ]
    },
    {
     "name": "stderr",
     "output_type": "stream",
     "text": [
      "Epoch 237: 100%|███████| 23/23 [00:00<00:00, 56.42batch/s, acc=85.3, loss=0.683]\n"
     ]
    },
    {
     "name": "stdout",
     "output_type": "stream",
     "text": [
      "Epoch 237 validation: Cross-entropy=0.70, Accuracy=82.3%\n"
     ]
    },
    {
     "name": "stderr",
     "output_type": "stream",
     "text": [
      "Epoch 238: 100%|███████| 23/23 [00:00<00:00, 59.98batch/s, acc=85.3, loss=0.683]\n"
     ]
    },
    {
     "name": "stdout",
     "output_type": "stream",
     "text": [
      "Epoch 238 validation: Cross-entropy=0.70, Accuracy=82.3%\n"
     ]
    },
    {
     "name": "stderr",
     "output_type": "stream",
     "text": [
      "Epoch 239: 100%|███████| 23/23 [00:00<00:00, 58.42batch/s, acc=85.3, loss=0.683]\n"
     ]
    },
    {
     "name": "stdout",
     "output_type": "stream",
     "text": [
      "Epoch 239 validation: Cross-entropy=0.70, Accuracy=82.3%\n"
     ]
    },
    {
     "name": "stderr",
     "output_type": "stream",
     "text": [
      "Epoch 240: 100%|███████| 23/23 [00:00<00:00, 57.38batch/s, acc=85.3, loss=0.683]\n"
     ]
    },
    {
     "name": "stdout",
     "output_type": "stream",
     "text": [
      "Epoch 240 validation: Cross-entropy=0.70, Accuracy=82.3%\n"
     ]
    },
    {
     "name": "stderr",
     "output_type": "stream",
     "text": [
      "Epoch 241: 100%|███████| 23/23 [00:00<00:00, 59.58batch/s, acc=85.3, loss=0.683]\n"
     ]
    },
    {
     "name": "stdout",
     "output_type": "stream",
     "text": [
      "Epoch 241 validation: Cross-entropy=0.70, Accuracy=82.3%\n"
     ]
    },
    {
     "name": "stderr",
     "output_type": "stream",
     "text": [
      "Epoch 242: 100%|███████| 23/23 [00:00<00:00, 52.50batch/s, acc=85.3, loss=0.683]\n"
     ]
    },
    {
     "name": "stdout",
     "output_type": "stream",
     "text": [
      "Epoch 242 validation: Cross-entropy=0.70, Accuracy=82.3%\n"
     ]
    },
    {
     "name": "stderr",
     "output_type": "stream",
     "text": [
      "Epoch 243: 100%|███████| 23/23 [00:00<00:00, 57.66batch/s, acc=85.3, loss=0.683]\n"
     ]
    },
    {
     "name": "stdout",
     "output_type": "stream",
     "text": [
      "Epoch 243 validation: Cross-entropy=0.70, Accuracy=82.3%\n"
     ]
    },
    {
     "name": "stderr",
     "output_type": "stream",
     "text": [
      "Epoch 244: 100%|███████| 23/23 [00:00<00:00, 55.48batch/s, acc=85.3, loss=0.683]\n"
     ]
    },
    {
     "name": "stdout",
     "output_type": "stream",
     "text": [
      "Epoch 244 validation: Cross-entropy=0.70, Accuracy=82.3%\n"
     ]
    },
    {
     "name": "stderr",
     "output_type": "stream",
     "text": [
      "Epoch 245: 100%|███████| 23/23 [00:00<00:00, 53.24batch/s, acc=85.3, loss=0.683]\n"
     ]
    },
    {
     "name": "stdout",
     "output_type": "stream",
     "text": [
      "Epoch 245 validation: Cross-entropy=0.70, Accuracy=82.3%\n"
     ]
    },
    {
     "name": "stderr",
     "output_type": "stream",
     "text": [
      "Epoch 246: 100%|███████| 23/23 [00:00<00:00, 56.51batch/s, acc=85.3, loss=0.683]\n"
     ]
    },
    {
     "name": "stdout",
     "output_type": "stream",
     "text": [
      "Epoch 246 validation: Cross-entropy=0.70, Accuracy=82.3%\n"
     ]
    },
    {
     "name": "stderr",
     "output_type": "stream",
     "text": [
      "Epoch 247: 100%|███████| 23/23 [00:00<00:00, 52.47batch/s, acc=85.3, loss=0.683]\n"
     ]
    },
    {
     "name": "stdout",
     "output_type": "stream",
     "text": [
      "Epoch 247 validation: Cross-entropy=0.70, Accuracy=82.3%\n"
     ]
    },
    {
     "name": "stderr",
     "output_type": "stream",
     "text": [
      "Epoch 248: 100%|███████| 23/23 [00:00<00:00, 54.72batch/s, acc=85.3, loss=0.683]\n"
     ]
    },
    {
     "name": "stdout",
     "output_type": "stream",
     "text": [
      "Epoch 248 validation: Cross-entropy=0.70, Accuracy=82.3%\n"
     ]
    },
    {
     "name": "stderr",
     "output_type": "stream",
     "text": [
      "Epoch 249: 100%|███████| 23/23 [00:00<00:00, 56.71batch/s, acc=85.3, loss=0.683]\n"
     ]
    },
    {
     "name": "stdout",
     "output_type": "stream",
     "text": [
      "Epoch 249 validation: Cross-entropy=0.70, Accuracy=82.3%\n"
     ]
    },
    {
     "name": "stderr",
     "output_type": "stream",
     "text": [
      "Epoch 250: 100%|███████| 23/23 [00:00<00:00, 55.50batch/s, acc=85.3, loss=0.683]\n"
     ]
    },
    {
     "name": "stdout",
     "output_type": "stream",
     "text": [
      "Epoch 250 validation: Cross-entropy=0.70, Accuracy=82.3%\n"
     ]
    },
    {
     "name": "stderr",
     "output_type": "stream",
     "text": [
      "Epoch 251: 100%|███████| 23/23 [00:00<00:00, 55.71batch/s, acc=85.3, loss=0.683]\n"
     ]
    },
    {
     "name": "stdout",
     "output_type": "stream",
     "text": [
      "Epoch 251 validation: Cross-entropy=0.70, Accuracy=82.3%\n"
     ]
    },
    {
     "name": "stderr",
     "output_type": "stream",
     "text": [
      "Epoch 252: 100%|███████| 23/23 [00:00<00:00, 58.55batch/s, acc=85.3, loss=0.683]\n"
     ]
    },
    {
     "name": "stdout",
     "output_type": "stream",
     "text": [
      "Epoch 252 validation: Cross-entropy=0.70, Accuracy=82.3%\n"
     ]
    },
    {
     "name": "stderr",
     "output_type": "stream",
     "text": [
      "Epoch 253: 100%|███████| 23/23 [00:00<00:00, 57.26batch/s, acc=85.3, loss=0.683]\n"
     ]
    },
    {
     "name": "stdout",
     "output_type": "stream",
     "text": [
      "Epoch 253 validation: Cross-entropy=0.70, Accuracy=82.3%\n"
     ]
    },
    {
     "name": "stderr",
     "output_type": "stream",
     "text": [
      "Epoch 254: 100%|███████| 23/23 [00:00<00:00, 56.98batch/s, acc=85.3, loss=0.683]\n"
     ]
    },
    {
     "name": "stdout",
     "output_type": "stream",
     "text": [
      "Epoch 254 validation: Cross-entropy=0.70, Accuracy=82.3%\n"
     ]
    },
    {
     "name": "stderr",
     "output_type": "stream",
     "text": [
      "Epoch 255: 100%|███████| 23/23 [00:00<00:00, 62.25batch/s, acc=85.3, loss=0.683]\n"
     ]
    },
    {
     "name": "stdout",
     "output_type": "stream",
     "text": [
      "Epoch 255 validation: Cross-entropy=0.70, Accuracy=82.3%\n"
     ]
    },
    {
     "name": "stderr",
     "output_type": "stream",
     "text": [
      "Epoch 256: 100%|███████| 23/23 [00:00<00:00, 58.48batch/s, acc=85.3, loss=0.683]\n"
     ]
    },
    {
     "name": "stdout",
     "output_type": "stream",
     "text": [
      "Epoch 256 validation: Cross-entropy=0.70, Accuracy=82.3%\n"
     ]
    },
    {
     "name": "stderr",
     "output_type": "stream",
     "text": [
      "Epoch 257: 100%|███████| 23/23 [00:00<00:00, 57.28batch/s, acc=85.3, loss=0.683]\n"
     ]
    },
    {
     "name": "stdout",
     "output_type": "stream",
     "text": [
      "Epoch 257 validation: Cross-entropy=0.70, Accuracy=82.3%\n"
     ]
    },
    {
     "name": "stderr",
     "output_type": "stream",
     "text": [
      "Epoch 258: 100%|███████| 23/23 [00:00<00:00, 55.36batch/s, acc=85.3, loss=0.683]\n"
     ]
    },
    {
     "name": "stdout",
     "output_type": "stream",
     "text": [
      "Epoch 258 validation: Cross-entropy=0.70, Accuracy=82.3%\n"
     ]
    },
    {
     "name": "stderr",
     "output_type": "stream",
     "text": [
      "Epoch 259: 100%|███████| 23/23 [00:00<00:00, 59.83batch/s, acc=85.3, loss=0.683]\n"
     ]
    },
    {
     "name": "stdout",
     "output_type": "stream",
     "text": [
      "Epoch 259 validation: Cross-entropy=0.70, Accuracy=82.3%\n"
     ]
    },
    {
     "name": "stderr",
     "output_type": "stream",
     "text": [
      "Epoch 260: 100%|███████| 23/23 [00:00<00:00, 57.93batch/s, acc=85.3, loss=0.683]\n"
     ]
    },
    {
     "name": "stdout",
     "output_type": "stream",
     "text": [
      "Epoch 260 validation: Cross-entropy=0.70, Accuracy=82.3%\n"
     ]
    },
    {
     "name": "stderr",
     "output_type": "stream",
     "text": [
      "Epoch 261: 100%|███████| 23/23 [00:00<00:00, 57.52batch/s, acc=85.3, loss=0.683]\n"
     ]
    },
    {
     "name": "stdout",
     "output_type": "stream",
     "text": [
      "Epoch 261 validation: Cross-entropy=0.70, Accuracy=82.3%\n"
     ]
    },
    {
     "name": "stderr",
     "output_type": "stream",
     "text": [
      "Epoch 262: 100%|███████| 23/23 [00:00<00:00, 54.52batch/s, acc=85.3, loss=0.683]\n"
     ]
    },
    {
     "name": "stdout",
     "output_type": "stream",
     "text": [
      "Epoch 262 validation: Cross-entropy=0.70, Accuracy=82.3%\n"
     ]
    },
    {
     "name": "stderr",
     "output_type": "stream",
     "text": [
      "Epoch 263: 100%|███████| 23/23 [00:00<00:00, 58.78batch/s, acc=85.3, loss=0.683]\n"
     ]
    },
    {
     "name": "stdout",
     "output_type": "stream",
     "text": [
      "Epoch 263 validation: Cross-entropy=0.70, Accuracy=82.3%\n"
     ]
    },
    {
     "name": "stderr",
     "output_type": "stream",
     "text": [
      "Epoch 264: 100%|███████| 23/23 [00:00<00:00, 58.68batch/s, acc=85.3, loss=0.683]\n"
     ]
    },
    {
     "name": "stdout",
     "output_type": "stream",
     "text": [
      "Epoch 264 validation: Cross-entropy=0.70, Accuracy=82.3%\n"
     ]
    },
    {
     "name": "stderr",
     "output_type": "stream",
     "text": [
      "Epoch 265: 100%|███████| 23/23 [00:00<00:00, 53.24batch/s, acc=85.3, loss=0.683]\n"
     ]
    },
    {
     "name": "stdout",
     "output_type": "stream",
     "text": [
      "Epoch 265 validation: Cross-entropy=0.70, Accuracy=82.3%\n"
     ]
    },
    {
     "name": "stderr",
     "output_type": "stream",
     "text": [
      "Epoch 266: 100%|███████| 23/23 [00:00<00:00, 57.86batch/s, acc=85.3, loss=0.683]\n"
     ]
    },
    {
     "name": "stdout",
     "output_type": "stream",
     "text": [
      "Epoch 266 validation: Cross-entropy=0.70, Accuracy=82.3%\n"
     ]
    },
    {
     "name": "stderr",
     "output_type": "stream",
     "text": [
      "Epoch 267: 100%|███████| 23/23 [00:00<00:00, 59.34batch/s, acc=85.3, loss=0.683]\n"
     ]
    },
    {
     "name": "stdout",
     "output_type": "stream",
     "text": [
      "Epoch 267 validation: Cross-entropy=0.70, Accuracy=82.3%\n"
     ]
    },
    {
     "name": "stderr",
     "output_type": "stream",
     "text": [
      "Epoch 268: 100%|███████| 23/23 [00:00<00:00, 59.90batch/s, acc=85.3, loss=0.683]\n"
     ]
    },
    {
     "name": "stdout",
     "output_type": "stream",
     "text": [
      "Epoch 268 validation: Cross-entropy=0.70, Accuracy=82.3%\n"
     ]
    },
    {
     "name": "stderr",
     "output_type": "stream",
     "text": [
      "Epoch 269: 100%|███████| 23/23 [00:00<00:00, 58.00batch/s, acc=85.3, loss=0.683]\n"
     ]
    },
    {
     "name": "stdout",
     "output_type": "stream",
     "text": [
      "Epoch 269 validation: Cross-entropy=0.70, Accuracy=82.3%\n"
     ]
    },
    {
     "name": "stderr",
     "output_type": "stream",
     "text": [
      "Epoch 270: 100%|███████| 23/23 [00:00<00:00, 59.99batch/s, acc=85.3, loss=0.683]\n"
     ]
    },
    {
     "name": "stdout",
     "output_type": "stream",
     "text": [
      "Epoch 270 validation: Cross-entropy=0.70, Accuracy=82.3%\n"
     ]
    },
    {
     "name": "stderr",
     "output_type": "stream",
     "text": [
      "Epoch 271: 100%|███████| 23/23 [00:00<00:00, 54.50batch/s, acc=85.3, loss=0.683]\n"
     ]
    },
    {
     "name": "stdout",
     "output_type": "stream",
     "text": [
      "Epoch 271 validation: Cross-entropy=0.70, Accuracy=82.3%\n"
     ]
    },
    {
     "name": "stderr",
     "output_type": "stream",
     "text": [
      "Epoch 272: 100%|███████| 23/23 [00:00<00:00, 58.86batch/s, acc=85.3, loss=0.683]\n"
     ]
    },
    {
     "name": "stdout",
     "output_type": "stream",
     "text": [
      "Epoch 272 validation: Cross-entropy=0.70, Accuracy=82.3%\n"
     ]
    },
    {
     "name": "stderr",
     "output_type": "stream",
     "text": [
      "Epoch 273: 100%|███████| 23/23 [00:00<00:00, 57.86batch/s, acc=85.3, loss=0.683]\n"
     ]
    },
    {
     "name": "stdout",
     "output_type": "stream",
     "text": [
      "Epoch 273 validation: Cross-entropy=0.70, Accuracy=82.3%\n"
     ]
    },
    {
     "name": "stderr",
     "output_type": "stream",
     "text": [
      "Epoch 274: 100%|███████| 23/23 [00:00<00:00, 55.05batch/s, acc=85.3, loss=0.683]\n"
     ]
    },
    {
     "name": "stdout",
     "output_type": "stream",
     "text": [
      "Epoch 274 validation: Cross-entropy=0.70, Accuracy=82.3%\n"
     ]
    },
    {
     "name": "stderr",
     "output_type": "stream",
     "text": [
      "Epoch 275: 100%|███████| 23/23 [00:00<00:00, 60.11batch/s, acc=85.3, loss=0.683]\n"
     ]
    },
    {
     "name": "stdout",
     "output_type": "stream",
     "text": [
      "Epoch 275 validation: Cross-entropy=0.70, Accuracy=82.3%\n"
     ]
    },
    {
     "name": "stderr",
     "output_type": "stream",
     "text": [
      "Epoch 276: 100%|███████| 23/23 [00:00<00:00, 55.15batch/s, acc=85.3, loss=0.683]\n"
     ]
    },
    {
     "name": "stdout",
     "output_type": "stream",
     "text": [
      "Epoch 276 validation: Cross-entropy=0.70, Accuracy=82.3%\n"
     ]
    },
    {
     "name": "stderr",
     "output_type": "stream",
     "text": [
      "Epoch 277: 100%|███████| 23/23 [00:00<00:00, 62.07batch/s, acc=85.3, loss=0.683]\n"
     ]
    },
    {
     "name": "stdout",
     "output_type": "stream",
     "text": [
      "Epoch 277 validation: Cross-entropy=0.70, Accuracy=82.3%\n"
     ]
    },
    {
     "name": "stderr",
     "output_type": "stream",
     "text": [
      "Epoch 278: 100%|███████| 23/23 [00:00<00:00, 54.00batch/s, acc=85.3, loss=0.683]\n"
     ]
    },
    {
     "name": "stdout",
     "output_type": "stream",
     "text": [
      "Epoch 278 validation: Cross-entropy=0.70, Accuracy=82.3%\n"
     ]
    },
    {
     "name": "stderr",
     "output_type": "stream",
     "text": [
      "Epoch 279: 100%|███████| 23/23 [00:00<00:00, 56.55batch/s, acc=85.3, loss=0.683]\n"
     ]
    },
    {
     "name": "stdout",
     "output_type": "stream",
     "text": [
      "Epoch 279 validation: Cross-entropy=0.70, Accuracy=82.3%\n"
     ]
    },
    {
     "name": "stderr",
     "output_type": "stream",
     "text": [
      "Epoch 280: 100%|███████| 23/23 [00:00<00:00, 58.36batch/s, acc=85.3, loss=0.683]\n"
     ]
    },
    {
     "name": "stdout",
     "output_type": "stream",
     "text": [
      "Epoch 280 validation: Cross-entropy=0.70, Accuracy=82.3%\n"
     ]
    },
    {
     "name": "stderr",
     "output_type": "stream",
     "text": [
      "Epoch 281: 100%|███████| 23/23 [00:00<00:00, 57.48batch/s, acc=85.3, loss=0.683]\n"
     ]
    },
    {
     "name": "stdout",
     "output_type": "stream",
     "text": [
      "Epoch 281 validation: Cross-entropy=0.70, Accuracy=82.3%\n"
     ]
    },
    {
     "name": "stderr",
     "output_type": "stream",
     "text": [
      "Epoch 282: 100%|███████| 23/23 [00:00<00:00, 56.51batch/s, acc=85.3, loss=0.683]\n"
     ]
    },
    {
     "name": "stdout",
     "output_type": "stream",
     "text": [
      "Epoch 282 validation: Cross-entropy=0.70, Accuracy=82.3%\n"
     ]
    },
    {
     "name": "stderr",
     "output_type": "stream",
     "text": [
      "Epoch 283: 100%|███████| 23/23 [00:00<00:00, 56.51batch/s, acc=85.3, loss=0.683]\n"
     ]
    },
    {
     "name": "stdout",
     "output_type": "stream",
     "text": [
      "Epoch 283 validation: Cross-entropy=0.70, Accuracy=82.3%\n"
     ]
    },
    {
     "name": "stderr",
     "output_type": "stream",
     "text": [
      "Epoch 284: 100%|███████| 23/23 [00:00<00:00, 57.57batch/s, acc=85.3, loss=0.683]\n"
     ]
    },
    {
     "name": "stdout",
     "output_type": "stream",
     "text": [
      "Epoch 284 validation: Cross-entropy=0.70, Accuracy=82.3%\n"
     ]
    },
    {
     "name": "stderr",
     "output_type": "stream",
     "text": [
      "Epoch 285: 100%|███████| 23/23 [00:00<00:00, 54.17batch/s, acc=85.3, loss=0.683]\n"
     ]
    },
    {
     "name": "stdout",
     "output_type": "stream",
     "text": [
      "Epoch 285 validation: Cross-entropy=0.70, Accuracy=82.3%\n"
     ]
    },
    {
     "name": "stderr",
     "output_type": "stream",
     "text": [
      "Epoch 286: 100%|███████| 23/23 [00:00<00:00, 57.86batch/s, acc=85.3, loss=0.683]\n"
     ]
    },
    {
     "name": "stdout",
     "output_type": "stream",
     "text": [
      "Epoch 286 validation: Cross-entropy=0.70, Accuracy=82.3%\n"
     ]
    },
    {
     "name": "stderr",
     "output_type": "stream",
     "text": [
      "Epoch 287: 100%|███████| 23/23 [00:00<00:00, 59.87batch/s, acc=85.3, loss=0.683]\n"
     ]
    },
    {
     "name": "stdout",
     "output_type": "stream",
     "text": [
      "Epoch 287 validation: Cross-entropy=0.70, Accuracy=82.3%\n"
     ]
    },
    {
     "name": "stderr",
     "output_type": "stream",
     "text": [
      "Epoch 288: 100%|███████| 23/23 [00:00<00:00, 57.82batch/s, acc=85.3, loss=0.683]\n"
     ]
    },
    {
     "name": "stdout",
     "output_type": "stream",
     "text": [
      "Epoch 288 validation: Cross-entropy=0.70, Accuracy=82.3%\n"
     ]
    },
    {
     "name": "stderr",
     "output_type": "stream",
     "text": [
      "Epoch 289: 100%|███████| 23/23 [00:00<00:00, 62.01batch/s, acc=85.3, loss=0.683]\n"
     ]
    },
    {
     "name": "stdout",
     "output_type": "stream",
     "text": [
      "Epoch 289 validation: Cross-entropy=0.70, Accuracy=82.3%\n"
     ]
    },
    {
     "name": "stderr",
     "output_type": "stream",
     "text": [
      "Epoch 290: 100%|███████| 23/23 [00:00<00:00, 62.25batch/s, acc=85.3, loss=0.683]\n"
     ]
    },
    {
     "name": "stdout",
     "output_type": "stream",
     "text": [
      "Epoch 290 validation: Cross-entropy=0.70, Accuracy=82.3%\n"
     ]
    },
    {
     "name": "stderr",
     "output_type": "stream",
     "text": [
      "Epoch 291: 100%|███████| 23/23 [00:00<00:00, 52.57batch/s, acc=85.3, loss=0.683]\n"
     ]
    },
    {
     "name": "stdout",
     "output_type": "stream",
     "text": [
      "Epoch 291 validation: Cross-entropy=0.70, Accuracy=82.3%\n"
     ]
    },
    {
     "name": "stderr",
     "output_type": "stream",
     "text": [
      "Epoch 292: 100%|███████| 23/23 [00:00<00:00, 55.02batch/s, acc=85.3, loss=0.683]\n"
     ]
    },
    {
     "name": "stdout",
     "output_type": "stream",
     "text": [
      "Epoch 292 validation: Cross-entropy=0.70, Accuracy=82.3%\n"
     ]
    },
    {
     "name": "stderr",
     "output_type": "stream",
     "text": [
      "Epoch 293: 100%|███████| 23/23 [00:00<00:00, 56.76batch/s, acc=85.3, loss=0.683]\n"
     ]
    },
    {
     "name": "stdout",
     "output_type": "stream",
     "text": [
      "Epoch 293 validation: Cross-entropy=0.70, Accuracy=82.3%\n"
     ]
    },
    {
     "name": "stderr",
     "output_type": "stream",
     "text": [
      "Epoch 294: 100%|███████| 23/23 [00:00<00:00, 60.04batch/s, acc=85.3, loss=0.683]\n"
     ]
    },
    {
     "name": "stdout",
     "output_type": "stream",
     "text": [
      "Epoch 294 validation: Cross-entropy=0.70, Accuracy=82.3%\n"
     ]
    },
    {
     "name": "stderr",
     "output_type": "stream",
     "text": [
      "Epoch 295: 100%|███████| 23/23 [00:00<00:00, 60.74batch/s, acc=85.3, loss=0.683]\n"
     ]
    },
    {
     "name": "stdout",
     "output_type": "stream",
     "text": [
      "Epoch 295 validation: Cross-entropy=0.70, Accuracy=82.3%\n"
     ]
    },
    {
     "name": "stderr",
     "output_type": "stream",
     "text": [
      "Epoch 296: 100%|███████| 23/23 [00:00<00:00, 57.42batch/s, acc=85.3, loss=0.683]\n"
     ]
    },
    {
     "name": "stdout",
     "output_type": "stream",
     "text": [
      "Epoch 296 validation: Cross-entropy=0.70, Accuracy=82.3%\n"
     ]
    },
    {
     "name": "stderr",
     "output_type": "stream",
     "text": [
      "Epoch 297: 100%|███████| 23/23 [00:00<00:00, 59.50batch/s, acc=85.3, loss=0.683]\n"
     ]
    },
    {
     "name": "stdout",
     "output_type": "stream",
     "text": [
      "Epoch 297 validation: Cross-entropy=0.70, Accuracy=82.3%\n"
     ]
    },
    {
     "name": "stderr",
     "output_type": "stream",
     "text": [
      "Epoch 298: 100%|███████| 23/23 [00:00<00:00, 57.95batch/s, acc=85.3, loss=0.683]\n"
     ]
    },
    {
     "name": "stdout",
     "output_type": "stream",
     "text": [
      "Epoch 298 validation: Cross-entropy=0.70, Accuracy=82.3%\n"
     ]
    },
    {
     "name": "stderr",
     "output_type": "stream",
     "text": [
      "Epoch 299: 100%|███████| 23/23 [00:00<00:00, 54.36batch/s, acc=85.3, loss=0.683]\n"
     ]
    },
    {
     "name": "stdout",
     "output_type": "stream",
     "text": [
      "Epoch 299 validation: Cross-entropy=0.70, Accuracy=82.3%\n"
     ]
    },
    {
     "name": "stderr",
     "output_type": "stream",
     "text": [
      "Epoch 300: 100%|███████| 23/23 [00:00<00:00, 56.69batch/s, acc=85.3, loss=0.683]\n"
     ]
    },
    {
     "name": "stdout",
     "output_type": "stream",
     "text": [
      "Epoch 300 validation: Cross-entropy=0.70, Accuracy=82.3%\n"
     ]
    },
    {
     "name": "stderr",
     "output_type": "stream",
     "text": [
      "Epoch 301: 100%|███████| 23/23 [00:00<00:00, 55.40batch/s, acc=85.3, loss=0.683]\n"
     ]
    },
    {
     "name": "stdout",
     "output_type": "stream",
     "text": [
      "Epoch 301 validation: Cross-entropy=0.70, Accuracy=82.3%\n"
     ]
    },
    {
     "name": "stderr",
     "output_type": "stream",
     "text": [
      "Epoch 302: 100%|███████| 23/23 [00:00<00:00, 54.84batch/s, acc=85.3, loss=0.683]\n"
     ]
    },
    {
     "name": "stdout",
     "output_type": "stream",
     "text": [
      "Epoch 302 validation: Cross-entropy=0.70, Accuracy=82.3%\n"
     ]
    },
    {
     "name": "stderr",
     "output_type": "stream",
     "text": [
      "Epoch 303: 100%|███████| 23/23 [00:00<00:00, 56.92batch/s, acc=85.3, loss=0.683]\n"
     ]
    },
    {
     "name": "stdout",
     "output_type": "stream",
     "text": [
      "Epoch 303 validation: Cross-entropy=0.70, Accuracy=82.3%\n"
     ]
    },
    {
     "name": "stderr",
     "output_type": "stream",
     "text": [
      "Epoch 304: 100%|███████| 23/23 [00:00<00:00, 56.87batch/s, acc=85.3, loss=0.683]\n"
     ]
    },
    {
     "name": "stdout",
     "output_type": "stream",
     "text": [
      "Epoch 304 validation: Cross-entropy=0.70, Accuracy=82.3%\n"
     ]
    },
    {
     "name": "stderr",
     "output_type": "stream",
     "text": [
      "Epoch 305: 100%|███████| 23/23 [00:00<00:00, 58.82batch/s, acc=85.3, loss=0.683]\n"
     ]
    },
    {
     "name": "stdout",
     "output_type": "stream",
     "text": [
      "Epoch 305 validation: Cross-entropy=0.70, Accuracy=82.3%\n"
     ]
    },
    {
     "name": "stderr",
     "output_type": "stream",
     "text": [
      "Epoch 306: 100%|███████| 23/23 [00:00<00:00, 57.43batch/s, acc=85.3, loss=0.683]\n"
     ]
    },
    {
     "name": "stdout",
     "output_type": "stream",
     "text": [
      "Epoch 306 validation: Cross-entropy=0.70, Accuracy=82.3%\n"
     ]
    },
    {
     "name": "stderr",
     "output_type": "stream",
     "text": [
      "Epoch 307: 100%|███████| 23/23 [00:00<00:00, 56.17batch/s, acc=85.3, loss=0.683]\n"
     ]
    },
    {
     "name": "stdout",
     "output_type": "stream",
     "text": [
      "Epoch 307 validation: Cross-entropy=0.70, Accuracy=82.3%\n"
     ]
    },
    {
     "name": "stderr",
     "output_type": "stream",
     "text": [
      "Epoch 308: 100%|███████| 23/23 [00:00<00:00, 52.13batch/s, acc=85.3, loss=0.683]\n"
     ]
    },
    {
     "name": "stdout",
     "output_type": "stream",
     "text": [
      "Epoch 308 validation: Cross-entropy=0.70, Accuracy=82.3%\n"
     ]
    },
    {
     "name": "stderr",
     "output_type": "stream",
     "text": [
      "Epoch 309: 100%|███████| 23/23 [00:00<00:00, 58.12batch/s, acc=85.3, loss=0.683]\n"
     ]
    },
    {
     "name": "stdout",
     "output_type": "stream",
     "text": [
      "Epoch 309 validation: Cross-entropy=0.70, Accuracy=82.3%\n"
     ]
    },
    {
     "name": "stderr",
     "output_type": "stream",
     "text": [
      "Epoch 310: 100%|███████| 23/23 [00:00<00:00, 55.62batch/s, acc=85.3, loss=0.683]\n"
     ]
    },
    {
     "name": "stdout",
     "output_type": "stream",
     "text": [
      "Epoch 310 validation: Cross-entropy=0.70, Accuracy=82.3%\n"
     ]
    },
    {
     "name": "stderr",
     "output_type": "stream",
     "text": [
      "Epoch 311: 100%|███████| 23/23 [00:00<00:00, 58.89batch/s, acc=85.3, loss=0.683]\n"
     ]
    },
    {
     "name": "stdout",
     "output_type": "stream",
     "text": [
      "Epoch 311 validation: Cross-entropy=0.70, Accuracy=82.3%\n"
     ]
    },
    {
     "name": "stderr",
     "output_type": "stream",
     "text": [
      "Epoch 312: 100%|███████| 23/23 [00:00<00:00, 56.01batch/s, acc=85.3, loss=0.683]\n"
     ]
    },
    {
     "name": "stdout",
     "output_type": "stream",
     "text": [
      "Epoch 312 validation: Cross-entropy=0.70, Accuracy=82.3%\n"
     ]
    },
    {
     "name": "stderr",
     "output_type": "stream",
     "text": [
      "Epoch 313: 100%|███████| 23/23 [00:00<00:00, 60.31batch/s, acc=85.3, loss=0.683]\n"
     ]
    },
    {
     "name": "stdout",
     "output_type": "stream",
     "text": [
      "Epoch 313 validation: Cross-entropy=0.70, Accuracy=82.3%\n"
     ]
    },
    {
     "name": "stderr",
     "output_type": "stream",
     "text": [
      "Epoch 314: 100%|███████| 23/23 [00:00<00:00, 54.65batch/s, acc=85.3, loss=0.683]\n"
     ]
    },
    {
     "name": "stdout",
     "output_type": "stream",
     "text": [
      "Epoch 314 validation: Cross-entropy=0.70, Accuracy=82.3%\n"
     ]
    },
    {
     "name": "stderr",
     "output_type": "stream",
     "text": [
      "Epoch 315: 100%|███████| 23/23 [00:00<00:00, 57.83batch/s, acc=85.3, loss=0.683]\n"
     ]
    },
    {
     "name": "stdout",
     "output_type": "stream",
     "text": [
      "Epoch 315 validation: Cross-entropy=0.70, Accuracy=82.3%\n"
     ]
    },
    {
     "name": "stderr",
     "output_type": "stream",
     "text": [
      "Epoch 316: 100%|███████| 23/23 [00:00<00:00, 52.82batch/s, acc=85.3, loss=0.683]\n"
     ]
    },
    {
     "name": "stdout",
     "output_type": "stream",
     "text": [
      "Epoch 316 validation: Cross-entropy=0.70, Accuracy=82.3%\n"
     ]
    },
    {
     "name": "stderr",
     "output_type": "stream",
     "text": [
      "Epoch 317: 100%|███████| 23/23 [00:00<00:00, 59.54batch/s, acc=85.3, loss=0.683]\n"
     ]
    },
    {
     "name": "stdout",
     "output_type": "stream",
     "text": [
      "Epoch 317 validation: Cross-entropy=0.70, Accuracy=82.3%\n"
     ]
    },
    {
     "name": "stderr",
     "output_type": "stream",
     "text": [
      "Epoch 318: 100%|███████| 23/23 [00:00<00:00, 56.30batch/s, acc=85.3, loss=0.683]\n"
     ]
    },
    {
     "name": "stdout",
     "output_type": "stream",
     "text": [
      "Epoch 318 validation: Cross-entropy=0.70, Accuracy=82.3%\n"
     ]
    },
    {
     "name": "stderr",
     "output_type": "stream",
     "text": [
      "Epoch 319: 100%|███████| 23/23 [00:00<00:00, 56.77batch/s, acc=85.3, loss=0.683]\n"
     ]
    },
    {
     "name": "stdout",
     "output_type": "stream",
     "text": [
      "Epoch 319 validation: Cross-entropy=0.70, Accuracy=82.3%\n"
     ]
    },
    {
     "name": "stderr",
     "output_type": "stream",
     "text": [
      "Epoch 320: 100%|███████| 23/23 [00:00<00:00, 56.06batch/s, acc=85.3, loss=0.683]\n"
     ]
    },
    {
     "name": "stdout",
     "output_type": "stream",
     "text": [
      "Epoch 320 validation: Cross-entropy=0.70, Accuracy=82.3%\n"
     ]
    },
    {
     "name": "stderr",
     "output_type": "stream",
     "text": [
      "Epoch 321: 100%|███████| 23/23 [00:00<00:00, 54.59batch/s, acc=85.3, loss=0.683]\n"
     ]
    },
    {
     "name": "stdout",
     "output_type": "stream",
     "text": [
      "Epoch 321 validation: Cross-entropy=0.70, Accuracy=82.3%\n"
     ]
    },
    {
     "name": "stderr",
     "output_type": "stream",
     "text": [
      "Epoch 322: 100%|███████| 23/23 [00:00<00:00, 57.76batch/s, acc=85.3, loss=0.683]\n"
     ]
    },
    {
     "name": "stdout",
     "output_type": "stream",
     "text": [
      "Epoch 322 validation: Cross-entropy=0.70, Accuracy=82.3%\n"
     ]
    },
    {
     "name": "stderr",
     "output_type": "stream",
     "text": [
      "Epoch 323: 100%|███████| 23/23 [00:00<00:00, 56.09batch/s, acc=85.3, loss=0.683]\n"
     ]
    },
    {
     "name": "stdout",
     "output_type": "stream",
     "text": [
      "Epoch 323 validation: Cross-entropy=0.70, Accuracy=82.3%\n"
     ]
    },
    {
     "name": "stderr",
     "output_type": "stream",
     "text": [
      "Epoch 324: 100%|███████| 23/23 [00:00<00:00, 58.58batch/s, acc=85.3, loss=0.683]\n"
     ]
    },
    {
     "name": "stdout",
     "output_type": "stream",
     "text": [
      "Epoch 324 validation: Cross-entropy=0.70, Accuracy=82.3%\n"
     ]
    },
    {
     "name": "stderr",
     "output_type": "stream",
     "text": [
      "Epoch 325: 100%|███████| 23/23 [00:00<00:00, 54.63batch/s, acc=85.3, loss=0.683]\n"
     ]
    },
    {
     "name": "stdout",
     "output_type": "stream",
     "text": [
      "Epoch 325 validation: Cross-entropy=0.70, Accuracy=82.3%\n"
     ]
    },
    {
     "name": "stderr",
     "output_type": "stream",
     "text": [
      "Epoch 326: 100%|███████| 23/23 [00:00<00:00, 54.29batch/s, acc=85.3, loss=0.683]\n"
     ]
    },
    {
     "name": "stdout",
     "output_type": "stream",
     "text": [
      "Epoch 326 validation: Cross-entropy=0.70, Accuracy=82.3%\n"
     ]
    },
    {
     "name": "stderr",
     "output_type": "stream",
     "text": [
      "Epoch 327: 100%|███████| 23/23 [00:00<00:00, 56.04batch/s, acc=85.3, loss=0.683]\n"
     ]
    },
    {
     "name": "stdout",
     "output_type": "stream",
     "text": [
      "Epoch 327 validation: Cross-entropy=0.70, Accuracy=82.3%\n"
     ]
    },
    {
     "name": "stderr",
     "output_type": "stream",
     "text": [
      "Epoch 328: 100%|███████| 23/23 [00:00<00:00, 58.47batch/s, acc=85.3, loss=0.683]\n"
     ]
    },
    {
     "name": "stdout",
     "output_type": "stream",
     "text": [
      "Epoch 328 validation: Cross-entropy=0.70, Accuracy=82.3%\n"
     ]
    },
    {
     "name": "stderr",
     "output_type": "stream",
     "text": [
      "Epoch 329: 100%|███████| 23/23 [00:00<00:00, 61.20batch/s, acc=85.3, loss=0.683]\n"
     ]
    },
    {
     "name": "stdout",
     "output_type": "stream",
     "text": [
      "Epoch 329 validation: Cross-entropy=0.70, Accuracy=82.3%\n"
     ]
    },
    {
     "name": "stderr",
     "output_type": "stream",
     "text": [
      "Epoch 330: 100%|███████| 23/23 [00:00<00:00, 53.84batch/s, acc=85.3, loss=0.683]\n"
     ]
    },
    {
     "name": "stdout",
     "output_type": "stream",
     "text": [
      "Epoch 330 validation: Cross-entropy=0.70, Accuracy=82.3%\n"
     ]
    },
    {
     "name": "stderr",
     "output_type": "stream",
     "text": [
      "Epoch 331: 100%|███████| 23/23 [00:00<00:00, 58.89batch/s, acc=85.3, loss=0.683]\n"
     ]
    },
    {
     "name": "stdout",
     "output_type": "stream",
     "text": [
      "Epoch 331 validation: Cross-entropy=0.70, Accuracy=82.3%\n"
     ]
    },
    {
     "name": "stderr",
     "output_type": "stream",
     "text": [
      "Epoch 332: 100%|███████| 23/23 [00:00<00:00, 53.59batch/s, acc=85.3, loss=0.683]\n"
     ]
    },
    {
     "name": "stdout",
     "output_type": "stream",
     "text": [
      "Epoch 332 validation: Cross-entropy=0.70, Accuracy=82.3%\n"
     ]
    },
    {
     "name": "stderr",
     "output_type": "stream",
     "text": [
      "Epoch 333: 100%|███████| 23/23 [00:00<00:00, 52.90batch/s, acc=85.3, loss=0.683]\n"
     ]
    },
    {
     "name": "stdout",
     "output_type": "stream",
     "text": [
      "Epoch 333 validation: Cross-entropy=0.70, Accuracy=82.3%\n"
     ]
    },
    {
     "name": "stderr",
     "output_type": "stream",
     "text": [
      "Epoch 334: 100%|███████| 23/23 [00:00<00:00, 55.10batch/s, acc=85.3, loss=0.683]\n"
     ]
    },
    {
     "name": "stdout",
     "output_type": "stream",
     "text": [
      "Epoch 334 validation: Cross-entropy=0.70, Accuracy=82.3%\n"
     ]
    },
    {
     "name": "stderr",
     "output_type": "stream",
     "text": [
      "Epoch 335: 100%|███████| 23/23 [00:00<00:00, 55.53batch/s, acc=85.3, loss=0.683]\n"
     ]
    },
    {
     "name": "stdout",
     "output_type": "stream",
     "text": [
      "Epoch 335 validation: Cross-entropy=0.70, Accuracy=82.3%\n"
     ]
    },
    {
     "name": "stderr",
     "output_type": "stream",
     "text": [
      "Epoch 336: 100%|███████| 23/23 [00:00<00:00, 54.08batch/s, acc=85.3, loss=0.683]\n"
     ]
    },
    {
     "name": "stdout",
     "output_type": "stream",
     "text": [
      "Epoch 336 validation: Cross-entropy=0.70, Accuracy=82.3%\n"
     ]
    },
    {
     "name": "stderr",
     "output_type": "stream",
     "text": [
      "Epoch 337: 100%|███████| 23/23 [00:00<00:00, 53.28batch/s, acc=85.3, loss=0.683]\n"
     ]
    },
    {
     "name": "stdout",
     "output_type": "stream",
     "text": [
      "Epoch 337 validation: Cross-entropy=0.70, Accuracy=82.3%\n"
     ]
    },
    {
     "name": "stderr",
     "output_type": "stream",
     "text": [
      "Epoch 338: 100%|███████| 23/23 [00:00<00:00, 56.83batch/s, acc=85.3, loss=0.683]\n"
     ]
    },
    {
     "name": "stdout",
     "output_type": "stream",
     "text": [
      "Epoch 338 validation: Cross-entropy=0.70, Accuracy=82.3%\n"
     ]
    },
    {
     "name": "stderr",
     "output_type": "stream",
     "text": [
      "Epoch 339: 100%|███████| 23/23 [00:00<00:00, 58.55batch/s, acc=85.3, loss=0.683]\n"
     ]
    },
    {
     "name": "stdout",
     "output_type": "stream",
     "text": [
      "Epoch 339 validation: Cross-entropy=0.70, Accuracy=82.3%\n"
     ]
    },
    {
     "name": "stderr",
     "output_type": "stream",
     "text": [
      "Epoch 340: 100%|███████| 23/23 [00:00<00:00, 63.52batch/s, acc=85.3, loss=0.683]\n"
     ]
    },
    {
     "name": "stdout",
     "output_type": "stream",
     "text": [
      "Epoch 340 validation: Cross-entropy=0.70, Accuracy=82.3%\n"
     ]
    },
    {
     "name": "stderr",
     "output_type": "stream",
     "text": [
      "Epoch 341: 100%|███████| 23/23 [00:00<00:00, 57.05batch/s, acc=85.3, loss=0.683]\n"
     ]
    },
    {
     "name": "stdout",
     "output_type": "stream",
     "text": [
      "Epoch 341 validation: Cross-entropy=0.70, Accuracy=82.3%\n"
     ]
    },
    {
     "name": "stderr",
     "output_type": "stream",
     "text": [
      "Epoch 342: 100%|███████| 23/23 [00:00<00:00, 55.70batch/s, acc=85.3, loss=0.683]\n"
     ]
    },
    {
     "name": "stdout",
     "output_type": "stream",
     "text": [
      "Epoch 342 validation: Cross-entropy=0.70, Accuracy=82.3%\n"
     ]
    },
    {
     "name": "stderr",
     "output_type": "stream",
     "text": [
      "Epoch 343: 100%|███████| 23/23 [00:00<00:00, 58.49batch/s, acc=85.3, loss=0.683]\n"
     ]
    },
    {
     "name": "stdout",
     "output_type": "stream",
     "text": [
      "Epoch 343 validation: Cross-entropy=0.70, Accuracy=82.3%\n"
     ]
    },
    {
     "name": "stderr",
     "output_type": "stream",
     "text": [
      "Epoch 344: 100%|███████| 23/23 [00:00<00:00, 57.60batch/s, acc=85.3, loss=0.683]\n"
     ]
    },
    {
     "name": "stdout",
     "output_type": "stream",
     "text": [
      "Epoch 344 validation: Cross-entropy=0.70, Accuracy=82.3%\n"
     ]
    },
    {
     "name": "stderr",
     "output_type": "stream",
     "text": [
      "Epoch 345: 100%|███████| 23/23 [00:00<00:00, 57.30batch/s, acc=85.3, loss=0.683]\n"
     ]
    },
    {
     "name": "stdout",
     "output_type": "stream",
     "text": [
      "Epoch 345 validation: Cross-entropy=0.70, Accuracy=82.3%\n"
     ]
    },
    {
     "name": "stderr",
     "output_type": "stream",
     "text": [
      "Epoch 346: 100%|███████| 23/23 [00:00<00:00, 56.69batch/s, acc=85.3, loss=0.683]\n"
     ]
    },
    {
     "name": "stdout",
     "output_type": "stream",
     "text": [
      "Epoch 346 validation: Cross-entropy=0.70, Accuracy=82.3%\n"
     ]
    },
    {
     "name": "stderr",
     "output_type": "stream",
     "text": [
      "Epoch 347: 100%|███████| 23/23 [00:00<00:00, 54.25batch/s, acc=85.3, loss=0.683]\n"
     ]
    },
    {
     "name": "stdout",
     "output_type": "stream",
     "text": [
      "Epoch 347 validation: Cross-entropy=0.70, Accuracy=82.3%\n"
     ]
    },
    {
     "name": "stderr",
     "output_type": "stream",
     "text": [
      "Epoch 348: 100%|███████| 23/23 [00:00<00:00, 58.96batch/s, acc=85.3, loss=0.683]\n"
     ]
    },
    {
     "name": "stdout",
     "output_type": "stream",
     "text": [
      "Epoch 348 validation: Cross-entropy=0.70, Accuracy=82.3%\n"
     ]
    },
    {
     "name": "stderr",
     "output_type": "stream",
     "text": [
      "Epoch 349: 100%|███████| 23/23 [00:00<00:00, 54.42batch/s, acc=85.3, loss=0.683]\n"
     ]
    },
    {
     "name": "stdout",
     "output_type": "stream",
     "text": [
      "Epoch 349 validation: Cross-entropy=0.70, Accuracy=82.3%\n"
     ]
    },
    {
     "name": "stderr",
     "output_type": "stream",
     "text": [
      "Epoch 350: 100%|███████| 23/23 [00:00<00:00, 59.28batch/s, acc=85.3, loss=0.683]\n"
     ]
    },
    {
     "name": "stdout",
     "output_type": "stream",
     "text": [
      "Epoch 350 validation: Cross-entropy=0.70, Accuracy=82.3%\n"
     ]
    },
    {
     "name": "stderr",
     "output_type": "stream",
     "text": [
      "Epoch 351: 100%|███████| 23/23 [00:00<00:00, 54.01batch/s, acc=85.3, loss=0.683]\n"
     ]
    },
    {
     "name": "stdout",
     "output_type": "stream",
     "text": [
      "Epoch 351 validation: Cross-entropy=0.70, Accuracy=82.3%\n"
     ]
    },
    {
     "name": "stderr",
     "output_type": "stream",
     "text": [
      "Epoch 352: 100%|███████| 23/23 [00:00<00:00, 59.23batch/s, acc=85.3, loss=0.683]\n"
     ]
    },
    {
     "name": "stdout",
     "output_type": "stream",
     "text": [
      "Epoch 352 validation: Cross-entropy=0.70, Accuracy=82.3%\n"
     ]
    },
    {
     "name": "stderr",
     "output_type": "stream",
     "text": [
      "Epoch 353: 100%|███████| 23/23 [00:00<00:00, 58.40batch/s, acc=85.3, loss=0.683]\n"
     ]
    },
    {
     "name": "stdout",
     "output_type": "stream",
     "text": [
      "Epoch 353 validation: Cross-entropy=0.70, Accuracy=82.3%\n"
     ]
    },
    {
     "name": "stderr",
     "output_type": "stream",
     "text": [
      "Epoch 354: 100%|███████| 23/23 [00:00<00:00, 54.33batch/s, acc=85.3, loss=0.683]\n"
     ]
    },
    {
     "name": "stdout",
     "output_type": "stream",
     "text": [
      "Epoch 354 validation: Cross-entropy=0.70, Accuracy=82.3%\n"
     ]
    },
    {
     "name": "stderr",
     "output_type": "stream",
     "text": [
      "Epoch 355: 100%|███████| 23/23 [00:00<00:00, 59.77batch/s, acc=85.3, loss=0.683]\n"
     ]
    },
    {
     "name": "stdout",
     "output_type": "stream",
     "text": [
      "Epoch 355 validation: Cross-entropy=0.70, Accuracy=82.3%\n"
     ]
    },
    {
     "name": "stderr",
     "output_type": "stream",
     "text": [
      "Epoch 356: 100%|███████| 23/23 [00:00<00:00, 56.04batch/s, acc=85.3, loss=0.683]\n"
     ]
    },
    {
     "name": "stdout",
     "output_type": "stream",
     "text": [
      "Epoch 356 validation: Cross-entropy=0.70, Accuracy=82.3%\n"
     ]
    },
    {
     "name": "stderr",
     "output_type": "stream",
     "text": [
      "Epoch 357: 100%|███████| 23/23 [00:00<00:00, 55.44batch/s, acc=85.3, loss=0.683]\n"
     ]
    },
    {
     "name": "stdout",
     "output_type": "stream",
     "text": [
      "Epoch 357 validation: Cross-entropy=0.70, Accuracy=82.3%\n"
     ]
    },
    {
     "name": "stderr",
     "output_type": "stream",
     "text": [
      "Epoch 358: 100%|███████| 23/23 [00:00<00:00, 54.38batch/s, acc=85.3, loss=0.683]\n"
     ]
    },
    {
     "name": "stdout",
     "output_type": "stream",
     "text": [
      "Epoch 358 validation: Cross-entropy=0.70, Accuracy=82.3%\n"
     ]
    },
    {
     "name": "stderr",
     "output_type": "stream",
     "text": [
      "Epoch 359: 100%|███████| 23/23 [00:00<00:00, 57.78batch/s, acc=85.3, loss=0.683]\n"
     ]
    },
    {
     "name": "stdout",
     "output_type": "stream",
     "text": [
      "Epoch 359 validation: Cross-entropy=0.70, Accuracy=82.3%\n"
     ]
    },
    {
     "name": "stderr",
     "output_type": "stream",
     "text": [
      "Epoch 360: 100%|███████| 23/23 [00:00<00:00, 57.25batch/s, acc=85.3, loss=0.683]\n"
     ]
    },
    {
     "name": "stdout",
     "output_type": "stream",
     "text": [
      "Epoch 360 validation: Cross-entropy=0.70, Accuracy=82.3%\n"
     ]
    },
    {
     "name": "stderr",
     "output_type": "stream",
     "text": [
      "Epoch 361: 100%|███████| 23/23 [00:00<00:00, 58.43batch/s, acc=85.3, loss=0.683]\n"
     ]
    },
    {
     "name": "stdout",
     "output_type": "stream",
     "text": [
      "Epoch 361 validation: Cross-entropy=0.70, Accuracy=82.3%\n"
     ]
    },
    {
     "name": "stderr",
     "output_type": "stream",
     "text": [
      "Epoch 362: 100%|███████| 23/23 [00:00<00:00, 53.80batch/s, acc=85.3, loss=0.683]\n"
     ]
    },
    {
     "name": "stdout",
     "output_type": "stream",
     "text": [
      "Epoch 362 validation: Cross-entropy=0.70, Accuracy=82.3%\n"
     ]
    },
    {
     "name": "stderr",
     "output_type": "stream",
     "text": [
      "Epoch 363: 100%|███████| 23/23 [00:00<00:00, 56.57batch/s, acc=85.3, loss=0.683]\n"
     ]
    },
    {
     "name": "stdout",
     "output_type": "stream",
     "text": [
      "Epoch 363 validation: Cross-entropy=0.70, Accuracy=82.3%\n"
     ]
    },
    {
     "name": "stderr",
     "output_type": "stream",
     "text": [
      "Epoch 364: 100%|███████| 23/23 [00:00<00:00, 56.21batch/s, acc=85.3, loss=0.683]\n"
     ]
    },
    {
     "name": "stdout",
     "output_type": "stream",
     "text": [
      "Epoch 364 validation: Cross-entropy=0.70, Accuracy=82.3%\n"
     ]
    },
    {
     "name": "stderr",
     "output_type": "stream",
     "text": [
      "Epoch 365: 100%|███████| 23/23 [00:00<00:00, 60.05batch/s, acc=85.3, loss=0.683]\n"
     ]
    },
    {
     "name": "stdout",
     "output_type": "stream",
     "text": [
      "Epoch 365 validation: Cross-entropy=0.70, Accuracy=82.3%\n"
     ]
    },
    {
     "name": "stderr",
     "output_type": "stream",
     "text": [
      "Epoch 366: 100%|███████| 23/23 [00:00<00:00, 60.08batch/s, acc=85.3, loss=0.683]\n"
     ]
    },
    {
     "name": "stdout",
     "output_type": "stream",
     "text": [
      "Epoch 366 validation: Cross-entropy=0.70, Accuracy=82.3%\n"
     ]
    },
    {
     "name": "stderr",
     "output_type": "stream",
     "text": [
      "Epoch 367: 100%|███████| 23/23 [00:00<00:00, 60.33batch/s, acc=85.3, loss=0.683]\n"
     ]
    },
    {
     "name": "stdout",
     "output_type": "stream",
     "text": [
      "Epoch 367 validation: Cross-entropy=0.70, Accuracy=82.3%\n"
     ]
    },
    {
     "name": "stderr",
     "output_type": "stream",
     "text": [
      "Epoch 368: 100%|███████| 23/23 [00:00<00:00, 52.97batch/s, acc=85.3, loss=0.683]\n"
     ]
    },
    {
     "name": "stdout",
     "output_type": "stream",
     "text": [
      "Epoch 368 validation: Cross-entropy=0.70, Accuracy=82.3%\n"
     ]
    },
    {
     "name": "stderr",
     "output_type": "stream",
     "text": [
      "Epoch 369: 100%|███████| 23/23 [00:00<00:00, 55.77batch/s, acc=85.3, loss=0.683]\n"
     ]
    },
    {
     "name": "stdout",
     "output_type": "stream",
     "text": [
      "Epoch 369 validation: Cross-entropy=0.70, Accuracy=82.3%\n"
     ]
    },
    {
     "name": "stderr",
     "output_type": "stream",
     "text": [
      "Epoch 370: 100%|███████| 23/23 [00:00<00:00, 57.37batch/s, acc=85.3, loss=0.683]\n"
     ]
    },
    {
     "name": "stdout",
     "output_type": "stream",
     "text": [
      "Epoch 370 validation: Cross-entropy=0.70, Accuracy=82.3%\n"
     ]
    },
    {
     "name": "stderr",
     "output_type": "stream",
     "text": [
      "Epoch 371: 100%|███████| 23/23 [00:00<00:00, 54.93batch/s, acc=85.3, loss=0.683]\n"
     ]
    },
    {
     "name": "stdout",
     "output_type": "stream",
     "text": [
      "Epoch 371 validation: Cross-entropy=0.70, Accuracy=82.3%\n"
     ]
    },
    {
     "name": "stderr",
     "output_type": "stream",
     "text": [
      "Epoch 372: 100%|███████| 23/23 [00:00<00:00, 59.52batch/s, acc=85.3, loss=0.683]\n"
     ]
    },
    {
     "name": "stdout",
     "output_type": "stream",
     "text": [
      "Epoch 372 validation: Cross-entropy=0.70, Accuracy=82.3%\n"
     ]
    },
    {
     "name": "stderr",
     "output_type": "stream",
     "text": [
      "Epoch 373: 100%|███████| 23/23 [00:00<00:00, 59.66batch/s, acc=85.3, loss=0.683]\n"
     ]
    },
    {
     "name": "stdout",
     "output_type": "stream",
     "text": [
      "Epoch 373 validation: Cross-entropy=0.70, Accuracy=82.3%\n"
     ]
    },
    {
     "name": "stderr",
     "output_type": "stream",
     "text": [
      "Epoch 374: 100%|███████| 23/23 [00:00<00:00, 55.67batch/s, acc=85.3, loss=0.683]\n"
     ]
    },
    {
     "name": "stdout",
     "output_type": "stream",
     "text": [
      "Epoch 374 validation: Cross-entropy=0.70, Accuracy=82.3%\n"
     ]
    },
    {
     "name": "stderr",
     "output_type": "stream",
     "text": [
      "Epoch 375: 100%|███████| 23/23 [00:00<00:00, 57.23batch/s, acc=85.3, loss=0.683]\n"
     ]
    },
    {
     "name": "stdout",
     "output_type": "stream",
     "text": [
      "Epoch 375 validation: Cross-entropy=0.70, Accuracy=82.3%\n"
     ]
    },
    {
     "name": "stderr",
     "output_type": "stream",
     "text": [
      "Epoch 376: 100%|███████| 23/23 [00:00<00:00, 56.37batch/s, acc=85.3, loss=0.683]\n"
     ]
    },
    {
     "name": "stdout",
     "output_type": "stream",
     "text": [
      "Epoch 376 validation: Cross-entropy=0.70, Accuracy=82.3%\n"
     ]
    },
    {
     "name": "stderr",
     "output_type": "stream",
     "text": [
      "Epoch 377: 100%|███████| 23/23 [00:00<00:00, 58.99batch/s, acc=85.3, loss=0.683]\n"
     ]
    },
    {
     "name": "stdout",
     "output_type": "stream",
     "text": [
      "Epoch 377 validation: Cross-entropy=0.70, Accuracy=82.3%\n"
     ]
    },
    {
     "name": "stderr",
     "output_type": "stream",
     "text": [
      "Epoch 378: 100%|█████████| 23/23 [00:00<00:00, 66.74batch/s, acc=86, loss=0.683]\n"
     ]
    },
    {
     "name": "stdout",
     "output_type": "stream",
     "text": [
      "Epoch 378 validation: Cross-entropy=0.70, Accuracy=82.3%\n"
     ]
    },
    {
     "name": "stderr",
     "output_type": "stream",
     "text": [
      "Epoch 379: 100%|█████████| 23/23 [00:00<00:00, 60.90batch/s, acc=86, loss=0.683]\n"
     ]
    },
    {
     "name": "stdout",
     "output_type": "stream",
     "text": [
      "Epoch 379 validation: Cross-entropy=0.69, Accuracy=82.3%\n"
     ]
    },
    {
     "name": "stderr",
     "output_type": "stream",
     "text": [
      "Epoch 380: 100%|█████████| 23/23 [00:00<00:00, 68.13batch/s, acc=86, loss=0.683]\n"
     ]
    },
    {
     "name": "stdout",
     "output_type": "stream",
     "text": [
      "Epoch 380 validation: Cross-entropy=0.69, Accuracy=82.3%\n"
     ]
    },
    {
     "name": "stderr",
     "output_type": "stream",
     "text": [
      "Epoch 381: 100%|█████████| 23/23 [00:00<00:00, 62.24batch/s, acc=86, loss=0.683]\n"
     ]
    },
    {
     "name": "stdout",
     "output_type": "stream",
     "text": [
      "Epoch 381 validation: Cross-entropy=0.69, Accuracy=82.3%\n"
     ]
    },
    {
     "name": "stderr",
     "output_type": "stream",
     "text": [
      "Epoch 382: 100%|█████████| 23/23 [00:00<00:00, 63.09batch/s, acc=86, loss=0.683]\n"
     ]
    },
    {
     "name": "stdout",
     "output_type": "stream",
     "text": [
      "Epoch 382 validation: Cross-entropy=0.69, Accuracy=82.3%\n"
     ]
    },
    {
     "name": "stderr",
     "output_type": "stream",
     "text": [
      "Epoch 383: 100%|█████████| 23/23 [00:00<00:00, 67.58batch/s, acc=86, loss=0.683]\n"
     ]
    },
    {
     "name": "stdout",
     "output_type": "stream",
     "text": [
      "Epoch 383 validation: Cross-entropy=0.69, Accuracy=82.3%\n"
     ]
    },
    {
     "name": "stderr",
     "output_type": "stream",
     "text": [
      "Epoch 384: 100%|█████████| 23/23 [00:00<00:00, 64.93batch/s, acc=86, loss=0.683]\n"
     ]
    },
    {
     "name": "stdout",
     "output_type": "stream",
     "text": [
      "Epoch 384 validation: Cross-entropy=0.69, Accuracy=82.3%\n"
     ]
    },
    {
     "name": "stderr",
     "output_type": "stream",
     "text": [
      "Epoch 385: 100%|█████████| 23/23 [00:00<00:00, 68.18batch/s, acc=86, loss=0.683]\n"
     ]
    },
    {
     "name": "stdout",
     "output_type": "stream",
     "text": [
      "Epoch 385 validation: Cross-entropy=0.69, Accuracy=82.3%\n"
     ]
    },
    {
     "name": "stderr",
     "output_type": "stream",
     "text": [
      "Epoch 386: 100%|█████████| 23/23 [00:00<00:00, 66.19batch/s, acc=86, loss=0.683]\n"
     ]
    },
    {
     "name": "stdout",
     "output_type": "stream",
     "text": [
      "Epoch 386 validation: Cross-entropy=0.69, Accuracy=82.3%\n"
     ]
    },
    {
     "name": "stderr",
     "output_type": "stream",
     "text": [
      "Epoch 387: 100%|█████████| 23/23 [00:00<00:00, 65.38batch/s, acc=86, loss=0.683]\n"
     ]
    },
    {
     "name": "stdout",
     "output_type": "stream",
     "text": [
      "Epoch 387 validation: Cross-entropy=0.69, Accuracy=82.3%\n"
     ]
    },
    {
     "name": "stderr",
     "output_type": "stream",
     "text": [
      "Epoch 388: 100%|█████████| 23/23 [00:00<00:00, 67.46batch/s, acc=86, loss=0.683]\n"
     ]
    },
    {
     "name": "stdout",
     "output_type": "stream",
     "text": [
      "Epoch 388 validation: Cross-entropy=0.69, Accuracy=82.3%\n"
     ]
    },
    {
     "name": "stderr",
     "output_type": "stream",
     "text": [
      "Epoch 389: 100%|█████████| 23/23 [00:00<00:00, 64.45batch/s, acc=86, loss=0.683]\n"
     ]
    },
    {
     "name": "stdout",
     "output_type": "stream",
     "text": [
      "Epoch 389 validation: Cross-entropy=0.69, Accuracy=82.3%\n"
     ]
    },
    {
     "name": "stderr",
     "output_type": "stream",
     "text": [
      "Epoch 390: 100%|█████████| 23/23 [00:00<00:00, 59.80batch/s, acc=86, loss=0.683]\n"
     ]
    },
    {
     "name": "stdout",
     "output_type": "stream",
     "text": [
      "Epoch 390 validation: Cross-entropy=0.69, Accuracy=82.3%\n"
     ]
    },
    {
     "name": "stderr",
     "output_type": "stream",
     "text": [
      "Epoch 391: 100%|█████████| 23/23 [00:00<00:00, 63.49batch/s, acc=86, loss=0.683]\n"
     ]
    },
    {
     "name": "stdout",
     "output_type": "stream",
     "text": [
      "Epoch 391 validation: Cross-entropy=0.69, Accuracy=82.3%\n"
     ]
    },
    {
     "name": "stderr",
     "output_type": "stream",
     "text": [
      "Epoch 392: 100%|█████████| 23/23 [00:00<00:00, 67.85batch/s, acc=86, loss=0.683]\n"
     ]
    },
    {
     "name": "stdout",
     "output_type": "stream",
     "text": [
      "Epoch 392 validation: Cross-entropy=0.69, Accuracy=82.3%\n"
     ]
    },
    {
     "name": "stderr",
     "output_type": "stream",
     "text": [
      "Epoch 393: 100%|█████████| 23/23 [00:00<00:00, 68.94batch/s, acc=86, loss=0.683]\n"
     ]
    },
    {
     "name": "stdout",
     "output_type": "stream",
     "text": [
      "Epoch 393 validation: Cross-entropy=0.69, Accuracy=82.3%\n"
     ]
    },
    {
     "name": "stderr",
     "output_type": "stream",
     "text": [
      "Epoch 394: 100%|█████████| 23/23 [00:00<00:00, 67.45batch/s, acc=86, loss=0.683]\n"
     ]
    },
    {
     "name": "stdout",
     "output_type": "stream",
     "text": [
      "Epoch 394 validation: Cross-entropy=0.69, Accuracy=82.3%\n"
     ]
    },
    {
     "name": "stderr",
     "output_type": "stream",
     "text": [
      "Epoch 395: 100%|█████████| 23/23 [00:00<00:00, 64.85batch/s, acc=86, loss=0.683]\n"
     ]
    },
    {
     "name": "stdout",
     "output_type": "stream",
     "text": [
      "Epoch 395 validation: Cross-entropy=0.69, Accuracy=82.3%\n"
     ]
    },
    {
     "name": "stderr",
     "output_type": "stream",
     "text": [
      "Epoch 396: 100%|█████████| 23/23 [00:00<00:00, 64.77batch/s, acc=86, loss=0.683]\n"
     ]
    },
    {
     "name": "stdout",
     "output_type": "stream",
     "text": [
      "Epoch 396 validation: Cross-entropy=0.69, Accuracy=82.3%\n"
     ]
    },
    {
     "name": "stderr",
     "output_type": "stream",
     "text": [
      "Epoch 397: 100%|█████████| 23/23 [00:00<00:00, 70.69batch/s, acc=86, loss=0.683]\n"
     ]
    },
    {
     "name": "stdout",
     "output_type": "stream",
     "text": [
      "Epoch 397 validation: Cross-entropy=0.69, Accuracy=82.3%\n"
     ]
    },
    {
     "name": "stderr",
     "output_type": "stream",
     "text": [
      "Epoch 398: 100%|█████████| 23/23 [00:00<00:00, 64.53batch/s, acc=86, loss=0.683]\n"
     ]
    },
    {
     "name": "stdout",
     "output_type": "stream",
     "text": [
      "Epoch 398 validation: Cross-entropy=0.69, Accuracy=82.3%\n"
     ]
    },
    {
     "name": "stderr",
     "output_type": "stream",
     "text": [
      "Epoch 399: 100%|█████████| 23/23 [00:00<00:00, 67.13batch/s, acc=86, loss=0.683]\n"
     ]
    },
    {
     "name": "stdout",
     "output_type": "stream",
     "text": [
      "Epoch 399 validation: Cross-entropy=0.69, Accuracy=82.3%\n"
     ]
    },
    {
     "name": "stderr",
     "output_type": "stream",
     "text": [
      "Epoch 400: 100%|█████████| 23/23 [00:00<00:00, 67.30batch/s, acc=86, loss=0.683]\n"
     ]
    },
    {
     "name": "stdout",
     "output_type": "stream",
     "text": [
      "Epoch 400 validation: Cross-entropy=0.69, Accuracy=82.3%\n"
     ]
    },
    {
     "name": "stderr",
     "output_type": "stream",
     "text": [
      "Epoch 401: 100%|█████████| 23/23 [00:00<00:00, 58.52batch/s, acc=86, loss=0.683]\n"
     ]
    },
    {
     "name": "stdout",
     "output_type": "stream",
     "text": [
      "Epoch 401 validation: Cross-entropy=0.69, Accuracy=82.3%\n"
     ]
    },
    {
     "name": "stderr",
     "output_type": "stream",
     "text": [
      "Epoch 402: 100%|█████████| 23/23 [00:00<00:00, 65.14batch/s, acc=86, loss=0.683]\n"
     ]
    },
    {
     "name": "stdout",
     "output_type": "stream",
     "text": [
      "Epoch 402 validation: Cross-entropy=0.69, Accuracy=82.3%\n"
     ]
    },
    {
     "name": "stderr",
     "output_type": "stream",
     "text": [
      "Epoch 403: 100%|█████████| 23/23 [00:00<00:00, 68.65batch/s, acc=86, loss=0.683]\n"
     ]
    },
    {
     "name": "stdout",
     "output_type": "stream",
     "text": [
      "Epoch 403 validation: Cross-entropy=0.69, Accuracy=82.3%\n"
     ]
    },
    {
     "name": "stderr",
     "output_type": "stream",
     "text": [
      "Epoch 404: 100%|█████████| 23/23 [00:00<00:00, 62.87batch/s, acc=86, loss=0.683]\n"
     ]
    },
    {
     "name": "stdout",
     "output_type": "stream",
     "text": [
      "Epoch 404 validation: Cross-entropy=0.69, Accuracy=82.3%\n"
     ]
    },
    {
     "name": "stderr",
     "output_type": "stream",
     "text": [
      "Epoch 405: 100%|█████████| 23/23 [00:00<00:00, 62.90batch/s, acc=86, loss=0.683]\n"
     ]
    },
    {
     "name": "stdout",
     "output_type": "stream",
     "text": [
      "Epoch 405 validation: Cross-entropy=0.69, Accuracy=82.3%\n"
     ]
    },
    {
     "name": "stderr",
     "output_type": "stream",
     "text": [
      "Epoch 406: 100%|█████████| 23/23 [00:00<00:00, 64.93batch/s, acc=86, loss=0.683]\n"
     ]
    },
    {
     "name": "stdout",
     "output_type": "stream",
     "text": [
      "Epoch 406 validation: Cross-entropy=0.69, Accuracy=82.3%\n"
     ]
    },
    {
     "name": "stderr",
     "output_type": "stream",
     "text": [
      "Epoch 407: 100%|█████████| 23/23 [00:00<00:00, 64.69batch/s, acc=86, loss=0.683]\n"
     ]
    },
    {
     "name": "stdout",
     "output_type": "stream",
     "text": [
      "Epoch 407 validation: Cross-entropy=0.69, Accuracy=82.3%\n"
     ]
    },
    {
     "name": "stderr",
     "output_type": "stream",
     "text": [
      "Epoch 408: 100%|█████████| 23/23 [00:00<00:00, 64.54batch/s, acc=86, loss=0.683]\n"
     ]
    },
    {
     "name": "stdout",
     "output_type": "stream",
     "text": [
      "Epoch 408 validation: Cross-entropy=0.69, Accuracy=82.3%\n"
     ]
    },
    {
     "name": "stderr",
     "output_type": "stream",
     "text": [
      "Epoch 409: 100%|█████████| 23/23 [00:00<00:00, 64.15batch/s, acc=86, loss=0.683]\n"
     ]
    },
    {
     "name": "stdout",
     "output_type": "stream",
     "text": [
      "Epoch 409 validation: Cross-entropy=0.69, Accuracy=82.3%\n"
     ]
    },
    {
     "name": "stderr",
     "output_type": "stream",
     "text": [
      "Epoch 410: 100%|█████████| 23/23 [00:00<00:00, 66.88batch/s, acc=86, loss=0.683]\n"
     ]
    },
    {
     "name": "stdout",
     "output_type": "stream",
     "text": [
      "Epoch 410 validation: Cross-entropy=0.69, Accuracy=82.3%\n"
     ]
    },
    {
     "name": "stderr",
     "output_type": "stream",
     "text": [
      "Epoch 411: 100%|█████████| 23/23 [00:00<00:00, 63.45batch/s, acc=86, loss=0.683]\n"
     ]
    },
    {
     "name": "stdout",
     "output_type": "stream",
     "text": [
      "Epoch 411 validation: Cross-entropy=0.69, Accuracy=82.3%\n"
     ]
    },
    {
     "name": "stderr",
     "output_type": "stream",
     "text": [
      "Epoch 412: 100%|█████████| 23/23 [00:00<00:00, 64.71batch/s, acc=86, loss=0.683]\n"
     ]
    },
    {
     "name": "stdout",
     "output_type": "stream",
     "text": [
      "Epoch 412 validation: Cross-entropy=0.69, Accuracy=82.3%\n"
     ]
    },
    {
     "name": "stderr",
     "output_type": "stream",
     "text": [
      "Epoch 413: 100%|█████████| 23/23 [00:00<00:00, 71.90batch/s, acc=86, loss=0.683]\n"
     ]
    },
    {
     "name": "stdout",
     "output_type": "stream",
     "text": [
      "Epoch 413 validation: Cross-entropy=0.69, Accuracy=82.3%\n"
     ]
    },
    {
     "name": "stderr",
     "output_type": "stream",
     "text": [
      "Epoch 414: 100%|█████████| 23/23 [00:00<00:00, 64.73batch/s, acc=86, loss=0.683]\n"
     ]
    },
    {
     "name": "stdout",
     "output_type": "stream",
     "text": [
      "Epoch 414 validation: Cross-entropy=0.69, Accuracy=82.3%\n"
     ]
    },
    {
     "name": "stderr",
     "output_type": "stream",
     "text": [
      "Epoch 415: 100%|█████████| 23/23 [00:00<00:00, 65.26batch/s, acc=86, loss=0.683]\n"
     ]
    },
    {
     "name": "stdout",
     "output_type": "stream",
     "text": [
      "Epoch 415 validation: Cross-entropy=0.69, Accuracy=82.3%\n"
     ]
    },
    {
     "name": "stderr",
     "output_type": "stream",
     "text": [
      "Epoch 416: 100%|█████████| 23/23 [00:00<00:00, 65.48batch/s, acc=86, loss=0.683]\n"
     ]
    },
    {
     "name": "stdout",
     "output_type": "stream",
     "text": [
      "Epoch 416 validation: Cross-entropy=0.69, Accuracy=82.3%\n"
     ]
    },
    {
     "name": "stderr",
     "output_type": "stream",
     "text": [
      "Epoch 417: 100%|█████████| 23/23 [00:00<00:00, 64.88batch/s, acc=86, loss=0.683]\n"
     ]
    },
    {
     "name": "stdout",
     "output_type": "stream",
     "text": [
      "Epoch 417 validation: Cross-entropy=0.69, Accuracy=82.3%\n"
     ]
    },
    {
     "name": "stderr",
     "output_type": "stream",
     "text": [
      "Epoch 418: 100%|█████████| 23/23 [00:00<00:00, 62.52batch/s, acc=86, loss=0.683]\n"
     ]
    },
    {
     "name": "stdout",
     "output_type": "stream",
     "text": [
      "Epoch 418 validation: Cross-entropy=0.69, Accuracy=82.3%\n"
     ]
    },
    {
     "name": "stderr",
     "output_type": "stream",
     "text": [
      "Epoch 419: 100%|█████████| 23/23 [00:00<00:00, 64.89batch/s, acc=86, loss=0.683]\n"
     ]
    },
    {
     "name": "stdout",
     "output_type": "stream",
     "text": [
      "Epoch 419 validation: Cross-entropy=0.69, Accuracy=82.3%\n"
     ]
    },
    {
     "name": "stderr",
     "output_type": "stream",
     "text": [
      "Epoch 420: 100%|█████████| 23/23 [00:00<00:00, 60.92batch/s, acc=86, loss=0.683]\n"
     ]
    },
    {
     "name": "stdout",
     "output_type": "stream",
     "text": [
      "Epoch 420 validation: Cross-entropy=0.69, Accuracy=82.3%\n"
     ]
    },
    {
     "name": "stderr",
     "output_type": "stream",
     "text": [
      "Epoch 421: 100%|█████████| 23/23 [00:00<00:00, 64.08batch/s, acc=86, loss=0.683]\n"
     ]
    },
    {
     "name": "stdout",
     "output_type": "stream",
     "text": [
      "Epoch 421 validation: Cross-entropy=0.69, Accuracy=82.3%\n"
     ]
    },
    {
     "name": "stderr",
     "output_type": "stream",
     "text": [
      "Epoch 422: 100%|█████████| 23/23 [00:00<00:00, 66.24batch/s, acc=86, loss=0.683]\n"
     ]
    },
    {
     "name": "stdout",
     "output_type": "stream",
     "text": [
      "Epoch 422 validation: Cross-entropy=0.69, Accuracy=82.3%\n"
     ]
    },
    {
     "name": "stderr",
     "output_type": "stream",
     "text": [
      "Epoch 423: 100%|█████████| 23/23 [00:00<00:00, 60.47batch/s, acc=86, loss=0.683]\n"
     ]
    },
    {
     "name": "stdout",
     "output_type": "stream",
     "text": [
      "Epoch 423 validation: Cross-entropy=0.69, Accuracy=82.3%\n"
     ]
    },
    {
     "name": "stderr",
     "output_type": "stream",
     "text": [
      "Epoch 424: 100%|█████████| 23/23 [00:00<00:00, 68.39batch/s, acc=86, loss=0.683]\n"
     ]
    },
    {
     "name": "stdout",
     "output_type": "stream",
     "text": [
      "Epoch 424 validation: Cross-entropy=0.69, Accuracy=82.3%\n"
     ]
    },
    {
     "name": "stderr",
     "output_type": "stream",
     "text": [
      "Epoch 425: 100%|█████████| 23/23 [00:00<00:00, 69.21batch/s, acc=86, loss=0.683]\n"
     ]
    },
    {
     "name": "stdout",
     "output_type": "stream",
     "text": [
      "Epoch 425 validation: Cross-entropy=0.69, Accuracy=82.3%\n"
     ]
    },
    {
     "name": "stderr",
     "output_type": "stream",
     "text": [
      "Epoch 426: 100%|█████████| 23/23 [00:00<00:00, 63.51batch/s, acc=86, loss=0.683]\n"
     ]
    },
    {
     "name": "stdout",
     "output_type": "stream",
     "text": [
      "Epoch 426 validation: Cross-entropy=0.69, Accuracy=82.3%\n"
     ]
    },
    {
     "name": "stderr",
     "output_type": "stream",
     "text": [
      "Epoch 427: 100%|█████████| 23/23 [00:00<00:00, 64.18batch/s, acc=86, loss=0.683]\n"
     ]
    },
    {
     "name": "stdout",
     "output_type": "stream",
     "text": [
      "Epoch 427 validation: Cross-entropy=0.69, Accuracy=82.3%\n"
     ]
    },
    {
     "name": "stderr",
     "output_type": "stream",
     "text": [
      "Epoch 428: 100%|█████████| 23/23 [00:00<00:00, 64.27batch/s, acc=86, loss=0.683]\n"
     ]
    },
    {
     "name": "stdout",
     "output_type": "stream",
     "text": [
      "Epoch 428 validation: Cross-entropy=0.69, Accuracy=82.3%\n"
     ]
    },
    {
     "name": "stderr",
     "output_type": "stream",
     "text": [
      "Epoch 429: 100%|█████████| 23/23 [00:00<00:00, 67.77batch/s, acc=86, loss=0.683]\n"
     ]
    },
    {
     "name": "stdout",
     "output_type": "stream",
     "text": [
      "Epoch 429 validation: Cross-entropy=0.69, Accuracy=82.3%\n"
     ]
    },
    {
     "name": "stderr",
     "output_type": "stream",
     "text": [
      "Epoch 430: 100%|█████████| 23/23 [00:00<00:00, 64.74batch/s, acc=86, loss=0.683]\n"
     ]
    },
    {
     "name": "stdout",
     "output_type": "stream",
     "text": [
      "Epoch 430 validation: Cross-entropy=0.69, Accuracy=82.3%\n"
     ]
    },
    {
     "name": "stderr",
     "output_type": "stream",
     "text": [
      "Epoch 431: 100%|█████████| 23/23 [00:00<00:00, 66.00batch/s, acc=86, loss=0.683]\n"
     ]
    },
    {
     "name": "stdout",
     "output_type": "stream",
     "text": [
      "Epoch 431 validation: Cross-entropy=0.69, Accuracy=82.3%\n"
     ]
    },
    {
     "name": "stderr",
     "output_type": "stream",
     "text": [
      "Epoch 432: 100%|█████████| 23/23 [00:00<00:00, 62.67batch/s, acc=86, loss=0.683]\n"
     ]
    },
    {
     "name": "stdout",
     "output_type": "stream",
     "text": [
      "Epoch 432 validation: Cross-entropy=0.69, Accuracy=82.3%\n"
     ]
    },
    {
     "name": "stderr",
     "output_type": "stream",
     "text": [
      "Epoch 433: 100%|█████████| 23/23 [00:00<00:00, 62.82batch/s, acc=86, loss=0.683]\n"
     ]
    },
    {
     "name": "stdout",
     "output_type": "stream",
     "text": [
      "Epoch 433 validation: Cross-entropy=0.69, Accuracy=82.3%\n"
     ]
    },
    {
     "name": "stderr",
     "output_type": "stream",
     "text": [
      "Epoch 434: 100%|█████████| 23/23 [00:00<00:00, 65.28batch/s, acc=86, loss=0.683]\n"
     ]
    },
    {
     "name": "stdout",
     "output_type": "stream",
     "text": [
      "Epoch 434 validation: Cross-entropy=0.69, Accuracy=82.3%\n"
     ]
    },
    {
     "name": "stderr",
     "output_type": "stream",
     "text": [
      "Epoch 435: 100%|█████████| 23/23 [00:00<00:00, 66.56batch/s, acc=86, loss=0.683]\n"
     ]
    },
    {
     "name": "stdout",
     "output_type": "stream",
     "text": [
      "Epoch 435 validation: Cross-entropy=0.69, Accuracy=82.3%\n"
     ]
    },
    {
     "name": "stderr",
     "output_type": "stream",
     "text": [
      "Epoch 436: 100%|█████████| 23/23 [00:00<00:00, 62.89batch/s, acc=86, loss=0.683]\n"
     ]
    },
    {
     "name": "stdout",
     "output_type": "stream",
     "text": [
      "Epoch 436 validation: Cross-entropy=0.69, Accuracy=82.3%\n"
     ]
    },
    {
     "name": "stderr",
     "output_type": "stream",
     "text": [
      "Epoch 437: 100%|█████████| 23/23 [00:00<00:00, 67.54batch/s, acc=86, loss=0.683]\n"
     ]
    },
    {
     "name": "stdout",
     "output_type": "stream",
     "text": [
      "Epoch 437 validation: Cross-entropy=0.69, Accuracy=82.3%\n"
     ]
    },
    {
     "name": "stderr",
     "output_type": "stream",
     "text": [
      "Epoch 438: 100%|█████████| 23/23 [00:00<00:00, 66.76batch/s, acc=86, loss=0.683]\n"
     ]
    },
    {
     "name": "stdout",
     "output_type": "stream",
     "text": [
      "Epoch 438 validation: Cross-entropy=0.69, Accuracy=82.3%\n"
     ]
    },
    {
     "name": "stderr",
     "output_type": "stream",
     "text": [
      "Epoch 439: 100%|█████████| 23/23 [00:00<00:00, 64.05batch/s, acc=86, loss=0.683]\n"
     ]
    },
    {
     "name": "stdout",
     "output_type": "stream",
     "text": [
      "Epoch 439 validation: Cross-entropy=0.69, Accuracy=82.3%\n"
     ]
    },
    {
     "name": "stderr",
     "output_type": "stream",
     "text": [
      "Epoch 440: 100%|█████████| 23/23 [00:00<00:00, 68.01batch/s, acc=86, loss=0.683]\n"
     ]
    },
    {
     "name": "stdout",
     "output_type": "stream",
     "text": [
      "Epoch 440 validation: Cross-entropy=0.69, Accuracy=82.3%\n"
     ]
    },
    {
     "name": "stderr",
     "output_type": "stream",
     "text": [
      "Epoch 441: 100%|█████████| 23/23 [00:00<00:00, 64.00batch/s, acc=86, loss=0.683]\n"
     ]
    },
    {
     "name": "stdout",
     "output_type": "stream",
     "text": [
      "Epoch 441 validation: Cross-entropy=0.69, Accuracy=82.3%\n"
     ]
    },
    {
     "name": "stderr",
     "output_type": "stream",
     "text": [
      "Epoch 442: 100%|█████████| 23/23 [00:00<00:00, 63.71batch/s, acc=86, loss=0.683]\n"
     ]
    },
    {
     "name": "stdout",
     "output_type": "stream",
     "text": [
      "Epoch 442 validation: Cross-entropy=0.69, Accuracy=82.3%\n"
     ]
    },
    {
     "name": "stderr",
     "output_type": "stream",
     "text": [
      "Epoch 443: 100%|█████████| 23/23 [00:00<00:00, 64.87batch/s, acc=86, loss=0.683]\n"
     ]
    },
    {
     "name": "stdout",
     "output_type": "stream",
     "text": [
      "Epoch 443 validation: Cross-entropy=0.69, Accuracy=82.3%\n"
     ]
    },
    {
     "name": "stderr",
     "output_type": "stream",
     "text": [
      "Epoch 444: 100%|█████████| 23/23 [00:00<00:00, 65.03batch/s, acc=86, loss=0.683]\n"
     ]
    },
    {
     "name": "stdout",
     "output_type": "stream",
     "text": [
      "Epoch 444 validation: Cross-entropy=0.69, Accuracy=82.3%\n"
     ]
    },
    {
     "name": "stderr",
     "output_type": "stream",
     "text": [
      "Epoch 445: 100%|█████████| 23/23 [00:00<00:00, 64.29batch/s, acc=86, loss=0.683]\n"
     ]
    },
    {
     "name": "stdout",
     "output_type": "stream",
     "text": [
      "Epoch 445 validation: Cross-entropy=0.69, Accuracy=82.3%\n"
     ]
    },
    {
     "name": "stderr",
     "output_type": "stream",
     "text": [
      "Epoch 446: 100%|█████████| 23/23 [00:00<00:00, 66.89batch/s, acc=86, loss=0.683]\n"
     ]
    },
    {
     "name": "stdout",
     "output_type": "stream",
     "text": [
      "Epoch 446 validation: Cross-entropy=0.69, Accuracy=82.3%\n"
     ]
    },
    {
     "name": "stderr",
     "output_type": "stream",
     "text": [
      "Epoch 447: 100%|█████████| 23/23 [00:00<00:00, 68.32batch/s, acc=86, loss=0.683]\n"
     ]
    },
    {
     "name": "stdout",
     "output_type": "stream",
     "text": [
      "Epoch 447 validation: Cross-entropy=0.69, Accuracy=82.3%\n"
     ]
    },
    {
     "name": "stderr",
     "output_type": "stream",
     "text": [
      "Epoch 448: 100%|█████████| 23/23 [00:00<00:00, 66.23batch/s, acc=86, loss=0.683]\n"
     ]
    },
    {
     "name": "stdout",
     "output_type": "stream",
     "text": [
      "Epoch 448 validation: Cross-entropy=0.69, Accuracy=82.3%\n"
     ]
    },
    {
     "name": "stderr",
     "output_type": "stream",
     "text": [
      "Epoch 449: 100%|█████████| 23/23 [00:00<00:00, 66.51batch/s, acc=86, loss=0.683]\n"
     ]
    },
    {
     "name": "stdout",
     "output_type": "stream",
     "text": [
      "Epoch 449 validation: Cross-entropy=0.69, Accuracy=82.3%\n"
     ]
    },
    {
     "name": "stderr",
     "output_type": "stream",
     "text": [
      "Epoch 450: 100%|█████████| 23/23 [00:00<00:00, 59.48batch/s, acc=86, loss=0.683]\n"
     ]
    },
    {
     "name": "stdout",
     "output_type": "stream",
     "text": [
      "Epoch 450 validation: Cross-entropy=0.69, Accuracy=82.3%\n"
     ]
    },
    {
     "name": "stderr",
     "output_type": "stream",
     "text": [
      "Epoch 451: 100%|█████████| 23/23 [00:00<00:00, 62.96batch/s, acc=86, loss=0.683]\n"
     ]
    },
    {
     "name": "stdout",
     "output_type": "stream",
     "text": [
      "Epoch 451 validation: Cross-entropy=0.69, Accuracy=82.3%\n"
     ]
    },
    {
     "name": "stderr",
     "output_type": "stream",
     "text": [
      "Epoch 452: 100%|█████████| 23/23 [00:00<00:00, 68.29batch/s, acc=86, loss=0.683]\n"
     ]
    },
    {
     "name": "stdout",
     "output_type": "stream",
     "text": [
      "Epoch 452 validation: Cross-entropy=0.69, Accuracy=82.3%\n"
     ]
    },
    {
     "name": "stderr",
     "output_type": "stream",
     "text": [
      "Epoch 453: 100%|█████████| 23/23 [00:00<00:00, 59.92batch/s, acc=86, loss=0.683]\n"
     ]
    },
    {
     "name": "stdout",
     "output_type": "stream",
     "text": [
      "Epoch 453 validation: Cross-entropy=0.69, Accuracy=82.3%\n"
     ]
    },
    {
     "name": "stderr",
     "output_type": "stream",
     "text": [
      "Epoch 454: 100%|█████████| 23/23 [00:00<00:00, 65.11batch/s, acc=86, loss=0.683]\n"
     ]
    },
    {
     "name": "stdout",
     "output_type": "stream",
     "text": [
      "Epoch 454 validation: Cross-entropy=0.69, Accuracy=82.3%\n"
     ]
    },
    {
     "name": "stderr",
     "output_type": "stream",
     "text": [
      "Epoch 455: 100%|█████████| 23/23 [00:00<00:00, 65.91batch/s, acc=86, loss=0.683]\n"
     ]
    },
    {
     "name": "stdout",
     "output_type": "stream",
     "text": [
      "Epoch 455 validation: Cross-entropy=0.69, Accuracy=82.3%\n"
     ]
    },
    {
     "name": "stderr",
     "output_type": "stream",
     "text": [
      "Epoch 456: 100%|█████████| 23/23 [00:00<00:00, 65.94batch/s, acc=86, loss=0.683]\n"
     ]
    },
    {
     "name": "stdout",
     "output_type": "stream",
     "text": [
      "Epoch 456 validation: Cross-entropy=0.69, Accuracy=82.3%\n"
     ]
    },
    {
     "name": "stderr",
     "output_type": "stream",
     "text": [
      "Epoch 457: 100%|█████████| 23/23 [00:00<00:00, 63.56batch/s, acc=86, loss=0.683]\n"
     ]
    },
    {
     "name": "stdout",
     "output_type": "stream",
     "text": [
      "Epoch 457 validation: Cross-entropy=0.69, Accuracy=82.3%\n"
     ]
    },
    {
     "name": "stderr",
     "output_type": "stream",
     "text": [
      "Epoch 458: 100%|█████████| 23/23 [00:00<00:00, 62.88batch/s, acc=86, loss=0.683]\n"
     ]
    },
    {
     "name": "stdout",
     "output_type": "stream",
     "text": [
      "Epoch 458 validation: Cross-entropy=0.69, Accuracy=82.3%\n"
     ]
    },
    {
     "name": "stderr",
     "output_type": "stream",
     "text": [
      "Epoch 459: 100%|█████████| 23/23 [00:00<00:00, 65.85batch/s, acc=86, loss=0.683]\n"
     ]
    },
    {
     "name": "stdout",
     "output_type": "stream",
     "text": [
      "Epoch 459 validation: Cross-entropy=0.69, Accuracy=82.3%\n"
     ]
    },
    {
     "name": "stderr",
     "output_type": "stream",
     "text": [
      "Epoch 460: 100%|█████████| 23/23 [00:00<00:00, 63.57batch/s, acc=86, loss=0.683]\n"
     ]
    },
    {
     "name": "stdout",
     "output_type": "stream",
     "text": [
      "Epoch 460 validation: Cross-entropy=0.69, Accuracy=82.3%\n"
     ]
    },
    {
     "name": "stderr",
     "output_type": "stream",
     "text": [
      "Epoch 461: 100%|█████████| 23/23 [00:00<00:00, 64.95batch/s, acc=86, loss=0.683]\n"
     ]
    },
    {
     "name": "stdout",
     "output_type": "stream",
     "text": [
      "Epoch 461 validation: Cross-entropy=0.69, Accuracy=82.3%\n"
     ]
    },
    {
     "name": "stderr",
     "output_type": "stream",
     "text": [
      "Epoch 462: 100%|█████████| 23/23 [00:00<00:00, 65.55batch/s, acc=86, loss=0.683]\n"
     ]
    },
    {
     "name": "stdout",
     "output_type": "stream",
     "text": [
      "Epoch 462 validation: Cross-entropy=0.69, Accuracy=82.3%\n"
     ]
    },
    {
     "name": "stderr",
     "output_type": "stream",
     "text": [
      "Epoch 463: 100%|█████████| 23/23 [00:00<00:00, 65.41batch/s, acc=86, loss=0.683]\n"
     ]
    },
    {
     "name": "stdout",
     "output_type": "stream",
     "text": [
      "Epoch 463 validation: Cross-entropy=0.69, Accuracy=82.3%\n"
     ]
    },
    {
     "name": "stderr",
     "output_type": "stream",
     "text": [
      "Epoch 464: 100%|█████████| 23/23 [00:00<00:00, 67.43batch/s, acc=86, loss=0.683]\n"
     ]
    },
    {
     "name": "stdout",
     "output_type": "stream",
     "text": [
      "Epoch 464 validation: Cross-entropy=0.69, Accuracy=82.3%\n"
     ]
    },
    {
     "name": "stderr",
     "output_type": "stream",
     "text": [
      "Epoch 465: 100%|█████████| 23/23 [00:00<00:00, 67.00batch/s, acc=86, loss=0.683]\n"
     ]
    },
    {
     "name": "stdout",
     "output_type": "stream",
     "text": [
      "Epoch 465 validation: Cross-entropy=0.69, Accuracy=82.3%\n"
     ]
    },
    {
     "name": "stderr",
     "output_type": "stream",
     "text": [
      "Epoch 466: 100%|█████████| 23/23 [00:00<00:00, 65.23batch/s, acc=86, loss=0.683]\n"
     ]
    },
    {
     "name": "stdout",
     "output_type": "stream",
     "text": [
      "Epoch 466 validation: Cross-entropy=0.69, Accuracy=82.3%\n"
     ]
    },
    {
     "name": "stderr",
     "output_type": "stream",
     "text": [
      "Epoch 467: 100%|█████████| 23/23 [00:00<00:00, 65.59batch/s, acc=86, loss=0.683]\n"
     ]
    },
    {
     "name": "stdout",
     "output_type": "stream",
     "text": [
      "Epoch 467 validation: Cross-entropy=0.69, Accuracy=82.3%\n"
     ]
    },
    {
     "name": "stderr",
     "output_type": "stream",
     "text": [
      "Epoch 468: 100%|█████████| 23/23 [00:00<00:00, 62.48batch/s, acc=86, loss=0.683]\n"
     ]
    },
    {
     "name": "stdout",
     "output_type": "stream",
     "text": [
      "Epoch 468 validation: Cross-entropy=0.69, Accuracy=82.3%\n"
     ]
    },
    {
     "name": "stderr",
     "output_type": "stream",
     "text": [
      "Epoch 469: 100%|█████████| 23/23 [00:00<00:00, 63.74batch/s, acc=86, loss=0.683]\n"
     ]
    },
    {
     "name": "stdout",
     "output_type": "stream",
     "text": [
      "Epoch 469 validation: Cross-entropy=0.69, Accuracy=82.3%\n"
     ]
    },
    {
     "name": "stderr",
     "output_type": "stream",
     "text": [
      "Epoch 470: 100%|█████████| 23/23 [00:00<00:00, 66.19batch/s, acc=86, loss=0.683]\n"
     ]
    },
    {
     "name": "stdout",
     "output_type": "stream",
     "text": [
      "Epoch 470 validation: Cross-entropy=0.69, Accuracy=82.3%\n"
     ]
    },
    {
     "name": "stderr",
     "output_type": "stream",
     "text": [
      "Epoch 471: 100%|█████████| 23/23 [00:00<00:00, 62.73batch/s, acc=86, loss=0.683]\n"
     ]
    },
    {
     "name": "stdout",
     "output_type": "stream",
     "text": [
      "Epoch 471 validation: Cross-entropy=0.69, Accuracy=82.3%\n"
     ]
    },
    {
     "name": "stderr",
     "output_type": "stream",
     "text": [
      "Epoch 472: 100%|█████████| 23/23 [00:00<00:00, 61.07batch/s, acc=86, loss=0.683]\n"
     ]
    },
    {
     "name": "stdout",
     "output_type": "stream",
     "text": [
      "Epoch 472 validation: Cross-entropy=0.69, Accuracy=82.3%\n"
     ]
    },
    {
     "name": "stderr",
     "output_type": "stream",
     "text": [
      "Epoch 473: 100%|█████████| 23/23 [00:00<00:00, 65.02batch/s, acc=86, loss=0.683]\n"
     ]
    },
    {
     "name": "stdout",
     "output_type": "stream",
     "text": [
      "Epoch 473 validation: Cross-entropy=0.69, Accuracy=82.3%\n"
     ]
    },
    {
     "name": "stderr",
     "output_type": "stream",
     "text": [
      "Epoch 474: 100%|█████████| 23/23 [00:00<00:00, 63.64batch/s, acc=86, loss=0.683]\n"
     ]
    },
    {
     "name": "stdout",
     "output_type": "stream",
     "text": [
      "Epoch 474 validation: Cross-entropy=0.69, Accuracy=82.3%\n"
     ]
    },
    {
     "name": "stderr",
     "output_type": "stream",
     "text": [
      "Epoch 475: 100%|█████████| 23/23 [00:00<00:00, 63.79batch/s, acc=86, loss=0.683]\n"
     ]
    },
    {
     "name": "stdout",
     "output_type": "stream",
     "text": [
      "Epoch 475 validation: Cross-entropy=0.69, Accuracy=82.3%\n"
     ]
    },
    {
     "name": "stderr",
     "output_type": "stream",
     "text": [
      "Epoch 476: 100%|█████████| 23/23 [00:00<00:00, 67.07batch/s, acc=86, loss=0.683]\n"
     ]
    },
    {
     "name": "stdout",
     "output_type": "stream",
     "text": [
      "Epoch 476 validation: Cross-entropy=0.69, Accuracy=82.3%\n"
     ]
    },
    {
     "name": "stderr",
     "output_type": "stream",
     "text": [
      "Epoch 477: 100%|█████████| 23/23 [00:00<00:00, 66.87batch/s, acc=86, loss=0.683]\n"
     ]
    },
    {
     "name": "stdout",
     "output_type": "stream",
     "text": [
      "Epoch 477 validation: Cross-entropy=0.69, Accuracy=82.3%\n"
     ]
    },
    {
     "name": "stderr",
     "output_type": "stream",
     "text": [
      "Epoch 478: 100%|█████████| 23/23 [00:00<00:00, 62.22batch/s, acc=86, loss=0.683]\n"
     ]
    },
    {
     "name": "stdout",
     "output_type": "stream",
     "text": [
      "Epoch 478 validation: Cross-entropy=0.69, Accuracy=82.3%\n"
     ]
    },
    {
     "name": "stderr",
     "output_type": "stream",
     "text": [
      "Epoch 479: 100%|█████████| 23/23 [00:00<00:00, 63.71batch/s, acc=86, loss=0.683]\n"
     ]
    },
    {
     "name": "stdout",
     "output_type": "stream",
     "text": [
      "Epoch 479 validation: Cross-entropy=0.69, Accuracy=82.3%\n"
     ]
    },
    {
     "name": "stderr",
     "output_type": "stream",
     "text": [
      "Epoch 480: 100%|█████████| 23/23 [00:00<00:00, 66.43batch/s, acc=86, loss=0.683]\n"
     ]
    },
    {
     "name": "stdout",
     "output_type": "stream",
     "text": [
      "Epoch 480 validation: Cross-entropy=0.69, Accuracy=82.3%\n"
     ]
    },
    {
     "name": "stderr",
     "output_type": "stream",
     "text": [
      "Epoch 481: 100%|█████████| 23/23 [00:00<00:00, 64.51batch/s, acc=86, loss=0.683]\n"
     ]
    },
    {
     "name": "stdout",
     "output_type": "stream",
     "text": [
      "Epoch 481 validation: Cross-entropy=0.69, Accuracy=82.3%\n"
     ]
    },
    {
     "name": "stderr",
     "output_type": "stream",
     "text": [
      "Epoch 482: 100%|█████████| 23/23 [00:00<00:00, 60.95batch/s, acc=86, loss=0.683]\n"
     ]
    },
    {
     "name": "stdout",
     "output_type": "stream",
     "text": [
      "Epoch 482 validation: Cross-entropy=0.69, Accuracy=82.3%\n"
     ]
    },
    {
     "name": "stderr",
     "output_type": "stream",
     "text": [
      "Epoch 483: 100%|█████████| 23/23 [00:00<00:00, 63.40batch/s, acc=86, loss=0.683]\n"
     ]
    },
    {
     "name": "stdout",
     "output_type": "stream",
     "text": [
      "Epoch 483 validation: Cross-entropy=0.69, Accuracy=82.3%\n"
     ]
    },
    {
     "name": "stderr",
     "output_type": "stream",
     "text": [
      "Epoch 484: 100%|█████████| 23/23 [00:00<00:00, 63.85batch/s, acc=86, loss=0.683]\n"
     ]
    },
    {
     "name": "stdout",
     "output_type": "stream",
     "text": [
      "Epoch 484 validation: Cross-entropy=0.69, Accuracy=82.3%\n"
     ]
    },
    {
     "name": "stderr",
     "output_type": "stream",
     "text": [
      "Epoch 485: 100%|█████████| 23/23 [00:00<00:00, 66.29batch/s, acc=86, loss=0.683]\n"
     ]
    },
    {
     "name": "stdout",
     "output_type": "stream",
     "text": [
      "Epoch 485 validation: Cross-entropy=0.69, Accuracy=82.3%\n"
     ]
    },
    {
     "name": "stderr",
     "output_type": "stream",
     "text": [
      "Epoch 486: 100%|█████████| 23/23 [00:00<00:00, 64.97batch/s, acc=86, loss=0.683]\n"
     ]
    },
    {
     "name": "stdout",
     "output_type": "stream",
     "text": [
      "Epoch 486 validation: Cross-entropy=0.69, Accuracy=82.3%\n"
     ]
    },
    {
     "name": "stderr",
     "output_type": "stream",
     "text": [
      "Epoch 487: 100%|█████████| 23/23 [00:00<00:00, 69.32batch/s, acc=86, loss=0.683]\n"
     ]
    },
    {
     "name": "stdout",
     "output_type": "stream",
     "text": [
      "Epoch 487 validation: Cross-entropy=0.69, Accuracy=82.3%\n"
     ]
    },
    {
     "name": "stderr",
     "output_type": "stream",
     "text": [
      "Epoch 488: 100%|█████████| 23/23 [00:00<00:00, 65.56batch/s, acc=86, loss=0.683]\n"
     ]
    },
    {
     "name": "stdout",
     "output_type": "stream",
     "text": [
      "Epoch 488 validation: Cross-entropy=0.69, Accuracy=82.3%\n"
     ]
    },
    {
     "name": "stderr",
     "output_type": "stream",
     "text": [
      "Epoch 489: 100%|█████████| 23/23 [00:00<00:00, 65.17batch/s, acc=86, loss=0.683]\n"
     ]
    },
    {
     "name": "stdout",
     "output_type": "stream",
     "text": [
      "Epoch 489 validation: Cross-entropy=0.69, Accuracy=82.3%\n"
     ]
    },
    {
     "name": "stderr",
     "output_type": "stream",
     "text": [
      "Epoch 490: 100%|█████████| 23/23 [00:00<00:00, 62.00batch/s, acc=86, loss=0.683]\n"
     ]
    },
    {
     "name": "stdout",
     "output_type": "stream",
     "text": [
      "Epoch 490 validation: Cross-entropy=0.69, Accuracy=82.3%\n"
     ]
    },
    {
     "name": "stderr",
     "output_type": "stream",
     "text": [
      "Epoch 491: 100%|█████████| 23/23 [00:00<00:00, 68.60batch/s, acc=86, loss=0.683]\n"
     ]
    },
    {
     "name": "stdout",
     "output_type": "stream",
     "text": [
      "Epoch 491 validation: Cross-entropy=0.69, Accuracy=82.3%\n"
     ]
    },
    {
     "name": "stderr",
     "output_type": "stream",
     "text": [
      "Epoch 492: 100%|█████████| 23/23 [00:00<00:00, 59.67batch/s, acc=86, loss=0.683]\n"
     ]
    },
    {
     "name": "stdout",
     "output_type": "stream",
     "text": [
      "Epoch 492 validation: Cross-entropy=0.69, Accuracy=82.3%\n"
     ]
    },
    {
     "name": "stderr",
     "output_type": "stream",
     "text": [
      "Epoch 493: 100%|█████████| 23/23 [00:00<00:00, 66.97batch/s, acc=86, loss=0.683]\n"
     ]
    },
    {
     "name": "stdout",
     "output_type": "stream",
     "text": [
      "Epoch 493 validation: Cross-entropy=0.69, Accuracy=82.3%\n"
     ]
    },
    {
     "name": "stderr",
     "output_type": "stream",
     "text": [
      "Epoch 494: 100%|█████████| 23/23 [00:00<00:00, 64.53batch/s, acc=86, loss=0.683]\n"
     ]
    },
    {
     "name": "stdout",
     "output_type": "stream",
     "text": [
      "Epoch 494 validation: Cross-entropy=0.69, Accuracy=82.3%\n"
     ]
    },
    {
     "name": "stderr",
     "output_type": "stream",
     "text": [
      "Epoch 495: 100%|█████████| 23/23 [00:00<00:00, 69.24batch/s, acc=86, loss=0.683]\n"
     ]
    },
    {
     "name": "stdout",
     "output_type": "stream",
     "text": [
      "Epoch 495 validation: Cross-entropy=0.69, Accuracy=82.3%\n"
     ]
    },
    {
     "name": "stderr",
     "output_type": "stream",
     "text": [
      "Epoch 496: 100%|█████████| 23/23 [00:00<00:00, 67.48batch/s, acc=86, loss=0.683]\n"
     ]
    },
    {
     "name": "stdout",
     "output_type": "stream",
     "text": [
      "Epoch 496 validation: Cross-entropy=0.69, Accuracy=82.3%\n"
     ]
    },
    {
     "name": "stderr",
     "output_type": "stream",
     "text": [
      "Epoch 497: 100%|█████████| 23/23 [00:00<00:00, 63.12batch/s, acc=86, loss=0.683]\n"
     ]
    },
    {
     "name": "stdout",
     "output_type": "stream",
     "text": [
      "Epoch 497 validation: Cross-entropy=0.69, Accuracy=82.3%\n"
     ]
    },
    {
     "name": "stderr",
     "output_type": "stream",
     "text": [
      "Epoch 498: 100%|█████████| 23/23 [00:00<00:00, 62.31batch/s, acc=86, loss=0.683]\n"
     ]
    },
    {
     "name": "stdout",
     "output_type": "stream",
     "text": [
      "Epoch 498 validation: Cross-entropy=0.69, Accuracy=82.3%\n"
     ]
    },
    {
     "name": "stderr",
     "output_type": "stream",
     "text": [
      "Epoch 499: 100%|█████████| 23/23 [00:00<00:00, 65.70batch/s, acc=86, loss=0.683]"
     ]
    },
    {
     "name": "stdout",
     "output_type": "stream",
     "text": [
      "Epoch 499 validation: Cross-entropy=0.69, Accuracy=82.3%\n"
     ]
    },
    {
     "name": "stderr",
     "output_type": "stream",
     "text": [
      "\n"
     ]
    }
   ],
   "source": [
    "# prepare model and training parameters\n",
    "n_epochs = 500\n",
    "batch_size = 50\n",
    "batches_per_epoch = len(X_train) // batch_size\n",
    " \n",
    "best_acc = - np.inf   # init to negative infinity\n",
    "best_weights = None\n",
    "train_loss_hist = []\n",
    "train_acc_hist = []\n",
    "test_loss_hist = []\n",
    "test_acc_hist = []\n",
    " \n",
    "# training loop\n",
    "for epoch in range(n_epochs):\n",
    "    epoch_loss = []\n",
    "    epoch_acc = []\n",
    "    # set model in training mode and run through each batch\n",
    "    adversary.train()\n",
    "    with tqdm.trange(batches_per_epoch, unit=\"batch\", mininterval=0) as bar:\n",
    "        bar.set_description(f\"Epoch {epoch}\")\n",
    "        for i in bar:\n",
    "            # take a batch\n",
    "            start = i * batch_size\n",
    "            X_batch = X_train[start:start+batch_size]\n",
    "            y_batch = y_train[start:start+batch_size]\n",
    "            # forward pass\n",
    "            y_pred = adversary(X_batch)\n",
    "            loss = loss_fn(y_pred, y_batch)\n",
    "            # backward pass\n",
    "            optimizer.zero_grad()\n",
    "            loss.backward()\n",
    "            # update weights\n",
    "            optimizer.step()\n",
    "            # compute and store metrics\n",
    "            acc = accuracy_fn(y_true=y_batch, \n",
    "                      y_pred=y_pred)\n",
    "            epoch_loss.append(float(loss))\n",
    "            epoch_acc.append(float(acc))\n",
    "            bar.set_postfix(\n",
    "                loss=float(loss),\n",
    "                acc=float(acc)\n",
    "            )\n",
    "    # set model in evaluation mode and run through the test set\n",
    "    adversary.eval()\n",
    "    y_pred = adversary(X_test)\n",
    "    ce = loss_fn(y_pred, y_test)\n",
    "    acc = accuracy_fn(y_true=y_test, \n",
    "                      y_pred=y_pred)\n",
    "    ce = float(ce)\n",
    "    acc = float(acc)\n",
    "    train_loss_hist.append(np.mean(epoch_loss))\n",
    "    train_acc_hist.append(np.mean(epoch_acc))\n",
    "    test_loss_hist.append(ce)\n",
    "    test_acc_hist.append(acc)\n",
    "    if acc > best_acc:\n",
    "        best_acc = acc\n",
    "        best_weights = copy.deepcopy(adversary.state_dict())\n",
    "    print(f\"Epoch {epoch} validation: Cross-entropy={ce:.2f}, Accuracy={acc:.1f}%\")\n",
    " \n"
   ]
  },
  {
   "cell_type": "code",
   "execution_count": 79,
   "id": "4a737340",
   "metadata": {},
   "outputs": [
    {
     "data": {
      "image/png": "[encoded data removed]",
      "text/plain": [
       "<Figure size 432x288 with 1 Axes>"
      ]
     },
     "metadata": {
      "needs_background": "light"
     },
     "output_type": "display_data"
    },
    {
     "data": {
      "image/png": "[encoded data removed]",
      "text/plain": [
       "<Figure size 432x288 with 1 Axes>"
      ]
     },
     "metadata": {
      "needs_background": "light"
     },
     "output_type": "display_data"
    }
   ],
   "source": [
    " \n",
    "# Restore best model\n",
    "adversary.load_state_dict(best_weights)\n",
    " \n",
    "# Plot the loss and accuracy\n",
    "plt.plot(train_loss_hist, label=\"train\")\n",
    "plt.plot(test_loss_hist, label=\"test\")\n",
    "plt.xlabel(\"epochs\")\n",
    "plt.ylabel(\"cross entropy\")\n",
    "plt.legend()\n",
    "plt.show()\n",
    " \n",
    "plt.plot(train_acc_hist, label=\"train\")\n",
    "plt.plot(test_acc_hist, label=\"test\")\n",
    "plt.xlabel(\"epochs\")\n",
    "plt.ylabel(\"accuracy\")\n",
    "plt.legend()\n",
    "plt.show()"
   ]
  },
  {
   "cell_type": "code",
   "execution_count": 80,
   "id": "f758b8a9",
   "metadata": {},
   "outputs": [],
   "source": [
    "dirname = os.path.dirname(os.path.abspath('output/adversary'))\n",
    "os.makedirs(dirname, exist_ok=True)\n",
    "torch.save(adversary, 'output/adversary')"
   ]
  },
  {
   "cell_type": "markdown",
   "id": "2c04f7d0",
   "metadata": {},
   "source": [
    "Take it as it is for now, now save the parameters trained for BPR and adversary\n",
    "\n",
    "Then train for an universal perturbation "
   ]
  },
  {
   "cell_type": "code",
   "execution_count": 18,
   "id": "00f95259",
   "metadata": {
    "scrolled": false
   },
   "outputs": [],
   "source": [
    "# Load\n",
    "adversary = torch.load('output/adversary')\n",
    "# model(X_train)\n",
    "uniform_dist = torch.Tensor([0.5, 0.5])  "
   ]
  },
  {
   "cell_type": "code",
   "execution_count": 19,
   "id": "70bd1698",
   "metadata": {},
   "outputs": [],
   "source": [
    "#this is for indirectly optimize the pertubation\n",
    "\n",
    "criteria = torch.nn.MSELoss()\n",
    "transform_func = torch.nn.Linear(64, 64)#.cuda()"
   ]
  },
  {
   "cell_type": "code",
   "execution_count": 30,
   "id": "319e9fbf",
   "metadata": {},
   "outputs": [],
   "source": [
    "class fairness_reprogramming(nn.Module):\n",
    "    def __init__(self, user_emb, item_emb, Rec, reg):\n",
    "        super().__init__()\n",
    "        ##init the embedding for U and I\n",
    "        self.user_emb = user_emb\n",
    "        self.item_emb = item_emb  \n",
    "        self.reg = reg\n",
    "        self.perturb = nn.Parameter(torch.empty(1, 64))  # dim embedding\n",
    "        nn.init.xavier_normal_(self.perturb.data)\n",
    "\n",
    "        \n",
    "## forward cal\n",
    "    def forward(self, u, i, j, epoch):\n",
    "        \"\"\"Return loss value.\n",
    "        \n",
    "        Args:\n",
    "            u(torch.LongTensor): tensor stored user indexes. [batch_size,]\n",
    "            i(torch.LongTensor): tensor stored item indexes which is prefered by user. [batch_size,]\n",
    "            j(torch.LongTensor): tensor stored item indexes which is not prefered by user. [batch_size,]\n",
    "            epoch\n",
    "\n",
    "        Returns:\n",
    "            torch.FloatTensor\n",
    "        \"\"\"\n",
    "        ##u,i,j respectively, each is a vector of dim embedding (default = 64)\n",
    "#         u = self.user_emb[u, :]\n",
    "#         i = self.item_emb[i, :]\n",
    "#         j = self.item_emb[j, :]\n",
    "\n",
    "        ## Enables this Tensor to have their grad populated during backward(), convert any non-leaf tensor into a leaf tensor,\n",
    "        ##https://stackoverflow.com/questions/73698041/how-retain-grad-in-pytorch-works-i-found-its-position-changes-the-grad-result\n",
    "#         self.perturb.retain_grad()\n",
    "\n",
    "#       transform perturbation\n",
    "        perturb = transform_func(self.perturb)\n",
    "    \n",
    "        transformation_loss = criteria(self.perturb,perturb)\n",
    "        ## mf, dot product of user with pos/neg item\n",
    "        x_ui = torch.mul(self.user_emb[u, :] , self.item_emb[i, :] + perturb).sum(dim=1)\n",
    "        x_uj = torch.mul(self.user_emb[u, :] , self.item_emb[j, :] + perturb).sum(dim=1)\n",
    "        \n",
    "\n",
    "        #extract prediction for item and genres \n",
    "        \n",
    "        \n",
    "        ## Fix here, adversary needs to predict the recommendation for embedding + perturbation\n",
    "        \n",
    "        #torch.matmul(list(model1.items())[0][1], list(model1.items())[1][1][i,:].T)\n",
    "        #torch.matmul(self.user_emb,(self.item_emb[i, :] + perturb).T).T[i,:]\n",
    "#         i_feature = torch.matmul(self.user_emb,(self.item_emb[i, :] + perturb).T).T[i,:]\n",
    "#         j_feature = torch.matmul(self.user_emb,(self.item_emb[j, :] + perturb).T).T[j,:]\n",
    "        i_feature = Rec.T[i,:]\n",
    "        j_feature = Rec.T[j,:]\n",
    "        \n",
    "#         i_genre = item_genre[i,:]\n",
    "#         j_genre = item_genre[j,:]\n",
    "        \n",
    "        \n",
    "        i.prob = adversary(i_feature).mean(axis = 0)\n",
    "        j.prob = adversary(j_feature).mean(axis = 0)\n",
    "        \n",
    "        \n",
    "        \n",
    "#         1000 in a batch, group A & B\n",
    "#         A 300, B 700 (    [0.3, 0.7] vs [0.5 0.5]    )\n",
    "        \n",
    "#         Conditional prob P(g=Ga|i) for each item\n",
    "        \n",
    "        #similar to clip value, find diff between ui and uj\n",
    "        x_uij =torch.clamp(x_ui - x_uj,min=-80.0,max=1e8)\n",
    "        #logsigmoid this is equivalent to equation 1 in the paper (classic loss of bpr)\n",
    "        log_prob = F.logsigmoid(x_uij).sum()\n",
    "        # regularization = lambda * l2 norm of u, i, j\n",
    "        regularization = self.reg * (self.user_emb[u, :].norm(dim=1).pow(2).sum() + self.item_emb[i, :].norm(dim=1).pow(2).sum() + self.item_emb[j, :].norm(dim=1).pow(2).sum())\n",
    "\n",
    "        ## original bpr loss,\n",
    "        loss_bpr = -log_prob + regularization\n",
    "#         loss_bpr.backward(retain_graph=True)\n",
    "        \n",
    "        \n",
    "        loss_adv = F.kl_div(uniform_dist.log(), i.prob, None, None, 'sum') + F.kl_div(uniform_dist.log(), j.prob , None, None, 'sum')\n",
    "        total_loss = transformation_loss + loss_bpr + loss_adv\n",
    "\n",
    "        total_loss.backward()\n",
    "        \n",
    "        \n",
    "        return total_loss, perturb\n",
    "        "
   ]
  },
  {
   "cell_type": "code",
   "execution_count": null,
   "id": "0c95449f",
   "metadata": {},
   "outputs": [],
   "source": []
  },
  {
   "cell_type": "code",
   "execution_count": 31,
   "id": "4a9ed903",
   "metadata": {},
   "outputs": [],
   "source": [
    "with open('preprocessed/ml-1m-3.pickle', 'rb') as f:\n",
    "    dataset = pickle.load(f)\n",
    "    user_size, item_size = dataset['user_size'], dataset['item_size']\n",
    "    train_user_list, test_user_list = dataset['train_user_list'], dataset['test_user_list']\n",
    "    train_pair = dataset['train_pair']"
   ]
  },
  {
   "cell_type": "code",
   "execution_count": 32,
   "id": "3d1f537f",
   "metadata": {},
   "outputs": [],
   "source": [
    "# Create dataset, model, optimizer\n",
    "dataset = GetTriplePair(item_size, train_user_list, train_pair, True, 200)\n",
    "#list(model1.items())[0][1], list(model1.items())[1][1]\n",
    "# load batch of 512 item triplets\n",
    "loader = DataLoader(dataset, batch_size=512)\n",
    "model = fairness_reprogramming(list(model1.items())[0][1], list(model1.items())[1][1], Rec, 0)"
   ]
  },
  {
   "cell_type": "code",
   "execution_count": 33,
   "id": "f82a9fa0",
   "metadata": {},
   "outputs": [
    {
     "name": "stdout",
     "output_type": "stream",
     "text": [
      "perturb tensor([[ 1.0600e-01,  6.5238e-02, -2.6381e-01, -1.4774e-02,  2.8193e-01,\n",
      "         -9.1815e-02, -8.1203e-02, -3.5143e-01, -1.3697e-01,  4.1094e-01,\n",
      "          1.7212e-01, -3.4257e-01, -1.9636e-01, -2.2342e-01, -9.2034e-02,\n",
      "          2.1856e-01, -3.3790e-02,  1.3517e-01, -4.1042e-02, -9.4797e-02,\n",
      "         -1.2732e-01,  7.4473e-02,  1.1121e-01, -2.7012e-01,  4.4458e-01,\n",
      "          7.1873e-02, -3.1197e-02, -2.9815e-01,  4.9906e-02,  1.3369e-01,\n",
      "         -2.4740e-04,  1.6069e-01, -2.2408e-01, -4.9899e-02, -1.4498e-01,\n",
      "          1.9026e-01,  1.9839e-01, -1.3061e-01, -8.1006e-02, -2.5560e-01,\n",
      "          1.9954e-01, -8.6621e-02, -3.0126e-02, -2.2062e-01, -9.8317e-02,\n",
      "         -1.9159e-01,  1.6894e-02, -3.2057e-01, -1.1384e-01,  1.1021e-01,\n",
      "          1.1109e-01,  1.3879e-01, -6.7672e-02, -1.5262e-01,  5.2401e-02,\n",
      "         -3.2221e-01,  5.7577e-02, -2.0666e-01,  8.4511e-02,  7.6068e-03,\n",
      "         -3.7681e-01,  7.1875e-03, -1.1640e-01,  2.1399e-03]]) None\n"
     ]
    }
   ],
   "source": [
    "for name, param in model.named_parameters():\n",
    "    if param.requires_grad:\n",
    "        print (name, param.data, param.data.grad)"
   ]
  },
  {
   "cell_type": "code",
   "execution_count": 34,
   "id": "df76aaed",
   "metadata": {},
   "outputs": [
    {
     "name": "stdout",
     "output_type": "stream",
     "text": [
      "time 0:00:01\n",
      "BPR-MF Epoch [20/1000]\n",
      "loss: 135.0531\n",
      "HR@50: 0.4536, HR@100: 0.5974, NDCG@50: 0.1472, NDCG@100: 0.1472\n",
      "BPR-MF Epoch [40/1000]\n",
      "loss: 160.0160\n",
      "HR@50: 0.4536, HR@100: 0.5975, NDCG@50: 0.1472, NDCG@100: 0.1472\n",
      "BPR-MF Epoch [60/1000]\n",
      "loss: 171.9583\n",
      "HR@50: 0.4536, HR@100: 0.5976, NDCG@50: 0.1472, NDCG@100: 0.1472\n",
      "BPR-MF Epoch [80/1000]\n",
      "loss: 135.7449\n",
      "HR@50: 0.4537, HR@100: 0.5976, NDCG@50: 0.1472, NDCG@100: 0.1472\n",
      "BPR-MF Epoch [100/1000]\n",
      "loss: 149.3399\n",
      "HR@50: 0.4537, HR@100: 0.5976, NDCG@50: 0.1472, NDCG@100: 0.1472\n",
      "time 0:00:55\n",
      "BPR-MF Epoch [120/1000]\n",
      "loss: 202.9521\n",
      "HR@50: 0.4537, HR@100: 0.5976, NDCG@50: 0.1472, NDCG@100: 0.1472\n",
      "BPR-MF Epoch [140/1000]\n",
      "loss: 172.0774\n",
      "HR@50: 0.4537, HR@100: 0.5976, NDCG@50: 0.1472, NDCG@100: 0.1472\n",
      "BPR-MF Epoch [160/1000]\n",
      "loss: 180.4559\n",
      "HR@50: 0.4537, HR@100: 0.5976, NDCG@50: 0.1472, NDCG@100: 0.1472\n",
      "BPR-MF Epoch [180/1000]\n",
      "loss: 177.8299\n",
      "HR@50: 0.4537, HR@100: 0.5976, NDCG@50: 0.1472, NDCG@100: 0.1472\n",
      "BPR-MF Epoch [200/1000]\n",
      "loss: 140.0361\n",
      "HR@50: 0.4537, HR@100: 0.5975, NDCG@50: 0.1472, NDCG@100: 0.1472\n"
     ]
    }
   ],
   "source": [
    "optimizer = optim.Adam(model.parameters(), lr=0.000025)\n",
    "\n",
    "# Training\n",
    "start_time = time.time()\n",
    "eval_best_loss = float('inf')\n",
    "\n",
    "##zero_grad: zeroes the grad attribute of all the parameters passed to the optimizer upon construction\n",
    "optimizer.zero_grad()\n",
    "epoch = 0\n",
    "HR_history = []\n",
    "NDCG_history = []\n",
    "perturb_list = []\n",
    "# result_history = []\n",
    "#loader has batch size of 512. In each batch there are 3 tensors of u i j accordingly\n",
    "for u, i, j in loader:\n",
    "    if epoch in range(200):\n",
    "        loss,perturb = model(u, i, j, epoch)\n",
    "\n",
    "        ##  updates the value of those parameters according to the optimization strategy implemented by the specific optimizer.\n",
    "        optimizer.step()\n",
    "        HR_list, NDCG_list = evaluate_k(list(model1.items())[0][1] + perturb,\n",
    "                                        list(model1.items())[1][1] + perturb,\n",
    "                                        train_user_list,\n",
    "                                        test_user_list,\n",
    "                                        klist=[50, 100])\n",
    "        if epoch % 20 == (20- 1):\n",
    "            if epoch in range(1000):\n",
    "                print('BPR-MF Epoch [{}/{}]'.format(epoch + 1, 1000))\n",
    "            print('loss: %.4f' % loss)\n",
    "            print('HR@50: %.4f, HR@100: %.4f, NDCG@50: %.4f, NDCG@100: %.4f' % (\n",
    "                HR_list[0], HR_list[1], NDCG_list[0], NDCG_list[1]))\n",
    "        perturb_list.append(perturb)\n",
    "        HR_history.append(HR_list[1])\n",
    "        NDCG_history.append(NDCG_list[1])\n",
    "        if epoch % 100 == 0:\n",
    "            if loss < eval_best_loss:\n",
    "                eval_best_loss = loss\n",
    "                dirname = os.path.dirname(os.path.abspath('output/perturbation'))\n",
    "                os.makedirs(dirname, exist_ok=True)\n",
    "                torch.save(model.state_dict(), 'output/perturbation')\n",
    "                time_dif = get_time_dif(start_time)\n",
    "                print(\"time\", time_dif)\n",
    "        epoch += 1\n",
    "    else:\n",
    "        break\n"
   ]
  },
  {
   "cell_type": "markdown",
   "id": "b4b31e3f",
   "metadata": {},
   "source": [
    "https://stackoverflow.com/questions/66572604/optimize-input-instead-of-network-in-pytorch"
   ]
  },
  {
   "cell_type": "code",
   "execution_count": 35,
   "id": "614bc549",
   "metadata": {},
   "outputs": [
    {
     "data": {
      "text/plain": [
       "torch.Size([1, 64])"
      ]
     },
     "execution_count": 35,
     "metadata": {},
     "output_type": "execute_result"
    }
   ],
   "source": [
    "#load the results of BPR\n",
    "pertubation = (torch.load('output/perturbation'))\n",
    "list(pertubation.items())[0][1].size()\n"
   ]
  },
  {
   "cell_type": "code",
   "execution_count": 211,
   "id": "caa01e15",
   "metadata": {},
   "outputs": [
    {
     "data": {
      "text/plain": [
       "torch.Size([5562, 543])"
      ]
     },
     "execution_count": 211,
     "metadata": {},
     "output_type": "execute_result"
    }
   ],
   "source": [
    "#load the results of BPR\n",
    "model1 = (torch.load('output/bpr_manual'))\n",
    "list(model1.items())[0][1].size(),list(model1.items())[1][1].size()\n",
    "\n",
    "\n",
    "\n",
    "Rec = np.matmul(list(model1.items())[0][1]+list(pertubation.items())[0][1], (list(model1.items())[1][1]+list(pertubation.items())[0][1]).T)\n",
    "Rec.size()\n",
    "# Rec[1,:].size()\n"
   ]
  },
  {
   "cell_type": "code",
   "execution_count": 212,
   "id": "5d4e7ace",
   "metadata": {},
   "outputs": [
    {
     "name": "stderr",
     "output_type": "stream",
     "text": [
      "/home/vuhoang181/Documents/code_base/APR-PyTorch/utility.py:291: FutureWarning: The input object of type 'Tensor' is an array-like implementing one of the corresponding protocols (`__array__`, `__array_interface__` or `__array_struct__`); but not a sequence (or 0-D). In the future, this object will be coerced as if it was first converted using `np.array(obj)`. To retain the old behaviour, you have to either modify the type 'Tensor', or assign to an empty array created with `np.empty(correct_shape, dtype=object)`.\n",
      "  top15 = (np.array([top15_item_idx_no_train, u_pred[top15_item_idx_no_train]])).T\n",
      "/home/vuhoang181/Documents/code_base/APR-PyTorch/utility.py:291: VisibleDeprecationWarning: Creating an ndarray from ragged nested sequences (which is a list-or-tuple of lists-or-tuples-or ndarrays with different lengths or shapes) is deprecated. If you meant to do this, you must specify 'dtype=object' when creating the ndarray.\n",
      "  top15 = (np.array([top15_item_idx_no_train, u_pred[top15_item_idx_no_train]])).T\n"
     ]
    },
    {
     "name": "stdout",
     "output_type": "stream",
     "text": [
      "\n",
      "####################################################################################################\n",
      "# System-level Recall:\n",
      "# \t\t\tRecall@1\tRecall@5\tRecall@10\tRecall@15\n",
      "# Sci-Fi\t\t0.00743\t\t0.04135\t\t0.08665\t\t0.13359\n",
      "# Horror\t\t0.00027\t\t0.00214\t\t0.00547\t\t0.00828\n",
      "# relative std\t\t0.93061\t\t0.90176\t\t0.88116\t\t0.88330\n",
      "####################################################################################################\n",
      "# User-level Recall:\n",
      "# \t\t\tRecall@1\tRecall@5\tRecall@10\tRecall@15\n",
      "# Sci-Fi\t\t0.00967\t\t0.05499\t\t0.11560\t\t0.17443\n",
      "# Horror\t\t0.00051\t\t0.00464\t\t0.01163\t\t0.01687\n",
      "# relative std\t\t0.90049\t\t0.84452\t\t0.81715\t\t0.82363\n",
      "####################################################################################################\n",
      "# System-level top ranking probability:\n",
      "# \t\t\t@1\t\t@5\t\t@10\t\t@15\n",
      "# Sci-Fi\t\t0.00370\t\t0.00764\t\t0.00764\t\t0.00764\n",
      "# Horror\t\t0.00035\t\t0.00041\t\t0.00041\t\t0.00041\n",
      "# relative std\t\t0.82604\t\t0.89932\t\t0.89932\t\t0.89932\n",
      "####################################################################################################\n",
      "# User-level top ranking probability:\n",
      "# \t\t\t@1\t\t@5\t\t@10\t\t@15\n",
      "# Sci-Fi\t\t0.00374\t\t0.00773\t\t0.00773\t\t0.00773\n",
      "# Horror\t\t0.00036\t\t0.00042\t\t0.00042\t\t0.00042\n",
      "# relative std\t\t0.82259\t\t0.89772\t\t0.89772\t\t0.89772\n",
      "####################################################################################################\n"
     ]
    },
    {
     "data": {
      "text/plain": [
       "(array([0.82603744, 0.89931872, 0.89931872, 0.89931872]),\n",
       " array([0.93060609, 0.90175728, 0.88115807, 0.88330188]))"
      ]
     },
     "execution_count": 212,
     "metadata": {},
     "output_type": "execute_result"
    }
   ],
   "source": [
    "import utility\n",
    "utility.ranking_analysis(Rec, vali_df, train_df, key_genre,\n",
    "                                                      item_genre_list, user_genre_count)"
   ]
  },
  {
   "cell_type": "code",
   "execution_count": 13,
   "id": "6adf9362",
   "metadata": {},
   "outputs": [
    {
     "name": "stderr",
     "output_type": "stream",
     "text": [
      "/Users/vuhoang/Documents/code_base/APR-PyTorch/utility.py:291: FutureWarning: The input object of type 'Tensor' is an array-like implementing one of the corresponding protocols (`__array__`, `__array_interface__` or `__array_struct__`); but not a sequence (or 0-D). In the future, this object will be coerced as if it was first converted using `np.array(obj)`. To retain the old behaviour, you have to either modify the type 'Tensor', or assign to an empty array created with `np.empty(correct_shape, dtype=object)`.\n",
      "  top15 = (np.array([top15_item_idx_no_train, u_pred[top15_item_idx_no_train]])).T\n",
      "/Users/vuhoang/Documents/code_base/APR-PyTorch/utility.py:291: VisibleDeprecationWarning: Creating an ndarray from ragged nested sequences (which is a list-or-tuple of lists-or-tuples-or ndarrays with different lengths or shapes) is deprecated. If you meant to do this, you must specify 'dtype=object' when creating the ndarray.\n",
      "  top15 = (np.array([top15_item_idx_no_train, u_pred[top15_item_idx_no_train]])).T\n"
     ]
    },
    {
     "name": "stdout",
     "output_type": "stream",
     "text": [
      "\n",
      "####################################################################################################\n",
      "# System-level Recall:\n",
      "# \t\t\tRecall@1\tRecall@5\tRecall@10\tRecall@15\n",
      "# Sci-Fi\t\t0.01387\t\t0.07008\t\t0.13872\t\t0.20853\n",
      "# Horror\t\t0.00013\t\t0.00027\t\t0.00067\t\t0.00160\n",
      "# relative std\t\t0.98093\t\t0.99241\t\t0.99042\t\t0.98475\n",
      "####################################################################################################\n",
      "# User-level Recall:\n",
      "# \t\t\tRecall@1\tRecall@5\tRecall@10\tRecall@15\n",
      "# Sci-Fi\t\t0.01711\t\t0.08543\t\t0.17070\t\t0.25925\n",
      "# Horror\t\t0.00019\t\t0.00038\t\t0.00099\t\t0.00234\n",
      "# relative std\t\t0.97804\t\t0.99115\t\t0.98849\t\t0.98214\n",
      "####################################################################################################\n",
      "# System-level top ranking probability:\n",
      "# \t\t\t@1\t\t@5\t\t@10\t\t@15\n",
      "# Sci-Fi\t\t0.00357\t\t0.00752\t\t0.00752\t\t0.00752\n",
      "# Horror\t\t0.00044\t\t0.00047\t\t0.00047\t\t0.00047\n",
      "# relative std\t\t0.78056\t\t0.88257\t\t0.88257\t\t0.88257\n",
      "####################################################################################################\n",
      "# User-level top ranking probability:\n",
      "# \t\t\t@1\t\t@5\t\t@10\t\t@15\n",
      "# Sci-Fi\t\t0.00361\t\t0.00761\t\t0.00761\t\t0.00761\n",
      "# Horror\t\t0.00045\t\t0.00048\t\t0.00048\t\t0.00048\n",
      "# relative std\t\t0.77751\t\t0.88108\t\t0.88108\t\t0.88108\n",
      "####################################################################################################\n"
     ]
    },
    {
     "data": {
      "text/plain": [
       "(array([0.78055942, 0.88256852, 0.88256852, 0.88256852]),\n",
       " array([0.98093382, 0.99240851, 0.99042126, 0.98475139]))"
      ]
     },
     "execution_count": 13,
     "metadata": {},
     "output_type": "execute_result"
    }
   ],
   "source": [
    "#before training\n",
    "import utility\n",
    "utility.ranking_analysis(Rec, vali_df, train_df, key_genre,\n",
    "                                                      item_genre_list, user_genre_count)"
   ]
  },
  {
   "cell_type": "code",
   "execution_count": 17,
   "id": "fd769aa3",
   "metadata": {},
   "outputs": [
    {
     "data": {
      "text/plain": [
       "tensor([1.9876, 3.1480, 2.5682,  ..., 1.8456, 2.9970, 1.9240])"
      ]
     },
     "execution_count": 17,
     "metadata": {},
     "output_type": "execute_result"
    }
   ],
   "source": [
    "torch.matmul(list(model1.items())[0][1], list(model1.items())[1][1][43,:].T)"
   ]
  },
  {
   "cell_type": "code",
   "execution_count": 143,
   "id": "76d6f44f",
   "metadata": {},
   "outputs": [
    {
     "name": "stderr",
     "output_type": "stream",
     "text": [
      "/tmp/ipykernel_4087/1973552975.py:12: FutureWarning: The input object of type 'Tensor' is an array-like implementing one of the corresponding protocols (`__array__`, `__array_interface__` or `__array_struct__`); but not a sequence (or 0-D). In the future, this object will be coerced as if it was first converted using `np.array(obj)`. To retain the old behaviour, you have to either modify the type 'Tensor', or assign to an empty array created with `np.empty(correct_shape, dtype=object)`.\n",
      "  top15 = (np.array([top15_item_idx_no_train, u_pred[top15_item_idx_no_train]])).T\n",
      "/tmp/ipykernel_4087/1973552975.py:12: VisibleDeprecationWarning: Creating an ndarray from ragged nested sequences (which is a list-or-tuple of lists-or-tuples-or ndarrays with different lengths or shapes) is deprecated. If you meant to do this, you must specify 'dtype=object' when creating the ndarray.\n",
      "  top15 = (np.array([top15_item_idx_no_train, u_pred[top15_item_idx_no_train]])).T\n"
     ]
    }
   ],
   "source": [
    "for u in range(num_user):\n",
    "        #for each user list all the items that he likes, mark that to -10000\n",
    "        like_item = (train_df.loc[train_df['user_id'] == u, 'item_id']).tolist()\n",
    "        Rec[u, like_item] = -100000.0\n",
    "\n",
    "for u in range(num_user):  # iterate each user\n",
    "    #extract item that user actually match during testing, extract the prediction\n",
    "    u_test = (vali_df.loc[vali_df['user_id'] == u, 'item_id']).tolist()\n",
    "    u_pred = Rec[u, :]\n",
    "    \n",
    "    top15_item_idx_no_train = np.argpartition(u_pred, -1 * 15)[-1 * 15:]\n",
    "    top15 = (np.array([top15_item_idx_no_train, u_pred[top15_item_idx_no_train]])).T\n",
    "    top15 = sorted(top15, key=itemgetter(1), reverse=True)\n",
    "\n"
   ]
  },
  {
   "cell_type": "code",
   "execution_count": 148,
   "id": "e2cb0058",
   "metadata": {},
   "outputs": [
    {
     "data": {
      "text/plain": [
       "tensor([135,  23, 272,  79,  56,  10,  68,  78, 108,   6, 106,  34,   3,  92,\n",
       "        352])"
      ]
     },
     "execution_count": 148,
     "metadata": {},
     "output_type": "execute_result"
    }
   ],
   "source": [
    "top15[0]"
   ]
  },
  {
   "cell_type": "code",
   "execution_count": 145,
   "id": "d829144d",
   "metadata": {},
   "outputs": [
    {
     "data": {
      "text/plain": [
       "[6, 325, 52, 201, 465, 66, 68, 643, 10, 556, 246, 451]"
      ]
     },
     "execution_count": 145,
     "metadata": {},
     "output_type": "execute_result"
    }
   ],
   "source": [
    "u_test"
   ]
  },
  {
   "cell_type": "code",
   "execution_count": 212,
   "id": "ca2c80e5",
   "metadata": {},
   "outputs": [],
   "source": [
    "from math import log\n",
    "\n",
    "def NDCG_at_k(predicted_list, ground_truth, k):\n",
    "    dcg_value = [(v / log(i + 1 + 1, 2)) for i, v in enumerate(predicted_list[:k])]\n",
    "    dcg = np.sum(dcg_value)\n",
    "    if len(ground_truth) < k:\n",
    "        ground_truth += [0 for i in range(k - len(ground_truth))]\n",
    "    idcg_value = [(v / log(i + 1 + 1, 2)) for i, v in enumerate(ground_truth[:k])]\n",
    "    idcg = np.sum(idcg_value)\n",
    "    return dcg / idcg"
   ]
  },
  {
   "cell_type": "code",
   "execution_count": 206,
   "id": "88448f6b",
   "metadata": {},
   "outputs": [],
   "source": [
    "def user_precision_recall_ndcg(new_user_prediction, test):\n",
    "    dcg_list = []\n",
    "\n",
    "    # compute the number of true positive items at top k\n",
    "    count_1, count_5, count_10, count_15 = 0, 0, 0, 0\n",
    "    for i in range(15):\n",
    "        if i == 0 and new_user_prediction[0][i] in test:\n",
    "            count_1 = 1.0\n",
    "        if i < 5 and new_user_prediction[0][i] in test:\n",
    "            count_5 += 1.0\n",
    "        if i < 10 and new_user_prediction[0][i] in test:\n",
    "            count_10 += 1.0\n",
    "        if new_user_prediction[0][i] in test:\n",
    "            count_15 += 1.0\n",
    "            dcg_list.append(1)\n",
    "        else:\n",
    "            dcg_list.append(0)\n",
    "\n",
    "    # calculate NDCG@k\n",
    "    idcg_list = [1 for i in range(len(test))]\n",
    "    ndcg_tmp_1 = NDCG_at_k(dcg_list, idcg_list, 1)\n",
    "    ndcg_tmp_5 = NDCG_at_k(dcg_list, idcg_list, 5)\n",
    "    ndcg_tmp_10 = NDCG_at_k(dcg_list, idcg_list, 10)\n",
    "    ndcg_tmp_15 = NDCG_at_k(dcg_list, idcg_list, 15)\n",
    "\n",
    "    # precision@k\n",
    "    precision_1 = count_1\n",
    "    precision_5 = count_5 / 5.0\n",
    "    precision_10 = count_10 / 10.0\n",
    "    precision_15 = count_15 / 15.0\n",
    "\n",
    "    l = len(test)\n",
    "    if l == 0:\n",
    "        l = 1\n",
    "    # recall@k\n",
    "    recall_1 = count_1 / l\n",
    "    recall_5 = count_5 / l\n",
    "    recall_10 = count_10 / l\n",
    "    recall_15 = count_15 / l\n",
    "\n",
    "    # return precision, recall, ndcg_tmp\n",
    "    return np.array([precision_1, precision_5, precision_10, precision_15]), \\\n",
    "           np.array([recall_1, recall_5, recall_10, recall_15]), \\\n",
    "           np.array([ndcg_tmp_1, ndcg_tmp_5, ndcg_tmp_10, ndcg_tmp_15])"
   ]
  },
  {
   "cell_type": "code",
   "execution_count": 207,
   "id": "d169e957",
   "metadata": {},
   "outputs": [
    {
     "ename": "TypeError",
     "evalue": "'int' object is not subscriptable",
     "output_type": "error",
     "traceback": [
      "\u001b[0;31m---------------------------------------------------------------------------\u001b[0m",
      "\u001b[0;31mTypeError\u001b[0m                                 Traceback (most recent call last)",
      "\u001b[0;32m/tmp/ipykernel_4087/3205858999.py\u001b[0m in \u001b[0;36m<module>\u001b[0;34m\u001b[0m\n\u001b[0;32m----> 1\u001b[0;31m \u001b[0muser_precision_recall_ndcg\u001b[0m\u001b[0;34m(\u001b[0m\u001b[0mtop15\u001b[0m\u001b[0;34m,\u001b[0m\u001b[0mu_test\u001b[0m\u001b[0;34m)\u001b[0m\u001b[0;34m\u001b[0m\u001b[0;34m\u001b[0m\u001b[0m\n\u001b[0m",
      "\u001b[0;32m/tmp/ipykernel_4087/3750054479.py\u001b[0m in \u001b[0;36muser_precision_recall_ndcg\u001b[0;34m(new_user_prediction, test)\u001b[0m\n\u001b[1;32m     19\u001b[0m     \u001b[0;31m# calculate NDCG@k\u001b[0m\u001b[0;34m\u001b[0m\u001b[0;34m\u001b[0m\u001b[0m\n\u001b[1;32m     20\u001b[0m     \u001b[0midcg_list\u001b[0m \u001b[0;34m=\u001b[0m \u001b[0;34m[\u001b[0m\u001b[0;36m1\u001b[0m \u001b[0;32mfor\u001b[0m \u001b[0mi\u001b[0m \u001b[0;32min\u001b[0m \u001b[0mrange\u001b[0m\u001b[0;34m(\u001b[0m\u001b[0mlen\u001b[0m\u001b[0;34m(\u001b[0m\u001b[0mtest\u001b[0m\u001b[0;34m)\u001b[0m\u001b[0;34m)\u001b[0m\u001b[0;34m]\u001b[0m\u001b[0;34m\u001b[0m\u001b[0;34m\u001b[0m\u001b[0m\n\u001b[0;32m---> 21\u001b[0;31m     \u001b[0mndcg_tmp_1\u001b[0m \u001b[0;34m=\u001b[0m \u001b[0mNDCG_at_k\u001b[0m\u001b[0;34m(\u001b[0m\u001b[0mdcg_list\u001b[0m\u001b[0;34m,\u001b[0m \u001b[0midcg_list\u001b[0m\u001b[0;34m,\u001b[0m \u001b[0;36m1\u001b[0m\u001b[0;34m)\u001b[0m\u001b[0;34m\u001b[0m\u001b[0;34m\u001b[0m\u001b[0m\n\u001b[0m\u001b[1;32m     22\u001b[0m     \u001b[0mndcg_tmp_5\u001b[0m \u001b[0;34m=\u001b[0m \u001b[0mNDCG_at_k\u001b[0m\u001b[0;34m(\u001b[0m\u001b[0mdcg_list\u001b[0m\u001b[0;34m,\u001b[0m \u001b[0midcg_list\u001b[0m\u001b[0;34m,\u001b[0m \u001b[0;36m5\u001b[0m\u001b[0;34m)\u001b[0m\u001b[0;34m\u001b[0m\u001b[0;34m\u001b[0m\u001b[0m\n\u001b[1;32m     23\u001b[0m     \u001b[0mndcg_tmp_10\u001b[0m \u001b[0;34m=\u001b[0m \u001b[0mNDCG_at_k\u001b[0m\u001b[0;34m(\u001b[0m\u001b[0mdcg_list\u001b[0m\u001b[0;34m,\u001b[0m \u001b[0midcg_list\u001b[0m\u001b[0;34m,\u001b[0m \u001b[0;36m10\u001b[0m\u001b[0;34m)\u001b[0m\u001b[0;34m\u001b[0m\u001b[0;34m\u001b[0m\u001b[0m\n",
      "\u001b[0;32m/tmp/ipykernel_4087/778604645.py\u001b[0m in \u001b[0;36mNDCG_at_k\u001b[0;34m(predicted_list, ground_truth, k)\u001b[0m\n\u001b[1;32m      2\u001b[0m \u001b[0;34m\u001b[0m\u001b[0m\n\u001b[1;32m      3\u001b[0m \u001b[0;32mdef\u001b[0m \u001b[0mNDCG_at_k\u001b[0m\u001b[0;34m(\u001b[0m\u001b[0mpredicted_list\u001b[0m\u001b[0;34m,\u001b[0m \u001b[0mground_truth\u001b[0m\u001b[0;34m,\u001b[0m \u001b[0mk\u001b[0m\u001b[0;34m)\u001b[0m\u001b[0;34m:\u001b[0m\u001b[0;34m\u001b[0m\u001b[0;34m\u001b[0m\u001b[0m\n\u001b[0;32m----> 4\u001b[0;31m     \u001b[0mdcg_value\u001b[0m \u001b[0;34m=\u001b[0m \u001b[0;34m[\u001b[0m\u001b[0;34m(\u001b[0m\u001b[0mv\u001b[0m \u001b[0;34m/\u001b[0m \u001b[0mlog\u001b[0m\u001b[0;34m(\u001b[0m\u001b[0mi\u001b[0m \u001b[0;34m+\u001b[0m \u001b[0;36m1\u001b[0m \u001b[0;34m+\u001b[0m \u001b[0;36m1\u001b[0m\u001b[0;34m,\u001b[0m \u001b[0;36m2\u001b[0m\u001b[0;34m)\u001b[0m\u001b[0;34m)\u001b[0m \u001b[0;32mfor\u001b[0m \u001b[0mi\u001b[0m\u001b[0;34m,\u001b[0m \u001b[0mv\u001b[0m \u001b[0;32min\u001b[0m \u001b[0menumerate\u001b[0m\u001b[0;34m(\u001b[0m\u001b[0mpredicted_list\u001b[0m\u001b[0;34m[\u001b[0m\u001b[0;36m1\u001b[0m\u001b[0;34m]\u001b[0m\u001b[0;34m[\u001b[0m\u001b[0;34m:\u001b[0m\u001b[0mk\u001b[0m\u001b[0;34m]\u001b[0m\u001b[0;34m)\u001b[0m\u001b[0;34m]\u001b[0m\u001b[0;34m\u001b[0m\u001b[0;34m\u001b[0m\u001b[0m\n\u001b[0m\u001b[1;32m      5\u001b[0m     \u001b[0mdcg\u001b[0m \u001b[0;34m=\u001b[0m \u001b[0mnp\u001b[0m\u001b[0;34m.\u001b[0m\u001b[0msum\u001b[0m\u001b[0;34m(\u001b[0m\u001b[0mdcg_value\u001b[0m\u001b[0;34m)\u001b[0m\u001b[0;34m\u001b[0m\u001b[0;34m\u001b[0m\u001b[0m\n\u001b[1;32m      6\u001b[0m     \u001b[0;32mif\u001b[0m \u001b[0mlen\u001b[0m\u001b[0;34m(\u001b[0m\u001b[0mground_truth\u001b[0m\u001b[0;34m)\u001b[0m \u001b[0;34m<\u001b[0m \u001b[0mk\u001b[0m\u001b[0;34m:\u001b[0m\u001b[0;34m\u001b[0m\u001b[0;34m\u001b[0m\u001b[0m\n",
      "\u001b[0;31mTypeError\u001b[0m: 'int' object is not subscriptable"
     ]
    }
   ],
   "source": [
    "user_precision_recall_ndcg(top15,u_test)"
   ]
  },
  {
   "cell_type": "code",
   "execution_count": 160,
   "id": "b5c15b2e",
   "metadata": {},
   "outputs": [],
   "source": [
    "count_1, count_5, count_10, count_15 = 0, 0, 0, 0\n",
    "dcg_list = []\n",
    "for i in range(15):\n",
    "    if i == 0 and top15[0][i] in u_test:\n",
    "        count_1 = 1.0\n",
    "    if i < 5 and top15[0][i] in u_test:\n",
    "        count_5 += 1.0\n",
    "    if i < 10 and top15[0][i] in u_test:\n",
    "        count_10 += 1.0\n",
    "    if top15[0][i] in u_test:\n",
    "        count_15 += 1.0\n",
    "        dcg_list.append(1)\n",
    "    else:\n",
    "        dcg_list.append(0)"
   ]
  },
  {
   "cell_type": "code",
   "execution_count": 208,
   "id": "04398927",
   "metadata": {},
   "outputs": [
    {
     "data": {
      "text/plain": [
       "[0, 0, 0, 0, 0, 1, 1, 0, 0, 1, 0, 0, 0, 0, 0]"
      ]
     },
     "execution_count": 208,
     "metadata": {},
     "output_type": "execute_result"
    }
   ],
   "source": [
    "dcg_list"
   ]
  },
  {
   "cell_type": "code",
   "execution_count": 209,
   "id": "43aafeba",
   "metadata": {},
   "outputs": [
    {
     "data": {
      "text/plain": [
       "[1, 1, 1, 1, 1, 1, 1, 1, 1, 1, 1, 1]"
      ]
     },
     "execution_count": 209,
     "metadata": {},
     "output_type": "execute_result"
    }
   ],
   "source": [
    "idcg_list"
   ]
  },
  {
   "cell_type": "code",
   "execution_count": 214,
   "id": "929d7539",
   "metadata": {},
   "outputs": [
    {
     "data": {
      "text/plain": [
       "0.2153829792769871"
      ]
     },
     "execution_count": 214,
     "metadata": {},
     "output_type": "execute_result"
    }
   ],
   "source": [
    "NDCG_at_k(dcg_list, idcg_list, 10)"
   ]
  },
  {
   "cell_type": "code",
   "execution_count": null,
   "id": "eaba9e0e",
   "metadata": {},
   "outputs": [],
   "source": []
  },
  {
   "cell_type": "code",
   "execution_count": null,
   "id": "1e386e33",
   "metadata": {},
   "outputs": [],
   "source": []
  },
  {
   "cell_type": "code",
   "execution_count": 187,
   "id": "a302c885",
   "metadata": {},
   "outputs": [
    {
     "data": {
      "text/plain": [
       "(tensor([135,  23, 272,  79,  56,  10,  68,  78, 108,   6, 106,  34,   3,  92,\n",
       "         352]),\n",
       " tensor([8.3634, 8.4115, 8.3793, 8.4764, 8.4419, 8.4129, 8.4372, 8.3837, 8.5844,\n",
       "         8.3958, 8.3812, 8.4975, 8.4498, 8.5061, 8.3954]))"
      ]
     },
     "execution_count": 187,
     "metadata": {},
     "output_type": "execute_result"
    }
   ],
   "source": [
    "top15[0],top15[1]"
   ]
  },
  {
   "cell_type": "code",
   "execution_count": 189,
   "id": "2470d49f",
   "metadata": {},
   "outputs": [],
   "source": [
    "k =5"
   ]
  },
  {
   "cell_type": "code",
   "execution_count": 192,
   "id": "07d68d46",
   "metadata": {},
   "outputs": [
    {
     "name": "stdout",
     "output_type": "stream",
     "text": [
      "tensor(135) tensor(8.3634)\n",
      "tensor(23) tensor(8.4115)\n",
      "tensor(272) tensor(8.3793)\n",
      "tensor(79) tensor(8.4764)\n",
      "tensor(56) tensor(8.4419)\n"
     ]
    }
   ],
   "source": [
    " for i in range(k):\n",
    "    print (top15[0][i],top15[1][i]) "
   ]
  },
  {
   "cell_type": "code",
   "execution_count": 211,
   "id": "aedc9127",
   "metadata": {},
   "outputs": [
    {
     "name": "stdout",
     "output_type": "stream",
     "text": [
      "tensor(8.3634)\n",
      "tensor(5.3071)\n",
      "tensor(4.1896)\n",
      "tensor(3.6506)\n",
      "tensor(3.2658)\n"
     ]
    }
   ],
   "source": [
    "for i, v in enumerate(top15[1][:k]):\n",
    "    print (v / log(i + 1 + 1, 2))"
   ]
  },
  {
   "cell_type": "code",
   "execution_count": 203,
   "id": "9b6e97da",
   "metadata": {},
   "outputs": [
    {
     "data": {
      "text/plain": [
       "[tensor([135,  23, 272,  79,  56,  10,  68,  78, 108,   6, 106,  34,   3,  92,\n",
       "         352]),\n",
       " tensor([8.3634, 8.4115, 8.3793, 8.4764, 8.4419, 8.4129, 8.4372, 8.3837, 8.5844,\n",
       "         8.3958, 8.3812, 8.4975, 8.4498, 8.5061, 8.3954])]"
      ]
     },
     "execution_count": 203,
     "metadata": {},
     "output_type": "execute_result"
    }
   ],
   "source": [
    "top15"
   ]
  },
  {
   "cell_type": "code",
   "execution_count": null,
   "id": "617d5f90",
   "metadata": {},
   "outputs": [],
   "source": []
  }
 ],
 "metadata": {
  "kernelspec": {
   "display_name": "Python 3 (ipykernel)",
   "language": "python",
   "name": "python3"
  },
  "language_info": {
   "codemirror_mode": {
    "name": "ipython",
    "version": 3
   },
   "file_extension": ".py",
   "mimetype": "text/x-python",
   "name": "python",
   "nbconvert_exporter": "python",
   "pygments_lexer": "ipython3",
   "version": "3.9.7"
  }
 },
 "nbformat": 4,
 "nbformat_minor": 5
}
