{
 "cells": [
  {
   "cell_type": "code",
   "execution_count": 3,
   "id": "49fa4fca",
   "metadata": {},
   "outputs": [],
   "source": [
    "# import tensorflow as tf\n",
    "import time\n",
    "import numpy as np\n",
    "import os\n",
    "import copy\n",
    "import pickle\n",
    "import argparse\n",
    "import utility\n",
    "import pandas as pd\n",
    "from sklearn.metrics import *\n",
    "from sklearn.model_selection import train_test_split\n"
   ]
  },
  {
   "cell_type": "code",
   "execution_count": 4,
   "id": "09f4e13f",
   "metadata": {},
   "outputs": [],
   "source": [
    "import pandas as pd\n",
    "import numpy as np\n"
   ]
  },
  {
   "cell_type": "code",
   "execution_count": 5,
   "id": "2d2c3628",
   "metadata": {},
   "outputs": [],
   "source": [
    "train_df = pd.read_pickle(r'Yelp-4/training_df.pkl')    \n",
    "vali_df = pd.read_pickle(r'Yelp-4/valiing_df.pkl')       # for validation\n",
    "testing_df = pd.read_pickle(r'Yelp-4/testing_df.pkl')     # for testing\n",
    "key_genre = pd.read_pickle(r'Yelp-4/key_genre.pkl')  \n",
    "item_idd_genre_list = pd.read_pickle(r'Yelp-4/item_idd_genre_list.pkl')   \n",
    "genre_item_vector = pd.read_pickle(r'Yelp-4/genre_item_vector.pkl')    \n",
    "genre_count = pd.read_pickle(r'Yelp-4/genre_count.pkl')      \n",
    "user_genre_count = pd.read_pickle(r'Yelp-4/user_genre_count.pkl') \n",
    "\n",
    "num_item = len(train_df['item_id'].unique())\n",
    "num_user = len(train_df['user_id'].unique())\n",
    "num_genre = len(key_genre)\n",
    "\n",
    "item_genre_list = []\n",
    "for u in range(num_item):\n",
    "    gl = item_idd_genre_list[u]\n",
    "    tmp = []\n",
    "    for g in gl:\n",
    "        if g in key_genre:\n",
    "            tmp.append(g)\n",
    "    item_genre_list.append(tmp)"
   ]
  },
  {
   "cell_type": "code",
   "execution_count": 6,
   "id": "c0dd487e",
   "metadata": {},
   "outputs": [],
   "source": [
    "item_genre = np.zeros((num_item, num_genre))\n",
    "for i in range(num_item):\n",
    "    gl = item_genre_list[i]\n",
    "    for k in range(num_genre):\n",
    "        if key_genre[k] in gl:\n",
    "            item_genre[i, k] = 1.0"
   ]
  },
  {
   "cell_type": "code",
   "execution_count": 7,
   "id": "6a01f3a0",
   "metadata": {},
   "outputs": [
    {
     "data": {
      "text/plain": [
       "array([[0., 1., 0., 0.],\n",
       "       [0., 0., 1., 0.],\n",
       "       [1., 1., 1., 0.],\n",
       "       ...,\n",
       "       [0., 1., 0., 0.],\n",
       "       [1., 0., 0., 0.],\n",
       "       [0., 0., 1., 0.]])"
      ]
     },
     "execution_count": 7,
     "metadata": {},
     "output_type": "execute_result"
    }
   ],
   "source": [
    "item_genre"
   ]
  },
  {
   "cell_type": "code",
   "execution_count": 8,
   "id": "f3880e2b",
   "metadata": {},
   "outputs": [],
   "source": [
    "# train_df = train_df[train_df['user_id'].isin(vali_df['user_id'].unique())]\n",
    "# train_df = train_df[train_df['item_id'].isin(vali_df['item_id'].unique())]"
   ]
  },
  {
   "cell_type": "code",
   "execution_count": 9,
   "id": "247c3f74",
   "metadata": {},
   "outputs": [],
   "source": [
    "def create_user_list(df, user_size):\n",
    "    user_list = [list() for u in range(user_size)]\n",
    "    for row in df.itertuples():\n",
    "        user_list[row.user_id].append(row.item_id)\n",
    "    return user_list\n",
    "\n",
    "def create_pair(user_list):\n",
    "    pair = []\n",
    "    for user, item_list in enumerate(user_list):\n",
    "        pair.extend([(user, item) for item in item_list])\n",
    "    return pair"
   ]
  },
  {
   "cell_type": "code",
   "execution_count": 10,
   "id": "b4a6d7da",
   "metadata": {},
   "outputs": [],
   "source": [
    "train_df_loop = pd.read_pickle(r'Yelp-4/training_df.pkl')  "
   ]
  },
  {
   "cell_type": "code",
   "execution_count": 11,
   "id": "728918f9",
   "metadata": {},
   "outputs": [],
   "source": [
    "user_train_list=[]\n",
    "user_tune_list=[]\n",
    "for user in train_df['user_id'].unique():\n",
    "    train_idx = train_df_loop[train_df_loop['user_id'] == user].sample(n=1, random_state=18).index[0]\n",
    "    user_train_list.append(train_idx)\n",
    "    train_df_loop = train_df_loop.drop(train_idx)\n",
    "    tune_idx = train_df_loop[train_df_loop['user_id'] == user].sample(n=1, random_state=181).index[0]\n",
    "    user_tune_list.append(tune_idx)\n",
    "    train_df_loop = train_df_loop.drop(tune_idx)"
   ]
  },
  {
   "cell_type": "code",
   "execution_count": 12,
   "id": "82363854",
   "metadata": {},
   "outputs": [],
   "source": [
    "train_df_loop = pd.read_pickle(r'Yelp-4/training_df.pkl')\n",
    "tune_df_loop = pd.read_pickle(r'Yelp-4/training_df.pkl')  \n",
    "train_df = pd.read_pickle(r'Yelp-4/training_df.pkl') "
   ]
  },
  {
   "cell_type": "code",
   "execution_count": 13,
   "id": "fea6af47",
   "metadata": {},
   "outputs": [
    {
     "data": {
      "text/plain": [
       "(8263, 8263)"
      ]
     },
     "execution_count": 13,
     "metadata": {},
     "output_type": "execute_result"
    }
   ],
   "source": [
    "train_df.loc[train_df.index[user_tune_list]]['user_id'].nunique(),train_df.loc[train_df.index[user_train_list]]['user_id'].nunique()"
   ]
  },
  {
   "cell_type": "code",
   "execution_count": 14,
   "id": "22b01470",
   "metadata": {},
   "outputs": [],
   "source": [
    "indexes_to_keep_train_item = set(range(train_df.shape[0])) - set(user_tune_list)\n",
    "train_df_loop = train_df_loop.take(list(indexes_to_keep_train_item))\n",
    "indexes_to_keep_tune_item = set(range(train_df.shape[0])) - set(user_train_list)\n",
    "tune_df_loop = tune_df_loop.take(list(indexes_to_keep_tune_item))"
   ]
  },
  {
   "cell_type": "code",
   "execution_count": 15,
   "id": "00a9459e",
   "metadata": {},
   "outputs": [],
   "source": [
    "item_train_list=[]\n",
    "item_tune_list=[]\n",
    "for item in train_df['item_id'].unique():\n",
    "    train_idx = train_df_loop[train_df_loop['item_id'] == item].sample(n=1, random_state=18).index[0]\n",
    "    item_train_list.append(train_idx)\n",
    "    train_df_loop = train_df_loop.drop(train_idx)\n",
    "    if train_idx in tune_df_loop.index:\n",
    "        tune_df_loop = tune_df_loop.drop(train_idx)\n",
    "    else:\n",
    "        tune_df_loop = tune_df_loop\n",
    "    if len(tune_df_loop[tune_df_loop['item_id'] == item]) != 0:\n",
    "        tune_idx = tune_df_loop[tune_df_loop['item_id'] == item].sample(n=1, random_state=18).index[0]\n",
    "    \n",
    "        item_tune_list.append(tune_idx)\n",
    "        tune_df_loop = tune_df_loop.drop(tune_idx)\n",
    "        if tune_idx in train_df_loop.index:\n",
    "            train_df_loop = train_df_loop.drop(tune_idx)\n",
    "        else:\n",
    "            train_df_loop = train_df_loop\n",
    "    else:\n",
    "        continue"
   ]
  },
  {
   "cell_type": "code",
   "execution_count": 16,
   "id": "8e16494b",
   "metadata": {},
   "outputs": [],
   "source": [
    "# train_df_loop = pd.read_pickle(r'Yelp-2/training_df.pkl')  \n",
    "train_df = pd.read_pickle(r'Yelp-4/training_df.pkl') "
   ]
  },
  {
   "cell_type": "code",
   "execution_count": 17,
   "id": "6b6ba98c",
   "metadata": {},
   "outputs": [
    {
     "data": {
      "text/plain": [
       "(4420, 4420)"
      ]
     },
     "execution_count": 17,
     "metadata": {},
     "output_type": "execute_result"
    }
   ],
   "source": [
    "train_df.loc[train_df.index[item_train_list]]['item_id'].nunique(),train_df.loc[train_df.index[item_tune_list]]['item_id'].nunique()"
   ]
  },
  {
   "cell_type": "code",
   "execution_count": 18,
   "id": "f622d384",
   "metadata": {},
   "outputs": [
    {
     "data": {
      "text/plain": [
       "(4420, 8263)"
      ]
     },
     "execution_count": 18,
     "metadata": {},
     "output_type": "execute_result"
    }
   ],
   "source": [
    "num_item, num_user"
   ]
  },
  {
   "cell_type": "code",
   "execution_count": 19,
   "id": "f241bd3a",
   "metadata": {},
   "outputs": [],
   "source": [
    "train_list_preocc = train_df.loc[train_df.index[list(set(user_train_list+item_train_list))]]"
   ]
  },
  {
   "cell_type": "code",
   "execution_count": 20,
   "id": "12dc89b6",
   "metadata": {},
   "outputs": [
    {
     "data": {
      "text/plain": [
       "12409"
      ]
     },
     "execution_count": 20,
     "metadata": {},
     "output_type": "execute_result"
    }
   ],
   "source": [
    "len(train_list_preocc)"
   ]
  },
  {
   "cell_type": "code",
   "execution_count": 21,
   "id": "43433428",
   "metadata": {},
   "outputs": [],
   "source": [
    "tune_list_preocc = train_df.loc[train_df.index[list(set(user_tune_list+item_tune_list))]]"
   ]
  },
  {
   "cell_type": "code",
   "execution_count": 22,
   "id": "7a6f994c",
   "metadata": {},
   "outputs": [
    {
     "data": {
      "text/html": [
       "<div>\n",
       "<style scoped>\n",
       "    .dataframe tbody tr th:only-of-type {\n",
       "        vertical-align: middle;\n",
       "    }\n",
       "\n",
       "    .dataframe tbody tr th {\n",
       "        vertical-align: top;\n",
       "    }\n",
       "\n",
       "    .dataframe thead th {\n",
       "        text-align: right;\n",
       "    }\n",
       "</style>\n",
       "<table border=\"1\" class=\"dataframe\">\n",
       "  <thead>\n",
       "    <tr style=\"text-align: right;\">\n",
       "      <th></th>\n",
       "      <th>item_id</th>\n",
       "      <th>user_id</th>\n",
       "      <th>r</th>\n",
       "    </tr>\n",
       "  </thead>\n",
       "  <tbody>\n",
       "    <tr>\n",
       "      <th>0</th>\n",
       "      <td>0</td>\n",
       "      <td>0</td>\n",
       "      <td>True</td>\n",
       "    </tr>\n",
       "    <tr>\n",
       "      <th>131073</th>\n",
       "      <td>276</td>\n",
       "      <td>7213</td>\n",
       "      <td>True</td>\n",
       "    </tr>\n",
       "    <tr>\n",
       "      <th>8</th>\n",
       "      <td>11</td>\n",
       "      <td>0</td>\n",
       "      <td>True</td>\n",
       "    </tr>\n",
       "    <tr>\n",
       "      <th>32776</th>\n",
       "      <td>93</td>\n",
       "      <td>1907</td>\n",
       "      <td>True</td>\n",
       "    </tr>\n",
       "    <tr>\n",
       "      <th>32777</th>\n",
       "      <td>2949</td>\n",
       "      <td>1907</td>\n",
       "      <td>True</td>\n",
       "    </tr>\n",
       "    <tr>\n",
       "      <th>...</th>\n",
       "      <td>...</td>\n",
       "      <td>...</td>\n",
       "      <td>...</td>\n",
       "    </tr>\n",
       "    <tr>\n",
       "      <th>65524</th>\n",
       "      <td>652</td>\n",
       "      <td>3655</td>\n",
       "      <td>True</td>\n",
       "    </tr>\n",
       "    <tr>\n",
       "      <th>32758</th>\n",
       "      <td>3477</td>\n",
       "      <td>1905</td>\n",
       "      <td>True</td>\n",
       "    </tr>\n",
       "    <tr>\n",
       "      <th>98294</th>\n",
       "      <td>961</td>\n",
       "      <td>5337</td>\n",
       "      <td>True</td>\n",
       "    </tr>\n",
       "    <tr>\n",
       "      <th>98297</th>\n",
       "      <td>276</td>\n",
       "      <td>5451</td>\n",
       "      <td>True</td>\n",
       "    </tr>\n",
       "    <tr>\n",
       "      <th>65532</th>\n",
       "      <td>192</td>\n",
       "      <td>3656</td>\n",
       "      <td>True</td>\n",
       "    </tr>\n",
       "  </tbody>\n",
       "</table>\n",
       "<p>12366 rows × 3 columns</p>\n",
       "</div>"
      ],
      "text/plain": [
       "       item_id user_id     r\n",
       "0            0       0  True\n",
       "131073     276    7213  True\n",
       "8           11       0  True\n",
       "32776       93    1907  True\n",
       "32777     2949    1907  True\n",
       "...        ...     ...   ...\n",
       "65524      652    3655  True\n",
       "32758     3477    1905  True\n",
       "98294      961    5337  True\n",
       "98297      276    5451  True\n",
       "65532      192    3656  True\n",
       "\n",
       "[12366 rows x 3 columns]"
      ]
     },
     "execution_count": 22,
     "metadata": {},
     "output_type": "execute_result"
    }
   ],
   "source": [
    "tune_list_preocc"
   ]
  },
  {
   "cell_type": "code",
   "execution_count": 26,
   "id": "e4eafec0",
   "metadata": {},
   "outputs": [
    {
     "data": {
      "text/plain": [
       "item_id\n",
       "0        5\n",
       "1       27\n",
       "2       20\n",
       "3        1\n",
       "4        2\n",
       "        ..\n",
       "4415     1\n",
       "4416     1\n",
       "4417     1\n",
       "4418     1\n",
       "4419     1\n",
       "Length: 4420, dtype: int64"
      ]
     },
     "execution_count": 26,
     "metadata": {},
     "output_type": "execute_result"
    }
   ],
   "source": [
    "tune_list_preocc.groupby('item_id').size()  "
   ]
  },
  {
   "cell_type": "code",
   "execution_count": 25,
   "id": "40ab0cdd",
   "metadata": {},
   "outputs": [],
   "source": [
    "import matplotlib.pyplot as plt"
   ]
  },
  {
   "cell_type": "code",
   "execution_count": null,
   "id": "a08571b4",
   "metadata": {},
   "outputs": [],
   "source": [
    "with open(\"Yelp-4/tune_df_mininum.pkl\", \"wb\") as f:\n",
    "    pickle.dump(tune_set, f, pickle.HIGHEST_PROTOCOL)"
   ]
  },
  {
   "cell_type": "code",
   "execution_count": null,
   "id": "7b7bf643",
   "metadata": {},
   "outputs": [],
   "source": []
  },
  {
   "cell_type": "code",
   "execution_count": null,
   "id": "b71b352a",
   "metadata": {},
   "outputs": [],
   "source": []
  },
  {
   "cell_type": "code",
   "execution_count": null,
   "id": "41281891",
   "metadata": {},
   "outputs": [],
   "source": []
  },
  {
   "cell_type": "code",
   "execution_count": null,
   "id": "92b4f407",
   "metadata": {},
   "outputs": [],
   "source": []
  },
  {
   "cell_type": "code",
   "execution_count": null,
   "id": "f30e42ec",
   "metadata": {},
   "outputs": [],
   "source": []
  },
  {
   "cell_type": "code",
   "execution_count": 335,
   "id": "276d8656",
   "metadata": {},
   "outputs": [
    {
     "data": {
      "text/plain": [
       "12366"
      ]
     },
     "execution_count": 335,
     "metadata": {},
     "output_type": "execute_result"
    }
   ],
   "source": [
    "len(tune_list_preocc)"
   ]
  },
  {
   "cell_type": "code",
   "execution_count": 336,
   "id": "bd66e03f",
   "metadata": {},
   "outputs": [
    {
     "data": {
      "text/plain": [
       "150616"
      ]
     },
     "execution_count": 336,
     "metadata": {},
     "output_type": "execute_result"
    }
   ],
   "source": [
    "train_df.shape[0]"
   ]
  },
  {
   "cell_type": "code",
   "execution_count": 337,
   "id": "127c73e1",
   "metadata": {},
   "outputs": [],
   "source": [
    "indexes_to_keep = set(range(train_df.shape[0])) - set(user_train_list+item_train_list+user_tune_list+item_tune_list)\n",
    "sample_pool = train_df.take(list(indexes_to_keep))"
   ]
  },
  {
   "cell_type": "code",
   "execution_count": 338,
   "id": "4b0b6341",
   "metadata": {},
   "outputs": [
    {
     "data": {
      "text/plain": [
       "150616"
      ]
     },
     "execution_count": 338,
     "metadata": {},
     "output_type": "execute_result"
    }
   ],
   "source": [
    "len(train_df)"
   ]
  },
  {
   "cell_type": "code",
   "execution_count": 339,
   "id": "62311596",
   "metadata": {},
   "outputs": [
    {
     "data": {
      "text/plain": [
       "150616"
      ]
     },
     "execution_count": 339,
     "metadata": {},
     "output_type": "execute_result"
    }
   ],
   "source": [
    "len(sample_pool)+len(train_list_preocc)+len(tune_list_preocc)"
   ]
  },
  {
   "cell_type": "code",
   "execution_count": 340,
   "id": "5c434923",
   "metadata": {},
   "outputs": [
    {
     "data": {
      "text/plain": [
       "0.10120707877400847"
      ]
     },
     "execution_count": 340,
     "metadata": {},
     "output_type": "execute_result"
    }
   ],
   "source": [
    "test_ratio = (int(len(train_df)*1/6)-len(tune_list_preocc))/len(sample_pool)\n",
    "test_ratio"
   ]
  },
  {
   "cell_type": "code",
   "execution_count": 341,
   "id": "283bc623",
   "metadata": {},
   "outputs": [],
   "source": [
    "train_set, tune_set = train_test_split(sample_pool,test_size = test_ratio, random_state = 181)"
   ]
  },
  {
   "cell_type": "code",
   "execution_count": 342,
   "id": "ee749fa8",
   "metadata": {},
   "outputs": [],
   "source": [
    "train_set = pd.concat([train_set,train_list_preocc])\n",
    "tune_set = pd.concat([tune_set,tune_list_preocc])"
   ]
  },
  {
   "cell_type": "code",
   "execution_count": 343,
   "id": "861d7976",
   "metadata": {},
   "outputs": [
    {
     "data": {
      "text/plain": [
       "0.19999362620902847"
      ]
     },
     "execution_count": 343,
     "metadata": {},
     "output_type": "execute_result"
    }
   ],
   "source": [
    "len(tune_set)/len(train_set)"
   ]
  },
  {
   "cell_type": "code",
   "execution_count": 344,
   "id": "5827eade",
   "metadata": {},
   "outputs": [
    {
     "data": {
      "text/plain": [
       "(8263, 4420)"
      ]
     },
     "execution_count": 344,
     "metadata": {},
     "output_type": "execute_result"
    }
   ],
   "source": [
    "train_set['user_id'].nunique(),train_set['item_id'].nunique()"
   ]
  },
  {
   "cell_type": "code",
   "execution_count": 345,
   "id": "0ef88e39",
   "metadata": {},
   "outputs": [
    {
     "data": {
      "text/plain": [
       "(8263, 4420)"
      ]
     },
     "execution_count": 345,
     "metadata": {},
     "output_type": "execute_result"
    }
   ],
   "source": [
    "tune_set['user_id'].nunique(),tune_set['item_id'].nunique()"
   ]
  },
  {
   "cell_type": "code",
   "execution_count": 346,
   "id": "e016b662",
   "metadata": {},
   "outputs": [],
   "source": [
    "with open(\"Yelp-4/train_df.pkl\", \"wb\") as f:\n",
    "    pickle.dump(train_set, f, pickle.HIGHEST_PROTOCOL)\n",
    "with open(\"Yelp-4/tune_df.pkl\", \"wb\") as f:\n",
    "    pickle.dump(tune_set, f, pickle.HIGHEST_PROTOCOL)"
   ]
  },
  {
   "cell_type": "code",
   "execution_count": null,
   "id": "aa455cfe",
   "metadata": {},
   "outputs": [],
   "source": []
  },
  {
   "cell_type": "code",
   "execution_count": 113,
   "id": "aab75235",
   "metadata": {},
   "outputs": [],
   "source": [
    "train_user_list = create_user_list(train_set, num_user)\n",
    "test_user_list = create_user_list(testing_df, num_user)\n",
    "train_pair = create_pair(train_user_list)\n"
   ]
  },
  {
   "cell_type": "code",
   "execution_count": 114,
   "id": "f8063914",
   "metadata": {},
   "outputs": [],
   "source": [
    "num_sample, user_list, item_pos_list, item_neg_list = utility.negative_sample(testing_df, num_user,\n",
    "                                                                                      num_item, 5)"
   ]
  },
  {
   "cell_type": "code",
   "execution_count": 115,
   "id": "3f457d89",
   "metadata": {},
   "outputs": [],
   "source": [
    "pair = []\n",
    "pair.extend([(int(user), int(item)) for user, item in zip(user_list,item_pos_list)])"
   ]
  },
  {
   "cell_type": "code",
   "execution_count": 116,
   "id": "5b0175e9",
   "metadata": {},
   "outputs": [
    {
     "data": {
      "text/plain": [
       "101625"
      ]
     },
     "execution_count": 116,
     "metadata": {},
     "output_type": "execute_result"
    }
   ],
   "source": [
    "len(pair)"
   ]
  },
  {
   "cell_type": "code",
   "execution_count": 117,
   "id": "ff6c469e",
   "metadata": {},
   "outputs": [
    {
     "data": {
      "text/plain": [
       "10163"
      ]
     },
     "execution_count": 117,
     "metadata": {},
     "output_type": "execute_result"
    }
   ],
   "source": [
    "len(train_pair)"
   ]
  },
  {
   "cell_type": "code",
   "execution_count": 118,
   "id": "55303d46",
   "metadata": {},
   "outputs": [],
   "source": [
    "dataset = {'user_size': num_user, 'item_size': num_item,\n",
    "            'train_user_list': train_user_list, 'test_user_list': test_user_list,\n",
    "            'train_pair': pair}"
   ]
  },
  {
   "cell_type": "code",
   "execution_count": 119,
   "id": "2038a6fc",
   "metadata": {},
   "outputs": [],
   "source": [
    "dirname = os.path.dirname(os.path.abspath('preprocessed/yelp-4-tune-data.pickle'))\n",
    "os.makedirs(dirname, exist_ok=True)\n",
    "with open('preprocessed/yelp-4-tune-data', 'wb') as f:\n",
    "    pickle.dump(dataset, f, protocol=pickle.HIGHEST_PROTOCOL)"
   ]
  },
  {
   "cell_type": "code",
   "execution_count": null,
   "id": "1700778f",
   "metadata": {},
   "outputs": [],
   "source": []
  }
 ],
 "metadata": {
  "kernelspec": {
   "display_name": "Python 3 (ipykernel)",
   "language": "python",
   "name": "python3"
  },
  "language_info": {
   "codemirror_mode": {
    "name": "ipython",
    "version": 3
   },
   "file_extension": ".py",
   "mimetype": "text/x-python",
   "name": "python",
   "nbconvert_exporter": "python",
   "pygments_lexer": "ipython3",
   "version": "3.9.7"
  }
 },
 "nbformat": 4,
 "nbformat_minor": 5
}
