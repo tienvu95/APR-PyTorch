{
 "cells": [
  {
   "cell_type": "code",
   "execution_count": 1,
   "id": "49fa4fca",
   "metadata": {},
   "outputs": [],
   "source": [
    "# import tensorflow as tf\n",
    "import time\n",
    "import numpy as np\n",
    "import os\n",
    "import copy\n",
    "import pickle\n",
    "import argparse\n",
    "import utility\n",
    "import pandas as pd\n",
    "from sklearn.metrics import *\n",
    "\n"
   ]
  },
  {
   "cell_type": "code",
   "execution_count": 51,
   "id": "09f4e13f",
   "metadata": {},
   "outputs": [],
   "source": [
    "import pandas as pd\n"
   ]
  },
  {
   "cell_type": "code",
   "execution_count": 79,
   "id": "2d2c3628",
   "metadata": {},
   "outputs": [],
   "source": [
    "train_df = pd.read_pickle(r'Yelp-2/training_df.pkl')    \n",
    "vali_df = pd.read_pickle(r'Yelp-2/valiing_df.pkl')   # for validation\n",
    "testing_df = pd.read_pickle(r'Yelp-2/testing_df.pkl')     # for testing\n",
    "key_genre = pd.read_pickle(r'Yelp-2/key_genre.pkl')  \n",
    "item_idd_genre_list = pd.read_pickle(r'Yelp-2/item_idd_genre_list.pkl')   \n",
    "genre_item_vector = pd.read_pickle(r'Yelp-2/genre_item_vector.pkl')    \n",
    "genre_count = pd.read_pickle(r'Yelp-2/genre_count.pkl')      \n",
    "user_genre_count = pd.read_pickle(r'Yelp-2/user_genre_count.pkl') \n",
    "\n",
    "num_item = len(train_df['item_id'].unique())\n",
    "num_user = len(train_df['user_id'].unique())\n",
    "num_genre = len(key_genre)\n",
    "\n",
    "item_genre_list = []\n",
    "for u in range(num_item):\n",
    "    gl = item_idd_genre_list[u]\n",
    "    tmp = []\n",
    "    for g in gl:\n",
    "        if g in key_genre:\n",
    "            tmp.append(g)\n",
    "    item_genre_list.append(tmp)"
   ]
  },
  {
   "cell_type": "code",
   "execution_count": 80,
   "id": "c0dd487e",
   "metadata": {},
   "outputs": [],
   "source": [
    "item_genre = np.zeros((num_item, num_genre))\n",
    "for i in range(num_item):\n",
    "    gl = item_genre_list[i]\n",
    "    for k in range(num_genre):\n",
    "        if key_genre[k] in gl:\n",
    "            item_genre[i, k] = 1.0"
   ]
  },
  {
   "cell_type": "code",
   "execution_count": 81,
   "id": "6a01f3a0",
   "metadata": {},
   "outputs": [
    {
     "data": {
      "text/plain": [
       "array([[0., 1., 0., 0.],\n",
       "       [0., 1., 0., 0.],\n",
       "       [0., 1., 0., 0.],\n",
       "       ...,\n",
       "       [0., 0., 0., 1.],\n",
       "       [0., 0., 0., 1.],\n",
       "       [0., 0., 0., 1.]])"
      ]
     },
     "execution_count": 81,
     "metadata": {},
     "output_type": "execute_result"
    }
   ],
   "source": [
    "item_genre"
   ]
  },
  {
   "cell_type": "code",
   "execution_count": 82,
   "id": "f3880e2b",
   "metadata": {},
   "outputs": [],
   "source": [
    "# train_df = train_df[train_df['user_id'].isin(vali_df['user_id'].unique())]\n",
    "# train_df = train_df[train_df['item_id'].isin(vali_df['item_id'].unique())]"
   ]
  },
  {
   "cell_type": "code",
   "execution_count": 83,
   "id": "247c3f74",
   "metadata": {},
   "outputs": [],
   "source": [
    "def create_user_list(df, user_size):\n",
    "    user_list = [list() for u in range(user_size)]\n",
    "    for row in df.itertuples():\n",
    "        user_list[row.user_id].append(row.item_id)\n",
    "    return user_list\n",
    "\n",
    "def create_pair(user_list):\n",
    "    pair = []\n",
    "    for user, item_list in enumerate(user_list):\n",
    "        pair.extend([(user, item) for item in item_list])\n",
    "    return pair"
   ]
  },
  {
   "cell_type": "code",
   "execution_count": 84,
   "id": "ea784ee8",
   "metadata": {},
   "outputs": [],
   "source": [
    "df_shuffled = testing_df.sample(frac=1)\n",
    "df_splits = np.array_split(df_shuffled, 2)\n"
   ]
  },
  {
   "cell_type": "code",
   "execution_count": 85,
   "id": "aab75235",
   "metadata": {},
   "outputs": [],
   "source": [
    "train_user_list = create_user_list(df_splits[0], num_user)\n",
    "test_user_list = create_user_list(df_splits[1], num_user)\n",
    "train_pair = create_pair(train_user_list)\n"
   ]
  },
  {
   "cell_type": "code",
   "execution_count": 86,
   "id": "6b4603db",
   "metadata": {},
   "outputs": [],
   "source": [
    "num_sample, user_list, item_pos_list, item_neg_list = utility.negative_sample(testing_df, num_user,\n",
    "                                                                                      num_item, 5)"
   ]
  },
  {
   "cell_type": "code",
   "execution_count": 87,
   "id": "3f457d89",
   "metadata": {},
   "outputs": [],
   "source": [
    "pair = []\n",
    "pair.extend([(int(user), int(item)) for user, item in zip(user_list,item_pos_list)])"
   ]
  },
  {
   "cell_type": "code",
   "execution_count": 88,
   "id": "5b0175e9",
   "metadata": {},
   "outputs": [
    {
     "data": {
      "text/plain": [
       "57355"
      ]
     },
     "execution_count": 88,
     "metadata": {},
     "output_type": "execute_result"
    }
   ],
   "source": [
    "len(pair)"
   ]
  },
  {
   "cell_type": "code",
   "execution_count": 89,
   "id": "ff6c469e",
   "metadata": {},
   "outputs": [
    {
     "data": {
      "text/plain": [
       "5736"
      ]
     },
     "execution_count": 89,
     "metadata": {},
     "output_type": "execute_result"
    }
   ],
   "source": [
    "len(train_pair)"
   ]
  },
  {
   "cell_type": "code",
   "execution_count": 90,
   "id": "55303d46",
   "metadata": {},
   "outputs": [],
   "source": [
    "dataset = {'user_size': num_user, 'item_size': num_item,\n",
    "            'train_user_list': train_user_list, 'test_user_list': test_user_list,\n",
    "            'train_pair': pair}"
   ]
  },
  {
   "cell_type": "code",
   "execution_count": 91,
   "id": "2038a6fc",
   "metadata": {},
   "outputs": [],
   "source": [
    "dirname = os.path.dirname(os.path.abspath('preprocessed/yelp-2-tune-data.pickle'))\n",
    "os.makedirs(dirname, exist_ok=True)\n",
    "with open('preprocessed/amz-4-tune-data', 'wb') as f:\n",
    "    pickle.dump(dataset, f, protocol=pickle.HIGHEST_PROTOCOL)"
   ]
  },
  {
   "cell_type": "code",
   "execution_count": null,
   "id": "1700778f",
   "metadata": {},
   "outputs": [],
   "source": []
  }
 ],
 "metadata": {
  "kernelspec": {
   "display_name": "Python 3 (ipykernel)",
   "language": "python",
   "name": "python3"
  },
  "language_info": {
   "codemirror_mode": {
    "name": "ipython",
    "version": 3
   },
   "file_extension": ".py",
   "mimetype": "text/x-python",
   "name": "python",
   "nbconvert_exporter": "python",
   "pygments_lexer": "ipython3",
   "version": "3.9.7"
  }
 },
 "nbformat": 4,
 "nbformat_minor": 5
}
