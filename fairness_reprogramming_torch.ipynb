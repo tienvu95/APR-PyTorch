{
 "cells": [
  {
   "cell_type": "markdown",
   "id": "35dba935",
   "metadata": {},
   "source": [
    "Thinking of APR. Are we doing the dual optimization with the classification model + the pertubation added?\n",
    "\n",
    "1. Run BPR and retrieve the model parameters + predict with fixed parameters\n",
    "2. Use predictions by BPR, train an adversary, save the trained parameters of the MLPs\n",
    "3. Load parameters of BPR, optimize for a perturbations with the new overall objective\n",
    "\n",
    "    Loss BPR (with fixed params + perturbation) + Loss adversary (with fixed params + perturbation)\n",
    "\n",
    "\n",
    "To Do?\n",
    "\n",
    "\n",
    "1. How to compute P(g = G1)? How to retrieve $P_{adv}(i)$ and $P_{adv}(j)$. As of now it is computed as, for a batch of 512 predictions for group membership, compute % of item predicted as G1, G2,...,Gn. Find conditional prob for each item -- TO FIX\n",
    "2. Audit the formula for REO and RSP -- Seems alright but cannot reproduce the recall for R@5, R@10, R@15\n",
    " - Checked all the formulae and coherent with the logics\n",
    " - The problems might be in the u,i,j generation process?. How do we sample data and negative sample? Each positive sample coupled w 5 negative samples = methodology in the RSP/REO paper\n",
    "3. Tranformation function is necessary, how can we define such transformation? i.e. cannot directly optimize embedding + $\\delta$ if $\\delta$ is just a fixed tensor size = embedding dim\n",
    "4. Tuning for the adversary, check case for 6-groups\n",
    "5. Test on more extensive dataset\n",
    "6. Summarize pipeline\n",
    "7. Check the popularity of REO, RSP. Is this fairness definition widely used?\n",
    "    - https://github.com/sisinflab/The-Idiosyncratic-Effects-of-Adversarial-Training/tree/main/src/evaluation recsys\n",
    "    - https://www.semanticscholar.org/reader/f2c12f705aea19ab5e129f72ae9030375f06602f www\n",
    "    - https://www.semanticscholar.org/reader/1459f5a33ae88d4c26594d867201635651c1dd72 recsys\n",
    "    - https://oar.a-star.edu.sg/storage/8/8d1z0edy00/lzz-tois-fairness.pdf  TOIS\n",
    "    - https://www.semanticscholar.org/reader/9eb96c7554d4dac063b47443f38866adbf90b829 recsys\n",
    "    - https://arxiv.org/pdf/2203.01155.pdf UMAP\n",
    "8. Will the universal perturbation work for recsys? do we have to fine-tune, add complexity to the perturbation"
   ]
  },
  {
   "cell_type": "code",
   "execution_count": 1,
   "id": "04a30440",
   "metadata": {},
   "outputs": [],
   "source": [
    "#import relevant library\n",
    "\n",
    "import math\n",
    "import os\n",
    "import random\n",
    "import pickle\n",
    "import argparse\n",
    "from collections import deque\n",
    "import time\n",
    "import utility\n",
    "import tqdm\n",
    "import copy\n",
    "from operator import itemgetter\n",
    "from datetime import timedelta\n",
    "import numpy as np\n",
    "import pandas as pd\n",
    "import torch\n",
    "import torch.nn as nn\n",
    "import torch.nn.functional as F\n",
    "import torch.optim as optim\n",
    "# from torchvision.datasets import CIFAR10\n",
    "from torch.utils.data import DataLoader\n",
    "# from torchvision import transforms\n",
    "from torch.utils.data import IterableDataset, DataLoader, get_worker_info\n",
    "import matplotlib.pyplot as plt\n",
    "from sklearn.model_selection import train_test_split\n",
    "\n"
   ]
  },
  {
   "cell_type": "code",
   "execution_count": 2,
   "id": "f262aa84",
   "metadata": {},
   "outputs": [
    {
     "data": {
      "text/plain": [
       "'cpu'"
      ]
     },
     "execution_count": 2,
     "metadata": {},
     "output_type": "execute_result"
    }
   ],
   "source": [
    "device = \"cuda\" if torch.cuda.is_available() else \"cpu\"\n",
    "device"
   ]
  },
  {
   "cell_type": "code",
   "execution_count": 146,
   "id": "d897bb8d",
   "metadata": {},
   "outputs": [],
   "source": [
    "## time the process\n",
    "def get_time_dif(start_time):\n",
    "    \"\"\"get the running time\"\"\"\n",
    "    end_time = time.time()\n",
    "    time_dif = end_time - start_time\n",
    "    return timedelta(seconds=int(round(time_dif)))\n",
    "\n",
    "\n",
    "## set up the u,i,j triplet for BPR framework\n",
    "class GetTriplePair(IterableDataset):\n",
    "    # for ml-1m we load in 3760 item 6040 user and 994169 train pair\n",
    "    def __init__(self, item_size, user_list, pair, shuffle, num_epochs):\n",
    "        self.item_size = item_size\n",
    "        self.user_list = user_list\n",
    "        self.pair = pair\n",
    "        self.shuffle = shuffle\n",
    "        self.num_epochs = num_epochs\n",
    "\n",
    "    def __iter__(self):\n",
    "        self.example_size = self.num_epochs * len(self.pair) \n",
    "        self.example_index_queue = deque([])\n",
    "        self.seed = 0\n",
    "        self.start_list_index = None\n",
    "        self.num_workers = 1\n",
    "        self.index = 0\n",
    "        return self\n",
    "\n",
    "    def __next__(self):\n",
    "        if self.index >= self.example_size:\n",
    "            raise StopIteration\n",
    "        # If `example_index_queue` is used up, replenish this list.\n",
    "        while len(self.example_index_queue) == 0:\n",
    "            index_list = list(range(len(self.pair)))\n",
    "            if self.shuffle:\n",
    "                random.Random(self.seed).shuffle(index_list)\n",
    "                self.seed += 1\n",
    "            if self.start_list_index is not None:\n",
    "                index_list = index_list[self.start_list_index::self.num_workers]\n",
    "\n",
    "                # Calculate next start index\n",
    "                self.start_list_index = (self.start_list_index + (self.num_workers - (len(self.pair) % self.num_workers))) % self.num_workers\n",
    "            self.example_index_queue.extend(index_list)\n",
    "        result = self._example(self.example_index_queue.popleft())\n",
    "        self.index += self.num_workers\n",
    "        return result\n",
    "\n",
    "    def _example(self, idx):\n",
    "        # in a train pair, format = (u,i), j = a random item which does not exist in user u's list of items\n",
    "#         loop = 0\n",
    "#         for l in range(5):\n",
    "        u = self.pair[idx][0]\n",
    "        i = self.pair[idx][1]\n",
    "        j = np.random.randint(self.item_size)\n",
    "        while j in self.user_list[u]:\n",
    "            j = np.random.randint(self.item_size)\n",
    "#             loop += 1\n",
    "        return u, i, j\n",
    "\n",
    "## chunk to define matrix factorization part\n",
    "class MF(nn.Module):\n",
    "    def __init__(self, user_size, item_size, dim, reg, reg_adv, eps):\n",
    "        super().__init__()\n",
    "        ##init the embedding for U and I\n",
    "        self.W = nn.Parameter(torch.empty(user_size, dim))  # User embedding\n",
    "        self.H = nn.Parameter(torch.empty(item_size, dim))  # Item embedding\n",
    "        nn.init.xavier_normal_(self.W.data)\n",
    "        nn.init.xavier_normal_(self.H.data)\n",
    "        self.reg = reg\n",
    "        self.user_size = user_size\n",
    "        self.item_size = item_size\n",
    "        self.dim = dim\n",
    "        self.reg_adv = reg_adv\n",
    "        self.eps = eps\n",
    "        self.update_u = None\n",
    "        self.update_i = None\n",
    "        self.update_j = None\n",
    "\n",
    "## forward cal\n",
    "    def forward(self, u, i, j, epoch):\n",
    "        \"\"\"Return loss value.\n",
    "\n",
    "        Args:\n",
    "            u(torch.LongTensor): tensor stored user indexes. [batch_size,]\n",
    "            i(torch.LongTensor): tensor stored item indexes which is prefered by user. [batch_size,]\n",
    "            j(torch.LongTensor): tensor stored item indexes which is not prefered by user. [batch_size,]\n",
    "            epoch\n",
    "\n",
    "        Returns:\n",
    "            torch.FloatTensor\n",
    "        \"\"\"\n",
    "        ##u,i,j respectively, each is a vector of dim embedding (default = 64)\n",
    "        u = self.W[u, :]\n",
    "        i = self.H[i, :]\n",
    "        j = self.H[j, :]\n",
    "\n",
    "        ## Enables this Tensor to have their grad populated during backward(), convert any non-leaf tensor into a leaf tensor,\n",
    "        ##https://stackoverflow.com/questions/73698041/how-retain-grad-in-pytorch-works-i-found-its-position-changes-the-grad-result\n",
    "        u.retain_grad()\n",
    "        u_clone = u.data.clone()\n",
    "        i.retain_grad()\n",
    "        i_clone = i.data.clone()\n",
    "        j.retain_grad()\n",
    "        j_clone = j.data.clone()\n",
    "\n",
    "        ## mf, dot product of user with pos/neg item\n",
    "        x_ui = torch.mul(u, i).sum(dim=1)\n",
    "        x_uj = torch.mul(u, j).sum(dim=1)\n",
    "\n",
    "\n",
    "        #similar to clip value, find diff between ui and uj\n",
    "        x_uij =torch.clamp(x_ui - x_uj,min=-80.0,max=1e8)\n",
    "        #logsigmoid this is equivalent to equation 1 in the paper (classic loss of bpr)\n",
    "#         log_prob = F.logsigmoid(x_uij).sum()\n",
    "        log_prob = F.softplus(x_uij).sum() #should we add minus sign here -x_uij\n",
    "\n",
    "        # regularization = lambda * l2 norm of u, i, j\n",
    "        regularization = self.reg * (u.norm(dim=1).pow(2).sum() + i.norm(dim=1).pow(2).sum() + j.norm(dim=1).pow(2).sum())\n",
    "\n",
    "        ## original bpr loss,\n",
    "        loss = -log_prob + regularization\n",
    "\n",
    "        loss.backward()\n",
    "        return loss\n",
    "        # add adv training after a certain number of epochs, here is the part which we add hypernet module\n",
    "#         if epoch not in range(args.epochs, args.adv_epoch + args.epochs):\n",
    "#             \"\"\"Normal training\"\"\"\n",
    "#             loss.backward()\n",
    "#             return loss\n",
    "\n",
    "#         else:\n",
    "#             \"\"\"Adversarial training:\n",
    "#                     1.Backward to get grads\n",
    "#                     2.Construct adversarial perturbation\n",
    "#                     3.Add adversarial perturbation to embeddings\n",
    "#                     4.Calculate APR loss\n",
    "#             \"\"\"\n",
    "#             # Backward to get grads\n",
    "#             # this would be the part we change in defining delta, delta = HPN (phi)\n",
    "\n",
    "#             # should we calculate based on gradient of the adv_loss instead of the loss function?, originally, computed based on loss function\n",
    "#             loss.backward(retain_graph=True) ## need to retain graph here so as to we can backprop the adv_loss\n",
    "#             ##recheck this\n",
    "#             grad_u = u.grad\n",
    "#             grad_i = i.grad\n",
    "#             grad_j = j.grad\n",
    "\n",
    "#             # Construct adversarial perturbation based on gradient of loss function, and normalize it with epsilon * norm\n",
    "#             if grad_u is not None:\n",
    "#                 delta_u = nn.functional.normalize(grad_u, p=2, dim=1, eps=self.eps)\n",
    "#             else:\n",
    "#                 delta_u = torch.rand(u.size())\n",
    "#             if grad_i is not None:\n",
    "#                 delta_i = nn.functional.normalize(grad_i, p=2, dim=1, eps=self.eps)\n",
    "#             else:\n",
    "#                 delta_i = torch.rand(i.size())\n",
    "#             if grad_j is not None:\n",
    "#                 delta_j = nn.functional.normalize(grad_j, p=2, dim=1, eps=self.eps)\n",
    "#             else:\n",
    "#                 delta_j = torch.rand(j.size())\n",
    "\n",
    "#             # Add adversarial perturbation to embeddings, now we have q+delta, p+delta\n",
    "#             x_ui_adv = torch.mul(u + delta_u, i + delta_i).sum(dim=1)\n",
    "#             x_uj_adv = torch.mul(u + delta_u, j + delta_j).sum(dim=1)\n",
    "\n",
    "#             # find difference between pos and neg item, then clip value\n",
    "# #             x_uij_adv = torch.clamp(x_ui_adv - x_uj_adv,min=-80.0,max=1e8)\n",
    "#             log_prob = torch.sofplus(x_ui_adv - x_uj_adv).sum()\n",
    "#             # Calculate APR loss with logsigmoid\n",
    "# #             log_prob = F.logsigmoid(x_uij_adv).sum()\n",
    "#             adv_loss = self.reg_adv *(-log_prob) + loss # this is adversarial loss (equation 4 in paper)\n",
    "#             adv_loss.backward()\n",
    "\n",
    "#             return adv_loss\n"
   ]
  },
  {
   "cell_type": "code",
   "execution_count": 147,
   "id": "c1a455a0",
   "metadata": {},
   "outputs": [],
   "source": [
    "def evaluate_k(user_emb, item_emb, train_user_list, test_user_list, klist, batch=512):\n",
    "    \"\"\"Compute HR and NDCG at k.\n",
    "\n",
    "    Args:\n",
    "        user_emb (torch.Tensor): embedding for user [user_num, dim]\n",
    "        item_emb (torch.Tensor): embedding for item [item_num, dim]\n",
    "        train_user_list (list(set)):\n",
    "        test_user_list (list(set)):\n",
    "        k (list(int)):\n",
    "    Returns:\n",
    "        (torch.Tensor, torch.Tensor) HR and NDCG at k\n",
    "    \"\"\"\n",
    "\n",
    "    # Calculate max k value\n",
    "    max_k = max(klist)\n",
    "    result = None\n",
    "\n",
    "    # no iteration = user_num / batch size (which is 512)\n",
    "    for i in range(0, user_emb.shape[0], batch):\n",
    "\n",
    "        # Construct mask for each batch\n",
    "\n",
    "        #new_ones returns a Tensor of size size filled with 1\n",
    "\n",
    "        # size of the mask vector = (min of batch or user embed) * item+embed\n",
    "        mask = user_emb.new_ones([min([batch, user_emb.shape[0]-i]), item_emb.shape[0]])\n",
    "        for j in range(batch):\n",
    "            if i+j >= user_emb.shape[0]:\n",
    "                break\n",
    "            mask[j].scatter_(dim=0, index=torch.tensor(list(train_user_list[i + j])), value=torch.tensor(0.0))\n",
    "\n",
    "        # Get current result\n",
    "        cur_result = torch.mm(user_emb[i:i+min(batch, user_emb.shape[0]-i), :], item_emb.t())\n",
    "        cur_result = torch.sigmoid(cur_result)\n",
    "        assert not torch.any(torch.isnan(cur_result))\n",
    "\n",
    "        # Make zero for already observed item\n",
    "        cur_result = torch.mul(mask, cur_result)\n",
    "        _, cur_result = torch.topk(cur_result, k=max_k, dim=1)\n",
    "        result = cur_result if result is None else torch.cat((result, cur_result), dim=0)\n",
    "\n",
    "\n",
    "    ## basically this chunk collects the results\n",
    "    result = result.cpu()\n",
    "\n",
    "    # Sort indice and get HR_NDCG_topk\n",
    "    HRs, NDCGs = [], []\n",
    "    for k in klist:\n",
    "        ndcg, hr = 0, 0\n",
    "        #for all user\n",
    "        for i in range(user_emb.shape[0]):\n",
    "            #set helps to identify unique members in a list\n",
    "            test = set(test_user_list[i])\n",
    "            #top k item from prediction list\n",
    "            pred = set(result[i, :k].numpy().tolist())\n",
    "            #if topk lies on both test and pred list\n",
    "            val = len(test & pred)\n",
    "            #hit ratio = %item hit\n",
    "            hr += val / max([len(test), 1])\n",
    "            #convert pred back to list\n",
    "            pred = list(pred)\n",
    "            if test_user_list[i] == []:\n",
    "                continue\n",
    "            else:\n",
    "                x = int(test_user_list[i][0])\n",
    "                ## check if x is in the prediction where x = 1st member of user list\n",
    "                if pred.count(x) != 0:\n",
    "                    position = pred.index(x)\n",
    "                    ndcg += math.log(2) / math.log(position + 2) if position < k else 0\n",
    "                else:\n",
    "                    ndcg += 0                \n",
    "#                 for x in test_user_list[i]:\n",
    "#                     x = int(x)\n",
    "#                     ## check if x is in the prediction where x = 1st member of user list\n",
    "#                     if pred.count(x) != 0:\n",
    "#                         position = pred.index(x)\n",
    "#                         ndcg += math.log(2) / math.log(position + 2) if position < k else 0\n",
    "#                     else:\n",
    "#                         ndcg += 0\n",
    "        NDCGs.append(ndcg / user_emb.shape[0])\n",
    "        HRs.append(hr / user_emb.shape[0])\n",
    "        NDCGs.append(ndcg / user_emb.shape[0])\n",
    "    return HRs, NDCGs\n"
   ]
  },
  {
   "cell_type": "code",
   "execution_count": 148,
   "id": "76c78a66",
   "metadata": {},
   "outputs": [],
   "source": [
    "# class GetTriplePair_neg_sam(IterableDataset):\n",
    "#     # for ml-1m we load in 3760 item 6040 user and 994169 train pair\n",
    "#     def __init__(self, num_sample, user_list, item_pos_list,item_neg_list, shuffle, num_epochs):\n",
    "#         self.num_sample = num_sample\n",
    "#         self.user_list = user_list\n",
    "#         self.item_pos_list = item_pos_list\n",
    "#         self.item_neg_list = item_neg_list\n",
    "#         self.shuffle = shuffle\n",
    "#         self.num_epochs = num_epochs\n",
    "\n",
    "#     def __iter__(self):\n",
    "#         self.example_size = self.num_epochs * self.num_sample\n",
    "#         self.example_index_queue = deque([])\n",
    "#         self.seed = 0\n",
    "#         self.start_list_index = None\n",
    "#         self.num_workers = 1\n",
    "#         self.index = 0\n",
    "#         return self\n",
    "\n",
    "#     def __next__(self):\n",
    "#         if self.index >= self.example_size:\n",
    "#             raise StopIteration\n",
    "#         # If `example_index_queue` is used up, replenish this list.\n",
    "#         while len(self.example_index_queue) == 0:\n",
    "#             index_list = list(range(num_sample))\n",
    "#             if self.shuffle:\n",
    "#                 random.Random(self.seed).shuffle(index_list)\n",
    "#                 self.seed += 1\n",
    "#             if self.start_list_index is not None:\n",
    "#                 index_list = index_list[self.start_list_index::self.num_workers]\n",
    "\n",
    "#                 # Calculate next start index\n",
    "#                 self.start_list_index = (self.start_list_index + (self.num_workers - (len(self.pair) % self.num_workers))) % self.num_workers\n",
    "#             self.example_index_queue.extend(index_list)\n",
    "#         result = self._example(self.example_index_queue.popleft())\n",
    "#         self.index += self.num_workers\n",
    "#         return result\n",
    "\n",
    "#     def _example(self, idx):\n",
    "#         # in a train pair, format = (u,i), j = a random item which does not exist in user u's list of items\n",
    "#         u = self.user_list[idx]\n",
    "#         i = self.item_pos_list[idx]\n",
    "#         j = self.item_neg_list[idx]\n",
    "# #         while j in self.item_pos_list[u]:\n",
    "# #             j = np.random.randint(self.item_neg_list)\n",
    "#         return u, i, j"
   ]
  },
  {
   "cell_type": "code",
   "execution_count": 174,
   "id": "f204e348",
   "metadata": {},
   "outputs": [],
   "source": [
    "with open('preprocessed/ml-1m-6-test.pickle', 'rb') as f:\n",
    "    dataset = pickle.load(f)\n",
    "    user_size, item_size = dataset['user_size'], dataset['item_size']\n",
    "    train_user_list, test_user_list = dataset['train_user_list'], dataset['test_user_list']\n",
    "    train_pair = dataset['train_pair']"
   ]
  },
  {
   "cell_type": "code",
   "execution_count": 175,
   "id": "2e7ffdb1",
   "metadata": {
    "scrolled": true
   },
   "outputs": [],
   "source": [
    "# this is for the original implementation\n",
    "# Create dataset, model, optimizer\n",
    "dataset = GetTriplePair(item_size, train_user_list, train_pair, True, 1000)\n",
    "\n",
    "# load batch of 512 item triplets\n",
    "loader = DataLoader(dataset, batch_size=512)\n",
    "# for the measuring paper, regulalization  = 0.1/2\n",
    "model = MF(user_size, item_size, 64, 0.05, 1, 0.5)"
   ]
  },
  {
   "cell_type": "code",
   "execution_count": 176,
   "id": "a5215e76",
   "metadata": {},
   "outputs": [],
   "source": [
    "# # Create dataset, model, optimizer\n",
    "# dataset = GetTriplePair_neg_sam( num_sample, user_list, item_pos_list,item_neg_list, True, 1000)\n",
    "\n",
    "# # load batch of 512 item triplets\n",
    "# loader = DataLoader(dataset, batch_size=512)\n",
    "# # for the measuring paper, regulalization  = 0.1/2\n",
    "# model = MF(user_size, item_size, 64, 0.05, 1, 0.5)"
   ]
  },
  {
   "cell_type": "code",
   "execution_count": 177,
   "id": "d655d783",
   "metadata": {},
   "outputs": [
    {
     "name": "stdout",
     "output_type": "stream",
     "text": [
      "time 0:00:01\n",
      "BPR-MF Epoch [20/1000]\n",
      "loss: -350.6284\n",
      "HR@50: 0.0314, HR@100: 0.0605, NDCG@50: 0.0081, NDCG@100: 0.0081\n",
      "BPR-MF Epoch [40/1000]\n",
      "loss: -351.3919\n",
      "HR@50: 0.0285, HR@100: 0.0595, NDCG@50: 0.0074, NDCG@100: 0.0074\n",
      "BPR-MF Epoch [60/1000]\n",
      "loss: -352.1586\n",
      "HR@50: 0.0268, HR@100: 0.0596, NDCG@50: 0.0075, NDCG@100: 0.0075\n",
      "BPR-MF Epoch [80/1000]\n",
      "loss: -352.5771\n",
      "HR@50: 0.0248, HR@100: 0.0562, NDCG@50: 0.0070, NDCG@100: 0.0070\n",
      "BPR-MF Epoch [100/1000]\n",
      "loss: -352.9001\n",
      "HR@50: 0.0260, HR@100: 0.0552, NDCG@50: 0.0076, NDCG@100: 0.0076\n",
      "time 0:00:17\n",
      "BPR-MF Epoch [120/1000]\n",
      "loss: -352.8922\n",
      "HR@50: 0.0281, HR@100: 0.0582, NDCG@50: 0.0082, NDCG@100: 0.0082\n",
      "BPR-MF Epoch [140/1000]\n",
      "loss: -352.7852\n",
      "HR@50: 0.0322, HR@100: 0.0656, NDCG@50: 0.0089, NDCG@100: 0.0089\n",
      "BPR-MF Epoch [160/1000]\n",
      "loss: -352.5462\n",
      "HR@50: 0.0377, HR@100: 0.0777, NDCG@50: 0.0102, NDCG@100: 0.0102\n",
      "BPR-MF Epoch [180/1000]\n",
      "loss: -352.1617\n",
      "HR@50: 0.0476, HR@100: 0.0920, NDCG@50: 0.0132, NDCG@100: 0.0132\n",
      "BPR-MF Epoch [200/1000]\n",
      "loss: -351.9781\n",
      "HR@50: 0.0595, HR@100: 0.1121, NDCG@50: 0.0172, NDCG@100: 0.0172\n",
      "BPR-MF Epoch [220/1000]\n",
      "loss: -351.5409\n",
      "HR@50: 0.0776, HR@100: 0.1375, NDCG@50: 0.0218, NDCG@100: 0.0218\n",
      "BPR-MF Epoch [240/1000]\n",
      "loss: -352.1317\n",
      "HR@50: 0.0976, HR@100: 0.1753, NDCG@50: 0.0268, NDCG@100: 0.0268\n",
      "BPR-MF Epoch [260/1000]\n",
      "loss: -352.6204\n",
      "HR@50: 0.1240, HR@100: 0.2135, NDCG@50: 0.0350, NDCG@100: 0.0350\n",
      "BPR-MF Epoch [280/1000]\n",
      "loss: -353.4395\n",
      "HR@50: 0.1479, HR@100: 0.2552, NDCG@50: 0.0425, NDCG@100: 0.0425\n",
      "BPR-MF Epoch [300/1000]\n",
      "loss: -355.3122\n",
      "HR@50: 0.1749, HR@100: 0.2899, NDCG@50: 0.0496, NDCG@100: 0.0496\n",
      "time 0:00:49\n",
      "BPR-MF Epoch [320/1000]\n",
      "loss: -361.1962\n",
      "HR@50: 0.1953, HR@100: 0.3168, NDCG@50: 0.0574, NDCG@100: 0.0574\n",
      "BPR-MF Epoch [340/1000]\n",
      "loss: -365.1167\n",
      "HR@50: 0.2116, HR@100: 0.3335, NDCG@50: 0.0620, NDCG@100: 0.0620\n",
      "BPR-MF Epoch [360/1000]\n",
      "loss: -372.7069\n",
      "HR@50: 0.2219, HR@100: 0.3502, NDCG@50: 0.0639, NDCG@100: 0.0639\n",
      "BPR-MF Epoch [380/1000]\n",
      "loss: -388.4921\n",
      "HR@50: 0.2295, HR@100: 0.3617, NDCG@50: 0.0665, NDCG@100: 0.0665\n",
      "BPR-MF Epoch [400/1000]\n",
      "loss: -402.9073\n",
      "HR@50: 0.2358, HR@100: 0.3690, NDCG@50: 0.0675, NDCG@100: 0.0675\n",
      "time 0:01:04\n",
      "BPR-MF Epoch [420/1000]\n",
      "loss: -420.2077\n",
      "HR@50: 0.2421, HR@100: 0.3732, NDCG@50: 0.0698, NDCG@100: 0.0698\n",
      "BPR-MF Epoch [440/1000]\n",
      "loss: -471.6626\n",
      "HR@50: 0.2454, HR@100: 0.3770, NDCG@50: 0.0710, NDCG@100: 0.0710\n",
      "BPR-MF Epoch [460/1000]\n",
      "loss: -507.5399\n",
      "HR@50: 0.2483, HR@100: 0.3786, NDCG@50: 0.0722, NDCG@100: 0.0722\n",
      "BPR-MF Epoch [480/1000]\n",
      "loss: -543.6548\n",
      "HR@50: 0.2504, HR@100: 0.3794, NDCG@50: 0.0720, NDCG@100: 0.0720\n",
      "BPR-MF Epoch [500/1000]\n",
      "loss: -629.2732\n",
      "HR@50: 0.2510, HR@100: 0.3799, NDCG@50: 0.0723, NDCG@100: 0.0723\n",
      "time 0:01:20\n",
      "BPR-MF Epoch [520/1000]\n",
      "loss: -705.2676\n",
      "HR@50: 0.2519, HR@100: 0.3813, NDCG@50: 0.0724, NDCG@100: 0.0724\n",
      "BPR-MF Epoch [540/1000]\n",
      "loss: -786.3111\n",
      "HR@50: 0.2528, HR@100: 0.3831, NDCG@50: 0.0728, NDCG@100: 0.0728\n",
      "BPR-MF Epoch [560/1000]\n",
      "loss: -857.0335\n",
      "HR@50: 0.2546, HR@100: 0.3832, NDCG@50: 0.0735, NDCG@100: 0.0735\n",
      "BPR-MF Epoch [580/1000]\n",
      "loss: -1038.4977\n",
      "HR@50: 0.2550, HR@100: 0.3833, NDCG@50: 0.0733, NDCG@100: 0.0733\n",
      "BPR-MF Epoch [600/1000]\n",
      "loss: -1214.2310\n",
      "HR@50: 0.2559, HR@100: 0.3822, NDCG@50: 0.0733, NDCG@100: 0.0733\n",
      "time 0:01:36\n",
      "BPR-MF Epoch [620/1000]\n",
      "loss: -1371.6268\n",
      "HR@50: 0.2563, HR@100: 0.3828, NDCG@50: 0.0732, NDCG@100: 0.0732\n",
      "BPR-MF Epoch [640/1000]\n",
      "loss: -1549.7028\n",
      "HR@50: 0.2575, HR@100: 0.3835, NDCG@50: 0.0732, NDCG@100: 0.0732\n",
      "BPR-MF Epoch [660/1000]\n",
      "loss: -1672.7904\n",
      "HR@50: 0.2570, HR@100: 0.3835, NDCG@50: 0.0727, NDCG@100: 0.0727\n",
      "BPR-MF Epoch [680/1000]\n",
      "loss: -1938.6554\n",
      "HR@50: 0.2576, HR@100: 0.3838, NDCG@50: 0.0727, NDCG@100: 0.0727\n",
      "BPR-MF Epoch [700/1000]\n",
      "loss: -2193.4375\n",
      "HR@50: 0.2588, HR@100: 0.3847, NDCG@50: 0.0734, NDCG@100: 0.0734\n",
      "time 0:01:51\n",
      "BPR-MF Epoch [720/1000]\n",
      "loss: -2121.9592\n",
      "HR@50: 0.2597, HR@100: 0.3850, NDCG@50: 0.0738, NDCG@100: 0.0738\n",
      "BPR-MF Epoch [740/1000]\n",
      "loss: -2539.7375\n",
      "HR@50: 0.2599, HR@100: 0.3847, NDCG@50: 0.0740, NDCG@100: 0.0740\n",
      "BPR-MF Epoch [760/1000]\n",
      "loss: -2750.4270\n",
      "HR@50: 0.2599, HR@100: 0.3851, NDCG@50: 0.0741, NDCG@100: 0.0741\n",
      "BPR-MF Epoch [780/1000]\n",
      "loss: -2976.7886\n",
      "HR@50: 0.2602, HR@100: 0.3853, NDCG@50: 0.0742, NDCG@100: 0.0742\n",
      "BPR-MF Epoch [800/1000]\n",
      "loss: -3184.2085\n",
      "HR@50: 0.2600, HR@100: 0.3851, NDCG@50: 0.0746, NDCG@100: 0.0746\n",
      "time 0:02:06\n",
      "BPR-MF Epoch [820/1000]\n",
      "loss: -3455.1052\n",
      "HR@50: 0.2595, HR@100: 0.3854, NDCG@50: 0.0741, NDCG@100: 0.0741\n",
      "BPR-MF Epoch [840/1000]\n",
      "loss: -3674.6636\n",
      "HR@50: 0.2596, HR@100: 0.3853, NDCG@50: 0.0737, NDCG@100: 0.0737\n",
      "BPR-MF Epoch [860/1000]\n",
      "loss: -3950.7573\n",
      "HR@50: 0.2595, HR@100: 0.3853, NDCG@50: 0.0735, NDCG@100: 0.0735\n",
      "BPR-MF Epoch [880/1000]\n",
      "loss: -4185.5107\n",
      "HR@50: 0.2607, HR@100: 0.3850, NDCG@50: 0.0735, NDCG@100: 0.0735\n",
      "BPR-MF Epoch [900/1000]\n",
      "loss: -4466.6636\n",
      "HR@50: 0.2603, HR@100: 0.3847, NDCG@50: 0.0734, NDCG@100: 0.0734\n",
      "time 0:02:21\n",
      "BPR-MF Epoch [920/1000]\n",
      "loss: -4853.4878\n",
      "HR@50: 0.2607, HR@100: 0.3847, NDCG@50: 0.0737, NDCG@100: 0.0737\n",
      "BPR-MF Epoch [940/1000]\n",
      "loss: -5147.5278\n",
      "HR@50: 0.2607, HR@100: 0.3859, NDCG@50: 0.0737, NDCG@100: 0.0737\n",
      "BPR-MF Epoch [960/1000]\n",
      "loss: -5240.0771\n",
      "HR@50: 0.2603, HR@100: 0.3861, NDCG@50: 0.0739, NDCG@100: 0.0739\n",
      "BPR-MF Epoch [980/1000]\n",
      "loss: -5680.5483\n",
      "HR@50: 0.2601, HR@100: 0.3864, NDCG@50: 0.0741, NDCG@100: 0.0741\n",
      "BPR-MF Epoch [1000/1000]\n",
      "loss: -6344.2935\n",
      "HR@50: 0.2612, HR@100: 0.3866, NDCG@50: 0.0740, NDCG@100: 0.0740\n"
     ]
    }
   ],
   "source": [
    "optimizer = optim.Adam(model.parameters(), lr=0.00025) #.00025\n",
    "\n",
    "# Training\n",
    "start_time = time.time()\n",
    "eval_best_loss = float('inf')\n",
    "\n",
    "##zero_grad: zeroes the grad attribute of all the parameters passed to the optimizer upon construction\n",
    "optimizer.zero_grad()\n",
    "epoch = 0\n",
    "HR_history = []\n",
    "NDCG_history = []\n",
    "# result_history = []\n",
    "#loader has batch size of 512. In each batch there are 3 tensors of u i j accordingly\n",
    "for u, i, j in loader:\n",
    "    if epoch in range(1000):\n",
    "        loss = model(u, i, j, epoch)\n",
    "\n",
    "        ##  updates the value of those parameters according to the optimization strategy implemented by the specific optimizer.\n",
    "        optimizer.step()\n",
    "        HR_list, NDCG_list = evaluate_k(model.W.detach(),\n",
    "                                        model.H.detach(),\n",
    "                                        train_user_list,\n",
    "                                        test_user_list,\n",
    "                                        klist=[50, 100])\n",
    "        if epoch % 20 == (20- 1):\n",
    "            if epoch in range(1000):\n",
    "                print('BPR-MF Epoch [{}/{}]'.format(epoch + 1, 1000))\n",
    "            print('loss: %.4f' % loss)\n",
    "            print('HR@50: %.4f, HR@100: %.4f, NDCG@50: %.4f, NDCG@100: %.4f' % (\n",
    "                HR_list[0], HR_list[1], NDCG_list[0], NDCG_list[1]))\n",
    "        HR_history.append(HR_list[1])\n",
    "        NDCG_history.append(NDCG_list[1])\n",
    "        if epoch % 100 == 0:\n",
    "            if loss < eval_best_loss:\n",
    "                eval_best_loss = loss\n",
    "                dirname = os.path.dirname(os.path.abspath('output/bpr_manual'))\n",
    "                os.makedirs(dirname, exist_ok=True)\n",
    "                torch.save(model.state_dict(), 'output/bpr_manual')\n",
    "                time_dif = get_time_dif(start_time)\n",
    "                print(\"time\", time_dif)\n",
    "        epoch += 1\n",
    "    else:\n",
    "        break\n"
   ]
  },
  {
   "cell_type": "markdown",
   "id": "c1b039d9",
   "metadata": {},
   "source": [
    "for ml-1m-2 data set with continue , epoch 1000 has\n",
    "loss: 160.6638\n",
    "HR@50: 0.3218, HR@100: 0.4558, NDCG@50: 0.0939, NDCG@100: 0.0939\n",
    "\n",
    "\n",
    "\n",
    "for ml-1m-6 data set with continue , epoch 1000 has\n",
    "loss: 160.6638\n",
    "HR@50: 0.3218, HR@100: 0.4558, NDCG@50: 0.0939, NDCG@100: 0.0939\n",
    "\n",
    "for ml-1m-6 data set with continue + for loop for X in test user set , epoch 1000 has\n",
    "loss: 196.0934\n",
    "HR@50: 0.3266, HR@100: 0.4649, NDCG@50: 0.7004, NDCG@100: 0.7004\n",
    "\n",
    "\n",
    "ml-1m normal dataset\n",
    "loss: 150.8645\n",
    "HR@50: 0.1437, HR@100: 0.2245, NDCG@50: 0.0365, NDCG@100: 0.0365\n",
    "\n",
    "test ml-1m normal dataset with for loop for X in test user set\n",
    "loss: 181.7949\n",
    "HR@50: 0.1480, HR@100: 0.2252, NDCG@50: 0.0373, NDCG@100: 0.0373"
   ]
  },
  {
   "cell_type": "code",
   "execution_count": 178,
   "id": "29d7f1e4",
   "metadata": {},
   "outputs": [
    {
     "data": {
      "image/png": "[encoded data removed]",
      "text/plain": [
       "<Figure size 432x288 with 1 Axes>"
      ]
     },
     "metadata": {
      "needs_background": "light"
     },
     "output_type": "display_data"
    },
    {
     "data": {
      "image/png": "[encoded data removed]",
      "text/plain": [
       "<Figure size 432x288 with 1 Axes>"
      ]
     },
     "metadata": {
      "needs_background": "light"
     },
     "output_type": "display_data"
    }
   ],
   "source": [
    "fig_HR = plt.figure(edgecolor='blue')\n",
    "ax1 = fig_HR.add_subplot(111)\n",
    "plt.ylabel('HR@100')\n",
    "plt.xlabel('Epoch')\n",
    "plt.title('ML-1M')\n",
    "ax1.plot(range(len(HR_history)), HR_history, c=np.array([255, 71, 90]) / 255.)\n",
    "plt.show()\n",
    "fig_P = plt.figure(edgecolor='blue')\n",
    "ax1 = fig_P.add_subplot(111)\n",
    "plt.ylabel('NDCG@100')\n",
    "plt.xlabel('Epoch')\n",
    "plt.title('ML-1M')\n",
    "ax1.plot(range(len(NDCG_history)), NDCG_history, c=np.array([255, 71, 90]) / 255.)\n",
    "plt.show()"
   ]
  },
  {
   "cell_type": "markdown",
   "id": "886dcf79",
   "metadata": {},
   "source": [
    "Running a saving output of BPR model\n",
    "\n",
    "Next up = train adversary based on fixed parameters of BPR"
   ]
  },
  {
   "cell_type": "code",
   "execution_count": 179,
   "id": "b6ae75b6",
   "metadata": {},
   "outputs": [],
   "source": [
    "train_df = pd.read_pickle(r'ml1m-6/training_df.pkl')\n",
    "vali_df = pd.read_pickle(r'ml1m-6/valiing_df.pkl')\n",
    "key_genre = pd.read_pickle(r'ml1m-6/key_genre.pkl')  \n",
    "item_idd_genre_list = pd.read_pickle(r'ml1m-6/item_idd_genre_list.pkl')   \n",
    "genre_item_vector = pd.read_pickle(r'ml1m-6/genre_item_vector.pkl')    \n",
    "genre_count = pd.read_pickle(r'ml1m-6/genre_count.pkl')      \n",
    "user_genre_count = pd.read_pickle(r'ml1m-6/user_genre_count.pkl') \n",
    "\n",
    "num_item = len(train_df['item_id'].unique())\n",
    "num_user = len(train_df['user_id'].unique())\n",
    "num_genre = len(key_genre)"
   ]
  },
  {
   "cell_type": "code",
   "execution_count": 140,
   "id": "55843c31",
   "metadata": {},
   "outputs": [],
   "source": [
    "train_df = pd.read_pickle(r'ml1m-2/training_df.pkl')\n",
    "vali_df = pd.read_pickle(r'ml1m-2/valiing_df.pkl')\n",
    "key_genre = pd.read_pickle(r'ml1m-2/key_genre.pkl')  \n",
    "item_idd_genre_list = pd.read_pickle(r'ml1m-2/item_idd_genre_list.pkl')   \n",
    "genre_item_vector = pd.read_pickle(r'ml1m-2/genre_item_vector.pkl')    \n",
    "genre_count = pd.read_pickle(r'ml1m-2/genre_count.pkl')      \n",
    "user_genre_count = pd.read_pickle(r'ml1m-2/user_genre_count.pkl') \n",
    "\n",
    "num_item = len(train_df['item_id'].unique())\n",
    "num_user = len(train_df['user_id'].unique())\n",
    "num_genre = len(key_genre)"
   ]
  },
  {
   "cell_type": "code",
   "execution_count": 180,
   "id": "4a9335ed",
   "metadata": {},
   "outputs": [
    {
     "data": {
      "text/plain": [
       "{'Sci-Fi': 271,\n",
       " 'Horror': 330,\n",
       " 'Crime': 193,\n",
       " 'Romance': 447,\n",
       " \"Children's\": 248,\n",
       " 'Adventure': 276}"
      ]
     },
     "execution_count": 180,
     "metadata": {},
     "output_type": "execute_result"
    }
   ],
   "source": [
    "genre_count"
   ]
  },
  {
   "cell_type": "code",
   "execution_count": 181,
   "id": "364be573",
   "metadata": {},
   "outputs": [],
   "source": [
    "item_genre_list = []\n",
    "for u in range(num_item):\n",
    "    gl = item_idd_genre_list[u]\n",
    "    tmp = []\n",
    "    for g in gl:\n",
    "        if g in key_genre:\n",
    "            tmp.append(g)\n",
    "    item_genre_list.append(tmp)\n",
    "\n",
    "item_genre = np.zeros((num_item, num_genre))\n",
    "for i in range(num_item):\n",
    "    gl = item_genre_list[i]\n",
    "    for k in range(num_genre):\n",
    "        if key_genre[k] in gl:\n",
    "            item_genre[i, k] = 1.0\n",
    "\n",
    "genre_count_mean_reciprocal = []\n",
    "\n",
    "##there are six key_genre --> in the training dataset, count the number of movies for each genre\n",
    "#genre_count = dictionary with number of movies for each keygrenre\n",
    "for k in key_genre:\n",
    "    genre_count_mean_reciprocal.append(1.0 / genre_count[k])\n",
    "genre_count_mean_reciprocal = (np.array(genre_count_mean_reciprocal)).reshape((num_genre, 1))\n",
    "genre_error_weight = np.dot(item_genre, genre_count_mean_reciprocal)"
   ]
  },
  {
   "cell_type": "code",
   "execution_count": 182,
   "id": "2326714e",
   "metadata": {},
   "outputs": [
    {
     "data": {
      "text/plain": [
       "array([[0.00369004],\n",
       "       [0.0030303 ],\n",
       "       [0.00518135],\n",
       "       [0.00362319],\n",
       "       [0.00403226],\n",
       "       [0.00223714]])"
      ]
     },
     "execution_count": 182,
     "metadata": {},
     "output_type": "execute_result"
    }
   ],
   "source": [
    "genre_count_mean_reciprocal"
   ]
  },
  {
   "cell_type": "code",
   "execution_count": 183,
   "id": "55f5af0e",
   "metadata": {},
   "outputs": [
    {
     "data": {
      "text/plain": [
       "torch.Size([1481, 6])"
      ]
     },
     "execution_count": 183,
     "metadata": {},
     "output_type": "execute_result"
    }
   ],
   "source": [
    "item_genre = torch.from_numpy(item_genre).type(torch.float)\n",
    "item_genre.size()"
   ]
  },
  {
   "cell_type": "code",
   "execution_count": 184,
   "id": "2000011e",
   "metadata": {},
   "outputs": [
    {
     "data": {
      "text/plain": [
       "(torch.Size([6036, 64]), torch.Size([1481, 64]))"
      ]
     },
     "execution_count": 184,
     "metadata": {},
     "output_type": "execute_result"
    }
   ],
   "source": [
    "#load the results of BPR\n",
    "model1 = (torch.load('output/bpr_manual'))\n",
    "list(model1.items())[0][1].size(),list(model1.items())[1][1].size()\n",
    "\n",
    "\n"
   ]
  },
  {
   "cell_type": "code",
   "execution_count": 185,
   "id": "0ed68cc1",
   "metadata": {},
   "outputs": [
    {
     "data": {
      "text/plain": [
       "tensor([[-0.2531,  0.3342,  0.2647,  ...,  0.2452, -0.3709,  0.3363],\n",
       "        [-0.3336,  0.3607,  0.4106,  ...,  0.3912, -0.3559,  0.4037],\n",
       "        [-0.3836,  0.4013,  0.3976,  ...,  0.4661, -0.4326,  0.4119],\n",
       "        ...,\n",
       "        [ 0.3760, -0.4413, -0.4247,  ..., -0.3749,  0.3412, -0.4609],\n",
       "        [ 0.4010, -0.4269, -0.3794,  ..., -0.4609,  0.3905, -0.4556],\n",
       "        [ 0.3525, -0.4291, -0.4467,  ..., -0.4498,  0.3614, -0.4141]])"
      ]
     },
     "execution_count": 185,
     "metadata": {},
     "output_type": "execute_result"
    }
   ],
   "source": [
    "list(model1.items())[1][1]"
   ]
  },
  {
   "cell_type": "code",
   "execution_count": 186,
   "id": "0c24762f",
   "metadata": {},
   "outputs": [
    {
     "data": {
      "text/plain": [
       "torch.Size([6036, 1481])"
      ]
     },
     "execution_count": 186,
     "metadata": {},
     "output_type": "execute_result"
    }
   ],
   "source": [
    "Rec = np.matmul(list(model1.items())[0][1], list(model1.items())[1][1].T)\n",
    "Rec.size()\n",
    "# Rec[1,:].size()\n"
   ]
  },
  {
   "cell_type": "code",
   "execution_count": 187,
   "id": "6d8d492c",
   "metadata": {},
   "outputs": [
    {
     "name": "stderr",
     "output_type": "stream",
     "text": [
      "/home/vuhoang181/Documents/code_base/APR-PyTorch/utility.py:310: FutureWarning: The input object of type 'Tensor' is an array-like implementing one of the corresponding protocols (`__array__`, `__array_interface__` or `__array_struct__`); but not a sequence (or 0-D). In the future, this object will be coerced as if it was first converted using `np.array(obj)`. To retain the old behaviour, you have to either modify the type 'Tensor', or assign to an empty array created with `np.empty(correct_shape, dtype=object)`.\n",
      "  top15 = (np.array([top15_item_idx_no_train, u_pred[top15_item_idx_no_train]])).T\n",
      "/home/vuhoang181/Documents/code_base/APR-PyTorch/utility.py:310: VisibleDeprecationWarning: Creating an ndarray from ragged nested sequences (which is a list-or-tuple of lists-or-tuples-or ndarrays with different lengths or shapes) is deprecated. If you meant to do this, you must specify 'dtype=object' when creating the ndarray.\n",
      "  top15 = (np.array([top15_item_idx_no_train, u_pred[top15_item_idx_no_train]])).T\n"
     ]
    },
    {
     "name": "stdout",
     "output_type": "stream",
     "text": [
      "\n",
      "####################################################################################################\n",
      "# System-level Recall:\n",
      "# \t\t\tRecall@1\tRecall@5\tRecall@10\tRecall@15\n",
      "# Sci-Fi\t\t0.00542\t\t0.02927\t\t0.06212\t\t0.09605\n",
      "# Horror\t\t0.00027\t\t0.00040\t\t0.00040\t\t0.00040\n",
      "# Crime\t\t0.00013\t\t0.00064\t\t0.00102\t\t0.00165\n",
      "# Adventure\t\t0.00053\t\t0.00295\t\t0.00658\t\t0.01014\n",
      "# Children's\t\t0.00527\t\t0.02510\t\t0.04826\t\t0.07156\n",
      "# Romance\t\t0.00000\t\t0.00000\t\t0.00027\t\t0.00082\n",
      "# relative std\t\t1.24849\t\t1.27897\t\t1.28692\t\t1.28766\n",
      "####################################################################################################\n",
      "# User-level Recall:\n",
      "# \t\t\tRecall@1\tRecall@5\tRecall@10\tRecall@15\n",
      "# Sci-Fi\t\t0.00383\t\t0.02024\t\t0.04346\t\t0.06729\n",
      "# Horror\t\t0.00007\t\t0.00026\t\t0.00026\t\t0.00026\n",
      "# Crime\t\t0.00010\t\t0.00057\t\t0.00080\t\t0.00123\n",
      "# Adventure\t\t0.00139\t\t0.00733\t\t0.01497\t\t0.02267\n",
      "# Children's\t\t0.00875\t\t0.04193\t\t0.08036\t\t0.11930\n",
      "# Romance\t\t0.00000\t\t0.00000\t\t0.00013\t\t0.00063\n",
      "# relative std\t\t1.33995\t\t1.30187\t\t1.27459\t\t1.26029\n",
      "####################################################################################################\n",
      "# System-level top ranking probability:\n",
      "# \t\t\t@1\t\t@5\t\t@10\t\t@15\n",
      "# Sci-Fi\t\t0.00259\t\t0.01250\t\t0.02315\t\t0.03292\n",
      "# Horror\t\t0.00031\t\t0.00120\t\t0.00183\t\t0.00230\n",
      "# Crime\t\t0.00103\t\t0.00457\t\t0.00852\t\t0.01256\n",
      "# Adventure\t\t0.00138\t\t0.00783\t\t0.01700\t\t0.02745\n",
      "# Children's\t\t0.00019\t\t0.00066\t\t0.00098\t\t0.00125\n",
      "# Romance\t\t0.00016\t\t0.00119\t\t0.00305\t\t0.00540\n",
      "# relative std\t\t0.91662\t\t0.92584\t\t0.91593\t\t0.90424\n",
      "####################################################################################################\n",
      "# User-level top ranking probability:\n",
      "# \t\t\t@1\t\t@5\t\t@10\t\t@15\n",
      "# Sci-Fi\t\t0.00259\t\t0.01256\t\t0.02336\t\t0.03325\n",
      "# Horror\t\t0.00030\t\t0.00119\t\t0.00182\t\t0.00230\n",
      "# Crime\t\t0.00104\t\t0.00462\t\t0.00859\t\t0.01264\n",
      "# Adventure\t\t0.00137\t\t0.00782\t\t0.01700\t\t0.02747\n",
      "# Children's\t\t0.00020\t\t0.00068\t\t0.00100\t\t0.00127\n",
      "# Romance\t\t0.00016\t\t0.00118\t\t0.00302\t\t0.00537\n",
      "# relative std\t\t0.91519\t\t0.92574\t\t0.91770\t\t0.90621\n",
      "####################################################################################################\n"
     ]
    },
    {
     "data": {
      "text/plain": [
       "(array([0.91662489, 0.92583772, 0.9159267 , 0.90423987]),\n",
       " array([1.24849113, 1.27897029, 1.28691682, 1.28765904]))"
      ]
     },
     "execution_count": 187,
     "metadata": {},
     "output_type": "execute_result"
    }
   ],
   "source": [
    "import utility\n",
    "utility.ranking_analysis(Rec, vali_df, train_df, key_genre,\n",
    "                                                      item_genre_list, user_genre_count)"
   ]
  },
  {
   "cell_type": "code",
   "execution_count": 188,
   "id": "dcc8633d",
   "metadata": {},
   "outputs": [
    {
     "name": "stderr",
     "output_type": "stream",
     "text": [
      "/home/vuhoang181/Documents/code_base/APR-PyTorch/utility.py:171: FutureWarning: The input object of type 'Tensor' is an array-like implementing one of the corresponding protocols (`__array__`, `__array_interface__` or `__array_struct__`); but not a sequence (or 0-D). In the future, this object will be coerced as if it was first converted using `np.array(obj)`. To retain the old behaviour, you have to either modify the type 'Tensor', or assign to an empty array created with `np.empty(correct_shape, dtype=object)`.\n",
      "  top15 = (np.array([top15_item_idx_no_train, u_pred[top15_item_idx_no_train]])).T #u_pred[top15_item_idx_no_train]= np.partition(u_pred, -1 * top4)[-1 * top4:]\n",
      "/home/vuhoang181/Documents/code_base/APR-PyTorch/utility.py:171: VisibleDeprecationWarning: Creating an ndarray from ragged nested sequences (which is a list-or-tuple of lists-or-tuples-or ndarrays with different lengths or shapes) is deprecated. If you meant to do this, you must specify 'dtype=object' when creating the ndarray.\n",
      "  top15 = (np.array([top15_item_idx_no_train, u_pred[top15_item_idx_no_train]])).T #u_pred[top15_item_idx_no_train]= np.partition(u_pred, -1 * top4)[-1 * top4:]\n"
     ]
    },
    {
     "name": "stdout",
     "output_type": "stream",
     "text": [
      "precision_1\t[0.0473299],\t||\t precision_5\t[0.0560100],\t||\t precision_10\t[0.0618861],\t||\t precision_15\t[0.0646544]\n",
      "recall_1   \t[0.0057274],\t||\t recall_5   \t[0.0331991],\t||\t recall_10   \t[0.0729547],\t||\t recall_15   \t[0.1155516]\n",
      "f_measure_1\t[0.0102183],\t||\t f_measure_5\t[0.0416882],\t||\t f_measure_10\t[0.0669661],\t||\t f_measure_15\t[0.0829153]\n",
      "ndcg_1     \t[0.0473299],\t||\t ndcg_5     \t[0.0579117],\t||\t ndcg_10     \t[0.0727018],\t||\t ndcg_15     \t[0.0880395]\n"
     ]
    },
    {
     "data": {
      "text/plain": [
       "(array([0.04732988, 0.05601   , 0.06188605, 0.0646544 ]),\n",
       " array([0.00572738, 0.03319912, 0.07295468, 0.11555155]),\n",
       " [0.010218253655308119,\n",
       "  0.04168817632128664,\n",
       "  0.06696607080034957,\n",
       "  0.08291531314634645],\n",
       " array([0.04732988, 0.05791166, 0.07270179, 0.0880395 ]))"
      ]
     },
     "execution_count": 188,
     "metadata": {},
     "output_type": "execute_result"
    }
   ],
   "source": [
    "utility.test_model_all(Rec, vali_df, train_df)"
   ]
  },
  {
   "cell_type": "code",
   "execution_count": 189,
   "id": "90785b71",
   "metadata": {},
   "outputs": [
    {
     "data": {
      "text/plain": [
       "(1184, 297, 1184, 297)"
      ]
     },
     "execution_count": 189,
     "metadata": {},
     "output_type": "execute_result"
    }
   ],
   "source": [
    "from sklearn.model_selection import train_test_split\n",
    "\n",
    "X_train, X_test, y_train, y_test = train_test_split(Rec.T, \n",
    "                                                    item_genre, \n",
    "                                                    test_size=0.2, # 20% test, 80% train\n",
    "                                                    random_state=181) # make the random split reproducible\n",
    "\n",
    "len(X_train), len(X_test), len(y_train), len(y_test)"
   ]
  },
  {
   "cell_type": "code",
   "execution_count": 190,
   "id": "494ea526",
   "metadata": {},
   "outputs": [],
   "source": [
    "#adv, linear-relu, linear-sigmoid last layer, numlayer = 4, 512,256,128,64 hidden units \n",
    "\n",
    "adversary = nn.Sequential(\n",
    "    nn.Linear(list(model1.items())[0][1].size()[0], 512),\n",
    "#     nn.ReLU(),\n",
    "    nn.Linear(512, 256),\n",
    "#     nn.ReLU(),\n",
    "    nn.Linear(256, 128),\n",
    "#     nn.ReLU(),\n",
    "    nn.Linear(128, 6),\n",
    "#     nn.Softmax(dim=1)\n",
    ")"
   ]
  },
  {
   "cell_type": "code",
   "execution_count": 191,
   "id": "8bf3ee5b",
   "metadata": {},
   "outputs": [],
   "source": [
    "# Create a loss function\n",
    "# loss_fn = nn.BCELoss() # BCELoss = no sigmoid built-in\n",
    "loss_fn = nn.CrossEntropyLoss() # BCEWithLogitsLoss = sigmoid built-in\n",
    "\n",
    "# Create an optimizer\n",
    "optimizer = torch.optim.Adam(params=adversary.parameters(), \n",
    "                            lr=0.000005)"
   ]
  },
  {
   "cell_type": "code",
   "execution_count": 192,
   "id": "7d1f7bd6",
   "metadata": {},
   "outputs": [
    {
     "data": {
      "text/plain": [
       "'cpu'"
      ]
     },
     "execution_count": 192,
     "metadata": {},
     "output_type": "execute_result"
    }
   ],
   "source": [
    "device = \"cuda\" if torch.cuda.is_available() else \"cpu\"\n",
    "device"
   ]
  },
  {
   "cell_type": "code",
   "execution_count": 193,
   "id": "896d5686",
   "metadata": {},
   "outputs": [],
   "source": [
    "# Calculate accuracy (a classification metric)\n",
    "def accuracy_fn(y_true, y_pred):\n",
    "    correct = torch.eq(y_true, y_pred).sum().item() # torch.eq() calculates where two tensors are equal\n",
    "    acc = (correct / (y_true.size()[0]*y_true.size()[1])) * 100 \n",
    "    return acc"
   ]
  },
  {
   "cell_type": "code",
   "execution_count": 194,
   "id": "28bda2f5",
   "metadata": {},
   "outputs": [
    {
     "name": "stdout",
     "output_type": "stream",
     "text": [
      "Epoch: 0 | Loss: 2854.06763, Accuracy: 68.27% | Test loss: 2531.81274, Test acc: 68.29%\n",
      "Epoch: 10 | Loss: 1612.84302, Accuracy: 74.49% | Test loss: 1800.91187, Test acc: 74.92%\n",
      "Epoch: 20 | Loss: 980.34576, Accuracy: 80.11% | Test loss: 1413.68774, Test acc: 78.68%\n",
      "Epoch: 30 | Loss: 647.11023, Accuracy: 84.47% | Test loss: 1219.14758, Test acc: 80.58%\n",
      "Epoch: 40 | Loss: 446.31149, Accuracy: 86.75% | Test loss: 1102.17334, Test acc: 82.83%\n",
      "Epoch: 50 | Loss: 311.78915, Accuracy: 88.32% | Test loss: 1021.51581, Test acc: 83.56%\n",
      "Epoch: 60 | Loss: 221.44093, Accuracy: 89.22% | Test loss: 984.29419, Test acc: 84.01%\n",
      "Epoch: 70 | Loss: 162.72888, Accuracy: 90.05% | Test loss: 965.61322, Test acc: 84.18%\n",
      "Epoch: 80 | Loss: 126.58308, Accuracy: 90.62% | Test loss: 955.45276, Test acc: 84.29%\n",
      "Epoch: 90 | Loss: 103.74332, Accuracy: 90.92% | Test loss: 946.67426, Test acc: 84.68%\n",
      "Epoch: 100 | Loss: 82.93568, Accuracy: 90.79% | Test loss: 939.49518, Test acc: 84.74%\n",
      "Epoch: 110 | Loss: 72.32265, Accuracy: 91.31% | Test loss: 931.95258, Test acc: 84.74%\n",
      "Epoch: 120 | Loss: 64.64616, Accuracy: 91.62% | Test loss: 929.26788, Test acc: 84.62%\n",
      "Epoch: 130 | Loss: 55.27895, Accuracy: 91.65% | Test loss: 921.12616, Test acc: 84.62%\n",
      "Epoch: 140 | Loss: 47.38673, Accuracy: 91.57% | Test loss: 916.54492, Test acc: 84.68%\n",
      "Epoch: 150 | Loss: 39.17144, Accuracy: 91.31% | Test loss: 909.95599, Test acc: 84.74%\n",
      "Epoch: 160 | Loss: 36.33514, Accuracy: 91.44% | Test loss: 909.25653, Test acc: 84.79%\n",
      "Epoch: 170 | Loss: 30.56856, Accuracy: 91.12% | Test loss: 905.26788, Test acc: 84.79%\n",
      "Epoch: 180 | Loss: 27.28719, Accuracy: 91.17% | Test loss: 903.11816, Test acc: 84.68%\n",
      "Epoch: 190 | Loss: 24.05980, Accuracy: 91.03% | Test loss: 902.18463, Test acc: 84.79%\n",
      "Epoch: 200 | Loss: 25.66259, Accuracy: 91.55% | Test loss: 896.87964, Test acc: 84.62%\n",
      "Epoch: 210 | Loss: 21.10720, Accuracy: 91.12% | Test loss: 893.28778, Test acc: 84.62%\n",
      "Epoch: 220 | Loss: 23.90684, Accuracy: 91.92% | Test loss: 895.33752, Test acc: 84.68%\n",
      "Epoch: 230 | Loss: 18.60814, Accuracy: 91.54% | Test loss: 893.75916, Test acc: 84.74%\n",
      "Epoch: 240 | Loss: 19.91103, Accuracy: 91.88% | Test loss: 892.30389, Test acc: 84.74%\n",
      "Epoch: 250 | Loss: 17.56486, Accuracy: 91.71% | Test loss: 891.02808, Test acc: 84.74%\n",
      "Epoch: 260 | Loss: 13.70610, Accuracy: 91.23% | Test loss: 891.90875, Test acc: 84.74%\n",
      "Epoch: 270 | Loss: 16.48829, Accuracy: 91.81% | Test loss: 890.85040, Test acc: 84.79%\n",
      "Epoch: 280 | Loss: 10.59919, Accuracy: 91.26% | Test loss: 888.84698, Test acc: 84.79%\n",
      "Epoch: 290 | Loss: 11.51130, Accuracy: 91.54% | Test loss: 888.44958, Test acc: 84.85%\n",
      "Epoch: 300 | Loss: 13.21168, Accuracy: 91.72% | Test loss: 887.61194, Test acc: 84.90%\n",
      "Epoch: 310 | Loss: 10.88606, Accuracy: 91.36% | Test loss: 885.87164, Test acc: 84.90%\n",
      "Epoch: 320 | Loss: 9.47461, Accuracy: 91.22% | Test loss: 886.62878, Test acc: 84.85%\n",
      "Epoch: 330 | Loss: 9.59658, Accuracy: 91.41% | Test loss: 883.32788, Test acc: 84.90%\n",
      "Epoch: 340 | Loss: 9.01266, Accuracy: 91.40% | Test loss: 885.79706, Test acc: 84.85%\n",
      "Epoch: 350 | Loss: 8.12850, Accuracy: 91.50% | Test loss: 884.26874, Test acc: 84.85%\n",
      "Epoch: 360 | Loss: 8.99176, Accuracy: 91.71% | Test loss: 885.34357, Test acc: 84.79%\n",
      "Epoch: 370 | Loss: 7.85692, Accuracy: 91.51% | Test loss: 883.82574, Test acc: 84.90%\n",
      "Epoch: 380 | Loss: 9.32205, Accuracy: 91.88% | Test loss: 881.45056, Test acc: 84.90%\n",
      "Epoch: 390 | Loss: 6.72433, Accuracy: 91.34% | Test loss: 884.05597, Test acc: 84.90%\n",
      "Epoch: 400 | Loss: 10.81987, Accuracy: 91.64% | Test loss: 882.29639, Test acc: 84.90%\n",
      "Epoch: 410 | Loss: 8.50194, Accuracy: 91.86% | Test loss: 881.72864, Test acc: 84.96%\n",
      "Epoch: 420 | Loss: 8.51075, Accuracy: 91.74% | Test loss: 880.80353, Test acc: 84.85%\n",
      "Epoch: 430 | Loss: 7.19548, Accuracy: 91.65% | Test loss: 881.81598, Test acc: 85.02%\n",
      "Epoch: 440 | Loss: 8.04185, Accuracy: 91.72% | Test loss: 884.37750, Test acc: 84.85%\n",
      "Epoch: 450 | Loss: 12.68526, Accuracy: 92.26% | Test loss: 881.37140, Test acc: 85.02%\n",
      "Epoch: 460 | Loss: 11.93740, Accuracy: 91.95% | Test loss: 884.15375, Test acc: 84.96%\n",
      "Epoch: 470 | Loss: 9.00896, Accuracy: 91.67% | Test loss: 881.72565, Test acc: 85.02%\n",
      "Epoch: 480 | Loss: 6.48295, Accuracy: 91.55% | Test loss: 882.06610, Test acc: 84.96%\n",
      "Epoch: 490 | Loss: 7.02110, Accuracy: 91.79% | Test loss: 881.11615, Test acc: 84.96%\n"
     ]
    }
   ],
   "source": [
    "torch.manual_seed(18)\n",
    "\n",
    "# Set the number of epochs\n",
    "epochs = 500\n",
    "\n",
    "# Put data to target device\n",
    "X_train, y_train = X_train.to(device), y_train.to(device)\n",
    "X_test, y_test = X_test.to(device), y_test.to(device)\n",
    "\n",
    "# Build training and evaluation loop\n",
    "for epoch in range(epochs):\n",
    "    ### Training\n",
    "    adversary.train()\n",
    "\n",
    "    # 1. Forward pass (model outputs raw logits)\n",
    "    y_logits = adversary(X_train).squeeze() # squeeze to remove extra `1` dimensions, this won't work unless model and data are on same device \n",
    "    y_pred = F.softmax(y_logits, dim=1) # turn logits -> pred probs -> pred labls\n",
    "  \n",
    "    # 2. Calculate loss/accuracy\n",
    "    # loss = loss_fn(torch.sigmoid(y_logits), # Using nn.BCELoss you need torch.sigmoid()\n",
    "    #                y_train) \n",
    "    loss = loss_fn(y_logits, # Using nn.BCEWithLogitsLoss works with raw logits\n",
    "                   y_train) \n",
    "    acc = accuracy_fn(y_true=y_train, \n",
    "                      y_pred=y_pred) \n",
    "\n",
    "    # 3. Optimizer zero grad\n",
    "    optimizer.zero_grad()\n",
    "\n",
    "    # 4. Loss backwards\n",
    "    loss.backward()\n",
    "\n",
    "    # 5. Optimizer step\n",
    "    optimizer.step()\n",
    "\n",
    "    ### Testing\n",
    "    adversary.eval()\n",
    "    with torch.inference_mode():\n",
    "        # 1. Forward pass\n",
    "        test_logits = adversary(X_test).squeeze() \n",
    "        test_pred =  F.softmax(test_logits, dim=1)\n",
    "        # 2. Caculate loss/accuracy\n",
    "        test_loss = loss_fn(test_logits,\n",
    "                            y_test)\n",
    "        test_acc = accuracy_fn(y_true=y_test,\n",
    "                               y_pred=test_pred)\n",
    "\n",
    "    # Print out what's happening every 10 epochs\n",
    "    if epoch % 10 == 0:\n",
    "        print(f\"Epoch: {epoch} | Loss: {loss:.5f}, Accuracy: {acc:.2f}% | Test loss: {test_loss:.5f}, Test acc: {test_acc:.2f}%\")"
   ]
  },
  {
   "cell_type": "code",
   "execution_count": 49,
   "id": "97014932",
   "metadata": {},
   "outputs": [
    {
     "name": "stderr",
     "output_type": "stream",
     "text": [
      "Epoch 0: 100%|███████████| 23/23 [00:00<00:00, 62.13batch/s, acc=82, loss=0.696]\n"
     ]
    },
    {
     "name": "stdout",
     "output_type": "stream",
     "text": [
      "Epoch 0 validation: Cross-entropy=0.70, Accuracy=81.3%\n"
     ]
    },
    {
     "name": "stderr",
     "output_type": "stream",
     "text": [
      "Epoch 1: 100%|█████████| 23/23 [00:00<00:00, 49.60batch/s, acc=81.3, loss=0.696]\n"
     ]
    },
    {
     "name": "stdout",
     "output_type": "stream",
     "text": [
      "Epoch 1 validation: Cross-entropy=0.70, Accuracy=81.4%\n"
     ]
    },
    {
     "name": "stderr",
     "output_type": "stream",
     "text": [
      "Epoch 2: 100%|█████████| 23/23 [00:00<00:00, 61.09batch/s, acc=81.3, loss=0.696]\n"
     ]
    },
    {
     "name": "stdout",
     "output_type": "stream",
     "text": [
      "Epoch 2 validation: Cross-entropy=0.70, Accuracy=81.7%\n"
     ]
    },
    {
     "name": "stderr",
     "output_type": "stream",
     "text": [
      "Epoch 3: 100%|█████████| 23/23 [00:00<00:00, 52.58batch/s, acc=81.3, loss=0.696]\n"
     ]
    },
    {
     "name": "stdout",
     "output_type": "stream",
     "text": [
      "Epoch 3 validation: Cross-entropy=0.70, Accuracy=81.6%\n"
     ]
    },
    {
     "name": "stderr",
     "output_type": "stream",
     "text": [
      "Epoch 4: 100%|█████████| 23/23 [00:00<00:00, 53.33batch/s, acc=81.7, loss=0.696]\n"
     ]
    },
    {
     "name": "stdout",
     "output_type": "stream",
     "text": [
      "Epoch 4 validation: Cross-entropy=0.70, Accuracy=81.6%\n"
     ]
    },
    {
     "name": "stderr",
     "output_type": "stream",
     "text": [
      "Epoch 5: 100%|█████████| 23/23 [00:00<00:00, 50.81batch/s, acc=81.7, loss=0.696]\n"
     ]
    },
    {
     "name": "stdout",
     "output_type": "stream",
     "text": [
      "Epoch 5 validation: Cross-entropy=0.70, Accuracy=81.0%\n"
     ]
    },
    {
     "name": "stderr",
     "output_type": "stream",
     "text": [
      "Epoch 6: 100%|█████████| 23/23 [00:00<00:00, 58.93batch/s, acc=81.3, loss=0.696]\n"
     ]
    },
    {
     "name": "stdout",
     "output_type": "stream",
     "text": [
      "Epoch 6 validation: Cross-entropy=0.71, Accuracy=80.8%\n"
     ]
    },
    {
     "name": "stderr",
     "output_type": "stream",
     "text": [
      "Epoch 7: 100%|█████████| 23/23 [00:00<00:00, 51.77batch/s, acc=81.3, loss=0.696]\n"
     ]
    },
    {
     "name": "stdout",
     "output_type": "stream",
     "text": [
      "Epoch 7 validation: Cross-entropy=0.71, Accuracy=80.5%\n"
     ]
    },
    {
     "name": "stderr",
     "output_type": "stream",
     "text": [
      "Epoch 8: 100%|█████████| 23/23 [00:00<00:00, 50.42batch/s, acc=80.7, loss=0.703]\n"
     ]
    },
    {
     "name": "stdout",
     "output_type": "stream",
     "text": [
      "Epoch 8 validation: Cross-entropy=0.71, Accuracy=80.6%\n"
     ]
    },
    {
     "name": "stderr",
     "output_type": "stream",
     "text": [
      "Epoch 9: 100%|███████████| 23/23 [00:00<00:00, 60.32batch/s, acc=80, loss=0.706]\n"
     ]
    },
    {
     "name": "stdout",
     "output_type": "stream",
     "text": [
      "Epoch 9 validation: Cross-entropy=0.70, Accuracy=80.8%\n"
     ]
    },
    {
     "name": "stderr",
     "output_type": "stream",
     "text": [
      "Epoch 10: 100%|██████████| 23/23 [00:00<00:00, 54.04batch/s, acc=80, loss=0.706]\n"
     ]
    },
    {
     "name": "stdout",
     "output_type": "stream",
     "text": [
      "Epoch 10 validation: Cross-entropy=0.70, Accuracy=80.6%\n"
     ]
    },
    {
     "name": "stderr",
     "output_type": "stream",
     "text": [
      "Epoch 11: 100%|████████| 23/23 [00:00<00:00, 52.34batch/s, acc=80.3, loss=0.703]\n"
     ]
    },
    {
     "name": "stdout",
     "output_type": "stream",
     "text": [
      "Epoch 11 validation: Cross-entropy=0.70, Accuracy=80.5%\n"
     ]
    },
    {
     "name": "stderr",
     "output_type": "stream",
     "text": [
      "Epoch 12: 100%|██████████| 23/23 [00:00<00:00, 52.25batch/s, acc=81, loss=0.701]\n"
     ]
    },
    {
     "name": "stdout",
     "output_type": "stream",
     "text": [
      "Epoch 12 validation: Cross-entropy=0.70, Accuracy=81.1%\n"
     ]
    },
    {
     "name": "stderr",
     "output_type": "stream",
     "text": [
      "Epoch 13: 100%|████████| 23/23 [00:00<00:00, 72.24batch/s, acc=80.3, loss=0.703]\n"
     ]
    },
    {
     "name": "stdout",
     "output_type": "stream",
     "text": [
      "Epoch 13 validation: Cross-entropy=0.70, Accuracy=80.9%\n"
     ]
    },
    {
     "name": "stderr",
     "output_type": "stream",
     "text": [
      "Epoch 14: 100%|████████| 23/23 [00:00<00:00, 63.58batch/s, acc=80.7, loss=0.706]\n"
     ]
    },
    {
     "name": "stdout",
     "output_type": "stream",
     "text": [
      "Epoch 14 validation: Cross-entropy=0.70, Accuracy=81.2%\n"
     ]
    },
    {
     "name": "stderr",
     "output_type": "stream",
     "text": [
      "Epoch 15: 100%|████████| 23/23 [00:00<00:00, 63.99batch/s, acc=80.7, loss=0.706]\n"
     ]
    },
    {
     "name": "stdout",
     "output_type": "stream",
     "text": [
      "Epoch 15 validation: Cross-entropy=0.70, Accuracy=81.2%\n"
     ]
    },
    {
     "name": "stderr",
     "output_type": "stream",
     "text": [
      "Epoch 16: 100%|████████| 23/23 [00:00<00:00, 56.47batch/s, acc=80.7, loss=0.706]\n"
     ]
    },
    {
     "name": "stdout",
     "output_type": "stream",
     "text": [
      "Epoch 16 validation: Cross-entropy=0.70, Accuracy=81.3%\n"
     ]
    },
    {
     "name": "stderr",
     "output_type": "stream",
     "text": [
      "Epoch 17: 100%|████████| 23/23 [00:00<00:00, 62.27batch/s, acc=80.7, loss=0.706]\n"
     ]
    },
    {
     "name": "stdout",
     "output_type": "stream",
     "text": [
      "Epoch 17 validation: Cross-entropy=0.70, Accuracy=81.3%\n"
     ]
    },
    {
     "name": "stderr",
     "output_type": "stream",
     "text": [
      "Epoch 18: 100%|████████| 23/23 [00:00<00:00, 58.65batch/s, acc=80.7, loss=0.706]\n"
     ]
    },
    {
     "name": "stdout",
     "output_type": "stream",
     "text": [
      "Epoch 18 validation: Cross-entropy=0.70, Accuracy=81.3%\n"
     ]
    },
    {
     "name": "stderr",
     "output_type": "stream",
     "text": [
      "Epoch 19: 100%|████████| 23/23 [00:00<00:00, 58.60batch/s, acc=80.7, loss=0.706]\n"
     ]
    },
    {
     "name": "stdout",
     "output_type": "stream",
     "text": [
      "Epoch 19 validation: Cross-entropy=0.70, Accuracy=81.3%\n"
     ]
    },
    {
     "name": "stderr",
     "output_type": "stream",
     "text": [
      "Epoch 20: 100%|████████| 23/23 [00:00<00:00, 59.57batch/s, acc=80.7, loss=0.706]\n"
     ]
    },
    {
     "name": "stdout",
     "output_type": "stream",
     "text": [
      "Epoch 20 validation: Cross-entropy=0.70, Accuracy=81.3%\n"
     ]
    },
    {
     "name": "stderr",
     "output_type": "stream",
     "text": [
      "Epoch 21: 100%|████████| 23/23 [00:00<00:00, 59.20batch/s, acc=80.7, loss=0.706]\n"
     ]
    },
    {
     "name": "stdout",
     "output_type": "stream",
     "text": [
      "Epoch 21 validation: Cross-entropy=0.70, Accuracy=81.3%\n"
     ]
    },
    {
     "name": "stderr",
     "output_type": "stream",
     "text": [
      "Epoch 22: 100%|████████| 23/23 [00:00<00:00, 58.71batch/s, acc=80.7, loss=0.706]\n"
     ]
    },
    {
     "name": "stdout",
     "output_type": "stream",
     "text": [
      "Epoch 22 validation: Cross-entropy=0.70, Accuracy=81.3%\n"
     ]
    },
    {
     "name": "stderr",
     "output_type": "stream",
     "text": [
      "Epoch 23: 100%|████████| 23/23 [00:00<00:00, 64.63batch/s, acc=80.7, loss=0.706]\n"
     ]
    },
    {
     "name": "stdout",
     "output_type": "stream",
     "text": [
      "Epoch 23 validation: Cross-entropy=0.70, Accuracy=81.3%\n"
     ]
    },
    {
     "name": "stderr",
     "output_type": "stream",
     "text": [
      "Epoch 24: 100%|████████| 23/23 [00:00<00:00, 60.68batch/s, acc=80.7, loss=0.706]\n"
     ]
    },
    {
     "name": "stdout",
     "output_type": "stream",
     "text": [
      "Epoch 24 validation: Cross-entropy=0.70, Accuracy=81.3%\n"
     ]
    },
    {
     "name": "stderr",
     "output_type": "stream",
     "text": [
      "Epoch 25: 100%|████████| 23/23 [00:00<00:00, 59.01batch/s, acc=80.7, loss=0.706]\n"
     ]
    },
    {
     "name": "stdout",
     "output_type": "stream",
     "text": [
      "Epoch 25 validation: Cross-entropy=0.70, Accuracy=81.3%\n"
     ]
    },
    {
     "name": "stderr",
     "output_type": "stream",
     "text": [
      "Epoch 26: 100%|████████| 23/23 [00:00<00:00, 57.85batch/s, acc=80.7, loss=0.706]\n"
     ]
    },
    {
     "name": "stdout",
     "output_type": "stream",
     "text": [
      "Epoch 26 validation: Cross-entropy=0.70, Accuracy=81.3%\n"
     ]
    },
    {
     "name": "stderr",
     "output_type": "stream",
     "text": [
      "Epoch 27: 100%|████████| 23/23 [00:00<00:00, 59.26batch/s, acc=80.7, loss=0.706]\n"
     ]
    },
    {
     "name": "stdout",
     "output_type": "stream",
     "text": [
      "Epoch 27 validation: Cross-entropy=0.70, Accuracy=81.3%\n"
     ]
    },
    {
     "name": "stderr",
     "output_type": "stream",
     "text": [
      "Epoch 28: 100%|████████| 23/23 [00:00<00:00, 55.94batch/s, acc=80.7, loss=0.706]\n"
     ]
    },
    {
     "name": "stdout",
     "output_type": "stream",
     "text": [
      "Epoch 28 validation: Cross-entropy=0.70, Accuracy=81.3%\n"
     ]
    },
    {
     "name": "stderr",
     "output_type": "stream",
     "text": [
      "Epoch 29: 100%|████████| 23/23 [00:00<00:00, 57.33batch/s, acc=80.7, loss=0.706]\n"
     ]
    },
    {
     "name": "stdout",
     "output_type": "stream",
     "text": [
      "Epoch 29 validation: Cross-entropy=0.70, Accuracy=81.3%\n"
     ]
    },
    {
     "name": "stderr",
     "output_type": "stream",
     "text": [
      "Epoch 30: 100%|████████| 23/23 [00:00<00:00, 60.58batch/s, acc=80.7, loss=0.706]\n"
     ]
    },
    {
     "name": "stdout",
     "output_type": "stream",
     "text": [
      "Epoch 30 validation: Cross-entropy=0.70, Accuracy=81.3%\n"
     ]
    },
    {
     "name": "stderr",
     "output_type": "stream",
     "text": [
      "Epoch 31: 100%|████████| 23/23 [00:00<00:00, 53.91batch/s, acc=80.7, loss=0.706]\n"
     ]
    },
    {
     "name": "stdout",
     "output_type": "stream",
     "text": [
      "Epoch 31 validation: Cross-entropy=0.70, Accuracy=81.3%\n"
     ]
    },
    {
     "name": "stderr",
     "output_type": "stream",
     "text": [
      "Epoch 32: 100%|████████| 23/23 [00:00<00:00, 61.44batch/s, acc=80.7, loss=0.706]\n"
     ]
    },
    {
     "name": "stdout",
     "output_type": "stream",
     "text": [
      "Epoch 32 validation: Cross-entropy=0.70, Accuracy=81.3%\n"
     ]
    },
    {
     "name": "stderr",
     "output_type": "stream",
     "text": [
      "Epoch 33: 100%|████████| 23/23 [00:00<00:00, 64.21batch/s, acc=80.7, loss=0.706]\n"
     ]
    },
    {
     "name": "stdout",
     "output_type": "stream",
     "text": [
      "Epoch 33 validation: Cross-entropy=0.70, Accuracy=81.3%\n"
     ]
    },
    {
     "name": "stderr",
     "output_type": "stream",
     "text": [
      "Epoch 34: 100%|████████| 23/23 [00:00<00:00, 58.32batch/s, acc=80.7, loss=0.706]\n"
     ]
    },
    {
     "name": "stdout",
     "output_type": "stream",
     "text": [
      "Epoch 34 validation: Cross-entropy=0.70, Accuracy=81.1%\n"
     ]
    },
    {
     "name": "stderr",
     "output_type": "stream",
     "text": [
      "Epoch 35: 100%|████████| 23/23 [00:00<00:00, 69.57batch/s, acc=80.7, loss=0.706]\n"
     ]
    },
    {
     "name": "stdout",
     "output_type": "stream",
     "text": [
      "Epoch 35 validation: Cross-entropy=0.70, Accuracy=81.1%\n"
     ]
    },
    {
     "name": "stderr",
     "output_type": "stream",
     "text": [
      "Epoch 36: 100%|████████| 23/23 [00:00<00:00, 66.25batch/s, acc=80.7, loss=0.706]\n"
     ]
    },
    {
     "name": "stdout",
     "output_type": "stream",
     "text": [
      "Epoch 36 validation: Cross-entropy=0.70, Accuracy=81.1%\n"
     ]
    },
    {
     "name": "stderr",
     "output_type": "stream",
     "text": [
      "Epoch 37: 100%|████████| 23/23 [00:00<00:00, 72.30batch/s, acc=80.7, loss=0.706]\n"
     ]
    },
    {
     "name": "stdout",
     "output_type": "stream",
     "text": [
      "Epoch 37 validation: Cross-entropy=0.70, Accuracy=81.1%\n"
     ]
    },
    {
     "name": "stderr",
     "output_type": "stream",
     "text": [
      "Epoch 38: 100%|████████| 23/23 [00:00<00:00, 61.36batch/s, acc=80.7, loss=0.706]\n"
     ]
    },
    {
     "name": "stdout",
     "output_type": "stream",
     "text": [
      "Epoch 38 validation: Cross-entropy=0.70, Accuracy=81.1%\n"
     ]
    },
    {
     "name": "stderr",
     "output_type": "stream",
     "text": [
      "Epoch 39: 100%|████████| 23/23 [00:00<00:00, 65.76batch/s, acc=80.7, loss=0.706]\n"
     ]
    },
    {
     "name": "stdout",
     "output_type": "stream",
     "text": [
      "Epoch 39 validation: Cross-entropy=0.70, Accuracy=81.1%\n"
     ]
    },
    {
     "name": "stderr",
     "output_type": "stream",
     "text": [
      "Epoch 40: 100%|████████| 23/23 [00:00<00:00, 61.73batch/s, acc=80.7, loss=0.706]\n"
     ]
    },
    {
     "name": "stdout",
     "output_type": "stream",
     "text": [
      "Epoch 40 validation: Cross-entropy=0.70, Accuracy=81.1%\n"
     ]
    },
    {
     "name": "stderr",
     "output_type": "stream",
     "text": [
      "Epoch 41: 100%|████████| 23/23 [00:00<00:00, 64.54batch/s, acc=80.7, loss=0.706]\n"
     ]
    },
    {
     "name": "stdout",
     "output_type": "stream",
     "text": [
      "Epoch 41 validation: Cross-entropy=0.70, Accuracy=81.1%\n"
     ]
    },
    {
     "name": "stderr",
     "output_type": "stream",
     "text": [
      "Epoch 42: 100%|████████| 23/23 [00:00<00:00, 64.38batch/s, acc=80.7, loss=0.706]\n"
     ]
    },
    {
     "name": "stdout",
     "output_type": "stream",
     "text": [
      "Epoch 42 validation: Cross-entropy=0.70, Accuracy=81.1%\n"
     ]
    },
    {
     "name": "stderr",
     "output_type": "stream",
     "text": [
      "Epoch 43: 100%|████████| 23/23 [00:00<00:00, 64.53batch/s, acc=80.7, loss=0.706]\n"
     ]
    },
    {
     "name": "stdout",
     "output_type": "stream",
     "text": [
      "Epoch 43 validation: Cross-entropy=0.70, Accuracy=81.1%\n"
     ]
    },
    {
     "name": "stderr",
     "output_type": "stream",
     "text": [
      "Epoch 44: 100%|████████| 23/23 [00:00<00:00, 62.69batch/s, acc=80.7, loss=0.706]\n"
     ]
    },
    {
     "name": "stdout",
     "output_type": "stream",
     "text": [
      "Epoch 44 validation: Cross-entropy=0.70, Accuracy=81.1%\n"
     ]
    },
    {
     "name": "stderr",
     "output_type": "stream",
     "text": [
      "Epoch 45: 100%|████████| 23/23 [00:00<00:00, 69.17batch/s, acc=80.7, loss=0.706]\n"
     ]
    },
    {
     "name": "stdout",
     "output_type": "stream",
     "text": [
      "Epoch 45 validation: Cross-entropy=0.70, Accuracy=81.1%\n"
     ]
    },
    {
     "name": "stderr",
     "output_type": "stream",
     "text": [
      "Epoch 46: 100%|████████| 23/23 [00:00<00:00, 63.06batch/s, acc=80.7, loss=0.706]\n"
     ]
    },
    {
     "name": "stdout",
     "output_type": "stream",
     "text": [
      "Epoch 46 validation: Cross-entropy=0.70, Accuracy=81.1%\n"
     ]
    },
    {
     "name": "stderr",
     "output_type": "stream",
     "text": [
      "Epoch 47: 100%|████████| 23/23 [00:00<00:00, 66.77batch/s, acc=80.7, loss=0.706]\n"
     ]
    },
    {
     "name": "stdout",
     "output_type": "stream",
     "text": [
      "Epoch 47 validation: Cross-entropy=0.70, Accuracy=81.1%\n"
     ]
    },
    {
     "name": "stderr",
     "output_type": "stream",
     "text": [
      "Epoch 48: 100%|████████| 23/23 [00:00<00:00, 62.64batch/s, acc=80.7, loss=0.706]\n"
     ]
    },
    {
     "name": "stdout",
     "output_type": "stream",
     "text": [
      "Epoch 48 validation: Cross-entropy=0.70, Accuracy=81.1%\n"
     ]
    },
    {
     "name": "stderr",
     "output_type": "stream",
     "text": [
      "Epoch 49: 100%|████████| 23/23 [00:00<00:00, 59.89batch/s, acc=80.7, loss=0.706]\n"
     ]
    },
    {
     "name": "stdout",
     "output_type": "stream",
     "text": [
      "Epoch 49 validation: Cross-entropy=0.70, Accuracy=81.1%\n"
     ]
    },
    {
     "name": "stderr",
     "output_type": "stream",
     "text": [
      "Epoch 50: 100%|████████| 23/23 [00:00<00:00, 54.33batch/s, acc=80.7, loss=0.706]\n"
     ]
    },
    {
     "name": "stdout",
     "output_type": "stream",
     "text": [
      "Epoch 50 validation: Cross-entropy=0.70, Accuracy=81.1%\n"
     ]
    },
    {
     "name": "stderr",
     "output_type": "stream",
     "text": [
      "Epoch 51: 100%|████████| 23/23 [00:00<00:00, 58.79batch/s, acc=80.7, loss=0.706]\n"
     ]
    },
    {
     "name": "stdout",
     "output_type": "stream",
     "text": [
      "Epoch 51 validation: Cross-entropy=0.70, Accuracy=81.1%\n"
     ]
    },
    {
     "name": "stderr",
     "output_type": "stream",
     "text": [
      "Epoch 52: 100%|████████| 23/23 [00:00<00:00, 59.49batch/s, acc=80.7, loss=0.706]\n"
     ]
    },
    {
     "name": "stdout",
     "output_type": "stream",
     "text": [
      "Epoch 52 validation: Cross-entropy=0.70, Accuracy=81.1%\n"
     ]
    },
    {
     "name": "stderr",
     "output_type": "stream",
     "text": [
      "Epoch 53: 100%|████████| 23/23 [00:00<00:00, 57.11batch/s, acc=80.7, loss=0.706]\n"
     ]
    },
    {
     "name": "stdout",
     "output_type": "stream",
     "text": [
      "Epoch 53 validation: Cross-entropy=0.70, Accuracy=81.1%\n"
     ]
    },
    {
     "name": "stderr",
     "output_type": "stream",
     "text": [
      "Epoch 54: 100%|████████| 23/23 [00:00<00:00, 68.13batch/s, acc=80.7, loss=0.706]\n"
     ]
    },
    {
     "name": "stdout",
     "output_type": "stream",
     "text": [
      "Epoch 54 validation: Cross-entropy=0.70, Accuracy=81.1%\n"
     ]
    },
    {
     "name": "stderr",
     "output_type": "stream",
     "text": [
      "Epoch 55: 100%|████████| 23/23 [00:00<00:00, 48.72batch/s, acc=80.7, loss=0.706]\n"
     ]
    },
    {
     "name": "stdout",
     "output_type": "stream",
     "text": [
      "Epoch 55 validation: Cross-entropy=0.70, Accuracy=81.1%\n"
     ]
    },
    {
     "name": "stderr",
     "output_type": "stream",
     "text": [
      "Epoch 56: 100%|████████| 23/23 [00:00<00:00, 61.53batch/s, acc=80.7, loss=0.706]\n"
     ]
    },
    {
     "name": "stdout",
     "output_type": "stream",
     "text": [
      "Epoch 56 validation: Cross-entropy=0.70, Accuracy=81.1%\n"
     ]
    },
    {
     "name": "stderr",
     "output_type": "stream",
     "text": [
      "Epoch 57: 100%|████████| 23/23 [00:00<00:00, 62.94batch/s, acc=80.7, loss=0.706]\n"
     ]
    },
    {
     "name": "stdout",
     "output_type": "stream",
     "text": [
      "Epoch 57 validation: Cross-entropy=0.70, Accuracy=81.1%\n"
     ]
    },
    {
     "name": "stderr",
     "output_type": "stream",
     "text": [
      "Epoch 58: 100%|████████| 23/23 [00:00<00:00, 57.79batch/s, acc=80.7, loss=0.706]\n"
     ]
    },
    {
     "name": "stdout",
     "output_type": "stream",
     "text": [
      "Epoch 58 validation: Cross-entropy=0.70, Accuracy=81.1%\n"
     ]
    },
    {
     "name": "stderr",
     "output_type": "stream",
     "text": [
      "Epoch 59: 100%|████████| 23/23 [00:00<00:00, 62.03batch/s, acc=80.7, loss=0.706]\n"
     ]
    },
    {
     "name": "stdout",
     "output_type": "stream",
     "text": [
      "Epoch 59 validation: Cross-entropy=0.70, Accuracy=81.1%\n"
     ]
    },
    {
     "name": "stderr",
     "output_type": "stream",
     "text": [
      "Epoch 60: 100%|████████| 23/23 [00:00<00:00, 58.46batch/s, acc=80.7, loss=0.706]\n"
     ]
    },
    {
     "name": "stdout",
     "output_type": "stream",
     "text": [
      "Epoch 60 validation: Cross-entropy=0.70, Accuracy=81.1%\n"
     ]
    },
    {
     "name": "stderr",
     "output_type": "stream",
     "text": [
      "Epoch 61: 100%|████████| 23/23 [00:00<00:00, 62.93batch/s, acc=80.7, loss=0.706]\n"
     ]
    },
    {
     "name": "stdout",
     "output_type": "stream",
     "text": [
      "Epoch 61 validation: Cross-entropy=0.70, Accuracy=81.1%\n"
     ]
    },
    {
     "name": "stderr",
     "output_type": "stream",
     "text": [
      "Epoch 62: 100%|████████| 23/23 [00:00<00:00, 57.94batch/s, acc=80.7, loss=0.706]\n"
     ]
    },
    {
     "name": "stdout",
     "output_type": "stream",
     "text": [
      "Epoch 62 validation: Cross-entropy=0.70, Accuracy=81.1%\n"
     ]
    },
    {
     "name": "stderr",
     "output_type": "stream",
     "text": [
      "Epoch 63: 100%|████████| 23/23 [00:00<00:00, 61.18batch/s, acc=80.7, loss=0.706]\n"
     ]
    },
    {
     "name": "stdout",
     "output_type": "stream",
     "text": [
      "Epoch 63 validation: Cross-entropy=0.70, Accuracy=81.1%\n"
     ]
    },
    {
     "name": "stderr",
     "output_type": "stream",
     "text": [
      "Epoch 64: 100%|████████| 23/23 [00:00<00:00, 60.64batch/s, acc=80.7, loss=0.706]\n"
     ]
    },
    {
     "name": "stdout",
     "output_type": "stream",
     "text": [
      "Epoch 64 validation: Cross-entropy=0.70, Accuracy=81.1%\n"
     ]
    },
    {
     "name": "stderr",
     "output_type": "stream",
     "text": [
      "Epoch 65: 100%|████████| 23/23 [00:00<00:00, 53.92batch/s, acc=80.7, loss=0.706]\n"
     ]
    },
    {
     "name": "stdout",
     "output_type": "stream",
     "text": [
      "Epoch 65 validation: Cross-entropy=0.70, Accuracy=81.1%\n"
     ]
    },
    {
     "name": "stderr",
     "output_type": "stream",
     "text": [
      "Epoch 66: 100%|████████| 23/23 [00:00<00:00, 62.47batch/s, acc=80.7, loss=0.706]\n"
     ]
    },
    {
     "name": "stdout",
     "output_type": "stream",
     "text": [
      "Epoch 66 validation: Cross-entropy=0.70, Accuracy=81.1%\n"
     ]
    },
    {
     "name": "stderr",
     "output_type": "stream",
     "text": [
      "Epoch 67: 100%|████████| 23/23 [00:00<00:00, 63.99batch/s, acc=80.7, loss=0.706]\n"
     ]
    },
    {
     "name": "stdout",
     "output_type": "stream",
     "text": [
      "Epoch 67 validation: Cross-entropy=0.70, Accuracy=81.1%\n"
     ]
    },
    {
     "name": "stderr",
     "output_type": "stream",
     "text": [
      "Epoch 68: 100%|████████| 23/23 [00:00<00:00, 61.12batch/s, acc=80.7, loss=0.706]\n"
     ]
    },
    {
     "name": "stdout",
     "output_type": "stream",
     "text": [
      "Epoch 68 validation: Cross-entropy=0.70, Accuracy=81.1%\n"
     ]
    },
    {
     "name": "stderr",
     "output_type": "stream",
     "text": [
      "Epoch 69: 100%|████████| 23/23 [00:00<00:00, 66.46batch/s, acc=80.7, loss=0.706]\n"
     ]
    },
    {
     "name": "stdout",
     "output_type": "stream",
     "text": [
      "Epoch 69 validation: Cross-entropy=0.70, Accuracy=81.1%\n"
     ]
    },
    {
     "name": "stderr",
     "output_type": "stream",
     "text": [
      "Epoch 70: 100%|████████| 23/23 [00:00<00:00, 61.58batch/s, acc=80.7, loss=0.706]\n"
     ]
    },
    {
     "name": "stdout",
     "output_type": "stream",
     "text": [
      "Epoch 70 validation: Cross-entropy=0.70, Accuracy=81.1%\n"
     ]
    },
    {
     "name": "stderr",
     "output_type": "stream",
     "text": [
      "Epoch 71: 100%|████████| 23/23 [00:00<00:00, 67.67batch/s, acc=80.7, loss=0.706]\n"
     ]
    },
    {
     "name": "stdout",
     "output_type": "stream",
     "text": [
      "Epoch 71 validation: Cross-entropy=0.70, Accuracy=81.1%\n"
     ]
    },
    {
     "name": "stderr",
     "output_type": "stream",
     "text": [
      "Epoch 72: 100%|████████| 23/23 [00:00<00:00, 63.63batch/s, acc=80.7, loss=0.706]\n"
     ]
    },
    {
     "name": "stdout",
     "output_type": "stream",
     "text": [
      "Epoch 72 validation: Cross-entropy=0.70, Accuracy=81.1%\n"
     ]
    },
    {
     "name": "stderr",
     "output_type": "stream",
     "text": [
      "Epoch 73: 100%|████████| 23/23 [00:00<00:00, 67.69batch/s, acc=80.7, loss=0.706]\n"
     ]
    },
    {
     "name": "stdout",
     "output_type": "stream",
     "text": [
      "Epoch 73 validation: Cross-entropy=0.70, Accuracy=81.1%\n"
     ]
    },
    {
     "name": "stderr",
     "output_type": "stream",
     "text": [
      "Epoch 74: 100%|████████| 23/23 [00:00<00:00, 59.45batch/s, acc=80.7, loss=0.706]\n"
     ]
    },
    {
     "name": "stdout",
     "output_type": "stream",
     "text": [
      "Epoch 74 validation: Cross-entropy=0.70, Accuracy=81.1%\n"
     ]
    },
    {
     "name": "stderr",
     "output_type": "stream",
     "text": [
      "Epoch 75: 100%|████████| 23/23 [00:00<00:00, 62.12batch/s, acc=80.7, loss=0.706]\n"
     ]
    },
    {
     "name": "stdout",
     "output_type": "stream",
     "text": [
      "Epoch 75 validation: Cross-entropy=0.70, Accuracy=81.1%\n"
     ]
    },
    {
     "name": "stderr",
     "output_type": "stream",
     "text": [
      "Epoch 76: 100%|████████| 23/23 [00:00<00:00, 71.70batch/s, acc=80.7, loss=0.706]\n"
     ]
    },
    {
     "name": "stdout",
     "output_type": "stream",
     "text": [
      "Epoch 76 validation: Cross-entropy=0.70, Accuracy=81.1%\n"
     ]
    },
    {
     "name": "stderr",
     "output_type": "stream",
     "text": [
      "Epoch 77: 100%|████████| 23/23 [00:00<00:00, 67.65batch/s, acc=80.7, loss=0.706]\n"
     ]
    },
    {
     "name": "stdout",
     "output_type": "stream",
     "text": [
      "Epoch 77 validation: Cross-entropy=0.70, Accuracy=81.1%\n"
     ]
    },
    {
     "name": "stderr",
     "output_type": "stream",
     "text": [
      "Epoch 78: 100%|████████| 23/23 [00:00<00:00, 61.02batch/s, acc=80.7, loss=0.706]\n"
     ]
    },
    {
     "name": "stdout",
     "output_type": "stream",
     "text": [
      "Epoch 78 validation: Cross-entropy=0.70, Accuracy=81.1%\n"
     ]
    },
    {
     "name": "stderr",
     "output_type": "stream",
     "text": [
      "Epoch 79: 100%|████████| 23/23 [00:00<00:00, 66.24batch/s, acc=80.7, loss=0.706]\n"
     ]
    },
    {
     "name": "stdout",
     "output_type": "stream",
     "text": [
      "Epoch 79 validation: Cross-entropy=0.70, Accuracy=81.1%\n"
     ]
    },
    {
     "name": "stderr",
     "output_type": "stream",
     "text": [
      "Epoch 80: 100%|████████| 23/23 [00:00<00:00, 65.72batch/s, acc=80.7, loss=0.706]\n"
     ]
    },
    {
     "name": "stdout",
     "output_type": "stream",
     "text": [
      "Epoch 80 validation: Cross-entropy=0.70, Accuracy=81.1%\n"
     ]
    },
    {
     "name": "stderr",
     "output_type": "stream",
     "text": [
      "Epoch 81: 100%|████████| 23/23 [00:00<00:00, 65.20batch/s, acc=80.7, loss=0.706]\n"
     ]
    },
    {
     "name": "stdout",
     "output_type": "stream",
     "text": [
      "Epoch 81 validation: Cross-entropy=0.70, Accuracy=81.1%\n"
     ]
    },
    {
     "name": "stderr",
     "output_type": "stream",
     "text": [
      "Epoch 82: 100%|████████| 23/23 [00:00<00:00, 76.43batch/s, acc=80.7, loss=0.706]\n"
     ]
    },
    {
     "name": "stdout",
     "output_type": "stream",
     "text": [
      "Epoch 82 validation: Cross-entropy=0.70, Accuracy=81.1%\n"
     ]
    },
    {
     "name": "stderr",
     "output_type": "stream",
     "text": [
      "Epoch 83: 100%|████████| 23/23 [00:00<00:00, 69.21batch/s, acc=80.7, loss=0.706]\n"
     ]
    },
    {
     "name": "stdout",
     "output_type": "stream",
     "text": [
      "Epoch 83 validation: Cross-entropy=0.70, Accuracy=81.1%\n"
     ]
    },
    {
     "name": "stderr",
     "output_type": "stream",
     "text": [
      "Epoch 84: 100%|████████| 23/23 [00:00<00:00, 63.68batch/s, acc=80.7, loss=0.706]\n"
     ]
    },
    {
     "name": "stdout",
     "output_type": "stream",
     "text": [
      "Epoch 84 validation: Cross-entropy=0.70, Accuracy=81.1%\n"
     ]
    },
    {
     "name": "stderr",
     "output_type": "stream",
     "text": [
      "Epoch 85: 100%|████████| 23/23 [00:00<00:00, 63.93batch/s, acc=80.7, loss=0.706]\n"
     ]
    },
    {
     "name": "stdout",
     "output_type": "stream",
     "text": [
      "Epoch 85 validation: Cross-entropy=0.70, Accuracy=81.1%\n"
     ]
    },
    {
     "name": "stderr",
     "output_type": "stream",
     "text": [
      "Epoch 86: 100%|████████| 23/23 [00:00<00:00, 61.19batch/s, acc=80.7, loss=0.706]\n"
     ]
    },
    {
     "name": "stdout",
     "output_type": "stream",
     "text": [
      "Epoch 86 validation: Cross-entropy=0.70, Accuracy=81.1%\n"
     ]
    },
    {
     "name": "stderr",
     "output_type": "stream",
     "text": [
      "Epoch 87: 100%|████████| 23/23 [00:00<00:00, 57.88batch/s, acc=80.7, loss=0.706]\n"
     ]
    },
    {
     "name": "stdout",
     "output_type": "stream",
     "text": [
      "Epoch 87 validation: Cross-entropy=0.70, Accuracy=81.1%\n"
     ]
    },
    {
     "name": "stderr",
     "output_type": "stream",
     "text": [
      "Epoch 88: 100%|████████| 23/23 [00:00<00:00, 63.39batch/s, acc=80.7, loss=0.706]\n"
     ]
    },
    {
     "name": "stdout",
     "output_type": "stream",
     "text": [
      "Epoch 88 validation: Cross-entropy=0.70, Accuracy=81.1%\n"
     ]
    },
    {
     "name": "stderr",
     "output_type": "stream",
     "text": [
      "Epoch 89: 100%|████████| 23/23 [00:00<00:00, 66.15batch/s, acc=80.7, loss=0.706]\n"
     ]
    },
    {
     "name": "stdout",
     "output_type": "stream",
     "text": [
      "Epoch 89 validation: Cross-entropy=0.70, Accuracy=81.1%\n"
     ]
    },
    {
     "name": "stderr",
     "output_type": "stream",
     "text": [
      "Epoch 90: 100%|████████| 23/23 [00:00<00:00, 62.93batch/s, acc=80.7, loss=0.706]\n"
     ]
    },
    {
     "name": "stdout",
     "output_type": "stream",
     "text": [
      "Epoch 90 validation: Cross-entropy=0.70, Accuracy=81.1%\n"
     ]
    },
    {
     "name": "stderr",
     "output_type": "stream",
     "text": [
      "Epoch 91: 100%|████████| 23/23 [00:00<00:00, 61.77batch/s, acc=80.7, loss=0.706]\n"
     ]
    },
    {
     "name": "stdout",
     "output_type": "stream",
     "text": [
      "Epoch 91 validation: Cross-entropy=0.70, Accuracy=81.1%\n"
     ]
    },
    {
     "name": "stderr",
     "output_type": "stream",
     "text": [
      "Epoch 92: 100%|████████| 23/23 [00:00<00:00, 60.70batch/s, acc=80.7, loss=0.706]\n"
     ]
    },
    {
     "name": "stdout",
     "output_type": "stream",
     "text": [
      "Epoch 92 validation: Cross-entropy=0.70, Accuracy=81.1%\n"
     ]
    },
    {
     "name": "stderr",
     "output_type": "stream",
     "text": [
      "Epoch 93: 100%|████████| 23/23 [00:00<00:00, 61.41batch/s, acc=80.7, loss=0.706]\n"
     ]
    },
    {
     "name": "stdout",
     "output_type": "stream",
     "text": [
      "Epoch 93 validation: Cross-entropy=0.70, Accuracy=81.1%\n"
     ]
    },
    {
     "name": "stderr",
     "output_type": "stream",
     "text": [
      "Epoch 94: 100%|████████| 23/23 [00:00<00:00, 64.42batch/s, acc=80.7, loss=0.706]\n"
     ]
    },
    {
     "name": "stdout",
     "output_type": "stream",
     "text": [
      "Epoch 94 validation: Cross-entropy=0.70, Accuracy=81.1%\n"
     ]
    },
    {
     "name": "stderr",
     "output_type": "stream",
     "text": [
      "Epoch 95: 100%|████████| 23/23 [00:00<00:00, 60.92batch/s, acc=80.7, loss=0.706]\n"
     ]
    },
    {
     "name": "stdout",
     "output_type": "stream",
     "text": [
      "Epoch 95 validation: Cross-entropy=0.70, Accuracy=81.1%\n"
     ]
    },
    {
     "name": "stderr",
     "output_type": "stream",
     "text": [
      "Epoch 96: 100%|████████| 23/23 [00:00<00:00, 63.03batch/s, acc=80.7, loss=0.706]\n"
     ]
    },
    {
     "name": "stdout",
     "output_type": "stream",
     "text": [
      "Epoch 96 validation: Cross-entropy=0.70, Accuracy=81.1%\n"
     ]
    },
    {
     "name": "stderr",
     "output_type": "stream",
     "text": [
      "Epoch 97: 100%|████████| 23/23 [00:00<00:00, 62.99batch/s, acc=80.7, loss=0.706]\n"
     ]
    },
    {
     "name": "stdout",
     "output_type": "stream",
     "text": [
      "Epoch 97 validation: Cross-entropy=0.70, Accuracy=81.1%\n"
     ]
    },
    {
     "name": "stderr",
     "output_type": "stream",
     "text": [
      "Epoch 98: 100%|████████| 23/23 [00:00<00:00, 60.45batch/s, acc=80.7, loss=0.706]\n"
     ]
    },
    {
     "name": "stdout",
     "output_type": "stream",
     "text": [
      "Epoch 98 validation: Cross-entropy=0.70, Accuracy=81.1%\n"
     ]
    },
    {
     "name": "stderr",
     "output_type": "stream",
     "text": [
      "Epoch 99: 100%|████████| 23/23 [00:00<00:00, 62.74batch/s, acc=80.7, loss=0.706]\n"
     ]
    },
    {
     "name": "stdout",
     "output_type": "stream",
     "text": [
      "Epoch 99 validation: Cross-entropy=0.70, Accuracy=81.1%\n"
     ]
    },
    {
     "name": "stderr",
     "output_type": "stream",
     "text": [
      "Epoch 100: 100%|███████| 23/23 [00:00<00:00, 56.75batch/s, acc=80.7, loss=0.706]\n"
     ]
    },
    {
     "name": "stdout",
     "output_type": "stream",
     "text": [
      "Epoch 100 validation: Cross-entropy=0.70, Accuracy=81.1%\n"
     ]
    },
    {
     "name": "stderr",
     "output_type": "stream",
     "text": [
      "Epoch 101: 100%|███████| 23/23 [00:00<00:00, 65.44batch/s, acc=80.7, loss=0.706]\n"
     ]
    },
    {
     "name": "stdout",
     "output_type": "stream",
     "text": [
      "Epoch 101 validation: Cross-entropy=0.70, Accuracy=81.1%\n"
     ]
    },
    {
     "name": "stderr",
     "output_type": "stream",
     "text": [
      "Epoch 102: 100%|███████| 23/23 [00:00<00:00, 65.39batch/s, acc=80.7, loss=0.706]\n"
     ]
    },
    {
     "name": "stdout",
     "output_type": "stream",
     "text": [
      "Epoch 102 validation: Cross-entropy=0.70, Accuracy=81.1%\n"
     ]
    },
    {
     "name": "stderr",
     "output_type": "stream",
     "text": [
      "Epoch 103: 100%|███████| 23/23 [00:00<00:00, 61.81batch/s, acc=80.7, loss=0.706]\n"
     ]
    },
    {
     "name": "stdout",
     "output_type": "stream",
     "text": [
      "Epoch 103 validation: Cross-entropy=0.70, Accuracy=81.1%\n"
     ]
    },
    {
     "name": "stderr",
     "output_type": "stream",
     "text": [
      "Epoch 104: 100%|███████| 23/23 [00:00<00:00, 61.36batch/s, acc=80.7, loss=0.706]\n"
     ]
    },
    {
     "name": "stdout",
     "output_type": "stream",
     "text": [
      "Epoch 104 validation: Cross-entropy=0.70, Accuracy=81.1%\n"
     ]
    },
    {
     "name": "stderr",
     "output_type": "stream",
     "text": [
      "Epoch 105: 100%|███████| 23/23 [00:00<00:00, 65.28batch/s, acc=80.7, loss=0.706]\n"
     ]
    },
    {
     "name": "stdout",
     "output_type": "stream",
     "text": [
      "Epoch 105 validation: Cross-entropy=0.70, Accuracy=81.1%\n"
     ]
    },
    {
     "name": "stderr",
     "output_type": "stream",
     "text": [
      "Epoch 106: 100%|███████| 23/23 [00:00<00:00, 61.46batch/s, acc=80.7, loss=0.706]\n"
     ]
    },
    {
     "name": "stdout",
     "output_type": "stream",
     "text": [
      "Epoch 106 validation: Cross-entropy=0.70, Accuracy=81.1%\n"
     ]
    },
    {
     "name": "stderr",
     "output_type": "stream",
     "text": [
      "Epoch 107: 100%|███████| 23/23 [00:00<00:00, 64.99batch/s, acc=80.7, loss=0.706]\n"
     ]
    },
    {
     "name": "stdout",
     "output_type": "stream",
     "text": [
      "Epoch 107 validation: Cross-entropy=0.70, Accuracy=81.1%\n"
     ]
    },
    {
     "name": "stderr",
     "output_type": "stream",
     "text": [
      "Epoch 108: 100%|███████| 23/23 [00:00<00:00, 61.51batch/s, acc=80.7, loss=0.706]\n"
     ]
    },
    {
     "name": "stdout",
     "output_type": "stream",
     "text": [
      "Epoch 108 validation: Cross-entropy=0.70, Accuracy=81.1%\n"
     ]
    },
    {
     "name": "stderr",
     "output_type": "stream",
     "text": [
      "Epoch 109: 100%|███████| 23/23 [00:00<00:00, 60.98batch/s, acc=80.7, loss=0.706]\n"
     ]
    },
    {
     "name": "stdout",
     "output_type": "stream",
     "text": [
      "Epoch 109 validation: Cross-entropy=0.70, Accuracy=81.1%\n"
     ]
    },
    {
     "name": "stderr",
     "output_type": "stream",
     "text": [
      "Epoch 110: 100%|███████| 23/23 [00:00<00:00, 63.77batch/s, acc=80.7, loss=0.706]\n"
     ]
    },
    {
     "name": "stdout",
     "output_type": "stream",
     "text": [
      "Epoch 110 validation: Cross-entropy=0.70, Accuracy=81.1%\n"
     ]
    },
    {
     "name": "stderr",
     "output_type": "stream",
     "text": [
      "Epoch 111: 100%|███████| 23/23 [00:00<00:00, 65.41batch/s, acc=80.7, loss=0.706]\n"
     ]
    },
    {
     "name": "stdout",
     "output_type": "stream",
     "text": [
      "Epoch 111 validation: Cross-entropy=0.70, Accuracy=81.1%\n"
     ]
    },
    {
     "name": "stderr",
     "output_type": "stream",
     "text": [
      "Epoch 112: 100%|███████| 23/23 [00:00<00:00, 65.05batch/s, acc=80.7, loss=0.706]\n"
     ]
    },
    {
     "name": "stdout",
     "output_type": "stream",
     "text": [
      "Epoch 112 validation: Cross-entropy=0.70, Accuracy=81.1%\n"
     ]
    },
    {
     "name": "stderr",
     "output_type": "stream",
     "text": [
      "Epoch 113: 100%|███████| 23/23 [00:00<00:00, 68.02batch/s, acc=80.7, loss=0.706]\n"
     ]
    },
    {
     "name": "stdout",
     "output_type": "stream",
     "text": [
      "Epoch 113 validation: Cross-entropy=0.70, Accuracy=81.1%\n"
     ]
    },
    {
     "name": "stderr",
     "output_type": "stream",
     "text": [
      "Epoch 114: 100%|███████| 23/23 [00:00<00:00, 67.92batch/s, acc=80.7, loss=0.706]\n"
     ]
    },
    {
     "name": "stdout",
     "output_type": "stream",
     "text": [
      "Epoch 114 validation: Cross-entropy=0.70, Accuracy=81.1%\n"
     ]
    },
    {
     "name": "stderr",
     "output_type": "stream",
     "text": [
      "Epoch 115: 100%|███████| 23/23 [00:00<00:00, 60.50batch/s, acc=80.7, loss=0.706]\n"
     ]
    },
    {
     "name": "stdout",
     "output_type": "stream",
     "text": [
      "Epoch 115 validation: Cross-entropy=0.70, Accuracy=81.1%\n"
     ]
    },
    {
     "name": "stderr",
     "output_type": "stream",
     "text": [
      "Epoch 116: 100%|███████| 23/23 [00:00<00:00, 62.25batch/s, acc=80.7, loss=0.706]\n"
     ]
    },
    {
     "name": "stdout",
     "output_type": "stream",
     "text": [
      "Epoch 116 validation: Cross-entropy=0.70, Accuracy=81.1%\n"
     ]
    },
    {
     "name": "stderr",
     "output_type": "stream",
     "text": [
      "Epoch 117: 100%|███████| 23/23 [00:00<00:00, 61.72batch/s, acc=80.7, loss=0.706]\n"
     ]
    },
    {
     "name": "stdout",
     "output_type": "stream",
     "text": [
      "Epoch 117 validation: Cross-entropy=0.70, Accuracy=81.1%\n"
     ]
    },
    {
     "name": "stderr",
     "output_type": "stream",
     "text": [
      "Epoch 118: 100%|███████| 23/23 [00:00<00:00, 58.27batch/s, acc=80.7, loss=0.706]\n"
     ]
    },
    {
     "name": "stdout",
     "output_type": "stream",
     "text": [
      "Epoch 118 validation: Cross-entropy=0.70, Accuracy=81.1%\n"
     ]
    },
    {
     "name": "stderr",
     "output_type": "stream",
     "text": [
      "Epoch 119: 100%|███████| 23/23 [00:00<00:00, 62.83batch/s, acc=80.7, loss=0.706]\n"
     ]
    },
    {
     "name": "stdout",
     "output_type": "stream",
     "text": [
      "Epoch 119 validation: Cross-entropy=0.70, Accuracy=81.1%\n"
     ]
    },
    {
     "name": "stderr",
     "output_type": "stream",
     "text": [
      "Epoch 120: 100%|███████| 23/23 [00:00<00:00, 61.48batch/s, acc=80.7, loss=0.706]\n"
     ]
    },
    {
     "name": "stdout",
     "output_type": "stream",
     "text": [
      "Epoch 120 validation: Cross-entropy=0.70, Accuracy=81.1%\n"
     ]
    },
    {
     "name": "stderr",
     "output_type": "stream",
     "text": [
      "Epoch 121: 100%|███████| 23/23 [00:00<00:00, 62.26batch/s, acc=80.7, loss=0.706]\n"
     ]
    },
    {
     "name": "stdout",
     "output_type": "stream",
     "text": [
      "Epoch 121 validation: Cross-entropy=0.70, Accuracy=81.1%\n"
     ]
    },
    {
     "name": "stderr",
     "output_type": "stream",
     "text": [
      "Epoch 122: 100%|███████| 23/23 [00:00<00:00, 63.98batch/s, acc=80.7, loss=0.706]\n"
     ]
    },
    {
     "name": "stdout",
     "output_type": "stream",
     "text": [
      "Epoch 122 validation: Cross-entropy=0.70, Accuracy=81.1%\n"
     ]
    },
    {
     "name": "stderr",
     "output_type": "stream",
     "text": [
      "Epoch 123: 100%|███████| 23/23 [00:00<00:00, 61.40batch/s, acc=80.7, loss=0.706]\n"
     ]
    },
    {
     "name": "stdout",
     "output_type": "stream",
     "text": [
      "Epoch 123 validation: Cross-entropy=0.70, Accuracy=81.1%\n"
     ]
    },
    {
     "name": "stderr",
     "output_type": "stream",
     "text": [
      "Epoch 124: 100%|███████| 23/23 [00:00<00:00, 59.28batch/s, acc=80.7, loss=0.706]\n"
     ]
    },
    {
     "name": "stdout",
     "output_type": "stream",
     "text": [
      "Epoch 124 validation: Cross-entropy=0.70, Accuracy=81.1%\n"
     ]
    },
    {
     "name": "stderr",
     "output_type": "stream",
     "text": [
      "Epoch 125: 100%|███████| 23/23 [00:00<00:00, 63.80batch/s, acc=80.7, loss=0.706]\n"
     ]
    },
    {
     "name": "stdout",
     "output_type": "stream",
     "text": [
      "Epoch 125 validation: Cross-entropy=0.70, Accuracy=81.1%\n"
     ]
    },
    {
     "name": "stderr",
     "output_type": "stream",
     "text": [
      "Epoch 126: 100%|███████| 23/23 [00:00<00:00, 59.18batch/s, acc=80.7, loss=0.706]\n"
     ]
    },
    {
     "name": "stdout",
     "output_type": "stream",
     "text": [
      "Epoch 126 validation: Cross-entropy=0.70, Accuracy=81.1%\n"
     ]
    },
    {
     "name": "stderr",
     "output_type": "stream",
     "text": [
      "Epoch 127: 100%|███████| 23/23 [00:00<00:00, 61.08batch/s, acc=80.7, loss=0.706]\n"
     ]
    },
    {
     "name": "stdout",
     "output_type": "stream",
     "text": [
      "Epoch 127 validation: Cross-entropy=0.70, Accuracy=81.1%\n"
     ]
    },
    {
     "name": "stderr",
     "output_type": "stream",
     "text": [
      "Epoch 128: 100%|███████| 23/23 [00:00<00:00, 61.40batch/s, acc=80.7, loss=0.706]\n"
     ]
    },
    {
     "name": "stdout",
     "output_type": "stream",
     "text": [
      "Epoch 128 validation: Cross-entropy=0.70, Accuracy=81.1%\n"
     ]
    },
    {
     "name": "stderr",
     "output_type": "stream",
     "text": [
      "Epoch 129: 100%|███████| 23/23 [00:00<00:00, 60.16batch/s, acc=80.7, loss=0.706]\n"
     ]
    },
    {
     "name": "stdout",
     "output_type": "stream",
     "text": [
      "Epoch 129 validation: Cross-entropy=0.70, Accuracy=81.1%\n"
     ]
    },
    {
     "name": "stderr",
     "output_type": "stream",
     "text": [
      "Epoch 130: 100%|███████| 23/23 [00:00<00:00, 59.04batch/s, acc=80.7, loss=0.706]\n"
     ]
    },
    {
     "name": "stdout",
     "output_type": "stream",
     "text": [
      "Epoch 130 validation: Cross-entropy=0.70, Accuracy=81.1%\n"
     ]
    },
    {
     "name": "stderr",
     "output_type": "stream",
     "text": [
      "Epoch 131: 100%|███████| 23/23 [00:00<00:00, 63.49batch/s, acc=80.7, loss=0.706]\n"
     ]
    },
    {
     "name": "stdout",
     "output_type": "stream",
     "text": [
      "Epoch 131 validation: Cross-entropy=0.70, Accuracy=81.1%\n"
     ]
    },
    {
     "name": "stderr",
     "output_type": "stream",
     "text": [
      "Epoch 132: 100%|███████| 23/23 [00:00<00:00, 59.24batch/s, acc=80.7, loss=0.706]\n"
     ]
    },
    {
     "name": "stdout",
     "output_type": "stream",
     "text": [
      "Epoch 132 validation: Cross-entropy=0.70, Accuracy=81.1%\n"
     ]
    },
    {
     "name": "stderr",
     "output_type": "stream",
     "text": [
      "Epoch 133: 100%|███████| 23/23 [00:00<00:00, 62.46batch/s, acc=80.7, loss=0.706]\n"
     ]
    },
    {
     "name": "stdout",
     "output_type": "stream",
     "text": [
      "Epoch 133 validation: Cross-entropy=0.70, Accuracy=81.1%\n"
     ]
    },
    {
     "name": "stderr",
     "output_type": "stream",
     "text": [
      "Epoch 134: 100%|███████| 23/23 [00:00<00:00, 65.90batch/s, acc=80.7, loss=0.706]\n"
     ]
    },
    {
     "name": "stdout",
     "output_type": "stream",
     "text": [
      "Epoch 134 validation: Cross-entropy=0.70, Accuracy=81.1%\n"
     ]
    },
    {
     "name": "stderr",
     "output_type": "stream",
     "text": [
      "Epoch 135: 100%|███████| 23/23 [00:00<00:00, 58.21batch/s, acc=80.7, loss=0.706]\n"
     ]
    },
    {
     "name": "stdout",
     "output_type": "stream",
     "text": [
      "Epoch 135 validation: Cross-entropy=0.70, Accuracy=81.1%\n"
     ]
    },
    {
     "name": "stderr",
     "output_type": "stream",
     "text": [
      "Epoch 136: 100%|███████| 23/23 [00:00<00:00, 59.61batch/s, acc=80.7, loss=0.706]\n"
     ]
    },
    {
     "name": "stdout",
     "output_type": "stream",
     "text": [
      "Epoch 136 validation: Cross-entropy=0.70, Accuracy=81.1%\n"
     ]
    },
    {
     "name": "stderr",
     "output_type": "stream",
     "text": [
      "Epoch 137: 100%|███████| 23/23 [00:00<00:00, 63.31batch/s, acc=80.7, loss=0.706]\n"
     ]
    },
    {
     "name": "stdout",
     "output_type": "stream",
     "text": [
      "Epoch 137 validation: Cross-entropy=0.70, Accuracy=81.1%\n"
     ]
    },
    {
     "name": "stderr",
     "output_type": "stream",
     "text": [
      "Epoch 138: 100%|███████| 23/23 [00:00<00:00, 63.60batch/s, acc=80.7, loss=0.706]\n"
     ]
    },
    {
     "name": "stdout",
     "output_type": "stream",
     "text": [
      "Epoch 138 validation: Cross-entropy=0.70, Accuracy=81.1%\n"
     ]
    },
    {
     "name": "stderr",
     "output_type": "stream",
     "text": [
      "Epoch 139: 100%|███████| 23/23 [00:00<00:00, 57.30batch/s, acc=80.7, loss=0.706]\n"
     ]
    },
    {
     "name": "stdout",
     "output_type": "stream",
     "text": [
      "Epoch 139 validation: Cross-entropy=0.70, Accuracy=81.1%\n"
     ]
    },
    {
     "name": "stderr",
     "output_type": "stream",
     "text": [
      "Epoch 140: 100%|███████| 23/23 [00:00<00:00, 67.55batch/s, acc=80.7, loss=0.706]\n"
     ]
    },
    {
     "name": "stdout",
     "output_type": "stream",
     "text": [
      "Epoch 140 validation: Cross-entropy=0.70, Accuracy=81.1%\n"
     ]
    },
    {
     "name": "stderr",
     "output_type": "stream",
     "text": [
      "Epoch 141: 100%|███████| 23/23 [00:00<00:00, 62.13batch/s, acc=80.7, loss=0.706]\n"
     ]
    },
    {
     "name": "stdout",
     "output_type": "stream",
     "text": [
      "Epoch 141 validation: Cross-entropy=0.70, Accuracy=81.1%\n"
     ]
    },
    {
     "name": "stderr",
     "output_type": "stream",
     "text": [
      "Epoch 142: 100%|███████| 23/23 [00:00<00:00, 63.34batch/s, acc=80.7, loss=0.706]\n"
     ]
    },
    {
     "name": "stdout",
     "output_type": "stream",
     "text": [
      "Epoch 142 validation: Cross-entropy=0.70, Accuracy=81.1%\n"
     ]
    },
    {
     "name": "stderr",
     "output_type": "stream",
     "text": [
      "Epoch 143: 100%|███████| 23/23 [00:00<00:00, 58.66batch/s, acc=80.7, loss=0.706]\n"
     ]
    },
    {
     "name": "stdout",
     "output_type": "stream",
     "text": [
      "Epoch 143 validation: Cross-entropy=0.70, Accuracy=81.1%\n"
     ]
    },
    {
     "name": "stderr",
     "output_type": "stream",
     "text": [
      "Epoch 144: 100%|███████| 23/23 [00:00<00:00, 68.88batch/s, acc=80.7, loss=0.706]\n"
     ]
    },
    {
     "name": "stdout",
     "output_type": "stream",
     "text": [
      "Epoch 144 validation: Cross-entropy=0.70, Accuracy=81.1%\n"
     ]
    },
    {
     "name": "stderr",
     "output_type": "stream",
     "text": [
      "Epoch 145: 100%|███████| 23/23 [00:00<00:00, 58.29batch/s, acc=80.7, loss=0.706]\n"
     ]
    },
    {
     "name": "stdout",
     "output_type": "stream",
     "text": [
      "Epoch 145 validation: Cross-entropy=0.70, Accuracy=81.1%\n"
     ]
    },
    {
     "name": "stderr",
     "output_type": "stream",
     "text": [
      "Epoch 146: 100%|███████| 23/23 [00:00<00:00, 55.66batch/s, acc=80.7, loss=0.706]\n"
     ]
    },
    {
     "name": "stdout",
     "output_type": "stream",
     "text": [
      "Epoch 146 validation: Cross-entropy=0.70, Accuracy=81.1%\n"
     ]
    },
    {
     "name": "stderr",
     "output_type": "stream",
     "text": [
      "Epoch 147: 100%|███████| 23/23 [00:00<00:00, 67.38batch/s, acc=80.7, loss=0.706]\n"
     ]
    },
    {
     "name": "stdout",
     "output_type": "stream",
     "text": [
      "Epoch 147 validation: Cross-entropy=0.70, Accuracy=81.1%\n"
     ]
    },
    {
     "name": "stderr",
     "output_type": "stream",
     "text": [
      "Epoch 148: 100%|███████| 23/23 [00:00<00:00, 58.81batch/s, acc=80.7, loss=0.706]\n"
     ]
    },
    {
     "name": "stdout",
     "output_type": "stream",
     "text": [
      "Epoch 148 validation: Cross-entropy=0.70, Accuracy=81.1%\n"
     ]
    },
    {
     "name": "stderr",
     "output_type": "stream",
     "text": [
      "Epoch 149: 100%|███████| 23/23 [00:00<00:00, 61.14batch/s, acc=80.7, loss=0.706]\n"
     ]
    },
    {
     "name": "stdout",
     "output_type": "stream",
     "text": [
      "Epoch 149 validation: Cross-entropy=0.70, Accuracy=81.1%\n"
     ]
    },
    {
     "name": "stderr",
     "output_type": "stream",
     "text": [
      "Epoch 150: 100%|███████| 23/23 [00:00<00:00, 57.38batch/s, acc=80.7, loss=0.706]\n"
     ]
    },
    {
     "name": "stdout",
     "output_type": "stream",
     "text": [
      "Epoch 150 validation: Cross-entropy=0.70, Accuracy=81.1%\n"
     ]
    },
    {
     "name": "stderr",
     "output_type": "stream",
     "text": [
      "Epoch 151: 100%|███████| 23/23 [00:00<00:00, 66.34batch/s, acc=80.7, loss=0.706]\n"
     ]
    },
    {
     "name": "stdout",
     "output_type": "stream",
     "text": [
      "Epoch 151 validation: Cross-entropy=0.70, Accuracy=81.1%\n"
     ]
    },
    {
     "name": "stderr",
     "output_type": "stream",
     "text": [
      "Epoch 152: 100%|███████| 23/23 [00:00<00:00, 63.10batch/s, acc=80.7, loss=0.706]\n"
     ]
    },
    {
     "name": "stdout",
     "output_type": "stream",
     "text": [
      "Epoch 152 validation: Cross-entropy=0.70, Accuracy=81.1%\n"
     ]
    },
    {
     "name": "stderr",
     "output_type": "stream",
     "text": [
      "Epoch 153: 100%|███████| 23/23 [00:00<00:00, 61.47batch/s, acc=80.7, loss=0.706]\n"
     ]
    },
    {
     "name": "stdout",
     "output_type": "stream",
     "text": [
      "Epoch 153 validation: Cross-entropy=0.70, Accuracy=81.1%\n"
     ]
    },
    {
     "name": "stderr",
     "output_type": "stream",
     "text": [
      "Epoch 154: 100%|███████| 23/23 [00:00<00:00, 63.27batch/s, acc=80.7, loss=0.706]\n"
     ]
    },
    {
     "name": "stdout",
     "output_type": "stream",
     "text": [
      "Epoch 154 validation: Cross-entropy=0.70, Accuracy=81.1%\n"
     ]
    },
    {
     "name": "stderr",
     "output_type": "stream",
     "text": [
      "Epoch 155: 100%|███████| 23/23 [00:00<00:00, 60.53batch/s, acc=80.7, loss=0.706]\n"
     ]
    },
    {
     "name": "stdout",
     "output_type": "stream",
     "text": [
      "Epoch 155 validation: Cross-entropy=0.70, Accuracy=81.1%\n"
     ]
    },
    {
     "name": "stderr",
     "output_type": "stream",
     "text": [
      "Epoch 156: 100%|███████| 23/23 [00:00<00:00, 54.88batch/s, acc=80.7, loss=0.706]\n"
     ]
    },
    {
     "name": "stdout",
     "output_type": "stream",
     "text": [
      "Epoch 156 validation: Cross-entropy=0.70, Accuracy=81.1%\n"
     ]
    },
    {
     "name": "stderr",
     "output_type": "stream",
     "text": [
      "Epoch 157: 100%|███████| 23/23 [00:00<00:00, 63.08batch/s, acc=80.7, loss=0.706]\n"
     ]
    },
    {
     "name": "stdout",
     "output_type": "stream",
     "text": [
      "Epoch 157 validation: Cross-entropy=0.70, Accuracy=81.1%\n"
     ]
    },
    {
     "name": "stderr",
     "output_type": "stream",
     "text": [
      "Epoch 158: 100%|███████| 23/23 [00:00<00:00, 59.75batch/s, acc=80.7, loss=0.706]\n"
     ]
    },
    {
     "name": "stdout",
     "output_type": "stream",
     "text": [
      "Epoch 158 validation: Cross-entropy=0.70, Accuracy=81.1%\n"
     ]
    },
    {
     "name": "stderr",
     "output_type": "stream",
     "text": [
      "Epoch 159: 100%|███████| 23/23 [00:00<00:00, 59.94batch/s, acc=80.7, loss=0.706]\n"
     ]
    },
    {
     "name": "stdout",
     "output_type": "stream",
     "text": [
      "Epoch 159 validation: Cross-entropy=0.70, Accuracy=81.1%\n"
     ]
    },
    {
     "name": "stderr",
     "output_type": "stream",
     "text": [
      "Epoch 160: 100%|███████| 23/23 [00:00<00:00, 63.55batch/s, acc=80.7, loss=0.706]\n"
     ]
    },
    {
     "name": "stdout",
     "output_type": "stream",
     "text": [
      "Epoch 160 validation: Cross-entropy=0.70, Accuracy=81.1%\n"
     ]
    },
    {
     "name": "stderr",
     "output_type": "stream",
     "text": [
      "Epoch 161: 100%|███████| 23/23 [00:00<00:00, 62.16batch/s, acc=80.7, loss=0.706]\n"
     ]
    },
    {
     "name": "stdout",
     "output_type": "stream",
     "text": [
      "Epoch 161 validation: Cross-entropy=0.70, Accuracy=81.1%\n"
     ]
    },
    {
     "name": "stderr",
     "output_type": "stream",
     "text": [
      "Epoch 162: 100%|███████| 23/23 [00:00<00:00, 64.31batch/s, acc=80.7, loss=0.706]\n"
     ]
    },
    {
     "name": "stdout",
     "output_type": "stream",
     "text": [
      "Epoch 162 validation: Cross-entropy=0.70, Accuracy=81.1%\n"
     ]
    },
    {
     "name": "stderr",
     "output_type": "stream",
     "text": [
      "Epoch 163: 100%|███████| 23/23 [00:00<00:00, 59.55batch/s, acc=80.7, loss=0.706]\n"
     ]
    },
    {
     "name": "stdout",
     "output_type": "stream",
     "text": [
      "Epoch 163 validation: Cross-entropy=0.70, Accuracy=81.1%\n"
     ]
    },
    {
     "name": "stderr",
     "output_type": "stream",
     "text": [
      "Epoch 164: 100%|███████| 23/23 [00:00<00:00, 59.45batch/s, acc=80.7, loss=0.706]\n"
     ]
    },
    {
     "name": "stdout",
     "output_type": "stream",
     "text": [
      "Epoch 164 validation: Cross-entropy=0.70, Accuracy=81.1%\n"
     ]
    },
    {
     "name": "stderr",
     "output_type": "stream",
     "text": [
      "Epoch 165: 100%|███████| 23/23 [00:00<00:00, 60.69batch/s, acc=80.7, loss=0.706]\n"
     ]
    },
    {
     "name": "stdout",
     "output_type": "stream",
     "text": [
      "Epoch 165 validation: Cross-entropy=0.70, Accuracy=81.1%\n"
     ]
    },
    {
     "name": "stderr",
     "output_type": "stream",
     "text": [
      "Epoch 166: 100%|███████| 23/23 [00:00<00:00, 64.02batch/s, acc=80.7, loss=0.706]\n"
     ]
    },
    {
     "name": "stdout",
     "output_type": "stream",
     "text": [
      "Epoch 166 validation: Cross-entropy=0.70, Accuracy=81.1%\n"
     ]
    },
    {
     "name": "stderr",
     "output_type": "stream",
     "text": [
      "Epoch 167: 100%|███████| 23/23 [00:00<00:00, 64.68batch/s, acc=80.7, loss=0.706]\n"
     ]
    },
    {
     "name": "stdout",
     "output_type": "stream",
     "text": [
      "Epoch 167 validation: Cross-entropy=0.70, Accuracy=81.1%\n"
     ]
    },
    {
     "name": "stderr",
     "output_type": "stream",
     "text": [
      "Epoch 168: 100%|███████| 23/23 [00:00<00:00, 58.45batch/s, acc=80.7, loss=0.706]\n"
     ]
    },
    {
     "name": "stdout",
     "output_type": "stream",
     "text": [
      "Epoch 168 validation: Cross-entropy=0.70, Accuracy=81.1%\n"
     ]
    },
    {
     "name": "stderr",
     "output_type": "stream",
     "text": [
      "Epoch 169: 100%|███████| 23/23 [00:00<00:00, 68.64batch/s, acc=80.7, loss=0.706]\n"
     ]
    },
    {
     "name": "stdout",
     "output_type": "stream",
     "text": [
      "Epoch 169 validation: Cross-entropy=0.70, Accuracy=81.1%\n"
     ]
    },
    {
     "name": "stderr",
     "output_type": "stream",
     "text": [
      "Epoch 170: 100%|███████| 23/23 [00:00<00:00, 65.02batch/s, acc=80.7, loss=0.706]\n"
     ]
    },
    {
     "name": "stdout",
     "output_type": "stream",
     "text": [
      "Epoch 170 validation: Cross-entropy=0.70, Accuracy=81.1%\n"
     ]
    },
    {
     "name": "stderr",
     "output_type": "stream",
     "text": [
      "Epoch 171: 100%|███████| 23/23 [00:00<00:00, 62.20batch/s, acc=80.7, loss=0.706]\n"
     ]
    },
    {
     "name": "stdout",
     "output_type": "stream",
     "text": [
      "Epoch 171 validation: Cross-entropy=0.70, Accuracy=81.1%\n"
     ]
    },
    {
     "name": "stderr",
     "output_type": "stream",
     "text": [
      "Epoch 172: 100%|███████| 23/23 [00:00<00:00, 54.66batch/s, acc=80.7, loss=0.706]\n"
     ]
    },
    {
     "name": "stdout",
     "output_type": "stream",
     "text": [
      "Epoch 172 validation: Cross-entropy=0.70, Accuracy=81.1%\n"
     ]
    },
    {
     "name": "stderr",
     "output_type": "stream",
     "text": [
      "Epoch 173: 100%|███████| 23/23 [00:00<00:00, 61.37batch/s, acc=80.7, loss=0.706]\n"
     ]
    },
    {
     "name": "stdout",
     "output_type": "stream",
     "text": [
      "Epoch 173 validation: Cross-entropy=0.70, Accuracy=81.1%\n"
     ]
    },
    {
     "name": "stderr",
     "output_type": "stream",
     "text": [
      "Epoch 174: 100%|███████| 23/23 [00:00<00:00, 68.11batch/s, acc=80.7, loss=0.706]\n"
     ]
    },
    {
     "name": "stdout",
     "output_type": "stream",
     "text": [
      "Epoch 174 validation: Cross-entropy=0.70, Accuracy=81.1%\n"
     ]
    },
    {
     "name": "stderr",
     "output_type": "stream",
     "text": [
      "Epoch 175: 100%|███████| 23/23 [00:00<00:00, 66.11batch/s, acc=80.7, loss=0.706]\n"
     ]
    },
    {
     "name": "stdout",
     "output_type": "stream",
     "text": [
      "Epoch 175 validation: Cross-entropy=0.70, Accuracy=81.1%\n"
     ]
    },
    {
     "name": "stderr",
     "output_type": "stream",
     "text": [
      "Epoch 176: 100%|███████| 23/23 [00:00<00:00, 59.83batch/s, acc=80.7, loss=0.706]\n"
     ]
    },
    {
     "name": "stdout",
     "output_type": "stream",
     "text": [
      "Epoch 176 validation: Cross-entropy=0.70, Accuracy=81.1%\n"
     ]
    },
    {
     "name": "stderr",
     "output_type": "stream",
     "text": [
      "Epoch 177: 100%|███████| 23/23 [00:00<00:00, 70.34batch/s, acc=80.7, loss=0.706]\n"
     ]
    },
    {
     "name": "stdout",
     "output_type": "stream",
     "text": [
      "Epoch 177 validation: Cross-entropy=0.70, Accuracy=81.1%\n"
     ]
    },
    {
     "name": "stderr",
     "output_type": "stream",
     "text": [
      "Epoch 178: 100%|███████| 23/23 [00:00<00:00, 62.66batch/s, acc=80.7, loss=0.706]\n"
     ]
    },
    {
     "name": "stdout",
     "output_type": "stream",
     "text": [
      "Epoch 178 validation: Cross-entropy=0.70, Accuracy=81.1%\n"
     ]
    },
    {
     "name": "stderr",
     "output_type": "stream",
     "text": [
      "Epoch 179: 100%|███████| 23/23 [00:00<00:00, 63.30batch/s, acc=80.7, loss=0.706]\n"
     ]
    },
    {
     "name": "stdout",
     "output_type": "stream",
     "text": [
      "Epoch 179 validation: Cross-entropy=0.70, Accuracy=81.1%\n"
     ]
    },
    {
     "name": "stderr",
     "output_type": "stream",
     "text": [
      "Epoch 180: 100%|███████| 23/23 [00:00<00:00, 59.35batch/s, acc=80.7, loss=0.706]\n"
     ]
    },
    {
     "name": "stdout",
     "output_type": "stream",
     "text": [
      "Epoch 180 validation: Cross-entropy=0.70, Accuracy=81.1%\n"
     ]
    },
    {
     "name": "stderr",
     "output_type": "stream",
     "text": [
      "Epoch 181: 100%|███████| 23/23 [00:00<00:00, 60.71batch/s, acc=80.7, loss=0.706]\n"
     ]
    },
    {
     "name": "stdout",
     "output_type": "stream",
     "text": [
      "Epoch 181 validation: Cross-entropy=0.70, Accuracy=81.1%\n"
     ]
    },
    {
     "name": "stderr",
     "output_type": "stream",
     "text": [
      "Epoch 182: 100%|███████| 23/23 [00:00<00:00, 60.78batch/s, acc=80.7, loss=0.706]\n"
     ]
    },
    {
     "name": "stdout",
     "output_type": "stream",
     "text": [
      "Epoch 182 validation: Cross-entropy=0.70, Accuracy=81.1%\n"
     ]
    },
    {
     "name": "stderr",
     "output_type": "stream",
     "text": [
      "Epoch 183: 100%|███████| 23/23 [00:00<00:00, 58.71batch/s, acc=80.7, loss=0.706]\n"
     ]
    },
    {
     "name": "stdout",
     "output_type": "stream",
     "text": [
      "Epoch 183 validation: Cross-entropy=0.70, Accuracy=81.1%\n"
     ]
    },
    {
     "name": "stderr",
     "output_type": "stream",
     "text": [
      "Epoch 184: 100%|███████| 23/23 [00:00<00:00, 65.76batch/s, acc=80.7, loss=0.706]\n"
     ]
    },
    {
     "name": "stdout",
     "output_type": "stream",
     "text": [
      "Epoch 184 validation: Cross-entropy=0.70, Accuracy=81.1%\n"
     ]
    },
    {
     "name": "stderr",
     "output_type": "stream",
     "text": [
      "Epoch 185: 100%|███████| 23/23 [00:00<00:00, 67.60batch/s, acc=80.7, loss=0.706]\n"
     ]
    },
    {
     "name": "stdout",
     "output_type": "stream",
     "text": [
      "Epoch 185 validation: Cross-entropy=0.70, Accuracy=81.1%\n"
     ]
    },
    {
     "name": "stderr",
     "output_type": "stream",
     "text": [
      "Epoch 186: 100%|███████| 23/23 [00:00<00:00, 57.85batch/s, acc=80.7, loss=0.706]\n"
     ]
    },
    {
     "name": "stdout",
     "output_type": "stream",
     "text": [
      "Epoch 186 validation: Cross-entropy=0.70, Accuracy=81.1%\n"
     ]
    },
    {
     "name": "stderr",
     "output_type": "stream",
     "text": [
      "Epoch 187: 100%|███████| 23/23 [00:00<00:00, 58.70batch/s, acc=80.7, loss=0.706]\n"
     ]
    },
    {
     "name": "stdout",
     "output_type": "stream",
     "text": [
      "Epoch 187 validation: Cross-entropy=0.70, Accuracy=81.1%\n"
     ]
    },
    {
     "name": "stderr",
     "output_type": "stream",
     "text": [
      "Epoch 188: 100%|███████| 23/23 [00:00<00:00, 55.73batch/s, acc=80.7, loss=0.706]\n"
     ]
    },
    {
     "name": "stdout",
     "output_type": "stream",
     "text": [
      "Epoch 188 validation: Cross-entropy=0.70, Accuracy=81.1%\n"
     ]
    },
    {
     "name": "stderr",
     "output_type": "stream",
     "text": [
      "Epoch 189: 100%|███████| 23/23 [00:00<00:00, 58.67batch/s, acc=80.7, loss=0.706]\n"
     ]
    },
    {
     "name": "stdout",
     "output_type": "stream",
     "text": [
      "Epoch 189 validation: Cross-entropy=0.70, Accuracy=81.1%\n"
     ]
    },
    {
     "name": "stderr",
     "output_type": "stream",
     "text": [
      "Epoch 190: 100%|███████| 23/23 [00:00<00:00, 61.16batch/s, acc=80.7, loss=0.706]\n"
     ]
    },
    {
     "name": "stdout",
     "output_type": "stream",
     "text": [
      "Epoch 190 validation: Cross-entropy=0.70, Accuracy=81.1%\n"
     ]
    },
    {
     "name": "stderr",
     "output_type": "stream",
     "text": [
      "Epoch 191: 100%|███████| 23/23 [00:00<00:00, 62.18batch/s, acc=80.7, loss=0.706]\n"
     ]
    },
    {
     "name": "stdout",
     "output_type": "stream",
     "text": [
      "Epoch 191 validation: Cross-entropy=0.70, Accuracy=81.1%\n"
     ]
    },
    {
     "name": "stderr",
     "output_type": "stream",
     "text": [
      "Epoch 192: 100%|███████| 23/23 [00:00<00:00, 63.37batch/s, acc=80.7, loss=0.706]\n"
     ]
    },
    {
     "name": "stdout",
     "output_type": "stream",
     "text": [
      "Epoch 192 validation: Cross-entropy=0.70, Accuracy=81.1%\n"
     ]
    },
    {
     "name": "stderr",
     "output_type": "stream",
     "text": [
      "Epoch 193: 100%|███████| 23/23 [00:00<00:00, 58.47batch/s, acc=80.7, loss=0.706]\n"
     ]
    },
    {
     "name": "stdout",
     "output_type": "stream",
     "text": [
      "Epoch 193 validation: Cross-entropy=0.70, Accuracy=81.1%\n"
     ]
    },
    {
     "name": "stderr",
     "output_type": "stream",
     "text": [
      "Epoch 194: 100%|███████| 23/23 [00:00<00:00, 60.39batch/s, acc=80.7, loss=0.706]\n"
     ]
    },
    {
     "name": "stdout",
     "output_type": "stream",
     "text": [
      "Epoch 194 validation: Cross-entropy=0.70, Accuracy=81.1%\n"
     ]
    },
    {
     "name": "stderr",
     "output_type": "stream",
     "text": [
      "Epoch 195: 100%|███████| 23/23 [00:00<00:00, 60.66batch/s, acc=80.7, loss=0.706]\n"
     ]
    },
    {
     "name": "stdout",
     "output_type": "stream",
     "text": [
      "Epoch 195 validation: Cross-entropy=0.70, Accuracy=81.1%\n"
     ]
    },
    {
     "name": "stderr",
     "output_type": "stream",
     "text": [
      "Epoch 196: 100%|███████| 23/23 [00:00<00:00, 64.98batch/s, acc=80.7, loss=0.706]\n"
     ]
    },
    {
     "name": "stdout",
     "output_type": "stream",
     "text": [
      "Epoch 196 validation: Cross-entropy=0.70, Accuracy=81.1%\n"
     ]
    },
    {
     "name": "stderr",
     "output_type": "stream",
     "text": [
      "Epoch 197: 100%|███████| 23/23 [00:00<00:00, 60.18batch/s, acc=80.7, loss=0.706]\n"
     ]
    },
    {
     "name": "stdout",
     "output_type": "stream",
     "text": [
      "Epoch 197 validation: Cross-entropy=0.70, Accuracy=81.1%\n"
     ]
    },
    {
     "name": "stderr",
     "output_type": "stream",
     "text": [
      "Epoch 198: 100%|███████| 23/23 [00:00<00:00, 58.52batch/s, acc=80.7, loss=0.706]\n"
     ]
    },
    {
     "name": "stdout",
     "output_type": "stream",
     "text": [
      "Epoch 198 validation: Cross-entropy=0.70, Accuracy=81.1%\n"
     ]
    },
    {
     "name": "stderr",
     "output_type": "stream",
     "text": [
      "Epoch 199: 100%|███████| 23/23 [00:00<00:00, 61.65batch/s, acc=80.7, loss=0.706]\n"
     ]
    },
    {
     "name": "stdout",
     "output_type": "stream",
     "text": [
      "Epoch 199 validation: Cross-entropy=0.70, Accuracy=81.1%\n"
     ]
    },
    {
     "name": "stderr",
     "output_type": "stream",
     "text": [
      "Epoch 200: 100%|███████| 23/23 [00:00<00:00, 58.56batch/s, acc=80.7, loss=0.706]\n"
     ]
    },
    {
     "name": "stdout",
     "output_type": "stream",
     "text": [
      "Epoch 200 validation: Cross-entropy=0.70, Accuracy=81.1%\n"
     ]
    },
    {
     "name": "stderr",
     "output_type": "stream",
     "text": [
      "Epoch 201: 100%|███████| 23/23 [00:00<00:00, 56.44batch/s, acc=80.7, loss=0.706]\n"
     ]
    },
    {
     "name": "stdout",
     "output_type": "stream",
     "text": [
      "Epoch 201 validation: Cross-entropy=0.70, Accuracy=81.1%\n"
     ]
    },
    {
     "name": "stderr",
     "output_type": "stream",
     "text": [
      "Epoch 202: 100%|███████| 23/23 [00:00<00:00, 62.19batch/s, acc=80.7, loss=0.706]\n"
     ]
    },
    {
     "name": "stdout",
     "output_type": "stream",
     "text": [
      "Epoch 202 validation: Cross-entropy=0.70, Accuracy=81.1%\n"
     ]
    },
    {
     "name": "stderr",
     "output_type": "stream",
     "text": [
      "Epoch 203: 100%|███████| 23/23 [00:00<00:00, 62.71batch/s, acc=80.7, loss=0.706]\n"
     ]
    },
    {
     "name": "stdout",
     "output_type": "stream",
     "text": [
      "Epoch 203 validation: Cross-entropy=0.70, Accuracy=81.1%\n"
     ]
    },
    {
     "name": "stderr",
     "output_type": "stream",
     "text": [
      "Epoch 204: 100%|███████| 23/23 [00:00<00:00, 62.27batch/s, acc=80.7, loss=0.706]\n"
     ]
    },
    {
     "name": "stdout",
     "output_type": "stream",
     "text": [
      "Epoch 204 validation: Cross-entropy=0.70, Accuracy=81.1%\n"
     ]
    },
    {
     "name": "stderr",
     "output_type": "stream",
     "text": [
      "Epoch 205: 100%|███████| 23/23 [00:00<00:00, 62.79batch/s, acc=80.7, loss=0.706]\n"
     ]
    },
    {
     "name": "stdout",
     "output_type": "stream",
     "text": [
      "Epoch 205 validation: Cross-entropy=0.70, Accuracy=81.1%\n"
     ]
    },
    {
     "name": "stderr",
     "output_type": "stream",
     "text": [
      "Epoch 206: 100%|███████| 23/23 [00:00<00:00, 65.15batch/s, acc=80.7, loss=0.706]\n"
     ]
    },
    {
     "name": "stdout",
     "output_type": "stream",
     "text": [
      "Epoch 206 validation: Cross-entropy=0.70, Accuracy=81.1%\n"
     ]
    },
    {
     "name": "stderr",
     "output_type": "stream",
     "text": [
      "Epoch 207: 100%|███████| 23/23 [00:00<00:00, 63.74batch/s, acc=80.7, loss=0.706]\n"
     ]
    },
    {
     "name": "stdout",
     "output_type": "stream",
     "text": [
      "Epoch 207 validation: Cross-entropy=0.70, Accuracy=81.1%\n"
     ]
    },
    {
     "name": "stderr",
     "output_type": "stream",
     "text": [
      "Epoch 208: 100%|███████| 23/23 [00:00<00:00, 59.62batch/s, acc=80.7, loss=0.706]\n"
     ]
    },
    {
     "name": "stdout",
     "output_type": "stream",
     "text": [
      "Epoch 208 validation: Cross-entropy=0.70, Accuracy=81.1%\n"
     ]
    },
    {
     "name": "stderr",
     "output_type": "stream",
     "text": [
      "Epoch 209: 100%|███████| 23/23 [00:00<00:00, 58.24batch/s, acc=80.7, loss=0.706]\n"
     ]
    },
    {
     "name": "stdout",
     "output_type": "stream",
     "text": [
      "Epoch 209 validation: Cross-entropy=0.70, Accuracy=81.1%\n"
     ]
    },
    {
     "name": "stderr",
     "output_type": "stream",
     "text": [
      "Epoch 210: 100%|███████| 23/23 [00:00<00:00, 59.84batch/s, acc=80.7, loss=0.706]\n"
     ]
    },
    {
     "name": "stdout",
     "output_type": "stream",
     "text": [
      "Epoch 210 validation: Cross-entropy=0.70, Accuracy=81.1%\n"
     ]
    },
    {
     "name": "stderr",
     "output_type": "stream",
     "text": [
      "Epoch 211: 100%|███████| 23/23 [00:00<00:00, 60.41batch/s, acc=80.7, loss=0.706]\n"
     ]
    },
    {
     "name": "stdout",
     "output_type": "stream",
     "text": [
      "Epoch 211 validation: Cross-entropy=0.70, Accuracy=81.1%\n"
     ]
    },
    {
     "name": "stderr",
     "output_type": "stream",
     "text": [
      "Epoch 212: 100%|███████| 23/23 [00:00<00:00, 63.76batch/s, acc=80.7, loss=0.706]\n"
     ]
    },
    {
     "name": "stdout",
     "output_type": "stream",
     "text": [
      "Epoch 212 validation: Cross-entropy=0.70, Accuracy=81.1%\n"
     ]
    },
    {
     "name": "stderr",
     "output_type": "stream",
     "text": [
      "Epoch 213: 100%|███████| 23/23 [00:00<00:00, 62.29batch/s, acc=80.7, loss=0.706]\n"
     ]
    },
    {
     "name": "stdout",
     "output_type": "stream",
     "text": [
      "Epoch 213 validation: Cross-entropy=0.70, Accuracy=81.1%\n"
     ]
    },
    {
     "name": "stderr",
     "output_type": "stream",
     "text": [
      "Epoch 214: 100%|███████| 23/23 [00:00<00:00, 63.48batch/s, acc=80.7, loss=0.706]\n"
     ]
    },
    {
     "name": "stdout",
     "output_type": "stream",
     "text": [
      "Epoch 214 validation: Cross-entropy=0.70, Accuracy=81.1%\n"
     ]
    },
    {
     "name": "stderr",
     "output_type": "stream",
     "text": [
      "Epoch 215: 100%|███████| 23/23 [00:00<00:00, 55.89batch/s, acc=80.7, loss=0.706]\n"
     ]
    },
    {
     "name": "stdout",
     "output_type": "stream",
     "text": [
      "Epoch 215 validation: Cross-entropy=0.70, Accuracy=81.1%\n"
     ]
    },
    {
     "name": "stderr",
     "output_type": "stream",
     "text": [
      "Epoch 216: 100%|███████| 23/23 [00:00<00:00, 61.62batch/s, acc=80.7, loss=0.706]\n"
     ]
    },
    {
     "name": "stdout",
     "output_type": "stream",
     "text": [
      "Epoch 216 validation: Cross-entropy=0.70, Accuracy=81.1%\n"
     ]
    },
    {
     "name": "stderr",
     "output_type": "stream",
     "text": [
      "Epoch 217: 100%|███████| 23/23 [00:00<00:00, 58.24batch/s, acc=80.7, loss=0.706]\n"
     ]
    },
    {
     "name": "stdout",
     "output_type": "stream",
     "text": [
      "Epoch 217 validation: Cross-entropy=0.70, Accuracy=81.1%\n"
     ]
    },
    {
     "name": "stderr",
     "output_type": "stream",
     "text": [
      "Epoch 218: 100%|███████| 23/23 [00:00<00:00, 63.50batch/s, acc=80.7, loss=0.706]\n"
     ]
    },
    {
     "name": "stdout",
     "output_type": "stream",
     "text": [
      "Epoch 218 validation: Cross-entropy=0.70, Accuracy=81.1%\n"
     ]
    },
    {
     "name": "stderr",
     "output_type": "stream",
     "text": [
      "Epoch 219: 100%|███████| 23/23 [00:00<00:00, 58.78batch/s, acc=80.7, loss=0.706]\n"
     ]
    },
    {
     "name": "stdout",
     "output_type": "stream",
     "text": [
      "Epoch 219 validation: Cross-entropy=0.70, Accuracy=81.1%\n"
     ]
    },
    {
     "name": "stderr",
     "output_type": "stream",
     "text": [
      "Epoch 220: 100%|███████| 23/23 [00:00<00:00, 65.87batch/s, acc=80.7, loss=0.706]\n"
     ]
    },
    {
     "name": "stdout",
     "output_type": "stream",
     "text": [
      "Epoch 220 validation: Cross-entropy=0.70, Accuracy=81.1%\n"
     ]
    },
    {
     "name": "stderr",
     "output_type": "stream",
     "text": [
      "Epoch 221: 100%|███████| 23/23 [00:00<00:00, 63.38batch/s, acc=80.7, loss=0.706]\n"
     ]
    },
    {
     "name": "stdout",
     "output_type": "stream",
     "text": [
      "Epoch 221 validation: Cross-entropy=0.70, Accuracy=81.1%\n"
     ]
    },
    {
     "name": "stderr",
     "output_type": "stream",
     "text": [
      "Epoch 222: 100%|███████| 23/23 [00:00<00:00, 64.52batch/s, acc=80.7, loss=0.706]\n"
     ]
    },
    {
     "name": "stdout",
     "output_type": "stream",
     "text": [
      "Epoch 222 validation: Cross-entropy=0.70, Accuracy=81.1%\n"
     ]
    },
    {
     "name": "stderr",
     "output_type": "stream",
     "text": [
      "Epoch 223: 100%|███████| 23/23 [00:00<00:00, 60.86batch/s, acc=80.7, loss=0.706]\n"
     ]
    },
    {
     "name": "stdout",
     "output_type": "stream",
     "text": [
      "Epoch 223 validation: Cross-entropy=0.70, Accuracy=81.1%\n"
     ]
    },
    {
     "name": "stderr",
     "output_type": "stream",
     "text": [
      "Epoch 224: 100%|███████| 23/23 [00:00<00:00, 60.22batch/s, acc=80.7, loss=0.706]\n"
     ]
    },
    {
     "name": "stdout",
     "output_type": "stream",
     "text": [
      "Epoch 224 validation: Cross-entropy=0.70, Accuracy=81.1%\n"
     ]
    },
    {
     "name": "stderr",
     "output_type": "stream",
     "text": [
      "Epoch 225: 100%|███████| 23/23 [00:00<00:00, 63.18batch/s, acc=80.7, loss=0.706]\n"
     ]
    },
    {
     "name": "stdout",
     "output_type": "stream",
     "text": [
      "Epoch 225 validation: Cross-entropy=0.70, Accuracy=81.1%\n"
     ]
    },
    {
     "name": "stderr",
     "output_type": "stream",
     "text": [
      "Epoch 226: 100%|███████| 23/23 [00:00<00:00, 59.57batch/s, acc=80.7, loss=0.706]\n"
     ]
    },
    {
     "name": "stdout",
     "output_type": "stream",
     "text": [
      "Epoch 226 validation: Cross-entropy=0.70, Accuracy=81.1%\n"
     ]
    },
    {
     "name": "stderr",
     "output_type": "stream",
     "text": [
      "Epoch 227: 100%|███████| 23/23 [00:00<00:00, 59.65batch/s, acc=80.7, loss=0.706]\n"
     ]
    },
    {
     "name": "stdout",
     "output_type": "stream",
     "text": [
      "Epoch 227 validation: Cross-entropy=0.70, Accuracy=81.1%\n"
     ]
    },
    {
     "name": "stderr",
     "output_type": "stream",
     "text": [
      "Epoch 228: 100%|███████| 23/23 [00:00<00:00, 58.66batch/s, acc=80.7, loss=0.706]\n"
     ]
    },
    {
     "name": "stdout",
     "output_type": "stream",
     "text": [
      "Epoch 228 validation: Cross-entropy=0.70, Accuracy=81.1%\n"
     ]
    },
    {
     "name": "stderr",
     "output_type": "stream",
     "text": [
      "Epoch 229: 100%|███████| 23/23 [00:00<00:00, 61.68batch/s, acc=80.7, loss=0.706]\n"
     ]
    },
    {
     "name": "stdout",
     "output_type": "stream",
     "text": [
      "Epoch 229 validation: Cross-entropy=0.70, Accuracy=81.1%\n"
     ]
    },
    {
     "name": "stderr",
     "output_type": "stream",
     "text": [
      "Epoch 230: 100%|███████| 23/23 [00:00<00:00, 61.94batch/s, acc=80.7, loss=0.706]\n"
     ]
    },
    {
     "name": "stdout",
     "output_type": "stream",
     "text": [
      "Epoch 230 validation: Cross-entropy=0.70, Accuracy=81.1%\n"
     ]
    },
    {
     "name": "stderr",
     "output_type": "stream",
     "text": [
      "Epoch 231: 100%|███████| 23/23 [00:00<00:00, 60.43batch/s, acc=80.7, loss=0.706]\n"
     ]
    },
    {
     "name": "stdout",
     "output_type": "stream",
     "text": [
      "Epoch 231 validation: Cross-entropy=0.70, Accuracy=81.1%\n"
     ]
    },
    {
     "name": "stderr",
     "output_type": "stream",
     "text": [
      "Epoch 232: 100%|███████| 23/23 [00:00<00:00, 62.35batch/s, acc=80.7, loss=0.706]\n"
     ]
    },
    {
     "name": "stdout",
     "output_type": "stream",
     "text": [
      "Epoch 232 validation: Cross-entropy=0.70, Accuracy=81.1%\n"
     ]
    },
    {
     "name": "stderr",
     "output_type": "stream",
     "text": [
      "Epoch 233: 100%|███████| 23/23 [00:00<00:00, 64.14batch/s, acc=80.7, loss=0.706]\n"
     ]
    },
    {
     "name": "stdout",
     "output_type": "stream",
     "text": [
      "Epoch 233 validation: Cross-entropy=0.70, Accuracy=81.1%\n"
     ]
    },
    {
     "name": "stderr",
     "output_type": "stream",
     "text": [
      "Epoch 234: 100%|███████| 23/23 [00:00<00:00, 65.76batch/s, acc=80.7, loss=0.706]\n"
     ]
    },
    {
     "name": "stdout",
     "output_type": "stream",
     "text": [
      "Epoch 234 validation: Cross-entropy=0.70, Accuracy=81.1%\n"
     ]
    },
    {
     "name": "stderr",
     "output_type": "stream",
     "text": [
      "Epoch 235: 100%|███████| 23/23 [00:00<00:00, 58.36batch/s, acc=80.7, loss=0.706]\n"
     ]
    },
    {
     "name": "stdout",
     "output_type": "stream",
     "text": [
      "Epoch 235 validation: Cross-entropy=0.70, Accuracy=81.1%\n"
     ]
    },
    {
     "name": "stderr",
     "output_type": "stream",
     "text": [
      "Epoch 236: 100%|███████| 23/23 [00:00<00:00, 62.93batch/s, acc=80.7, loss=0.706]\n"
     ]
    },
    {
     "name": "stdout",
     "output_type": "stream",
     "text": [
      "Epoch 236 validation: Cross-entropy=0.70, Accuracy=81.1%\n"
     ]
    },
    {
     "name": "stderr",
     "output_type": "stream",
     "text": [
      "Epoch 237: 100%|███████| 23/23 [00:00<00:00, 63.96batch/s, acc=80.7, loss=0.706]\n"
     ]
    },
    {
     "name": "stdout",
     "output_type": "stream",
     "text": [
      "Epoch 237 validation: Cross-entropy=0.70, Accuracy=81.1%\n"
     ]
    },
    {
     "name": "stderr",
     "output_type": "stream",
     "text": [
      "Epoch 238: 100%|███████| 23/23 [00:00<00:00, 59.97batch/s, acc=80.7, loss=0.706]\n"
     ]
    },
    {
     "name": "stdout",
     "output_type": "stream",
     "text": [
      "Epoch 238 validation: Cross-entropy=0.70, Accuracy=81.1%\n"
     ]
    },
    {
     "name": "stderr",
     "output_type": "stream",
     "text": [
      "Epoch 239: 100%|███████| 23/23 [00:00<00:00, 59.55batch/s, acc=80.7, loss=0.706]\n"
     ]
    },
    {
     "name": "stdout",
     "output_type": "stream",
     "text": [
      "Epoch 239 validation: Cross-entropy=0.70, Accuracy=81.1%\n"
     ]
    },
    {
     "name": "stderr",
     "output_type": "stream",
     "text": [
      "Epoch 240: 100%|███████| 23/23 [00:00<00:00, 64.40batch/s, acc=80.7, loss=0.706]\n"
     ]
    },
    {
     "name": "stdout",
     "output_type": "stream",
     "text": [
      "Epoch 240 validation: Cross-entropy=0.70, Accuracy=81.1%\n"
     ]
    },
    {
     "name": "stderr",
     "output_type": "stream",
     "text": [
      "Epoch 241: 100%|███████| 23/23 [00:00<00:00, 62.64batch/s, acc=80.7, loss=0.706]\n"
     ]
    },
    {
     "name": "stdout",
     "output_type": "stream",
     "text": [
      "Epoch 241 validation: Cross-entropy=0.70, Accuracy=81.1%\n"
     ]
    },
    {
     "name": "stderr",
     "output_type": "stream",
     "text": [
      "Epoch 242: 100%|███████| 23/23 [00:00<00:00, 60.30batch/s, acc=80.7, loss=0.706]\n"
     ]
    },
    {
     "name": "stdout",
     "output_type": "stream",
     "text": [
      "Epoch 242 validation: Cross-entropy=0.70, Accuracy=81.1%\n"
     ]
    },
    {
     "name": "stderr",
     "output_type": "stream",
     "text": [
      "Epoch 243: 100%|███████| 23/23 [00:00<00:00, 62.29batch/s, acc=80.7, loss=0.706]\n"
     ]
    },
    {
     "name": "stdout",
     "output_type": "stream",
     "text": [
      "Epoch 243 validation: Cross-entropy=0.70, Accuracy=81.1%\n"
     ]
    },
    {
     "name": "stderr",
     "output_type": "stream",
     "text": [
      "Epoch 244: 100%|███████| 23/23 [00:00<00:00, 66.95batch/s, acc=80.7, loss=0.706]\n"
     ]
    },
    {
     "name": "stdout",
     "output_type": "stream",
     "text": [
      "Epoch 244 validation: Cross-entropy=0.70, Accuracy=81.1%\n"
     ]
    },
    {
     "name": "stderr",
     "output_type": "stream",
     "text": [
      "Epoch 245: 100%|███████| 23/23 [00:00<00:00, 56.66batch/s, acc=80.7, loss=0.706]\n"
     ]
    },
    {
     "name": "stdout",
     "output_type": "stream",
     "text": [
      "Epoch 245 validation: Cross-entropy=0.70, Accuracy=81.1%\n"
     ]
    },
    {
     "name": "stderr",
     "output_type": "stream",
     "text": [
      "Epoch 246: 100%|███████| 23/23 [00:00<00:00, 62.29batch/s, acc=80.7, loss=0.706]\n"
     ]
    },
    {
     "name": "stdout",
     "output_type": "stream",
     "text": [
      "Epoch 246 validation: Cross-entropy=0.70, Accuracy=81.1%\n"
     ]
    },
    {
     "name": "stderr",
     "output_type": "stream",
     "text": [
      "Epoch 247: 100%|███████| 23/23 [00:00<00:00, 63.59batch/s, acc=80.7, loss=0.706]\n"
     ]
    },
    {
     "name": "stdout",
     "output_type": "stream",
     "text": [
      "Epoch 247 validation: Cross-entropy=0.70, Accuracy=81.1%\n"
     ]
    },
    {
     "name": "stderr",
     "output_type": "stream",
     "text": [
      "Epoch 248: 100%|███████| 23/23 [00:00<00:00, 60.49batch/s, acc=80.7, loss=0.706]\n"
     ]
    },
    {
     "name": "stdout",
     "output_type": "stream",
     "text": [
      "Epoch 248 validation: Cross-entropy=0.70, Accuracy=81.1%\n"
     ]
    },
    {
     "name": "stderr",
     "output_type": "stream",
     "text": [
      "Epoch 249: 100%|███████| 23/23 [00:00<00:00, 56.65batch/s, acc=80.7, loss=0.706]\n"
     ]
    },
    {
     "name": "stdout",
     "output_type": "stream",
     "text": [
      "Epoch 249 validation: Cross-entropy=0.70, Accuracy=81.1%\n"
     ]
    },
    {
     "name": "stderr",
     "output_type": "stream",
     "text": [
      "Epoch 250: 100%|███████| 23/23 [00:00<00:00, 56.24batch/s, acc=80.7, loss=0.706]\n"
     ]
    },
    {
     "name": "stdout",
     "output_type": "stream",
     "text": [
      "Epoch 250 validation: Cross-entropy=0.70, Accuracy=81.1%\n"
     ]
    },
    {
     "name": "stderr",
     "output_type": "stream",
     "text": [
      "Epoch 251: 100%|███████| 23/23 [00:00<00:00, 64.90batch/s, acc=80.7, loss=0.706]\n"
     ]
    },
    {
     "name": "stdout",
     "output_type": "stream",
     "text": [
      "Epoch 251 validation: Cross-entropy=0.70, Accuracy=81.1%\n"
     ]
    },
    {
     "name": "stderr",
     "output_type": "stream",
     "text": [
      "Epoch 252: 100%|███████| 23/23 [00:00<00:00, 60.23batch/s, acc=80.7, loss=0.706]\n"
     ]
    },
    {
     "name": "stdout",
     "output_type": "stream",
     "text": [
      "Epoch 252 validation: Cross-entropy=0.70, Accuracy=81.1%\n"
     ]
    },
    {
     "name": "stderr",
     "output_type": "stream",
     "text": [
      "Epoch 253: 100%|███████| 23/23 [00:00<00:00, 58.04batch/s, acc=80.7, loss=0.706]\n"
     ]
    },
    {
     "name": "stdout",
     "output_type": "stream",
     "text": [
      "Epoch 253 validation: Cross-entropy=0.70, Accuracy=81.1%\n"
     ]
    },
    {
     "name": "stderr",
     "output_type": "stream",
     "text": [
      "Epoch 254: 100%|███████| 23/23 [00:00<00:00, 61.32batch/s, acc=80.7, loss=0.706]\n"
     ]
    },
    {
     "name": "stdout",
     "output_type": "stream",
     "text": [
      "Epoch 254 validation: Cross-entropy=0.70, Accuracy=81.1%\n"
     ]
    },
    {
     "name": "stderr",
     "output_type": "stream",
     "text": [
      "Epoch 255: 100%|███████| 23/23 [00:00<00:00, 62.02batch/s, acc=80.7, loss=0.706]\n"
     ]
    },
    {
     "name": "stdout",
     "output_type": "stream",
     "text": [
      "Epoch 255 validation: Cross-entropy=0.70, Accuracy=81.1%\n"
     ]
    },
    {
     "name": "stderr",
     "output_type": "stream",
     "text": [
      "Epoch 256: 100%|███████| 23/23 [00:00<00:00, 60.40batch/s, acc=80.7, loss=0.706]\n"
     ]
    },
    {
     "name": "stdout",
     "output_type": "stream",
     "text": [
      "Epoch 256 validation: Cross-entropy=0.70, Accuracy=81.1%\n"
     ]
    },
    {
     "name": "stderr",
     "output_type": "stream",
     "text": [
      "Epoch 257: 100%|███████| 23/23 [00:00<00:00, 60.54batch/s, acc=80.7, loss=0.706]\n"
     ]
    },
    {
     "name": "stdout",
     "output_type": "stream",
     "text": [
      "Epoch 257 validation: Cross-entropy=0.70, Accuracy=81.1%\n"
     ]
    },
    {
     "name": "stderr",
     "output_type": "stream",
     "text": [
      "Epoch 258: 100%|███████| 23/23 [00:00<00:00, 63.21batch/s, acc=80.7, loss=0.706]\n"
     ]
    },
    {
     "name": "stdout",
     "output_type": "stream",
     "text": [
      "Epoch 258 validation: Cross-entropy=0.70, Accuracy=81.1%\n"
     ]
    },
    {
     "name": "stderr",
     "output_type": "stream",
     "text": [
      "Epoch 259: 100%|███████| 23/23 [00:00<00:00, 65.98batch/s, acc=80.7, loss=0.706]\n"
     ]
    },
    {
     "name": "stdout",
     "output_type": "stream",
     "text": [
      "Epoch 259 validation: Cross-entropy=0.70, Accuracy=81.1%\n"
     ]
    },
    {
     "name": "stderr",
     "output_type": "stream",
     "text": [
      "Epoch 260: 100%|███████| 23/23 [00:00<00:00, 63.76batch/s, acc=80.7, loss=0.706]\n"
     ]
    },
    {
     "name": "stdout",
     "output_type": "stream",
     "text": [
      "Epoch 260 validation: Cross-entropy=0.70, Accuracy=81.1%\n"
     ]
    },
    {
     "name": "stderr",
     "output_type": "stream",
     "text": [
      "Epoch 261: 100%|███████| 23/23 [00:00<00:00, 59.13batch/s, acc=80.7, loss=0.706]\n"
     ]
    },
    {
     "name": "stdout",
     "output_type": "stream",
     "text": [
      "Epoch 261 validation: Cross-entropy=0.70, Accuracy=81.1%\n"
     ]
    },
    {
     "name": "stderr",
     "output_type": "stream",
     "text": [
      "Epoch 262: 100%|███████| 23/23 [00:00<00:00, 57.02batch/s, acc=80.7, loss=0.706]\n"
     ]
    },
    {
     "name": "stdout",
     "output_type": "stream",
     "text": [
      "Epoch 262 validation: Cross-entropy=0.70, Accuracy=81.1%\n"
     ]
    },
    {
     "name": "stderr",
     "output_type": "stream",
     "text": [
      "Epoch 263: 100%|███████| 23/23 [00:00<00:00, 60.48batch/s, acc=80.7, loss=0.706]\n"
     ]
    },
    {
     "name": "stdout",
     "output_type": "stream",
     "text": [
      "Epoch 263 validation: Cross-entropy=0.70, Accuracy=81.1%\n"
     ]
    },
    {
     "name": "stderr",
     "output_type": "stream",
     "text": [
      "Epoch 264: 100%|███████| 23/23 [00:00<00:00, 58.17batch/s, acc=80.7, loss=0.706]\n"
     ]
    },
    {
     "name": "stdout",
     "output_type": "stream",
     "text": [
      "Epoch 264 validation: Cross-entropy=0.70, Accuracy=81.1%\n"
     ]
    },
    {
     "name": "stderr",
     "output_type": "stream",
     "text": [
      "Epoch 265: 100%|███████| 23/23 [00:00<00:00, 54.43batch/s, acc=80.7, loss=0.706]\n"
     ]
    },
    {
     "name": "stdout",
     "output_type": "stream",
     "text": [
      "Epoch 265 validation: Cross-entropy=0.70, Accuracy=81.1%\n"
     ]
    },
    {
     "name": "stderr",
     "output_type": "stream",
     "text": [
      "Epoch 266: 100%|███████| 23/23 [00:00<00:00, 57.59batch/s, acc=80.7, loss=0.706]\n"
     ]
    },
    {
     "name": "stdout",
     "output_type": "stream",
     "text": [
      "Epoch 266 validation: Cross-entropy=0.70, Accuracy=81.1%\n"
     ]
    },
    {
     "name": "stderr",
     "output_type": "stream",
     "text": [
      "Epoch 267: 100%|███████| 23/23 [00:00<00:00, 58.74batch/s, acc=80.7, loss=0.706]\n"
     ]
    },
    {
     "name": "stdout",
     "output_type": "stream",
     "text": [
      "Epoch 267 validation: Cross-entropy=0.70, Accuracy=81.1%\n"
     ]
    },
    {
     "name": "stderr",
     "output_type": "stream",
     "text": [
      "Epoch 268: 100%|███████| 23/23 [00:00<00:00, 58.01batch/s, acc=80.7, loss=0.706]\n"
     ]
    },
    {
     "name": "stdout",
     "output_type": "stream",
     "text": [
      "Epoch 268 validation: Cross-entropy=0.70, Accuracy=81.1%\n"
     ]
    },
    {
     "name": "stderr",
     "output_type": "stream",
     "text": [
      "Epoch 269: 100%|███████| 23/23 [00:00<00:00, 57.73batch/s, acc=80.7, loss=0.706]\n"
     ]
    },
    {
     "name": "stdout",
     "output_type": "stream",
     "text": [
      "Epoch 269 validation: Cross-entropy=0.70, Accuracy=81.1%\n"
     ]
    },
    {
     "name": "stderr",
     "output_type": "stream",
     "text": [
      "Epoch 270: 100%|███████| 23/23 [00:00<00:00, 59.55batch/s, acc=80.7, loss=0.706]\n"
     ]
    },
    {
     "name": "stdout",
     "output_type": "stream",
     "text": [
      "Epoch 270 validation: Cross-entropy=0.70, Accuracy=81.1%\n"
     ]
    },
    {
     "name": "stderr",
     "output_type": "stream",
     "text": [
      "Epoch 271: 100%|███████| 23/23 [00:00<00:00, 59.06batch/s, acc=80.7, loss=0.706]\n"
     ]
    },
    {
     "name": "stdout",
     "output_type": "stream",
     "text": [
      "Epoch 271 validation: Cross-entropy=0.70, Accuracy=81.1%\n"
     ]
    },
    {
     "name": "stderr",
     "output_type": "stream",
     "text": [
      "Epoch 272: 100%|███████| 23/23 [00:00<00:00, 65.53batch/s, acc=80.7, loss=0.706]\n"
     ]
    },
    {
     "name": "stdout",
     "output_type": "stream",
     "text": [
      "Epoch 272 validation: Cross-entropy=0.70, Accuracy=81.1%\n"
     ]
    },
    {
     "name": "stderr",
     "output_type": "stream",
     "text": [
      "Epoch 273: 100%|███████| 23/23 [00:00<00:00, 59.93batch/s, acc=80.7, loss=0.706]\n"
     ]
    },
    {
     "name": "stdout",
     "output_type": "stream",
     "text": [
      "Epoch 273 validation: Cross-entropy=0.70, Accuracy=81.1%\n"
     ]
    },
    {
     "name": "stderr",
     "output_type": "stream",
     "text": [
      "Epoch 274: 100%|███████| 23/23 [00:00<00:00, 63.29batch/s, acc=80.7, loss=0.706]\n"
     ]
    },
    {
     "name": "stdout",
     "output_type": "stream",
     "text": [
      "Epoch 274 validation: Cross-entropy=0.70, Accuracy=81.1%\n"
     ]
    },
    {
     "name": "stderr",
     "output_type": "stream",
     "text": [
      "Epoch 275: 100%|███████| 23/23 [00:00<00:00, 64.27batch/s, acc=80.7, loss=0.706]\n"
     ]
    },
    {
     "name": "stdout",
     "output_type": "stream",
     "text": [
      "Epoch 275 validation: Cross-entropy=0.70, Accuracy=81.1%\n"
     ]
    },
    {
     "name": "stderr",
     "output_type": "stream",
     "text": [
      "Epoch 276: 100%|███████| 23/23 [00:00<00:00, 69.15batch/s, acc=80.7, loss=0.706]\n"
     ]
    },
    {
     "name": "stdout",
     "output_type": "stream",
     "text": [
      "Epoch 276 validation: Cross-entropy=0.70, Accuracy=81.1%\n"
     ]
    },
    {
     "name": "stderr",
     "output_type": "stream",
     "text": [
      "Epoch 277: 100%|███████| 23/23 [00:00<00:00, 59.78batch/s, acc=80.7, loss=0.706]\n"
     ]
    },
    {
     "name": "stdout",
     "output_type": "stream",
     "text": [
      "Epoch 277 validation: Cross-entropy=0.70, Accuracy=81.1%\n"
     ]
    },
    {
     "name": "stderr",
     "output_type": "stream",
     "text": [
      "Epoch 278: 100%|███████| 23/23 [00:00<00:00, 61.74batch/s, acc=80.7, loss=0.706]\n"
     ]
    },
    {
     "name": "stdout",
     "output_type": "stream",
     "text": [
      "Epoch 278 validation: Cross-entropy=0.70, Accuracy=81.1%\n"
     ]
    },
    {
     "name": "stderr",
     "output_type": "stream",
     "text": [
      "Epoch 279: 100%|███████| 23/23 [00:00<00:00, 61.94batch/s, acc=80.7, loss=0.706]\n"
     ]
    },
    {
     "name": "stdout",
     "output_type": "stream",
     "text": [
      "Epoch 279 validation: Cross-entropy=0.70, Accuracy=81.1%\n"
     ]
    },
    {
     "name": "stderr",
     "output_type": "stream",
     "text": [
      "Epoch 280: 100%|███████| 23/23 [00:00<00:00, 56.79batch/s, acc=80.7, loss=0.706]\n"
     ]
    },
    {
     "name": "stdout",
     "output_type": "stream",
     "text": [
      "Epoch 280 validation: Cross-entropy=0.70, Accuracy=81.1%\n"
     ]
    },
    {
     "name": "stderr",
     "output_type": "stream",
     "text": [
      "Epoch 281: 100%|███████| 23/23 [00:00<00:00, 56.50batch/s, acc=80.7, loss=0.706]\n"
     ]
    },
    {
     "name": "stdout",
     "output_type": "stream",
     "text": [
      "Epoch 281 validation: Cross-entropy=0.70, Accuracy=81.1%\n"
     ]
    },
    {
     "name": "stderr",
     "output_type": "stream",
     "text": [
      "Epoch 282: 100%|███████| 23/23 [00:00<00:00, 61.83batch/s, acc=80.7, loss=0.706]\n"
     ]
    },
    {
     "name": "stdout",
     "output_type": "stream",
     "text": [
      "Epoch 282 validation: Cross-entropy=0.70, Accuracy=81.1%\n"
     ]
    },
    {
     "name": "stderr",
     "output_type": "stream",
     "text": [
      "Epoch 283: 100%|███████| 23/23 [00:00<00:00, 59.68batch/s, acc=80.7, loss=0.706]\n"
     ]
    },
    {
     "name": "stdout",
     "output_type": "stream",
     "text": [
      "Epoch 283 validation: Cross-entropy=0.70, Accuracy=81.1%\n"
     ]
    },
    {
     "name": "stderr",
     "output_type": "stream",
     "text": [
      "Epoch 284: 100%|███████| 23/23 [00:00<00:00, 56.79batch/s, acc=80.7, loss=0.706]\n"
     ]
    },
    {
     "name": "stdout",
     "output_type": "stream",
     "text": [
      "Epoch 284 validation: Cross-entropy=0.70, Accuracy=81.1%\n"
     ]
    },
    {
     "name": "stderr",
     "output_type": "stream",
     "text": [
      "Epoch 285: 100%|███████| 23/23 [00:00<00:00, 60.45batch/s, acc=80.7, loss=0.706]\n"
     ]
    },
    {
     "name": "stdout",
     "output_type": "stream",
     "text": [
      "Epoch 285 validation: Cross-entropy=0.70, Accuracy=81.1%\n"
     ]
    },
    {
     "name": "stderr",
     "output_type": "stream",
     "text": [
      "Epoch 286: 100%|███████| 23/23 [00:00<00:00, 59.80batch/s, acc=80.7, loss=0.706]\n"
     ]
    },
    {
     "name": "stdout",
     "output_type": "stream",
     "text": [
      "Epoch 286 validation: Cross-entropy=0.70, Accuracy=81.1%\n"
     ]
    },
    {
     "name": "stderr",
     "output_type": "stream",
     "text": [
      "Epoch 287: 100%|███████| 23/23 [00:00<00:00, 65.79batch/s, acc=80.7, loss=0.706]\n"
     ]
    },
    {
     "name": "stdout",
     "output_type": "stream",
     "text": [
      "Epoch 287 validation: Cross-entropy=0.70, Accuracy=81.1%\n"
     ]
    },
    {
     "name": "stderr",
     "output_type": "stream",
     "text": [
      "Epoch 288: 100%|███████| 23/23 [00:00<00:00, 56.09batch/s, acc=80.7, loss=0.706]\n"
     ]
    },
    {
     "name": "stdout",
     "output_type": "stream",
     "text": [
      "Epoch 288 validation: Cross-entropy=0.70, Accuracy=81.1%\n"
     ]
    },
    {
     "name": "stderr",
     "output_type": "stream",
     "text": [
      "Epoch 289: 100%|███████| 23/23 [00:00<00:00, 56.31batch/s, acc=80.7, loss=0.706]\n"
     ]
    },
    {
     "name": "stdout",
     "output_type": "stream",
     "text": [
      "Epoch 289 validation: Cross-entropy=0.70, Accuracy=81.1%\n"
     ]
    },
    {
     "name": "stderr",
     "output_type": "stream",
     "text": [
      "Epoch 290: 100%|███████| 23/23 [00:00<00:00, 63.35batch/s, acc=80.7, loss=0.706]\n"
     ]
    },
    {
     "name": "stdout",
     "output_type": "stream",
     "text": [
      "Epoch 290 validation: Cross-entropy=0.70, Accuracy=81.1%\n"
     ]
    },
    {
     "name": "stderr",
     "output_type": "stream",
     "text": [
      "Epoch 291: 100%|███████| 23/23 [00:00<00:00, 62.36batch/s, acc=80.7, loss=0.706]\n"
     ]
    },
    {
     "name": "stdout",
     "output_type": "stream",
     "text": [
      "Epoch 291 validation: Cross-entropy=0.70, Accuracy=81.1%\n"
     ]
    },
    {
     "name": "stderr",
     "output_type": "stream",
     "text": [
      "Epoch 292: 100%|███████| 23/23 [00:00<00:00, 60.00batch/s, acc=80.7, loss=0.706]\n"
     ]
    },
    {
     "name": "stdout",
     "output_type": "stream",
     "text": [
      "Epoch 292 validation: Cross-entropy=0.70, Accuracy=81.1%\n"
     ]
    },
    {
     "name": "stderr",
     "output_type": "stream",
     "text": [
      "Epoch 293: 100%|███████| 23/23 [00:00<00:00, 59.22batch/s, acc=80.7, loss=0.706]\n"
     ]
    },
    {
     "name": "stdout",
     "output_type": "stream",
     "text": [
      "Epoch 293 validation: Cross-entropy=0.70, Accuracy=81.1%\n"
     ]
    },
    {
     "name": "stderr",
     "output_type": "stream",
     "text": [
      "Epoch 294: 100%|███████| 23/23 [00:00<00:00, 58.94batch/s, acc=80.7, loss=0.706]\n"
     ]
    },
    {
     "name": "stdout",
     "output_type": "stream",
     "text": [
      "Epoch 294 validation: Cross-entropy=0.70, Accuracy=81.1%\n"
     ]
    },
    {
     "name": "stderr",
     "output_type": "stream",
     "text": [
      "Epoch 295: 100%|███████| 23/23 [00:00<00:00, 58.67batch/s, acc=80.7, loss=0.706]\n"
     ]
    },
    {
     "name": "stdout",
     "output_type": "stream",
     "text": [
      "Epoch 295 validation: Cross-entropy=0.70, Accuracy=81.1%\n"
     ]
    },
    {
     "name": "stderr",
     "output_type": "stream",
     "text": [
      "Epoch 296: 100%|███████| 23/23 [00:00<00:00, 61.61batch/s, acc=80.7, loss=0.706]\n"
     ]
    },
    {
     "name": "stdout",
     "output_type": "stream",
     "text": [
      "Epoch 296 validation: Cross-entropy=0.70, Accuracy=81.1%\n"
     ]
    },
    {
     "name": "stderr",
     "output_type": "stream",
     "text": [
      "Epoch 297: 100%|███████| 23/23 [00:00<00:00, 56.81batch/s, acc=80.7, loss=0.706]\n"
     ]
    },
    {
     "name": "stdout",
     "output_type": "stream",
     "text": [
      "Epoch 297 validation: Cross-entropy=0.70, Accuracy=81.1%\n"
     ]
    },
    {
     "name": "stderr",
     "output_type": "stream",
     "text": [
      "Epoch 298: 100%|███████| 23/23 [00:00<00:00, 60.54batch/s, acc=80.7, loss=0.706]\n"
     ]
    },
    {
     "name": "stdout",
     "output_type": "stream",
     "text": [
      "Epoch 298 validation: Cross-entropy=0.70, Accuracy=81.1%\n"
     ]
    },
    {
     "name": "stderr",
     "output_type": "stream",
     "text": [
      "Epoch 299: 100%|███████| 23/23 [00:00<00:00, 59.67batch/s, acc=80.7, loss=0.706]\n"
     ]
    },
    {
     "name": "stdout",
     "output_type": "stream",
     "text": [
      "Epoch 299 validation: Cross-entropy=0.70, Accuracy=81.1%\n"
     ]
    },
    {
     "name": "stderr",
     "output_type": "stream",
     "text": [
      "Epoch 300: 100%|███████| 23/23 [00:00<00:00, 61.41batch/s, acc=80.7, loss=0.706]\n"
     ]
    },
    {
     "name": "stdout",
     "output_type": "stream",
     "text": [
      "Epoch 300 validation: Cross-entropy=0.70, Accuracy=81.1%\n"
     ]
    },
    {
     "name": "stderr",
     "output_type": "stream",
     "text": [
      "Epoch 301: 100%|███████| 23/23 [00:00<00:00, 62.16batch/s, acc=80.7, loss=0.706]\n"
     ]
    },
    {
     "name": "stdout",
     "output_type": "stream",
     "text": [
      "Epoch 301 validation: Cross-entropy=0.70, Accuracy=81.1%\n"
     ]
    },
    {
     "name": "stderr",
     "output_type": "stream",
     "text": [
      "Epoch 302: 100%|███████| 23/23 [00:00<00:00, 60.35batch/s, acc=80.7, loss=0.706]\n"
     ]
    },
    {
     "name": "stdout",
     "output_type": "stream",
     "text": [
      "Epoch 302 validation: Cross-entropy=0.70, Accuracy=81.1%\n"
     ]
    },
    {
     "name": "stderr",
     "output_type": "stream",
     "text": [
      "Epoch 303: 100%|███████| 23/23 [00:00<00:00, 64.03batch/s, acc=80.7, loss=0.706]\n"
     ]
    },
    {
     "name": "stdout",
     "output_type": "stream",
     "text": [
      "Epoch 303 validation: Cross-entropy=0.70, Accuracy=81.1%\n"
     ]
    },
    {
     "name": "stderr",
     "output_type": "stream",
     "text": [
      "Epoch 304: 100%|███████| 23/23 [00:00<00:00, 60.52batch/s, acc=80.7, loss=0.706]\n"
     ]
    },
    {
     "name": "stdout",
     "output_type": "stream",
     "text": [
      "Epoch 304 validation: Cross-entropy=0.70, Accuracy=81.1%\n"
     ]
    },
    {
     "name": "stderr",
     "output_type": "stream",
     "text": [
      "Epoch 305: 100%|███████| 23/23 [00:00<00:00, 59.97batch/s, acc=80.7, loss=0.706]\n"
     ]
    },
    {
     "name": "stdout",
     "output_type": "stream",
     "text": [
      "Epoch 305 validation: Cross-entropy=0.70, Accuracy=81.1%\n"
     ]
    },
    {
     "name": "stderr",
     "output_type": "stream",
     "text": [
      "Epoch 306: 100%|███████| 23/23 [00:00<00:00, 60.91batch/s, acc=80.7, loss=0.706]\n"
     ]
    },
    {
     "name": "stdout",
     "output_type": "stream",
     "text": [
      "Epoch 306 validation: Cross-entropy=0.70, Accuracy=81.1%\n"
     ]
    },
    {
     "name": "stderr",
     "output_type": "stream",
     "text": [
      "Epoch 307: 100%|███████| 23/23 [00:00<00:00, 62.73batch/s, acc=80.7, loss=0.706]\n"
     ]
    },
    {
     "name": "stdout",
     "output_type": "stream",
     "text": [
      "Epoch 307 validation: Cross-entropy=0.70, Accuracy=81.1%\n"
     ]
    },
    {
     "name": "stderr",
     "output_type": "stream",
     "text": [
      "Epoch 308: 100%|███████| 23/23 [00:00<00:00, 62.79batch/s, acc=80.7, loss=0.706]\n"
     ]
    },
    {
     "name": "stdout",
     "output_type": "stream",
     "text": [
      "Epoch 308 validation: Cross-entropy=0.70, Accuracy=81.1%\n"
     ]
    },
    {
     "name": "stderr",
     "output_type": "stream",
     "text": [
      "Epoch 309: 100%|███████| 23/23 [00:00<00:00, 67.75batch/s, acc=80.7, loss=0.706]\n"
     ]
    },
    {
     "name": "stdout",
     "output_type": "stream",
     "text": [
      "Epoch 309 validation: Cross-entropy=0.70, Accuracy=81.1%\n"
     ]
    },
    {
     "name": "stderr",
     "output_type": "stream",
     "text": [
      "Epoch 310: 100%|███████| 23/23 [00:00<00:00, 60.26batch/s, acc=80.7, loss=0.706]\n"
     ]
    },
    {
     "name": "stdout",
     "output_type": "stream",
     "text": [
      "Epoch 310 validation: Cross-entropy=0.70, Accuracy=81.1%\n"
     ]
    },
    {
     "name": "stderr",
     "output_type": "stream",
     "text": [
      "Epoch 311: 100%|███████| 23/23 [00:00<00:00, 60.88batch/s, acc=80.7, loss=0.706]\n"
     ]
    },
    {
     "name": "stdout",
     "output_type": "stream",
     "text": [
      "Epoch 311 validation: Cross-entropy=0.70, Accuracy=81.1%\n"
     ]
    },
    {
     "name": "stderr",
     "output_type": "stream",
     "text": [
      "Epoch 312: 100%|███████| 23/23 [00:00<00:00, 61.13batch/s, acc=80.7, loss=0.706]\n"
     ]
    },
    {
     "name": "stdout",
     "output_type": "stream",
     "text": [
      "Epoch 312 validation: Cross-entropy=0.70, Accuracy=81.1%\n"
     ]
    },
    {
     "name": "stderr",
     "output_type": "stream",
     "text": [
      "Epoch 313: 100%|███████| 23/23 [00:00<00:00, 62.74batch/s, acc=80.7, loss=0.706]\n"
     ]
    },
    {
     "name": "stdout",
     "output_type": "stream",
     "text": [
      "Epoch 313 validation: Cross-entropy=0.70, Accuracy=81.1%\n"
     ]
    },
    {
     "name": "stderr",
     "output_type": "stream",
     "text": [
      "Epoch 314: 100%|███████| 23/23 [00:00<00:00, 57.60batch/s, acc=80.7, loss=0.706]\n"
     ]
    },
    {
     "name": "stdout",
     "output_type": "stream",
     "text": [
      "Epoch 314 validation: Cross-entropy=0.70, Accuracy=81.1%\n"
     ]
    },
    {
     "name": "stderr",
     "output_type": "stream",
     "text": [
      "Epoch 315: 100%|███████| 23/23 [00:00<00:00, 60.65batch/s, acc=80.7, loss=0.706]\n"
     ]
    },
    {
     "name": "stdout",
     "output_type": "stream",
     "text": [
      "Epoch 315 validation: Cross-entropy=0.70, Accuracy=81.1%\n"
     ]
    },
    {
     "name": "stderr",
     "output_type": "stream",
     "text": [
      "Epoch 316: 100%|███████| 23/23 [00:00<00:00, 59.32batch/s, acc=80.7, loss=0.706]\n"
     ]
    },
    {
     "name": "stdout",
     "output_type": "stream",
     "text": [
      "Epoch 316 validation: Cross-entropy=0.70, Accuracy=81.1%\n"
     ]
    },
    {
     "name": "stderr",
     "output_type": "stream",
     "text": [
      "Epoch 317: 100%|███████| 23/23 [00:00<00:00, 61.22batch/s, acc=80.7, loss=0.706]\n"
     ]
    },
    {
     "name": "stdout",
     "output_type": "stream",
     "text": [
      "Epoch 317 validation: Cross-entropy=0.70, Accuracy=81.1%\n"
     ]
    },
    {
     "name": "stderr",
     "output_type": "stream",
     "text": [
      "Epoch 318: 100%|███████| 23/23 [00:00<00:00, 65.20batch/s, acc=80.7, loss=0.706]\n"
     ]
    },
    {
     "name": "stdout",
     "output_type": "stream",
     "text": [
      "Epoch 318 validation: Cross-entropy=0.70, Accuracy=81.1%\n"
     ]
    },
    {
     "name": "stderr",
     "output_type": "stream",
     "text": [
      "Epoch 319: 100%|███████| 23/23 [00:00<00:00, 61.22batch/s, acc=80.7, loss=0.706]\n"
     ]
    },
    {
     "name": "stdout",
     "output_type": "stream",
     "text": [
      "Epoch 319 validation: Cross-entropy=0.70, Accuracy=81.1%\n"
     ]
    },
    {
     "name": "stderr",
     "output_type": "stream",
     "text": [
      "Epoch 320: 100%|███████| 23/23 [00:00<00:00, 61.57batch/s, acc=80.7, loss=0.706]\n"
     ]
    },
    {
     "name": "stdout",
     "output_type": "stream",
     "text": [
      "Epoch 320 validation: Cross-entropy=0.70, Accuracy=81.1%\n"
     ]
    },
    {
     "name": "stderr",
     "output_type": "stream",
     "text": [
      "Epoch 321: 100%|███████| 23/23 [00:00<00:00, 62.33batch/s, acc=80.7, loss=0.706]\n"
     ]
    },
    {
     "name": "stdout",
     "output_type": "stream",
     "text": [
      "Epoch 321 validation: Cross-entropy=0.70, Accuracy=81.1%\n"
     ]
    },
    {
     "name": "stderr",
     "output_type": "stream",
     "text": [
      "Epoch 322: 100%|███████| 23/23 [00:00<00:00, 66.31batch/s, acc=80.7, loss=0.706]\n"
     ]
    },
    {
     "name": "stdout",
     "output_type": "stream",
     "text": [
      "Epoch 322 validation: Cross-entropy=0.70, Accuracy=81.1%\n"
     ]
    },
    {
     "name": "stderr",
     "output_type": "stream",
     "text": [
      "Epoch 323: 100%|███████| 23/23 [00:00<00:00, 63.11batch/s, acc=80.7, loss=0.706]\n"
     ]
    },
    {
     "name": "stdout",
     "output_type": "stream",
     "text": [
      "Epoch 323 validation: Cross-entropy=0.70, Accuracy=81.1%\n"
     ]
    },
    {
     "name": "stderr",
     "output_type": "stream",
     "text": [
      "Epoch 324: 100%|███████| 23/23 [00:00<00:00, 61.67batch/s, acc=80.7, loss=0.706]\n"
     ]
    },
    {
     "name": "stdout",
     "output_type": "stream",
     "text": [
      "Epoch 324 validation: Cross-entropy=0.70, Accuracy=81.1%\n"
     ]
    },
    {
     "name": "stderr",
     "output_type": "stream",
     "text": [
      "Epoch 325: 100%|███████| 23/23 [00:00<00:00, 63.72batch/s, acc=80.7, loss=0.706]\n"
     ]
    },
    {
     "name": "stdout",
     "output_type": "stream",
     "text": [
      "Epoch 325 validation: Cross-entropy=0.70, Accuracy=81.1%\n"
     ]
    },
    {
     "name": "stderr",
     "output_type": "stream",
     "text": [
      "Epoch 326: 100%|███████| 23/23 [00:00<00:00, 62.35batch/s, acc=80.7, loss=0.706]\n"
     ]
    },
    {
     "name": "stdout",
     "output_type": "stream",
     "text": [
      "Epoch 326 validation: Cross-entropy=0.70, Accuracy=81.1%\n"
     ]
    },
    {
     "name": "stderr",
     "output_type": "stream",
     "text": [
      "Epoch 327: 100%|███████| 23/23 [00:00<00:00, 61.97batch/s, acc=80.7, loss=0.706]\n"
     ]
    },
    {
     "name": "stdout",
     "output_type": "stream",
     "text": [
      "Epoch 327 validation: Cross-entropy=0.70, Accuracy=81.1%\n"
     ]
    },
    {
     "name": "stderr",
     "output_type": "stream",
     "text": [
      "Epoch 328: 100%|███████| 23/23 [00:00<00:00, 59.40batch/s, acc=80.7, loss=0.706]\n"
     ]
    },
    {
     "name": "stdout",
     "output_type": "stream",
     "text": [
      "Epoch 328 validation: Cross-entropy=0.70, Accuracy=81.1%\n"
     ]
    },
    {
     "name": "stderr",
     "output_type": "stream",
     "text": [
      "Epoch 329: 100%|███████| 23/23 [00:00<00:00, 61.80batch/s, acc=80.7, loss=0.706]\n"
     ]
    },
    {
     "name": "stdout",
     "output_type": "stream",
     "text": [
      "Epoch 329 validation: Cross-entropy=0.70, Accuracy=81.1%\n"
     ]
    },
    {
     "name": "stderr",
     "output_type": "stream",
     "text": [
      "Epoch 330: 100%|███████| 23/23 [00:00<00:00, 69.51batch/s, acc=80.7, loss=0.706]\n"
     ]
    },
    {
     "name": "stdout",
     "output_type": "stream",
     "text": [
      "Epoch 330 validation: Cross-entropy=0.70, Accuracy=81.1%\n"
     ]
    },
    {
     "name": "stderr",
     "output_type": "stream",
     "text": [
      "Epoch 331: 100%|███████| 23/23 [00:00<00:00, 60.31batch/s, acc=80.7, loss=0.706]\n"
     ]
    },
    {
     "name": "stdout",
     "output_type": "stream",
     "text": [
      "Epoch 331 validation: Cross-entropy=0.70, Accuracy=81.1%\n"
     ]
    },
    {
     "name": "stderr",
     "output_type": "stream",
     "text": [
      "Epoch 332: 100%|███████| 23/23 [00:00<00:00, 60.72batch/s, acc=80.7, loss=0.706]\n"
     ]
    },
    {
     "name": "stdout",
     "output_type": "stream",
     "text": [
      "Epoch 332 validation: Cross-entropy=0.70, Accuracy=81.1%\n"
     ]
    },
    {
     "name": "stderr",
     "output_type": "stream",
     "text": [
      "Epoch 333: 100%|███████| 23/23 [00:00<00:00, 60.17batch/s, acc=80.7, loss=0.706]\n"
     ]
    },
    {
     "name": "stdout",
     "output_type": "stream",
     "text": [
      "Epoch 333 validation: Cross-entropy=0.70, Accuracy=81.1%\n"
     ]
    },
    {
     "name": "stderr",
     "output_type": "stream",
     "text": [
      "Epoch 334: 100%|███████| 23/23 [00:00<00:00, 62.27batch/s, acc=80.7, loss=0.706]\n"
     ]
    },
    {
     "name": "stdout",
     "output_type": "stream",
     "text": [
      "Epoch 334 validation: Cross-entropy=0.70, Accuracy=81.1%\n"
     ]
    },
    {
     "name": "stderr",
     "output_type": "stream",
     "text": [
      "Epoch 335: 100%|███████| 23/23 [00:00<00:00, 57.74batch/s, acc=80.7, loss=0.706]\n"
     ]
    },
    {
     "name": "stdout",
     "output_type": "stream",
     "text": [
      "Epoch 335 validation: Cross-entropy=0.70, Accuracy=81.1%\n"
     ]
    },
    {
     "name": "stderr",
     "output_type": "stream",
     "text": [
      "Epoch 336: 100%|███████| 23/23 [00:00<00:00, 57.42batch/s, acc=80.7, loss=0.706]\n"
     ]
    },
    {
     "name": "stdout",
     "output_type": "stream",
     "text": [
      "Epoch 336 validation: Cross-entropy=0.70, Accuracy=81.1%\n"
     ]
    },
    {
     "name": "stderr",
     "output_type": "stream",
     "text": [
      "Epoch 337: 100%|███████| 23/23 [00:00<00:00, 60.32batch/s, acc=80.7, loss=0.706]\n"
     ]
    },
    {
     "name": "stdout",
     "output_type": "stream",
     "text": [
      "Epoch 337 validation: Cross-entropy=0.70, Accuracy=81.1%\n"
     ]
    },
    {
     "name": "stderr",
     "output_type": "stream",
     "text": [
      "Epoch 338: 100%|███████| 23/23 [00:00<00:00, 62.77batch/s, acc=80.7, loss=0.706]\n"
     ]
    },
    {
     "name": "stdout",
     "output_type": "stream",
     "text": [
      "Epoch 338 validation: Cross-entropy=0.70, Accuracy=81.1%\n"
     ]
    },
    {
     "name": "stderr",
     "output_type": "stream",
     "text": [
      "Epoch 339: 100%|███████| 23/23 [00:00<00:00, 61.04batch/s, acc=80.7, loss=0.706]\n"
     ]
    },
    {
     "name": "stdout",
     "output_type": "stream",
     "text": [
      "Epoch 339 validation: Cross-entropy=0.70, Accuracy=81.1%\n"
     ]
    },
    {
     "name": "stderr",
     "output_type": "stream",
     "text": [
      "Epoch 340: 100%|███████| 23/23 [00:00<00:00, 61.49batch/s, acc=80.7, loss=0.706]\n"
     ]
    },
    {
     "name": "stdout",
     "output_type": "stream",
     "text": [
      "Epoch 340 validation: Cross-entropy=0.70, Accuracy=81.1%\n"
     ]
    },
    {
     "name": "stderr",
     "output_type": "stream",
     "text": [
      "Epoch 341: 100%|███████| 23/23 [00:00<00:00, 67.90batch/s, acc=80.7, loss=0.706]\n"
     ]
    },
    {
     "name": "stdout",
     "output_type": "stream",
     "text": [
      "Epoch 341 validation: Cross-entropy=0.70, Accuracy=81.1%\n"
     ]
    },
    {
     "name": "stderr",
     "output_type": "stream",
     "text": [
      "Epoch 342: 100%|███████| 23/23 [00:00<00:00, 61.52batch/s, acc=80.7, loss=0.706]\n"
     ]
    },
    {
     "name": "stdout",
     "output_type": "stream",
     "text": [
      "Epoch 342 validation: Cross-entropy=0.70, Accuracy=81.1%\n"
     ]
    },
    {
     "name": "stderr",
     "output_type": "stream",
     "text": [
      "Epoch 343: 100%|███████| 23/23 [00:00<00:00, 63.78batch/s, acc=80.7, loss=0.706]\n"
     ]
    },
    {
     "name": "stdout",
     "output_type": "stream",
     "text": [
      "Epoch 343 validation: Cross-entropy=0.70, Accuracy=81.1%\n"
     ]
    },
    {
     "name": "stderr",
     "output_type": "stream",
     "text": [
      "Epoch 344: 100%|███████| 23/23 [00:00<00:00, 63.09batch/s, acc=80.7, loss=0.706]\n"
     ]
    },
    {
     "name": "stdout",
     "output_type": "stream",
     "text": [
      "Epoch 344 validation: Cross-entropy=0.70, Accuracy=81.1%\n"
     ]
    },
    {
     "name": "stderr",
     "output_type": "stream",
     "text": [
      "Epoch 345: 100%|███████| 23/23 [00:00<00:00, 55.33batch/s, acc=80.7, loss=0.706]\n"
     ]
    },
    {
     "name": "stdout",
     "output_type": "stream",
     "text": [
      "Epoch 345 validation: Cross-entropy=0.70, Accuracy=81.1%\n"
     ]
    },
    {
     "name": "stderr",
     "output_type": "stream",
     "text": [
      "Epoch 346: 100%|███████| 23/23 [00:00<00:00, 64.43batch/s, acc=80.7, loss=0.706]\n"
     ]
    },
    {
     "name": "stdout",
     "output_type": "stream",
     "text": [
      "Epoch 346 validation: Cross-entropy=0.70, Accuracy=81.1%\n"
     ]
    },
    {
     "name": "stderr",
     "output_type": "stream",
     "text": [
      "Epoch 347: 100%|███████| 23/23 [00:00<00:00, 61.37batch/s, acc=80.7, loss=0.706]\n"
     ]
    },
    {
     "name": "stdout",
     "output_type": "stream",
     "text": [
      "Epoch 347 validation: Cross-entropy=0.70, Accuracy=81.1%\n"
     ]
    },
    {
     "name": "stderr",
     "output_type": "stream",
     "text": [
      "Epoch 348: 100%|███████| 23/23 [00:00<00:00, 66.34batch/s, acc=80.7, loss=0.706]\n"
     ]
    },
    {
     "name": "stdout",
     "output_type": "stream",
     "text": [
      "Epoch 348 validation: Cross-entropy=0.70, Accuracy=81.1%\n"
     ]
    },
    {
     "name": "stderr",
     "output_type": "stream",
     "text": [
      "Epoch 349: 100%|███████| 23/23 [00:00<00:00, 64.14batch/s, acc=80.7, loss=0.706]\n"
     ]
    },
    {
     "name": "stdout",
     "output_type": "stream",
     "text": [
      "Epoch 349 validation: Cross-entropy=0.70, Accuracy=81.1%\n"
     ]
    },
    {
     "name": "stderr",
     "output_type": "stream",
     "text": [
      "Epoch 350: 100%|███████| 23/23 [00:00<00:00, 59.69batch/s, acc=80.7, loss=0.706]\n"
     ]
    },
    {
     "name": "stdout",
     "output_type": "stream",
     "text": [
      "Epoch 350 validation: Cross-entropy=0.70, Accuracy=81.1%\n"
     ]
    },
    {
     "name": "stderr",
     "output_type": "stream",
     "text": [
      "Epoch 351: 100%|███████| 23/23 [00:00<00:00, 61.33batch/s, acc=80.7, loss=0.706]\n"
     ]
    },
    {
     "name": "stdout",
     "output_type": "stream",
     "text": [
      "Epoch 351 validation: Cross-entropy=0.70, Accuracy=81.1%\n"
     ]
    },
    {
     "name": "stderr",
     "output_type": "stream",
     "text": [
      "Epoch 352: 100%|███████| 23/23 [00:00<00:00, 64.97batch/s, acc=80.7, loss=0.706]\n"
     ]
    },
    {
     "name": "stdout",
     "output_type": "stream",
     "text": [
      "Epoch 352 validation: Cross-entropy=0.70, Accuracy=81.1%\n"
     ]
    },
    {
     "name": "stderr",
     "output_type": "stream",
     "text": [
      "Epoch 353: 100%|███████| 23/23 [00:00<00:00, 60.09batch/s, acc=80.7, loss=0.706]\n"
     ]
    },
    {
     "name": "stdout",
     "output_type": "stream",
     "text": [
      "Epoch 353 validation: Cross-entropy=0.70, Accuracy=81.1%\n"
     ]
    },
    {
     "name": "stderr",
     "output_type": "stream",
     "text": [
      "Epoch 354: 100%|███████| 23/23 [00:00<00:00, 59.09batch/s, acc=80.7, loss=0.706]\n"
     ]
    },
    {
     "name": "stdout",
     "output_type": "stream",
     "text": [
      "Epoch 354 validation: Cross-entropy=0.70, Accuracy=81.1%\n"
     ]
    },
    {
     "name": "stderr",
     "output_type": "stream",
     "text": [
      "Epoch 355: 100%|███████| 23/23 [00:00<00:00, 60.13batch/s, acc=80.7, loss=0.706]\n"
     ]
    },
    {
     "name": "stdout",
     "output_type": "stream",
     "text": [
      "Epoch 355 validation: Cross-entropy=0.70, Accuracy=81.1%\n"
     ]
    },
    {
     "name": "stderr",
     "output_type": "stream",
     "text": [
      "Epoch 356: 100%|███████| 23/23 [00:00<00:00, 60.28batch/s, acc=80.7, loss=0.706]\n"
     ]
    },
    {
     "name": "stdout",
     "output_type": "stream",
     "text": [
      "Epoch 356 validation: Cross-entropy=0.70, Accuracy=81.1%\n"
     ]
    },
    {
     "name": "stderr",
     "output_type": "stream",
     "text": [
      "Epoch 357: 100%|███████| 23/23 [00:00<00:00, 62.62batch/s, acc=80.7, loss=0.706]\n"
     ]
    },
    {
     "name": "stdout",
     "output_type": "stream",
     "text": [
      "Epoch 357 validation: Cross-entropy=0.70, Accuracy=81.1%\n"
     ]
    },
    {
     "name": "stderr",
     "output_type": "stream",
     "text": [
      "Epoch 358: 100%|███████| 23/23 [00:00<00:00, 60.80batch/s, acc=80.7, loss=0.706]\n"
     ]
    },
    {
     "name": "stdout",
     "output_type": "stream",
     "text": [
      "Epoch 358 validation: Cross-entropy=0.70, Accuracy=81.1%\n"
     ]
    },
    {
     "name": "stderr",
     "output_type": "stream",
     "text": [
      "Epoch 359: 100%|███████| 23/23 [00:00<00:00, 60.16batch/s, acc=80.7, loss=0.706]\n"
     ]
    },
    {
     "name": "stdout",
     "output_type": "stream",
     "text": [
      "Epoch 359 validation: Cross-entropy=0.70, Accuracy=81.1%\n"
     ]
    },
    {
     "name": "stderr",
     "output_type": "stream",
     "text": [
      "Epoch 360: 100%|███████| 23/23 [00:00<00:00, 61.18batch/s, acc=80.7, loss=0.706]\n"
     ]
    },
    {
     "name": "stdout",
     "output_type": "stream",
     "text": [
      "Epoch 360 validation: Cross-entropy=0.70, Accuracy=81.1%\n"
     ]
    },
    {
     "name": "stderr",
     "output_type": "stream",
     "text": [
      "Epoch 361: 100%|███████| 23/23 [00:00<00:00, 62.16batch/s, acc=80.7, loss=0.706]\n"
     ]
    },
    {
     "name": "stdout",
     "output_type": "stream",
     "text": [
      "Epoch 361 validation: Cross-entropy=0.70, Accuracy=81.1%\n"
     ]
    },
    {
     "name": "stderr",
     "output_type": "stream",
     "text": [
      "Epoch 362: 100%|███████| 23/23 [00:00<00:00, 60.57batch/s, acc=80.7, loss=0.706]\n"
     ]
    },
    {
     "name": "stdout",
     "output_type": "stream",
     "text": [
      "Epoch 362 validation: Cross-entropy=0.70, Accuracy=81.1%\n"
     ]
    },
    {
     "name": "stderr",
     "output_type": "stream",
     "text": [
      "Epoch 363: 100%|███████| 23/23 [00:00<00:00, 64.36batch/s, acc=80.7, loss=0.706]\n"
     ]
    },
    {
     "name": "stdout",
     "output_type": "stream",
     "text": [
      "Epoch 363 validation: Cross-entropy=0.70, Accuracy=81.1%\n"
     ]
    },
    {
     "name": "stderr",
     "output_type": "stream",
     "text": [
      "Epoch 364: 100%|███████| 23/23 [00:00<00:00, 58.42batch/s, acc=80.7, loss=0.706]\n"
     ]
    },
    {
     "name": "stdout",
     "output_type": "stream",
     "text": [
      "Epoch 364 validation: Cross-entropy=0.70, Accuracy=81.1%\n"
     ]
    },
    {
     "name": "stderr",
     "output_type": "stream",
     "text": [
      "Epoch 365: 100%|███████| 23/23 [00:00<00:00, 59.60batch/s, acc=80.7, loss=0.706]\n"
     ]
    },
    {
     "name": "stdout",
     "output_type": "stream",
     "text": [
      "Epoch 365 validation: Cross-entropy=0.70, Accuracy=81.1%\n"
     ]
    },
    {
     "name": "stderr",
     "output_type": "stream",
     "text": [
      "Epoch 366: 100%|███████| 23/23 [00:00<00:00, 61.99batch/s, acc=80.7, loss=0.706]\n"
     ]
    },
    {
     "name": "stdout",
     "output_type": "stream",
     "text": [
      "Epoch 366 validation: Cross-entropy=0.70, Accuracy=81.1%\n"
     ]
    },
    {
     "name": "stderr",
     "output_type": "stream",
     "text": [
      "Epoch 367: 100%|███████| 23/23 [00:00<00:00, 60.46batch/s, acc=80.7, loss=0.706]\n"
     ]
    },
    {
     "name": "stdout",
     "output_type": "stream",
     "text": [
      "Epoch 367 validation: Cross-entropy=0.70, Accuracy=81.1%\n"
     ]
    },
    {
     "name": "stderr",
     "output_type": "stream",
     "text": [
      "Epoch 368: 100%|███████| 23/23 [00:00<00:00, 56.34batch/s, acc=80.7, loss=0.706]\n"
     ]
    },
    {
     "name": "stdout",
     "output_type": "stream",
     "text": [
      "Epoch 368 validation: Cross-entropy=0.70, Accuracy=81.0%\n"
     ]
    },
    {
     "name": "stderr",
     "output_type": "stream",
     "text": [
      "Epoch 369: 100%|███████| 23/23 [00:00<00:00, 58.73batch/s, acc=80.7, loss=0.706]\n"
     ]
    },
    {
     "name": "stdout",
     "output_type": "stream",
     "text": [
      "Epoch 369 validation: Cross-entropy=0.70, Accuracy=80.9%\n"
     ]
    },
    {
     "name": "stderr",
     "output_type": "stream",
     "text": [
      "Epoch 370: 100%|███████| 23/23 [00:00<00:00, 77.24batch/s, acc=80.7, loss=0.706]\n"
     ]
    },
    {
     "name": "stdout",
     "output_type": "stream",
     "text": [
      "Epoch 370 validation: Cross-entropy=0.70, Accuracy=80.9%\n"
     ]
    },
    {
     "name": "stderr",
     "output_type": "stream",
     "text": [
      "Epoch 371: 100%|███████| 23/23 [00:00<00:00, 61.50batch/s, acc=80.7, loss=0.706]\n"
     ]
    },
    {
     "name": "stdout",
     "output_type": "stream",
     "text": [
      "Epoch 371 validation: Cross-entropy=0.70, Accuracy=80.9%\n"
     ]
    },
    {
     "name": "stderr",
     "output_type": "stream",
     "text": [
      "Epoch 372: 100%|███████| 23/23 [00:00<00:00, 53.95batch/s, acc=80.7, loss=0.706]\n"
     ]
    },
    {
     "name": "stdout",
     "output_type": "stream",
     "text": [
      "Epoch 372 validation: Cross-entropy=0.70, Accuracy=81.0%\n"
     ]
    },
    {
     "name": "stderr",
     "output_type": "stream",
     "text": [
      "Epoch 373: 100%|███████| 23/23 [00:00<00:00, 54.41batch/s, acc=80.7, loss=0.706]\n"
     ]
    },
    {
     "name": "stdout",
     "output_type": "stream",
     "text": [
      "Epoch 373 validation: Cross-entropy=0.70, Accuracy=81.0%\n"
     ]
    },
    {
     "name": "stderr",
     "output_type": "stream",
     "text": [
      "Epoch 374: 100%|███████| 23/23 [00:00<00:00, 48.24batch/s, acc=80.7, loss=0.706]\n"
     ]
    },
    {
     "name": "stdout",
     "output_type": "stream",
     "text": [
      "Epoch 374 validation: Cross-entropy=0.70, Accuracy=81.0%\n"
     ]
    },
    {
     "name": "stderr",
     "output_type": "stream",
     "text": [
      "Epoch 375: 100%|███████| 23/23 [00:00<00:00, 49.73batch/s, acc=80.7, loss=0.706]\n"
     ]
    },
    {
     "name": "stdout",
     "output_type": "stream",
     "text": [
      "Epoch 375 validation: Cross-entropy=0.70, Accuracy=81.0%\n"
     ]
    },
    {
     "name": "stderr",
     "output_type": "stream",
     "text": [
      "Epoch 376: 100%|███████| 23/23 [00:00<00:00, 50.08batch/s, acc=80.7, loss=0.706]\n"
     ]
    },
    {
     "name": "stdout",
     "output_type": "stream",
     "text": [
      "Epoch 376 validation: Cross-entropy=0.70, Accuracy=81.0%\n"
     ]
    },
    {
     "name": "stderr",
     "output_type": "stream",
     "text": [
      "Epoch 377: 100%|███████| 23/23 [00:00<00:00, 50.25batch/s, acc=80.7, loss=0.706]\n"
     ]
    },
    {
     "name": "stdout",
     "output_type": "stream",
     "text": [
      "Epoch 377 validation: Cross-entropy=0.70, Accuracy=81.0%\n"
     ]
    },
    {
     "name": "stderr",
     "output_type": "stream",
     "text": [
      "Epoch 378: 100%|███████| 23/23 [00:00<00:00, 54.03batch/s, acc=80.7, loss=0.706]\n"
     ]
    },
    {
     "name": "stdout",
     "output_type": "stream",
     "text": [
      "Epoch 378 validation: Cross-entropy=0.70, Accuracy=81.0%\n"
     ]
    },
    {
     "name": "stderr",
     "output_type": "stream",
     "text": [
      "Epoch 379: 100%|███████| 23/23 [00:00<00:00, 54.92batch/s, acc=80.7, loss=0.706]\n"
     ]
    },
    {
     "name": "stdout",
     "output_type": "stream",
     "text": [
      "Epoch 379 validation: Cross-entropy=0.70, Accuracy=81.0%\n"
     ]
    },
    {
     "name": "stderr",
     "output_type": "stream",
     "text": [
      "Epoch 380: 100%|███████| 23/23 [00:00<00:00, 52.43batch/s, acc=80.7, loss=0.706]\n"
     ]
    },
    {
     "name": "stdout",
     "output_type": "stream",
     "text": [
      "Epoch 380 validation: Cross-entropy=0.70, Accuracy=81.0%\n"
     ]
    },
    {
     "name": "stderr",
     "output_type": "stream",
     "text": [
      "Epoch 381: 100%|███████| 23/23 [00:00<00:00, 50.50batch/s, acc=80.7, loss=0.706]\n"
     ]
    },
    {
     "name": "stdout",
     "output_type": "stream",
     "text": [
      "Epoch 381 validation: Cross-entropy=0.70, Accuracy=81.0%\n"
     ]
    },
    {
     "name": "stderr",
     "output_type": "stream",
     "text": [
      "Epoch 382: 100%|███████| 23/23 [00:00<00:00, 53.01batch/s, acc=80.7, loss=0.706]\n"
     ]
    },
    {
     "name": "stdout",
     "output_type": "stream",
     "text": [
      "Epoch 382 validation: Cross-entropy=0.70, Accuracy=81.0%\n"
     ]
    },
    {
     "name": "stderr",
     "output_type": "stream",
     "text": [
      "Epoch 383: 100%|███████| 23/23 [00:00<00:00, 50.76batch/s, acc=80.7, loss=0.706]\n"
     ]
    },
    {
     "name": "stdout",
     "output_type": "stream",
     "text": [
      "Epoch 383 validation: Cross-entropy=0.70, Accuracy=81.0%\n"
     ]
    },
    {
     "name": "stderr",
     "output_type": "stream",
     "text": [
      "Epoch 384: 100%|███████| 23/23 [00:00<00:00, 51.56batch/s, acc=80.7, loss=0.706]\n"
     ]
    },
    {
     "name": "stdout",
     "output_type": "stream",
     "text": [
      "Epoch 384 validation: Cross-entropy=0.70, Accuracy=81.0%\n"
     ]
    },
    {
     "name": "stderr",
     "output_type": "stream",
     "text": [
      "Epoch 385: 100%|███████| 23/23 [00:00<00:00, 49.82batch/s, acc=80.7, loss=0.706]\n"
     ]
    },
    {
     "name": "stdout",
     "output_type": "stream",
     "text": [
      "Epoch 385 validation: Cross-entropy=0.70, Accuracy=81.0%\n"
     ]
    },
    {
     "name": "stderr",
     "output_type": "stream",
     "text": [
      "Epoch 386: 100%|███████| 23/23 [00:00<00:00, 51.00batch/s, acc=80.7, loss=0.706]\n"
     ]
    },
    {
     "name": "stdout",
     "output_type": "stream",
     "text": [
      "Epoch 386 validation: Cross-entropy=0.70, Accuracy=81.0%\n"
     ]
    },
    {
     "name": "stderr",
     "output_type": "stream",
     "text": [
      "Epoch 387: 100%|███████| 23/23 [00:00<00:00, 50.78batch/s, acc=80.7, loss=0.706]\n"
     ]
    },
    {
     "name": "stdout",
     "output_type": "stream",
     "text": [
      "Epoch 387 validation: Cross-entropy=0.70, Accuracy=81.0%\n"
     ]
    },
    {
     "name": "stderr",
     "output_type": "stream",
     "text": [
      "Epoch 388: 100%|███████| 23/23 [00:00<00:00, 56.06batch/s, acc=80.7, loss=0.706]\n"
     ]
    },
    {
     "name": "stdout",
     "output_type": "stream",
     "text": [
      "Epoch 388 validation: Cross-entropy=0.70, Accuracy=81.0%\n"
     ]
    },
    {
     "name": "stderr",
     "output_type": "stream",
     "text": [
      "Epoch 389: 100%|███████| 23/23 [00:00<00:00, 54.11batch/s, acc=80.7, loss=0.706]\n"
     ]
    },
    {
     "name": "stdout",
     "output_type": "stream",
     "text": [
      "Epoch 389 validation: Cross-entropy=0.70, Accuracy=81.0%\n"
     ]
    },
    {
     "name": "stderr",
     "output_type": "stream",
     "text": [
      "Epoch 390: 100%|███████| 23/23 [00:00<00:00, 51.28batch/s, acc=80.7, loss=0.706]\n"
     ]
    },
    {
     "name": "stdout",
     "output_type": "stream",
     "text": [
      "Epoch 390 validation: Cross-entropy=0.70, Accuracy=81.0%\n"
     ]
    },
    {
     "name": "stderr",
     "output_type": "stream",
     "text": [
      "Epoch 391: 100%|███████| 23/23 [00:00<00:00, 52.07batch/s, acc=80.7, loss=0.706]\n"
     ]
    },
    {
     "name": "stdout",
     "output_type": "stream",
     "text": [
      "Epoch 391 validation: Cross-entropy=0.70, Accuracy=81.0%\n"
     ]
    },
    {
     "name": "stderr",
     "output_type": "stream",
     "text": [
      "Epoch 392: 100%|███████| 23/23 [00:00<00:00, 51.91batch/s, acc=80.7, loss=0.706]\n"
     ]
    },
    {
     "name": "stdout",
     "output_type": "stream",
     "text": [
      "Epoch 392 validation: Cross-entropy=0.70, Accuracy=81.0%\n"
     ]
    },
    {
     "name": "stderr",
     "output_type": "stream",
     "text": [
      "Epoch 393: 100%|███████| 23/23 [00:00<00:00, 50.44batch/s, acc=80.7, loss=0.706]\n"
     ]
    },
    {
     "name": "stdout",
     "output_type": "stream",
     "text": [
      "Epoch 393 validation: Cross-entropy=0.70, Accuracy=81.0%\n"
     ]
    },
    {
     "name": "stderr",
     "output_type": "stream",
     "text": [
      "Epoch 394: 100%|███████| 23/23 [00:00<00:00, 50.61batch/s, acc=80.7, loss=0.706]\n"
     ]
    },
    {
     "name": "stdout",
     "output_type": "stream",
     "text": [
      "Epoch 394 validation: Cross-entropy=0.70, Accuracy=81.0%\n"
     ]
    },
    {
     "name": "stderr",
     "output_type": "stream",
     "text": [
      "Epoch 395: 100%|███████| 23/23 [00:00<00:00, 50.85batch/s, acc=80.7, loss=0.706]\n"
     ]
    },
    {
     "name": "stdout",
     "output_type": "stream",
     "text": [
      "Epoch 395 validation: Cross-entropy=0.70, Accuracy=81.0%\n"
     ]
    },
    {
     "name": "stderr",
     "output_type": "stream",
     "text": [
      "Epoch 396: 100%|███████| 23/23 [00:00<00:00, 50.60batch/s, acc=80.7, loss=0.706]\n"
     ]
    },
    {
     "name": "stdout",
     "output_type": "stream",
     "text": [
      "Epoch 396 validation: Cross-entropy=0.70, Accuracy=81.0%\n"
     ]
    },
    {
     "name": "stderr",
     "output_type": "stream",
     "text": [
      "Epoch 397: 100%|███████| 23/23 [00:00<00:00, 54.08batch/s, acc=80.7, loss=0.706]\n"
     ]
    },
    {
     "name": "stdout",
     "output_type": "stream",
     "text": [
      "Epoch 397 validation: Cross-entropy=0.70, Accuracy=81.0%\n"
     ]
    },
    {
     "name": "stderr",
     "output_type": "stream",
     "text": [
      "Epoch 398: 100%|███████| 23/23 [00:00<00:00, 48.88batch/s, acc=80.7, loss=0.706]\n"
     ]
    },
    {
     "name": "stdout",
     "output_type": "stream",
     "text": [
      "Epoch 398 validation: Cross-entropy=0.70, Accuracy=81.0%\n"
     ]
    },
    {
     "name": "stderr",
     "output_type": "stream",
     "text": [
      "Epoch 399: 100%|███████| 23/23 [00:00<00:00, 50.32batch/s, acc=80.7, loss=0.706]\n"
     ]
    },
    {
     "name": "stdout",
     "output_type": "stream",
     "text": [
      "Epoch 399 validation: Cross-entropy=0.70, Accuracy=81.0%\n"
     ]
    },
    {
     "name": "stderr",
     "output_type": "stream",
     "text": [
      "Epoch 400: 100%|███████| 23/23 [00:00<00:00, 53.39batch/s, acc=80.7, loss=0.706]\n"
     ]
    },
    {
     "name": "stdout",
     "output_type": "stream",
     "text": [
      "Epoch 400 validation: Cross-entropy=0.70, Accuracy=81.0%\n"
     ]
    },
    {
     "name": "stderr",
     "output_type": "stream",
     "text": [
      "Epoch 401: 100%|███████| 23/23 [00:00<00:00, 48.21batch/s, acc=80.7, loss=0.706]\n"
     ]
    },
    {
     "name": "stdout",
     "output_type": "stream",
     "text": [
      "Epoch 401 validation: Cross-entropy=0.70, Accuracy=81.0%\n"
     ]
    },
    {
     "name": "stderr",
     "output_type": "stream",
     "text": [
      "Epoch 402: 100%|███████| 23/23 [00:00<00:00, 52.13batch/s, acc=80.7, loss=0.706]\n"
     ]
    },
    {
     "name": "stdout",
     "output_type": "stream",
     "text": [
      "Epoch 402 validation: Cross-entropy=0.70, Accuracy=81.0%\n"
     ]
    },
    {
     "name": "stderr",
     "output_type": "stream",
     "text": [
      "Epoch 403: 100%|███████| 23/23 [00:00<00:00, 47.13batch/s, acc=80.7, loss=0.706]\n"
     ]
    },
    {
     "name": "stdout",
     "output_type": "stream",
     "text": [
      "Epoch 403 validation: Cross-entropy=0.70, Accuracy=81.0%\n"
     ]
    },
    {
     "name": "stderr",
     "output_type": "stream",
     "text": [
      "Epoch 404: 100%|███████| 23/23 [00:00<00:00, 51.48batch/s, acc=80.7, loss=0.706]\n"
     ]
    },
    {
     "name": "stdout",
     "output_type": "stream",
     "text": [
      "Epoch 404 validation: Cross-entropy=0.70, Accuracy=81.0%\n"
     ]
    },
    {
     "name": "stderr",
     "output_type": "stream",
     "text": [
      "Epoch 405: 100%|███████| 23/23 [00:00<00:00, 54.61batch/s, acc=80.7, loss=0.706]\n"
     ]
    },
    {
     "name": "stdout",
     "output_type": "stream",
     "text": [
      "Epoch 405 validation: Cross-entropy=0.70, Accuracy=81.0%\n"
     ]
    },
    {
     "name": "stderr",
     "output_type": "stream",
     "text": [
      "Epoch 406: 100%|███████| 23/23 [00:00<00:00, 50.67batch/s, acc=80.7, loss=0.706]\n"
     ]
    },
    {
     "name": "stdout",
     "output_type": "stream",
     "text": [
      "Epoch 406 validation: Cross-entropy=0.70, Accuracy=81.0%\n"
     ]
    },
    {
     "name": "stderr",
     "output_type": "stream",
     "text": [
      "Epoch 407: 100%|███████| 23/23 [00:00<00:00, 52.27batch/s, acc=80.7, loss=0.706]\n"
     ]
    },
    {
     "name": "stdout",
     "output_type": "stream",
     "text": [
      "Epoch 407 validation: Cross-entropy=0.70, Accuracy=81.0%\n"
     ]
    },
    {
     "name": "stderr",
     "output_type": "stream",
     "text": [
      "Epoch 408: 100%|███████| 23/23 [00:00<00:00, 49.12batch/s, acc=80.7, loss=0.706]\n"
     ]
    },
    {
     "name": "stdout",
     "output_type": "stream",
     "text": [
      "Epoch 408 validation: Cross-entropy=0.70, Accuracy=81.0%\n"
     ]
    },
    {
     "name": "stderr",
     "output_type": "stream",
     "text": [
      "Epoch 409: 100%|███████| 23/23 [00:00<00:00, 53.63batch/s, acc=80.7, loss=0.706]\n"
     ]
    },
    {
     "name": "stdout",
     "output_type": "stream",
     "text": [
      "Epoch 409 validation: Cross-entropy=0.70, Accuracy=81.0%\n"
     ]
    },
    {
     "name": "stderr",
     "output_type": "stream",
     "text": [
      "Epoch 410: 100%|███████| 23/23 [00:00<00:00, 50.39batch/s, acc=80.7, loss=0.706]\n"
     ]
    },
    {
     "name": "stdout",
     "output_type": "stream",
     "text": [
      "Epoch 410 validation: Cross-entropy=0.70, Accuracy=81.0%\n"
     ]
    },
    {
     "name": "stderr",
     "output_type": "stream",
     "text": [
      "Epoch 411: 100%|███████| 23/23 [00:00<00:00, 51.92batch/s, acc=80.7, loss=0.706]\n"
     ]
    },
    {
     "name": "stdout",
     "output_type": "stream",
     "text": [
      "Epoch 411 validation: Cross-entropy=0.70, Accuracy=81.0%\n"
     ]
    },
    {
     "name": "stderr",
     "output_type": "stream",
     "text": [
      "Epoch 412: 100%|███████| 23/23 [00:00<00:00, 51.90batch/s, acc=80.7, loss=0.706]\n"
     ]
    },
    {
     "name": "stdout",
     "output_type": "stream",
     "text": [
      "Epoch 412 validation: Cross-entropy=0.70, Accuracy=81.0%\n"
     ]
    },
    {
     "name": "stderr",
     "output_type": "stream",
     "text": [
      "Epoch 413: 100%|███████| 23/23 [00:00<00:00, 47.36batch/s, acc=80.7, loss=0.706]\n"
     ]
    },
    {
     "name": "stdout",
     "output_type": "stream",
     "text": [
      "Epoch 413 validation: Cross-entropy=0.70, Accuracy=81.0%\n"
     ]
    },
    {
     "name": "stderr",
     "output_type": "stream",
     "text": [
      "Epoch 414: 100%|███████| 23/23 [00:00<00:00, 48.75batch/s, acc=80.7, loss=0.706]\n"
     ]
    },
    {
     "name": "stdout",
     "output_type": "stream",
     "text": [
      "Epoch 414 validation: Cross-entropy=0.70, Accuracy=81.0%\n"
     ]
    },
    {
     "name": "stderr",
     "output_type": "stream",
     "text": [
      "Epoch 415: 100%|███████| 23/23 [00:00<00:00, 51.20batch/s, acc=80.7, loss=0.706]\n"
     ]
    },
    {
     "name": "stdout",
     "output_type": "stream",
     "text": [
      "Epoch 415 validation: Cross-entropy=0.70, Accuracy=81.0%\n"
     ]
    },
    {
     "name": "stderr",
     "output_type": "stream",
     "text": [
      "Epoch 416: 100%|███████| 23/23 [00:00<00:00, 55.91batch/s, acc=80.7, loss=0.706]\n"
     ]
    },
    {
     "name": "stdout",
     "output_type": "stream",
     "text": [
      "Epoch 416 validation: Cross-entropy=0.70, Accuracy=81.0%\n"
     ]
    },
    {
     "name": "stderr",
     "output_type": "stream",
     "text": [
      "Epoch 417: 100%|███████| 23/23 [00:00<00:00, 50.09batch/s, acc=80.7, loss=0.706]\n"
     ]
    },
    {
     "name": "stdout",
     "output_type": "stream",
     "text": [
      "Epoch 417 validation: Cross-entropy=0.70, Accuracy=81.0%\n"
     ]
    },
    {
     "name": "stderr",
     "output_type": "stream",
     "text": [
      "Epoch 418: 100%|███████| 23/23 [00:00<00:00, 52.44batch/s, acc=80.7, loss=0.706]\n"
     ]
    },
    {
     "name": "stdout",
     "output_type": "stream",
     "text": [
      "Epoch 418 validation: Cross-entropy=0.70, Accuracy=81.0%\n"
     ]
    },
    {
     "name": "stderr",
     "output_type": "stream",
     "text": [
      "Epoch 419: 100%|███████| 23/23 [00:00<00:00, 54.77batch/s, acc=80.7, loss=0.706]\n"
     ]
    },
    {
     "name": "stdout",
     "output_type": "stream",
     "text": [
      "Epoch 419 validation: Cross-entropy=0.70, Accuracy=81.0%\n"
     ]
    },
    {
     "name": "stderr",
     "output_type": "stream",
     "text": [
      "Epoch 420: 100%|███████| 23/23 [00:00<00:00, 51.41batch/s, acc=80.7, loss=0.706]\n"
     ]
    },
    {
     "name": "stdout",
     "output_type": "stream",
     "text": [
      "Epoch 420 validation: Cross-entropy=0.70, Accuracy=81.0%\n"
     ]
    },
    {
     "name": "stderr",
     "output_type": "stream",
     "text": [
      "Epoch 421: 100%|███████| 23/23 [00:00<00:00, 51.89batch/s, acc=80.7, loss=0.706]\n"
     ]
    },
    {
     "name": "stdout",
     "output_type": "stream",
     "text": [
      "Epoch 421 validation: Cross-entropy=0.70, Accuracy=81.0%\n"
     ]
    },
    {
     "name": "stderr",
     "output_type": "stream",
     "text": [
      "Epoch 422: 100%|███████| 23/23 [00:00<00:00, 51.87batch/s, acc=80.7, loss=0.706]\n"
     ]
    },
    {
     "name": "stdout",
     "output_type": "stream",
     "text": [
      "Epoch 422 validation: Cross-entropy=0.70, Accuracy=81.0%\n"
     ]
    },
    {
     "name": "stderr",
     "output_type": "stream",
     "text": [
      "Epoch 423: 100%|███████| 23/23 [00:00<00:00, 49.93batch/s, acc=80.7, loss=0.706]\n"
     ]
    },
    {
     "name": "stdout",
     "output_type": "stream",
     "text": [
      "Epoch 423 validation: Cross-entropy=0.70, Accuracy=81.0%\n"
     ]
    },
    {
     "name": "stderr",
     "output_type": "stream",
     "text": [
      "Epoch 424: 100%|███████| 23/23 [00:00<00:00, 51.42batch/s, acc=80.7, loss=0.706]\n"
     ]
    },
    {
     "name": "stdout",
     "output_type": "stream",
     "text": [
      "Epoch 424 validation: Cross-entropy=0.70, Accuracy=81.0%\n"
     ]
    },
    {
     "name": "stderr",
     "output_type": "stream",
     "text": [
      "Epoch 425: 100%|███████| 23/23 [00:00<00:00, 50.90batch/s, acc=80.7, loss=0.706]\n"
     ]
    },
    {
     "name": "stdout",
     "output_type": "stream",
     "text": [
      "Epoch 425 validation: Cross-entropy=0.70, Accuracy=81.0%\n"
     ]
    },
    {
     "name": "stderr",
     "output_type": "stream",
     "text": [
      "Epoch 426: 100%|███████| 23/23 [00:00<00:00, 50.21batch/s, acc=80.7, loss=0.706]\n"
     ]
    },
    {
     "name": "stdout",
     "output_type": "stream",
     "text": [
      "Epoch 426 validation: Cross-entropy=0.70, Accuracy=81.0%\n"
     ]
    },
    {
     "name": "stderr",
     "output_type": "stream",
     "text": [
      "Epoch 427: 100%|███████| 23/23 [00:00<00:00, 54.05batch/s, acc=80.7, loss=0.706]\n"
     ]
    },
    {
     "name": "stdout",
     "output_type": "stream",
     "text": [
      "Epoch 427 validation: Cross-entropy=0.70, Accuracy=81.0%\n"
     ]
    },
    {
     "name": "stderr",
     "output_type": "stream",
     "text": [
      "Epoch 428: 100%|███████| 23/23 [00:00<00:00, 53.46batch/s, acc=80.7, loss=0.706]\n"
     ]
    },
    {
     "name": "stdout",
     "output_type": "stream",
     "text": [
      "Epoch 428 validation: Cross-entropy=0.70, Accuracy=81.0%\n"
     ]
    },
    {
     "name": "stderr",
     "output_type": "stream",
     "text": [
      "Epoch 429: 100%|███████| 23/23 [00:00<00:00, 50.52batch/s, acc=80.7, loss=0.706]\n"
     ]
    },
    {
     "name": "stdout",
     "output_type": "stream",
     "text": [
      "Epoch 429 validation: Cross-entropy=0.70, Accuracy=81.0%\n"
     ]
    },
    {
     "name": "stderr",
     "output_type": "stream",
     "text": [
      "Epoch 430: 100%|███████| 23/23 [00:00<00:00, 53.16batch/s, acc=80.7, loss=0.706]\n"
     ]
    },
    {
     "name": "stdout",
     "output_type": "stream",
     "text": [
      "Epoch 430 validation: Cross-entropy=0.70, Accuracy=81.0%\n"
     ]
    },
    {
     "name": "stderr",
     "output_type": "stream",
     "text": [
      "Epoch 431: 100%|███████| 23/23 [00:00<00:00, 50.93batch/s, acc=80.7, loss=0.706]\n"
     ]
    },
    {
     "name": "stdout",
     "output_type": "stream",
     "text": [
      "Epoch 431 validation: Cross-entropy=0.70, Accuracy=81.0%\n"
     ]
    },
    {
     "name": "stderr",
     "output_type": "stream",
     "text": [
      "Epoch 432: 100%|███████| 23/23 [00:00<00:00, 48.83batch/s, acc=80.7, loss=0.706]\n"
     ]
    },
    {
     "name": "stdout",
     "output_type": "stream",
     "text": [
      "Epoch 432 validation: Cross-entropy=0.70, Accuracy=81.0%\n"
     ]
    },
    {
     "name": "stderr",
     "output_type": "stream",
     "text": [
      "Epoch 433: 100%|███████| 23/23 [00:00<00:00, 49.30batch/s, acc=80.7, loss=0.706]\n"
     ]
    },
    {
     "name": "stdout",
     "output_type": "stream",
     "text": [
      "Epoch 433 validation: Cross-entropy=0.70, Accuracy=81.0%\n"
     ]
    },
    {
     "name": "stderr",
     "output_type": "stream",
     "text": [
      "Epoch 434: 100%|███████| 23/23 [00:00<00:00, 51.65batch/s, acc=80.7, loss=0.706]\n"
     ]
    },
    {
     "name": "stdout",
     "output_type": "stream",
     "text": [
      "Epoch 434 validation: Cross-entropy=0.70, Accuracy=81.0%\n"
     ]
    },
    {
     "name": "stderr",
     "output_type": "stream",
     "text": [
      "Epoch 435: 100%|███████| 23/23 [00:00<00:00, 51.07batch/s, acc=80.7, loss=0.706]\n"
     ]
    },
    {
     "name": "stdout",
     "output_type": "stream",
     "text": [
      "Epoch 435 validation: Cross-entropy=0.70, Accuracy=81.0%\n"
     ]
    },
    {
     "name": "stderr",
     "output_type": "stream",
     "text": [
      "Epoch 436: 100%|███████| 23/23 [00:00<00:00, 50.31batch/s, acc=80.7, loss=0.706]\n"
     ]
    },
    {
     "name": "stdout",
     "output_type": "stream",
     "text": [
      "Epoch 436 validation: Cross-entropy=0.70, Accuracy=81.0%\n"
     ]
    },
    {
     "name": "stderr",
     "output_type": "stream",
     "text": [
      "Epoch 437: 100%|███████| 23/23 [00:00<00:00, 55.00batch/s, acc=80.7, loss=0.706]\n"
     ]
    },
    {
     "name": "stdout",
     "output_type": "stream",
     "text": [
      "Epoch 437 validation: Cross-entropy=0.70, Accuracy=81.0%\n"
     ]
    },
    {
     "name": "stderr",
     "output_type": "stream",
     "text": [
      "Epoch 438: 100%|███████| 23/23 [00:00<00:00, 49.74batch/s, acc=80.7, loss=0.706]\n"
     ]
    },
    {
     "name": "stdout",
     "output_type": "stream",
     "text": [
      "Epoch 438 validation: Cross-entropy=0.70, Accuracy=81.0%\n"
     ]
    },
    {
     "name": "stderr",
     "output_type": "stream",
     "text": [
      "Epoch 439: 100%|███████| 23/23 [00:00<00:00, 52.20batch/s, acc=80.7, loss=0.706]\n"
     ]
    },
    {
     "name": "stdout",
     "output_type": "stream",
     "text": [
      "Epoch 439 validation: Cross-entropy=0.70, Accuracy=81.0%\n"
     ]
    },
    {
     "name": "stderr",
     "output_type": "stream",
     "text": [
      "Epoch 440: 100%|███████| 23/23 [00:00<00:00, 50.81batch/s, acc=80.7, loss=0.706]\n"
     ]
    },
    {
     "name": "stdout",
     "output_type": "stream",
     "text": [
      "Epoch 440 validation: Cross-entropy=0.70, Accuracy=81.0%\n"
     ]
    },
    {
     "name": "stderr",
     "output_type": "stream",
     "text": [
      "Epoch 441: 100%|███████| 23/23 [00:00<00:00, 53.83batch/s, acc=80.7, loss=0.706]\n"
     ]
    },
    {
     "name": "stdout",
     "output_type": "stream",
     "text": [
      "Epoch 441 validation: Cross-entropy=0.70, Accuracy=81.0%\n"
     ]
    },
    {
     "name": "stderr",
     "output_type": "stream",
     "text": [
      "Epoch 442: 100%|███████| 23/23 [00:00<00:00, 52.20batch/s, acc=80.7, loss=0.706]\n"
     ]
    },
    {
     "name": "stdout",
     "output_type": "stream",
     "text": [
      "Epoch 442 validation: Cross-entropy=0.70, Accuracy=81.0%\n"
     ]
    },
    {
     "name": "stderr",
     "output_type": "stream",
     "text": [
      "Epoch 443: 100%|███████| 23/23 [00:00<00:00, 50.41batch/s, acc=80.7, loss=0.706]\n"
     ]
    },
    {
     "name": "stdout",
     "output_type": "stream",
     "text": [
      "Epoch 443 validation: Cross-entropy=0.70, Accuracy=81.0%\n"
     ]
    },
    {
     "name": "stderr",
     "output_type": "stream",
     "text": [
      "Epoch 444: 100%|███████| 23/23 [00:00<00:00, 52.01batch/s, acc=80.7, loss=0.706]\n"
     ]
    },
    {
     "name": "stdout",
     "output_type": "stream",
     "text": [
      "Epoch 444 validation: Cross-entropy=0.70, Accuracy=81.0%\n"
     ]
    },
    {
     "name": "stderr",
     "output_type": "stream",
     "text": [
      "Epoch 445: 100%|███████| 23/23 [00:00<00:00, 52.10batch/s, acc=80.7, loss=0.706]\n"
     ]
    },
    {
     "name": "stdout",
     "output_type": "stream",
     "text": [
      "Epoch 445 validation: Cross-entropy=0.70, Accuracy=81.0%\n"
     ]
    },
    {
     "name": "stderr",
     "output_type": "stream",
     "text": [
      "Epoch 446: 100%|███████| 23/23 [00:00<00:00, 51.14batch/s, acc=80.7, loss=0.706]\n"
     ]
    },
    {
     "name": "stdout",
     "output_type": "stream",
     "text": [
      "Epoch 446 validation: Cross-entropy=0.70, Accuracy=81.0%\n"
     ]
    },
    {
     "name": "stderr",
     "output_type": "stream",
     "text": [
      "Epoch 447: 100%|███████| 23/23 [00:00<00:00, 50.84batch/s, acc=80.7, loss=0.706]\n"
     ]
    },
    {
     "name": "stdout",
     "output_type": "stream",
     "text": [
      "Epoch 447 validation: Cross-entropy=0.70, Accuracy=81.0%\n"
     ]
    },
    {
     "name": "stderr",
     "output_type": "stream",
     "text": [
      "Epoch 448: 100%|███████| 23/23 [00:00<00:00, 51.71batch/s, acc=80.7, loss=0.706]\n"
     ]
    },
    {
     "name": "stdout",
     "output_type": "stream",
     "text": [
      "Epoch 448 validation: Cross-entropy=0.70, Accuracy=81.0%\n"
     ]
    },
    {
     "name": "stderr",
     "output_type": "stream",
     "text": [
      "Epoch 449: 100%|███████| 23/23 [00:00<00:00, 52.54batch/s, acc=80.7, loss=0.706]\n"
     ]
    },
    {
     "name": "stdout",
     "output_type": "stream",
     "text": [
      "Epoch 449 validation: Cross-entropy=0.70, Accuracy=81.0%\n"
     ]
    },
    {
     "name": "stderr",
     "output_type": "stream",
     "text": [
      "Epoch 450: 100%|███████| 23/23 [00:00<00:00, 52.17batch/s, acc=80.7, loss=0.706]\n"
     ]
    },
    {
     "name": "stdout",
     "output_type": "stream",
     "text": [
      "Epoch 450 validation: Cross-entropy=0.70, Accuracy=81.0%\n"
     ]
    },
    {
     "name": "stderr",
     "output_type": "stream",
     "text": [
      "Epoch 451: 100%|███████| 23/23 [00:00<00:00, 49.24batch/s, acc=80.7, loss=0.706]\n"
     ]
    },
    {
     "name": "stdout",
     "output_type": "stream",
     "text": [
      "Epoch 451 validation: Cross-entropy=0.70, Accuracy=81.0%\n"
     ]
    },
    {
     "name": "stderr",
     "output_type": "stream",
     "text": [
      "Epoch 452: 100%|███████| 23/23 [00:00<00:00, 49.39batch/s, acc=80.7, loss=0.706]\n"
     ]
    },
    {
     "name": "stdout",
     "output_type": "stream",
     "text": [
      "Epoch 452 validation: Cross-entropy=0.70, Accuracy=81.0%\n"
     ]
    },
    {
     "name": "stderr",
     "output_type": "stream",
     "text": [
      "Epoch 453: 100%|███████| 23/23 [00:00<00:00, 51.59batch/s, acc=80.7, loss=0.706]\n"
     ]
    },
    {
     "name": "stdout",
     "output_type": "stream",
     "text": [
      "Epoch 453 validation: Cross-entropy=0.70, Accuracy=81.0%\n"
     ]
    },
    {
     "name": "stderr",
     "output_type": "stream",
     "text": [
      "Epoch 454: 100%|███████| 23/23 [00:00<00:00, 52.41batch/s, acc=80.7, loss=0.706]\n"
     ]
    },
    {
     "name": "stdout",
     "output_type": "stream",
     "text": [
      "Epoch 454 validation: Cross-entropy=0.70, Accuracy=81.0%\n"
     ]
    },
    {
     "name": "stderr",
     "output_type": "stream",
     "text": [
      "Epoch 455: 100%|███████| 23/23 [00:00<00:00, 52.17batch/s, acc=80.7, loss=0.706]\n"
     ]
    },
    {
     "name": "stdout",
     "output_type": "stream",
     "text": [
      "Epoch 455 validation: Cross-entropy=0.70, Accuracy=81.0%\n"
     ]
    },
    {
     "name": "stderr",
     "output_type": "stream",
     "text": [
      "Epoch 456: 100%|███████| 23/23 [00:00<00:00, 51.69batch/s, acc=80.7, loss=0.706]\n"
     ]
    },
    {
     "name": "stdout",
     "output_type": "stream",
     "text": [
      "Epoch 456 validation: Cross-entropy=0.70, Accuracy=81.0%\n"
     ]
    },
    {
     "name": "stderr",
     "output_type": "stream",
     "text": [
      "Epoch 457: 100%|███████| 23/23 [00:00<00:00, 51.69batch/s, acc=80.7, loss=0.706]\n"
     ]
    },
    {
     "name": "stdout",
     "output_type": "stream",
     "text": [
      "Epoch 457 validation: Cross-entropy=0.70, Accuracy=81.0%\n"
     ]
    },
    {
     "name": "stderr",
     "output_type": "stream",
     "text": [
      "Epoch 458: 100%|███████| 23/23 [00:00<00:00, 53.55batch/s, acc=80.7, loss=0.706]\n"
     ]
    },
    {
     "name": "stdout",
     "output_type": "stream",
     "text": [
      "Epoch 458 validation: Cross-entropy=0.70, Accuracy=81.0%\n"
     ]
    },
    {
     "name": "stderr",
     "output_type": "stream",
     "text": [
      "Epoch 459: 100%|███████| 23/23 [00:00<00:00, 54.73batch/s, acc=80.7, loss=0.706]\n"
     ]
    },
    {
     "name": "stdout",
     "output_type": "stream",
     "text": [
      "Epoch 459 validation: Cross-entropy=0.70, Accuracy=81.0%\n"
     ]
    },
    {
     "name": "stderr",
     "output_type": "stream",
     "text": [
      "Epoch 460: 100%|███████| 23/23 [00:00<00:00, 53.00batch/s, acc=80.7, loss=0.706]\n"
     ]
    },
    {
     "name": "stdout",
     "output_type": "stream",
     "text": [
      "Epoch 460 validation: Cross-entropy=0.70, Accuracy=81.0%\n"
     ]
    },
    {
     "name": "stderr",
     "output_type": "stream",
     "text": [
      "Epoch 461: 100%|███████| 23/23 [00:00<00:00, 51.39batch/s, acc=80.7, loss=0.706]\n"
     ]
    },
    {
     "name": "stdout",
     "output_type": "stream",
     "text": [
      "Epoch 461 validation: Cross-entropy=0.70, Accuracy=81.0%\n"
     ]
    },
    {
     "name": "stderr",
     "output_type": "stream",
     "text": [
      "Epoch 462: 100%|███████| 23/23 [00:00<00:00, 49.16batch/s, acc=80.7, loss=0.706]\n"
     ]
    },
    {
     "name": "stdout",
     "output_type": "stream",
     "text": [
      "Epoch 462 validation: Cross-entropy=0.70, Accuracy=81.0%\n"
     ]
    },
    {
     "name": "stderr",
     "output_type": "stream",
     "text": [
      "Epoch 463: 100%|███████| 23/23 [00:00<00:00, 50.92batch/s, acc=80.7, loss=0.706]\n"
     ]
    },
    {
     "name": "stdout",
     "output_type": "stream",
     "text": [
      "Epoch 463 validation: Cross-entropy=0.70, Accuracy=81.0%\n"
     ]
    },
    {
     "name": "stderr",
     "output_type": "stream",
     "text": [
      "Epoch 464: 100%|███████| 23/23 [00:00<00:00, 55.15batch/s, acc=80.7, loss=0.706]\n"
     ]
    },
    {
     "name": "stdout",
     "output_type": "stream",
     "text": [
      "Epoch 464 validation: Cross-entropy=0.70, Accuracy=81.0%\n"
     ]
    },
    {
     "name": "stderr",
     "output_type": "stream",
     "text": [
      "Epoch 465: 100%|███████| 23/23 [00:00<00:00, 51.32batch/s, acc=80.7, loss=0.706]\n"
     ]
    },
    {
     "name": "stdout",
     "output_type": "stream",
     "text": [
      "Epoch 465 validation: Cross-entropy=0.70, Accuracy=81.0%\n"
     ]
    },
    {
     "name": "stderr",
     "output_type": "stream",
     "text": [
      "Epoch 466: 100%|███████| 23/23 [00:00<00:00, 50.67batch/s, acc=80.7, loss=0.706]\n"
     ]
    },
    {
     "name": "stdout",
     "output_type": "stream",
     "text": [
      "Epoch 466 validation: Cross-entropy=0.70, Accuracy=81.0%\n"
     ]
    },
    {
     "name": "stderr",
     "output_type": "stream",
     "text": [
      "Epoch 467: 100%|███████| 23/23 [00:00<00:00, 47.54batch/s, acc=80.7, loss=0.706]\n"
     ]
    },
    {
     "name": "stdout",
     "output_type": "stream",
     "text": [
      "Epoch 467 validation: Cross-entropy=0.70, Accuracy=81.0%\n"
     ]
    },
    {
     "name": "stderr",
     "output_type": "stream",
     "text": [
      "Epoch 468: 100%|███████| 23/23 [00:00<00:00, 53.72batch/s, acc=80.7, loss=0.706]\n"
     ]
    },
    {
     "name": "stdout",
     "output_type": "stream",
     "text": [
      "Epoch 468 validation: Cross-entropy=0.70, Accuracy=81.0%\n"
     ]
    },
    {
     "name": "stderr",
     "output_type": "stream",
     "text": [
      "Epoch 469: 100%|███████| 23/23 [00:00<00:00, 51.74batch/s, acc=80.7, loss=0.706]\n"
     ]
    },
    {
     "name": "stdout",
     "output_type": "stream",
     "text": [
      "Epoch 469 validation: Cross-entropy=0.70, Accuracy=81.0%\n"
     ]
    },
    {
     "name": "stderr",
     "output_type": "stream",
     "text": [
      "Epoch 470: 100%|███████| 23/23 [00:00<00:00, 47.94batch/s, acc=80.7, loss=0.706]\n"
     ]
    },
    {
     "name": "stdout",
     "output_type": "stream",
     "text": [
      "Epoch 470 validation: Cross-entropy=0.70, Accuracy=81.0%\n"
     ]
    },
    {
     "name": "stderr",
     "output_type": "stream",
     "text": [
      "Epoch 471: 100%|███████| 23/23 [00:00<00:00, 54.67batch/s, acc=80.7, loss=0.706]\n"
     ]
    },
    {
     "name": "stdout",
     "output_type": "stream",
     "text": [
      "Epoch 471 validation: Cross-entropy=0.70, Accuracy=81.0%\n"
     ]
    },
    {
     "name": "stderr",
     "output_type": "stream",
     "text": [
      "Epoch 472: 100%|███████| 23/23 [00:00<00:00, 49.65batch/s, acc=80.7, loss=0.706]\n"
     ]
    },
    {
     "name": "stdout",
     "output_type": "stream",
     "text": [
      "Epoch 472 validation: Cross-entropy=0.70, Accuracy=81.0%\n"
     ]
    },
    {
     "name": "stderr",
     "output_type": "stream",
     "text": [
      "Epoch 473: 100%|███████| 23/23 [00:00<00:00, 54.77batch/s, acc=80.7, loss=0.706]\n"
     ]
    },
    {
     "name": "stdout",
     "output_type": "stream",
     "text": [
      "Epoch 473 validation: Cross-entropy=0.70, Accuracy=81.0%\n"
     ]
    },
    {
     "name": "stderr",
     "output_type": "stream",
     "text": [
      "Epoch 474: 100%|███████| 23/23 [00:00<00:00, 53.92batch/s, acc=80.7, loss=0.706]\n"
     ]
    },
    {
     "name": "stdout",
     "output_type": "stream",
     "text": [
      "Epoch 474 validation: Cross-entropy=0.70, Accuracy=81.0%\n"
     ]
    },
    {
     "name": "stderr",
     "output_type": "stream",
     "text": [
      "Epoch 475: 100%|███████| 23/23 [00:00<00:00, 49.30batch/s, acc=80.7, loss=0.706]\n"
     ]
    },
    {
     "name": "stdout",
     "output_type": "stream",
     "text": [
      "Epoch 475 validation: Cross-entropy=0.70, Accuracy=81.0%\n"
     ]
    },
    {
     "name": "stderr",
     "output_type": "stream",
     "text": [
      "Epoch 476: 100%|███████| 23/23 [00:00<00:00, 49.03batch/s, acc=80.7, loss=0.706]\n"
     ]
    },
    {
     "name": "stdout",
     "output_type": "stream",
     "text": [
      "Epoch 476 validation: Cross-entropy=0.70, Accuracy=81.0%\n"
     ]
    },
    {
     "name": "stderr",
     "output_type": "stream",
     "text": [
      "Epoch 477: 100%|███████| 23/23 [00:00<00:00, 54.38batch/s, acc=80.7, loss=0.706]\n"
     ]
    },
    {
     "name": "stdout",
     "output_type": "stream",
     "text": [
      "Epoch 477 validation: Cross-entropy=0.70, Accuracy=81.0%\n"
     ]
    },
    {
     "name": "stderr",
     "output_type": "stream",
     "text": [
      "Epoch 478: 100%|███████| 23/23 [00:00<00:00, 54.71batch/s, acc=80.7, loss=0.706]\n"
     ]
    },
    {
     "name": "stdout",
     "output_type": "stream",
     "text": [
      "Epoch 478 validation: Cross-entropy=0.70, Accuracy=81.0%\n"
     ]
    },
    {
     "name": "stderr",
     "output_type": "stream",
     "text": [
      "Epoch 479: 100%|███████| 23/23 [00:00<00:00, 50.25batch/s, acc=80.7, loss=0.706]\n"
     ]
    },
    {
     "name": "stdout",
     "output_type": "stream",
     "text": [
      "Epoch 479 validation: Cross-entropy=0.70, Accuracy=81.0%\n"
     ]
    },
    {
     "name": "stderr",
     "output_type": "stream",
     "text": [
      "Epoch 480: 100%|███████| 23/23 [00:00<00:00, 53.82batch/s, acc=80.7, loss=0.706]\n"
     ]
    },
    {
     "name": "stdout",
     "output_type": "stream",
     "text": [
      "Epoch 480 validation: Cross-entropy=0.70, Accuracy=81.0%\n"
     ]
    },
    {
     "name": "stderr",
     "output_type": "stream",
     "text": [
      "Epoch 481: 100%|███████| 23/23 [00:00<00:00, 54.57batch/s, acc=80.7, loss=0.706]\n"
     ]
    },
    {
     "name": "stdout",
     "output_type": "stream",
     "text": [
      "Epoch 481 validation: Cross-entropy=0.70, Accuracy=81.0%\n"
     ]
    },
    {
     "name": "stderr",
     "output_type": "stream",
     "text": [
      "Epoch 482: 100%|███████| 23/23 [00:00<00:00, 53.82batch/s, acc=80.7, loss=0.706]\n"
     ]
    },
    {
     "name": "stdout",
     "output_type": "stream",
     "text": [
      "Epoch 482 validation: Cross-entropy=0.70, Accuracy=81.0%\n"
     ]
    },
    {
     "name": "stderr",
     "output_type": "stream",
     "text": [
      "Epoch 483: 100%|███████| 23/23 [00:00<00:00, 52.33batch/s, acc=80.7, loss=0.706]\n"
     ]
    },
    {
     "name": "stdout",
     "output_type": "stream",
     "text": [
      "Epoch 483 validation: Cross-entropy=0.70, Accuracy=81.0%\n"
     ]
    },
    {
     "name": "stderr",
     "output_type": "stream",
     "text": [
      "Epoch 484: 100%|███████| 23/23 [00:00<00:00, 51.84batch/s, acc=80.7, loss=0.706]\n"
     ]
    },
    {
     "name": "stdout",
     "output_type": "stream",
     "text": [
      "Epoch 484 validation: Cross-entropy=0.70, Accuracy=81.0%\n"
     ]
    },
    {
     "name": "stderr",
     "output_type": "stream",
     "text": [
      "Epoch 485: 100%|███████| 23/23 [00:00<00:00, 50.77batch/s, acc=80.7, loss=0.706]\n"
     ]
    },
    {
     "name": "stdout",
     "output_type": "stream",
     "text": [
      "Epoch 485 validation: Cross-entropy=0.70, Accuracy=81.0%\n"
     ]
    },
    {
     "name": "stderr",
     "output_type": "stream",
     "text": [
      "Epoch 486: 100%|███████| 23/23 [00:00<00:00, 51.19batch/s, acc=80.7, loss=0.706]\n"
     ]
    },
    {
     "name": "stdout",
     "output_type": "stream",
     "text": [
      "Epoch 486 validation: Cross-entropy=0.70, Accuracy=81.0%\n"
     ]
    },
    {
     "name": "stderr",
     "output_type": "stream",
     "text": [
      "Epoch 487: 100%|███████| 23/23 [00:00<00:00, 44.76batch/s, acc=80.7, loss=0.706]\n"
     ]
    },
    {
     "name": "stdout",
     "output_type": "stream",
     "text": [
      "Epoch 487 validation: Cross-entropy=0.70, Accuracy=81.0%\n"
     ]
    },
    {
     "name": "stderr",
     "output_type": "stream",
     "text": [
      "Epoch 488: 100%|███████| 23/23 [00:00<00:00, 50.94batch/s, acc=80.7, loss=0.706]\n"
     ]
    },
    {
     "name": "stdout",
     "output_type": "stream",
     "text": [
      "Epoch 488 validation: Cross-entropy=0.70, Accuracy=81.0%\n"
     ]
    },
    {
     "name": "stderr",
     "output_type": "stream",
     "text": [
      "Epoch 489: 100%|███████| 23/23 [00:00<00:00, 53.19batch/s, acc=80.7, loss=0.706]\n"
     ]
    },
    {
     "name": "stdout",
     "output_type": "stream",
     "text": [
      "Epoch 489 validation: Cross-entropy=0.70, Accuracy=81.0%\n"
     ]
    },
    {
     "name": "stderr",
     "output_type": "stream",
     "text": [
      "Epoch 490: 100%|███████| 23/23 [00:00<00:00, 56.06batch/s, acc=80.7, loss=0.706]\n"
     ]
    },
    {
     "name": "stdout",
     "output_type": "stream",
     "text": [
      "Epoch 490 validation: Cross-entropy=0.70, Accuracy=81.0%\n"
     ]
    },
    {
     "name": "stderr",
     "output_type": "stream",
     "text": [
      "Epoch 491: 100%|███████| 23/23 [00:00<00:00, 52.79batch/s, acc=80.7, loss=0.706]\n"
     ]
    },
    {
     "name": "stdout",
     "output_type": "stream",
     "text": [
      "Epoch 491 validation: Cross-entropy=0.70, Accuracy=81.0%\n"
     ]
    },
    {
     "name": "stderr",
     "output_type": "stream",
     "text": [
      "Epoch 492: 100%|███████| 23/23 [00:00<00:00, 50.32batch/s, acc=80.7, loss=0.706]\n"
     ]
    },
    {
     "name": "stdout",
     "output_type": "stream",
     "text": [
      "Epoch 492 validation: Cross-entropy=0.70, Accuracy=81.0%\n"
     ]
    },
    {
     "name": "stderr",
     "output_type": "stream",
     "text": [
      "Epoch 493: 100%|███████| 23/23 [00:00<00:00, 52.18batch/s, acc=80.7, loss=0.706]\n"
     ]
    },
    {
     "name": "stdout",
     "output_type": "stream",
     "text": [
      "Epoch 493 validation: Cross-entropy=0.70, Accuracy=81.0%\n"
     ]
    },
    {
     "name": "stderr",
     "output_type": "stream",
     "text": [
      "Epoch 494: 100%|███████| 23/23 [00:00<00:00, 50.09batch/s, acc=80.7, loss=0.706]\n"
     ]
    },
    {
     "name": "stdout",
     "output_type": "stream",
     "text": [
      "Epoch 494 validation: Cross-entropy=0.70, Accuracy=81.0%\n"
     ]
    },
    {
     "name": "stderr",
     "output_type": "stream",
     "text": [
      "Epoch 495: 100%|███████| 23/23 [00:00<00:00, 52.02batch/s, acc=80.7, loss=0.706]\n"
     ]
    },
    {
     "name": "stdout",
     "output_type": "stream",
     "text": [
      "Epoch 495 validation: Cross-entropy=0.70, Accuracy=81.0%\n"
     ]
    },
    {
     "name": "stderr",
     "output_type": "stream",
     "text": [
      "Epoch 496: 100%|███████| 23/23 [00:00<00:00, 52.07batch/s, acc=80.7, loss=0.706]\n"
     ]
    },
    {
     "name": "stdout",
     "output_type": "stream",
     "text": [
      "Epoch 496 validation: Cross-entropy=0.70, Accuracy=81.0%\n"
     ]
    },
    {
     "name": "stderr",
     "output_type": "stream",
     "text": [
      "Epoch 497: 100%|███████| 23/23 [00:00<00:00, 54.58batch/s, acc=80.7, loss=0.706]\n"
     ]
    },
    {
     "name": "stdout",
     "output_type": "stream",
     "text": [
      "Epoch 497 validation: Cross-entropy=0.70, Accuracy=81.0%\n"
     ]
    },
    {
     "name": "stderr",
     "output_type": "stream",
     "text": [
      "Epoch 498: 100%|███████| 23/23 [00:00<00:00, 54.86batch/s, acc=80.7, loss=0.706]\n"
     ]
    },
    {
     "name": "stdout",
     "output_type": "stream",
     "text": [
      "Epoch 498 validation: Cross-entropy=0.70, Accuracy=81.0%\n"
     ]
    },
    {
     "name": "stderr",
     "output_type": "stream",
     "text": [
      "Epoch 499: 100%|███████| 23/23 [00:00<00:00, 53.91batch/s, acc=80.7, loss=0.706]"
     ]
    },
    {
     "name": "stdout",
     "output_type": "stream",
     "text": [
      "Epoch 499 validation: Cross-entropy=0.70, Accuracy=81.0%\n"
     ]
    },
    {
     "name": "stderr",
     "output_type": "stream",
     "text": [
      "\n"
     ]
    }
   ],
   "source": [
    "# # prepare model and training parameters\n",
    "# n_epochs = 500\n",
    "# batch_size = 50\n",
    "# batches_per_epoch = len(X_train) // batch_size\n",
    " \n",
    "# best_acc = - np.inf   # init to negative infinity\n",
    "# best_weights = None\n",
    "# train_loss_hist = []\n",
    "# train_acc_hist = []\n",
    "# test_loss_hist = []\n",
    "# test_acc_hist = []\n",
    " \n",
    "# # training loop\n",
    "# for epoch in range(n_epochs):\n",
    "#     epoch_loss = []\n",
    "#     epoch_acc = []\n",
    "#     # set model in training mode and run through each batch\n",
    "#     adversary.train()\n",
    "#     with tqdm.trange(batches_per_epoch, unit=\"batch\", mininterval=0) as bar:\n",
    "#         bar.set_description(f\"Epoch {epoch}\")\n",
    "#         for i in bar:\n",
    "#             # take a batch\n",
    "#             start = i * batch_size\n",
    "#             X_batch = X_train[start:start+batch_size]\n",
    "#             y_batch = y_train[start:start+batch_size]\n",
    "#             # forward pass\n",
    "#             y_pred = adversary(X_batch)\n",
    "#             loss = loss_fn(y_pred, y_batch)\n",
    "#             # backward pass\n",
    "#             optimizer.zero_grad()\n",
    "#             loss.backward()\n",
    "#             # update weights\n",
    "#             optimizer.step()\n",
    "#             # compute and store metrics\n",
    "#             acc = accuracy_fn(y_true=y_batch, \n",
    "#                       y_pred=y_pred)\n",
    "#             epoch_loss.append(float(loss))\n",
    "#             epoch_acc.append(float(acc))\n",
    "#             bar.set_postfix(\n",
    "#                 loss=float(loss),\n",
    "#                 acc=float(acc)\n",
    "#             )\n",
    "#     # set model in evaluation mode and run through the test set\n",
    "#     adversary.eval()\n",
    "#     y_pred = adversary(X_test)\n",
    "#     ce = loss_fn(y_pred, y_test)\n",
    "#     acc = accuracy_fn(y_true=y_test, \n",
    "#                       y_pred=y_pred)\n",
    "#     ce = float(ce)\n",
    "#     acc = float(acc)\n",
    "#     train_loss_hist.append(np.mean(epoch_loss))\n",
    "#     train_acc_hist.append(np.mean(epoch_acc))\n",
    "#     test_loss_hist.append(ce)\n",
    "#     test_acc_hist.append(acc)\n",
    "#     if acc > best_acc:\n",
    "#         best_acc = acc\n",
    "#         best_weights = copy.deepcopy(adversary.state_dict())\n",
    "#     print(f\"Epoch {epoch} validation: Cross-entropy={ce:.2f}, Accuracy={acc:.1f}%\")\n",
    " \n"
   ]
  },
  {
   "cell_type": "code",
   "execution_count": 76,
   "id": "4a737340",
   "metadata": {},
   "outputs": [
    {
     "data": {
      "image/png": "[encoded data removed]",
      "text/plain": [
       "<Figure size 432x288 with 1 Axes>"
      ]
     },
     "metadata": {
      "needs_background": "light"
     },
     "output_type": "display_data"
    },
    {
     "data": {
      "image/png": "[encoded data removed]",
      "text/plain": [
       "<Figure size 432x288 with 1 Axes>"
      ]
     },
     "metadata": {
      "needs_background": "light"
     },
     "output_type": "display_data"
    }
   ],
   "source": [
    " \n",
    "# Restore best model\n",
    "adversary.load_state_dict(best_weights)\n",
    " \n",
    "# Plot the loss and accuracy\n",
    "plt.plot(train_loss_hist, label=\"train\")\n",
    "plt.plot(test_loss_hist, label=\"test\")\n",
    "plt.xlabel(\"epochs\")\n",
    "plt.ylabel(\"cross entropy\")\n",
    "plt.legend()\n",
    "plt.show()\n",
    " \n",
    "plt.plot(train_acc_hist, label=\"train\")\n",
    "plt.plot(test_acc_hist, label=\"test\")\n",
    "plt.xlabel(\"epochs\")\n",
    "plt.ylabel(\"accuracy\")\n",
    "plt.legend()\n",
    "plt.show()"
   ]
  },
  {
   "cell_type": "code",
   "execution_count": 195,
   "id": "f758b8a9",
   "metadata": {},
   "outputs": [],
   "source": [
    "dirname = os.path.dirname(os.path.abspath('output/adversary'))\n",
    "os.makedirs(dirname, exist_ok=True)\n",
    "torch.save(adversary, 'output/adversary')"
   ]
  },
  {
   "cell_type": "markdown",
   "id": "2c04f7d0",
   "metadata": {},
   "source": [
    "Take it as it is for now, now save the parameters trained for BPR and adversary\n",
    "\n",
    "Then train for an universal perturbation "
   ]
  },
  {
   "cell_type": "code",
   "execution_count": 196,
   "id": "0fd73988",
   "metadata": {},
   "outputs": [
    {
     "data": {
      "text/plain": [
       "tensor([ -6769.0171, -12874.8496,  13485.1533,    289.3758,  -8503.9385,\n",
       "          6546.8594], grad_fn=<AddBackward0>)"
      ]
     },
     "execution_count": 196,
     "metadata": {},
     "output_type": "execute_result"
    }
   ],
   "source": [
    "adversary(Rec.T[123,:])"
   ]
  },
  {
   "cell_type": "code",
   "execution_count": 197,
   "id": "8406e157",
   "metadata": {},
   "outputs": [
    {
     "name": "stderr",
     "output_type": "stream",
     "text": [
      "/tmp/ipykernel_25416/2343087404.py:1: UserWarning: Implicit dimension choice for softmax has been deprecated. Change the call to include dim=X as an argument.\n",
      "  F.softmax(adversary(Rec.T[123,:]))\n"
     ]
    },
    {
     "data": {
      "text/plain": [
       "tensor([0., 0., 1., 0., 0., 0.], grad_fn=<SoftmaxBackward0>)"
      ]
     },
     "execution_count": 197,
     "metadata": {},
     "output_type": "execute_result"
    }
   ],
   "source": [
    " F.softmax(adversary(Rec.T[123,:]))"
   ]
  },
  {
   "cell_type": "code",
   "execution_count": 198,
   "id": "aff29324",
   "metadata": {},
   "outputs": [
    {
     "data": {
      "text/plain": [
       "tensor(nan, grad_fn=<SumBackward0>)"
      ]
     },
     "execution_count": 198,
     "metadata": {},
     "output_type": "execute_result"
    }
   ],
   "source": [
    "F.kl_div(torch.Tensor([1/6, 1/6, 1/6, 1/6, 1/6, 1/6]).log(),  (adversary(Rec.T[123,:])), None, None, 'sum')"
   ]
  },
  {
   "cell_type": "code",
   "execution_count": 199,
   "id": "00f95259",
   "metadata": {
    "scrolled": false
   },
   "outputs": [],
   "source": [
    "# Load\n",
    "adversary = torch.load('output/adversary')\n",
    "# model(X_train)\n",
    "uniform_dist = torch.Tensor([1/6, 1/6, 1/6, 1/6, 1/6, 1/6])  "
   ]
  },
  {
   "cell_type": "code",
   "execution_count": 200,
   "id": "70bd1698",
   "metadata": {},
   "outputs": [],
   "source": [
    "#this is for indirectly optimize the pertubation\n",
    "\n",
    "criteria = torch.nn.MSELoss()\n",
    "transform_func = torch.nn.Linear(64, 64)#.cuda()"
   ]
  },
  {
   "cell_type": "code",
   "execution_count": 201,
   "id": "319e9fbf",
   "metadata": {},
   "outputs": [],
   "source": [
    "class fairness_reprogramming(nn.Module):\n",
    "    def __init__(self, user_emb, item_emb, Rec, reg):\n",
    "        super().__init__()\n",
    "        ##init the embedding for U and I\n",
    "        self.user_emb = user_emb\n",
    "        self.item_emb = item_emb  \n",
    "        self.reg = reg\n",
    "        self.perturb = nn.Parameter(torch.empty(1, 64))  # dim embedding\n",
    "        nn.init.xavier_normal_(self.perturb.data)\n",
    "\n",
    "        \n",
    "## forward cal\n",
    "    def forward(self, u, i, j, epoch):\n",
    "        \"\"\"Return loss value.\n",
    "        \n",
    "        Args:\n",
    "            u(torch.LongTensor): tensor stored user indexes. [batch_size,]\n",
    "            i(torch.LongTensor): tensor stored item indexes which is prefered by user. [batch_size,]\n",
    "            j(torch.LongTensor): tensor stored item indexes which is not prefered by user. [batch_size,]\n",
    "            epoch\n",
    "\n",
    "        Returns:\n",
    "            torch.FloatTensor\n",
    "        \"\"\"\n",
    "        ##u,i,j respectively, each is a vector of dim embedding (default = 64)\n",
    "#         u = self.user_emb[u, :]\n",
    "#         i = self.item_emb[i, :]\n",
    "#         j = self.item_emb[j, :]\n",
    "\n",
    "        ## Enables this Tensor to have their grad populated during backward(), convert any non-leaf tensor into a leaf tensor,\n",
    "        ##https://stackoverflow.com/questions/73698041/how-retain-grad-in-pytorch-works-i-found-its-position-changes-the-grad-result\n",
    "#         self.perturb.retain_grad()\n",
    "\n",
    "#       transform perturbation\n",
    "        perturb = transform_func(self.perturb)\n",
    "    \n",
    "        transformation_loss = criteria(self.perturb,perturb)\n",
    "        ## mf, dot product of user with pos/neg item\n",
    "        x_ui = torch.mul(self.user_emb[u, :] , self.item_emb[i, :] + perturb).sum(dim=1)\n",
    "        x_uj = torch.mul(self.user_emb[u, :] , self.item_emb[j, :] + perturb).sum(dim=1)\n",
    "        \n",
    "\n",
    "        #extract prediction for item and genres \n",
    "        \n",
    "        \n",
    "        ## Fix here, adversary needs to predict the recommendation for embedding + perturbation\n",
    "        \n",
    "        #torch.matmul(list(model1.items())[0][1], list(model1.items())[1][1][i,:].T)\n",
    "        #torch.matmul(self.user_emb,(self.item_emb[i, :] + perturb).T).T[i,:]\n",
    "#         i_feature = torch.matmul(self.user_emb,(self.item_emb[i, :] + perturb).T).T[i,:]\n",
    "#         j_feature = torch.matmul(self.user_emb,(self.item_emb[j, :] + perturb).T).T[j,:]\n",
    "        i_feature = Rec.T[i,:]\n",
    "        j_feature = Rec.T[j,:]\n",
    "        \n",
    "#         i_genre = item_genre[i,:]\n",
    "#         j_genre = item_genre[j,:]\n",
    "        \n",
    "        \n",
    "        i.prob = F.softmax(adversary(i_feature), dim =1 )#.mean(axis = 0)\n",
    "        j.prob = F.softmax(adversary(j_feature), dim =1 )#.mean(axis = 0)\n",
    "        \n",
    "        \n",
    "        \n",
    "#         1000 in a batch, group A & B\n",
    "#         A 300, B 700 (    [0.3, 0.7] vs [0.5 0.5]    )\n",
    "        \n",
    "#         Conditional prob P(g=Ga|i) for each item\n",
    "        \n",
    "        #similar to clip value, find diff between ui and uj\n",
    "        x_uij =torch.clamp(x_ui - x_uj,min=-80.0,max=1e8)\n",
    "        #logsigmoid this is equivalent to equation 1 in the paper (classic loss of bpr)\n",
    "        log_prob = F.softplus(x_uij).sum()\n",
    "        # regularization = lambda * l2 norm of u, i, j\n",
    "        regularization = self.reg * (self.user_emb[u, :].norm(dim=1).pow(2).sum() + self.item_emb[i, :].norm(dim=1).pow(2).sum() + self.item_emb[j, :].norm(dim=1).pow(2).sum())\n",
    "\n",
    "        ## original bpr loss,\n",
    "        loss_bpr = -log_prob + regularization\n",
    "#         loss_bpr.backward(retain_graph=True)\n",
    "        \n",
    "        \n",
    "        loss_adv = F.kl_div(uniform_dist.log(), i.prob, None, None, 'sum') + F.kl_div(uniform_dist.log(), j.prob , None, None, 'sum')\n",
    "        total_loss = transformation_loss + loss_bpr + loss_adv\n",
    "\n",
    "        total_loss.backward()\n",
    "        \n",
    "        \n",
    "        return total_loss, perturb\n",
    "        "
   ]
  },
  {
   "cell_type": "code",
   "execution_count": null,
   "id": "0c95449f",
   "metadata": {},
   "outputs": [],
   "source": []
  },
  {
   "cell_type": "code",
   "execution_count": 202,
   "id": "4a9ed903",
   "metadata": {},
   "outputs": [],
   "source": [
    "with open('preprocessed/ml-1m-6-test.pickle', 'rb') as f:\n",
    "    dataset = pickle.load(f)\n",
    "    user_size, item_size = dataset['user_size'], dataset['item_size']\n",
    "    train_user_list, test_user_list = dataset['train_user_list'], dataset['test_user_list']\n",
    "    train_pair = dataset['train_pair']"
   ]
  },
  {
   "cell_type": "code",
   "execution_count": 203,
   "id": "3d1f537f",
   "metadata": {},
   "outputs": [],
   "source": [
    "# Create dataset, model, optimizer\n",
    "dataset = GetTriplePair(item_size, train_user_list, train_pair, True, 200)\n",
    "#list(model1.items())[0][1], list(model1.items())[1][1]\n",
    "# load batch of 512 item triplets\n",
    "loader = DataLoader(dataset, batch_size=512)\n",
    "model = fairness_reprogramming(list(model1.items())[0][1], list(model1.items())[1][1], Rec, 0)"
   ]
  },
  {
   "cell_type": "code",
   "execution_count": 204,
   "id": "df76aaed",
   "metadata": {},
   "outputs": [
    {
     "name": "stdout",
     "output_type": "stream",
     "text": [
      "time 0:00:01\n",
      "BPR-MF Epoch [20/1000]\n",
      "loss: -3712.0742\n",
      "HR@50: 0.2617, HR@100: 0.3875, NDCG@50: 0.0740, NDCG@100: 0.0740\n",
      "BPR-MF Epoch [40/1000]\n",
      "loss: -3373.8118\n",
      "HR@50: 0.2619, HR@100: 0.3875, NDCG@50: 0.0740, NDCG@100: 0.0740\n",
      "BPR-MF Epoch [60/1000]\n",
      "loss: -3285.8896\n",
      "HR@50: 0.2622, HR@100: 0.3876, NDCG@50: 0.0740, NDCG@100: 0.0740\n",
      "BPR-MF Epoch [80/1000]\n",
      "loss: -3185.8579\n",
      "HR@50: 0.2621, HR@100: 0.3876, NDCG@50: 0.0742, NDCG@100: 0.0742\n",
      "BPR-MF Epoch [100/1000]\n",
      "loss: -3470.0930\n",
      "HR@50: 0.2622, HR@100: 0.3877, NDCG@50: 0.0743, NDCG@100: 0.0743\n",
      "time 0:00:21\n",
      "BPR-MF Epoch [120/1000]\n",
      "loss: -3425.1577\n",
      "HR@50: 0.2622, HR@100: 0.3877, NDCG@50: 0.0742, NDCG@100: 0.0742\n",
      "BPR-MF Epoch [140/1000]\n",
      "loss: -3181.0874\n",
      "HR@50: 0.2621, HR@100: 0.3877, NDCG@50: 0.0741, NDCG@100: 0.0741\n",
      "BPR-MF Epoch [160/1000]\n",
      "loss: -3311.9656\n",
      "HR@50: 0.2621, HR@100: 0.3878, NDCG@50: 0.0740, NDCG@100: 0.0740\n",
      "BPR-MF Epoch [180/1000]\n",
      "loss: -3265.0930\n",
      "HR@50: 0.2621, HR@100: 0.3877, NDCG@50: 0.0740, NDCG@100: 0.0740\n",
      "BPR-MF Epoch [200/1000]\n",
      "loss: -3843.3767\n",
      "HR@50: 0.2619, HR@100: 0.3877, NDCG@50: 0.0739, NDCG@100: 0.0739\n"
     ]
    }
   ],
   "source": [
    "optimizer = optim.Adam(model.parameters(), lr=0.000025)\n",
    "\n",
    "# Training\n",
    "start_time = time.time()\n",
    "eval_best_loss = float('inf')\n",
    "\n",
    "##zero_grad: zeroes the grad attribute of all the parameters passed to the optimizer upon construction\n",
    "optimizer.zero_grad()\n",
    "epoch = 0\n",
    "HR_history = []\n",
    "NDCG_history = []\n",
    "perturb_list = []\n",
    "# result_history = []\n",
    "#loader has batch size of 512. In each batch there are 3 tensors of u i j accordingly\n",
    "for u, i, j in loader:\n",
    "    if epoch in range(200):\n",
    "        loss,perturb = model(u, i, j, epoch)\n",
    "\n",
    "        ##  updates the value of those parameters according to the optimization strategy implemented by the specific optimizer.\n",
    "        optimizer.step()\n",
    "        HR_list, NDCG_list = evaluate_k(list(model1.items())[0][1] + perturb,\n",
    "                                        list(model1.items())[1][1] + perturb,\n",
    "                                        train_user_list,\n",
    "                                        test_user_list,\n",
    "                                        klist=[50, 100])\n",
    "        if epoch % 20 == (20- 1):\n",
    "            if epoch in range(1000):\n",
    "                print('BPR-MF Epoch [{}/{}]'.format(epoch + 1, 1000))\n",
    "            print('loss: %.4f' % loss)\n",
    "            print('HR@50: %.4f, HR@100: %.4f, NDCG@50: %.4f, NDCG@100: %.4f' % (\n",
    "                HR_list[0], HR_list[1], NDCG_list[0], NDCG_list[1]))\n",
    "        perturb_list.append(perturb)\n",
    "        HR_history.append(HR_list[1])\n",
    "        NDCG_history.append(NDCG_list[1])\n",
    "        if epoch % 100 == 0:\n",
    "            if loss < eval_best_loss:\n",
    "                eval_best_loss = loss\n",
    "                dirname = os.path.dirname(os.path.abspath('output/perturbation'))\n",
    "                os.makedirs(dirname, exist_ok=True)\n",
    "                torch.save(model.state_dict(), 'output/perturbation')\n",
    "                time_dif = get_time_dif(start_time)\n",
    "                print(\"time\", time_dif)\n",
    "        epoch += 1\n",
    "    else:\n",
    "        break\n"
   ]
  },
  {
   "cell_type": "markdown",
   "id": "b4b31e3f",
   "metadata": {},
   "source": [
    "https://stackoverflow.com/questions/66572604/optimize-input-instead-of-network-in-pytorch"
   ]
  },
  {
   "cell_type": "code",
   "execution_count": 205,
   "id": "614bc549",
   "metadata": {},
   "outputs": [
    {
     "data": {
      "text/plain": [
       "torch.Size([1, 64])"
      ]
     },
     "execution_count": 205,
     "metadata": {},
     "output_type": "execute_result"
    }
   ],
   "source": [
    "#load the results of BPR\n",
    "pertubation = (torch.load('output/perturbation'))\n",
    "list(pertubation.items())[0][1].size()\n"
   ]
  },
  {
   "cell_type": "code",
   "execution_count": 206,
   "id": "caa01e15",
   "metadata": {},
   "outputs": [
    {
     "data": {
      "text/plain": [
       "torch.Size([6036, 1481])"
      ]
     },
     "execution_count": 206,
     "metadata": {},
     "output_type": "execute_result"
    }
   ],
   "source": [
    "#load the results of BPR\n",
    "model1 = (torch.load('output/bpr_manual'))\n",
    "list(model1.items())[0][1].size(),list(model1.items())[1][1].size()\n",
    "\n",
    "\n",
    "\n",
    "Rec = np.matmul(list(model1.items())[0][1]+list(pertubation.items())[0][1], (list(model1.items())[1][1]+list(pertubation.items())[0][1]).T)\n",
    "Rec.size()\n",
    "# Rec[1,:].size()\n"
   ]
  },
  {
   "cell_type": "code",
   "execution_count": 207,
   "id": "5d4e7ace",
   "metadata": {},
   "outputs": [
    {
     "name": "stdout",
     "output_type": "stream",
     "text": [
      "\n",
      "####################################################################################################\n",
      "# System-level Recall:\n",
      "# \t\t\tRecall@1\tRecall@5\tRecall@10\tRecall@15\n",
      "# Sci-Fi\t\t0.00261\t\t0.01256\t\t0.02379\t\t0.03527\n",
      "# Horror\t\t0.00000\t\t0.00013\t\t0.00053\t\t0.00080\n",
      "# Crime\t\t0.00000\t\t0.00051\t\t0.00178\t\t0.00394\n",
      "# Adventure\t\t0.00045\t\t0.00204\t\t0.00431\t\t0.00711\n",
      "# Children's\t\t0.00430\t\t0.02066\t\t0.04244\t\t0.06601\n",
      "# Romance\t\t0.00245\t\t0.01200\t\t0.02345\t\t0.03565\n",
      "# relative std\t\t0.98087\t\t0.95738\t\t0.94931\t\t0.93845\n",
      "####################################################################################################\n",
      "# User-level Recall:\n",
      "# \t\t\tRecall@1\tRecall@5\tRecall@10\tRecall@15\n",
      "# Sci-Fi\t\t0.00527\t\t0.02511\t\t0.04786\t\t0.06923\n",
      "# Horror\t\t0.00000\t\t0.00038\t\t0.00068\t\t0.00115\n",
      "# Crime\t\t0.00000\t\t0.00041\t\t0.00156\t\t0.00318\n",
      "# Adventure\t\t0.00049\t\t0.00202\t\t0.00441\t\t0.00781\n",
      "# Children's\t\t0.00363\t\t0.01713\t\t0.03451\t\t0.05329\n",
      "# Romance\t\t0.00244\t\t0.01206\t\t0.02358\t\t0.03617\n",
      "# relative std\t\t1.01003\t\t0.98753\t\t0.95984\t\t0.92365\n",
      "####################################################################################################\n",
      "# System-level top ranking probability:\n",
      "# \t\t\t@1\t\t@5\t\t@10\t\t@15\n",
      "# Sci-Fi\t\t0.00226\t\t0.01078\t\t0.02072\t\t0.03009\n",
      "# Horror\t\t0.00044\t\t0.00179\t\t0.00271\t\t0.00332\n",
      "# Crime\t\t0.00067\t\t0.00482\t\t0.01022\t\t0.01493\n",
      "# Adventure\t\t0.00158\t\t0.00739\t\t0.01516\t\t0.02356\n",
      "# Children's\t\t0.00020\t\t0.00087\t\t0.00152\t\t0.00214\n",
      "# Romance\t\t0.00029\t\t0.00144\t\t0.00322\t\t0.00572\n",
      "# relative std\t\t0.83191\t\t0.79776\t\t0.79963\t\t0.79577\n",
      "####################################################################################################\n",
      "# User-level top ranking probability:\n",
      "# \t\t\t@1\t\t@5\t\t@10\t\t@15\n",
      "# Sci-Fi\t\t0.00227\t\t0.01088\t\t0.02093\t\t0.03040\n",
      "# Horror\t\t0.00043\t\t0.00177\t\t0.00270\t\t0.00331\n",
      "# Crime\t\t0.00068\t\t0.00478\t\t0.01017\t\t0.01489\n",
      "# Adventure\t\t0.00157\t\t0.00742\t\t0.01524\t\t0.02371\n",
      "# Children's\t\t0.00021\t\t0.00089\t\t0.00156\t\t0.00218\n",
      "# Romance\t\t0.00030\t\t0.00144\t\t0.00322\t\t0.00570\n",
      "# relative std\t\t0.83273\t\t0.80099\t\t0.80280\t\t0.79908\n",
      "####################################################################################################\n"
     ]
    },
    {
     "data": {
      "text/plain": [
       "(array([0.83190748, 0.79776128, 0.79962675, 0.79576568]),\n",
       " array([0.98087123, 0.95738232, 0.94931415, 0.93845301]))"
      ]
     },
     "execution_count": 207,
     "metadata": {},
     "output_type": "execute_result"
    }
   ],
   "source": [
    "import utility\n",
    "utility.ranking_analysis(Rec, vali_df, train_df, key_genre,\n",
    "                                                      item_genre_list, user_genre_count)"
   ]
  },
  {
   "cell_type": "code",
   "execution_count": 133,
   "id": "6adf9362",
   "metadata": {},
   "outputs": [
    {
     "name": "stderr",
     "output_type": "stream",
     "text": [
      "/home/vuhoang181/Documents/code_base/APR-PyTorch/utility.py:310: FutureWarning: The input object of type 'Tensor' is an array-like implementing one of the corresponding protocols (`__array__`, `__array_interface__` or `__array_struct__`); but not a sequence (or 0-D). In the future, this object will be coerced as if it was first converted using `np.array(obj)`. To retain the old behaviour, you have to either modify the type 'Tensor', or assign to an empty array created with `np.empty(correct_shape, dtype=object)`.\n",
      "  top15 = (np.array([top15_item_idx_no_train, u_pred[top15_item_idx_no_train]])).T\n",
      "/home/vuhoang181/Documents/code_base/APR-PyTorch/utility.py:310: VisibleDeprecationWarning: Creating an ndarray from ragged nested sequences (which is a list-or-tuple of lists-or-tuples-or ndarrays with different lengths or shapes) is deprecated. If you meant to do this, you must specify 'dtype=object' when creating the ndarray.\n",
      "  top15 = (np.array([top15_item_idx_no_train, u_pred[top15_item_idx_no_train]])).T\n"
     ]
    },
    {
     "name": "stdout",
     "output_type": "stream",
     "text": [
      "\n",
      "####################################################################################################\n",
      "# System-level Recall:\n",
      "# \t\t\tRecall@1\tRecall@5\tRecall@10\tRecall@15\n",
      "# Sci-Fi\t\t0.00383\t\t0.02130\t\t0.04567\t\t0.07430\n",
      "# Horror\t\t0.00000\t\t0.00013\t\t0.00027\t\t0.00053\n",
      "# Crime\t\t0.00038\t\t0.00051\t\t0.00102\t\t0.00165\n",
      "# Adventure\t\t0.00053\t\t0.00288\t\t0.00552\t\t0.00802\n",
      "# Children's\t\t0.00666\t\t0.03342\t\t0.06310\t\t0.09056\n",
      "# Romance\t\t0.00007\t\t0.00048\t\t0.00095\t\t0.00130\n",
      "# relative std\t\t1.30830\t\t1.32240\t\t1.30197\t\t1.28849\n",
      "####################################################################################################\n",
      "# User-level Recall:\n",
      "# \t\t\tRecall@1\tRecall@5\tRecall@10\tRecall@15\n",
      "# Sci-Fi\t\t0.00216\t\t0.01214\t\t0.02675\t\t0.04422\n",
      "# Horror\t\t0.00000\t\t0.00005\t\t0.00011\t\t0.00035\n",
      "# Crime\t\t0.00009\t\t0.00014\t\t0.00029\t\t0.00061\n",
      "# Adventure\t\t0.00114\t\t0.00660\t\t0.01232\t\t0.01698\n",
      "# Children's\t\t0.00907\t\t0.04610\t\t0.08801\t\t0.12748\n",
      "# Romance\t\t0.00002\t\t0.00019\t\t0.00043\t\t0.00059\n",
      "# relative std\t\t1.54771\t\t1.50576\t\t1.46929\t\t1.43754\n",
      "####################################################################################################\n",
      "# System-level top ranking probability:\n",
      "# \t\t\t@1\t\t@5\t\t@10\t\t@15\n",
      "# Sci-Fi\t\t0.00184\t\t0.01024\t\t0.02272\t\t0.03508\n",
      "# Horror\t\t0.00022\t\t0.00131\t\t0.00256\t\t0.00343\n",
      "# Crime\t\t0.00086\t\t0.00447\t\t0.00832\t\t0.01088\n",
      "# Adventure\t\t0.00138\t\t0.00666\t\t0.01344\t\t0.02405\n",
      "# Children's\t\t0.00008\t\t0.00103\t\t0.00238\t\t0.00356\n",
      "# Romance\t\t0.00043\t\t0.00181\t\t0.00293\t\t0.00496\n",
      "# relative std\t\t0.78905\t\t0.78396\t\t0.85029\t\t0.87492\n",
      "####################################################################################################\n",
      "# User-level top ranking probability:\n",
      "# \t\t\t@1\t\t@5\t\t@10\t\t@15\n",
      "# Sci-Fi\t\t0.00181\t\t0.01018\t\t0.02269\t\t0.03511\n",
      "# Horror\t\t0.00022\t\t0.00130\t\t0.00255\t\t0.00342\n",
      "# Crime\t\t0.00086\t\t0.00446\t\t0.00831\t\t0.01089\n",
      "# Adventure\t\t0.00139\t\t0.00672\t\t0.01353\t\t0.02413\n",
      "# Children's\t\t0.00008\t\t0.00101\t\t0.00235\t\t0.00353\n",
      "# Romance\t\t0.00044\t\t0.00183\t\t0.00296\t\t0.00498\n",
      "# relative std\t\t0.78422\t\t0.78233\t\t0.84969\t\t0.87564\n",
      "####################################################################################################\n"
     ]
    },
    {
     "data": {
      "text/plain": [
       "(array([0.78904869, 0.78396012, 0.85028607, 0.87491529]),\n",
       " array([1.3083043 , 1.32239504, 1.30196555, 1.2884858 ]))"
      ]
     },
     "execution_count": 133,
     "metadata": {},
     "output_type": "execute_result"
    }
   ],
   "source": [
    "#before training\n",
    "import utility\n",
    "utility.ranking_analysis(Rec, vali_df, train_df, key_genre,\n",
    "                                                      item_genre_list, user_genre_count)"
   ]
  },
  {
   "cell_type": "code",
   "execution_count": 17,
   "id": "fd769aa3",
   "metadata": {},
   "outputs": [
    {
     "data": {
      "text/plain": [
       "tensor([1.9876, 3.1480, 2.5682,  ..., 1.8456, 2.9970, 1.9240])"
      ]
     },
     "execution_count": 17,
     "metadata": {},
     "output_type": "execute_result"
    }
   ],
   "source": [
    "torch.matmul(list(model1.items())[0][1], list(model1.items())[1][1][43,:].T)"
   ]
  },
  {
   "cell_type": "code",
   "execution_count": 143,
   "id": "76d6f44f",
   "metadata": {},
   "outputs": [
    {
     "name": "stderr",
     "output_type": "stream",
     "text": [
      "/tmp/ipykernel_4087/1973552975.py:12: FutureWarning: The input object of type 'Tensor' is an array-like implementing one of the corresponding protocols (`__array__`, `__array_interface__` or `__array_struct__`); but not a sequence (or 0-D). In the future, this object will be coerced as if it was first converted using `np.array(obj)`. To retain the old behaviour, you have to either modify the type 'Tensor', or assign to an empty array created with `np.empty(correct_shape, dtype=object)`.\n",
      "  top15 = (np.array([top15_item_idx_no_train, u_pred[top15_item_idx_no_train]])).T\n",
      "/tmp/ipykernel_4087/1973552975.py:12: VisibleDeprecationWarning: Creating an ndarray from ragged nested sequences (which is a list-or-tuple of lists-or-tuples-or ndarrays with different lengths or shapes) is deprecated. If you meant to do this, you must specify 'dtype=object' when creating the ndarray.\n",
      "  top15 = (np.array([top15_item_idx_no_train, u_pred[top15_item_idx_no_train]])).T\n"
     ]
    }
   ],
   "source": [
    "for u in range(num_user):\n",
    "        #for each user list all the items that he likes, mark that to -10000\n",
    "        like_item = (train_df.loc[train_df['user_id'] == u, 'item_id']).tolist()\n",
    "        Rec[u, like_item] = -100000.0\n",
    "\n",
    "for u in range(num_user):  # iterate each user\n",
    "    #extract item that user actually match during testing, extract the prediction\n",
    "    u_test = (vali_df.loc[vali_df['user_id'] == u, 'item_id']).tolist()\n",
    "    u_pred = Rec[u, :]\n",
    "    \n",
    "    top15_item_idx_no_train = np.argpartition(u_pred, -1 * 15)[-1 * 15:]\n",
    "    top15 = (np.array([top15_item_idx_no_train, u_pred[top15_item_idx_no_train]])).T\n",
    "    top15 = sorted(top15, key=itemgetter(1), reverse=True)\n",
    "\n"
   ]
  },
  {
   "cell_type": "code",
   "execution_count": 217,
   "id": "e2cb0058",
   "metadata": {},
   "outputs": [
    {
     "data": {
      "text/plain": [
       "(1851145,\n",
       " array([[   0],\n",
       "        [   0],\n",
       "        [   0],\n",
       "        ...,\n",
       "        [6035],\n",
       "        [6035],\n",
       "        [6035]]),\n",
       " array([[  4],\n",
       "        [  4],\n",
       "        [  4],\n",
       "        ...,\n",
       "        [583],\n",
       "        [583],\n",
       "        [583]]),\n",
       " array([[1442],\n",
       "        [ 440],\n",
       "        [ 490],\n",
       "        ...,\n",
       "        [ 504],\n",
       "        [ 560],\n",
       "        [ 113]]))"
      ]
     },
     "execution_count": 217,
     "metadata": {},
     "output_type": "execute_result"
    }
   ],
   "source": [
    "utility.negative_sample(train_df, num_user, num_item, 5)"
   ]
  },
  {
   "cell_type": "code",
   "execution_count": 218,
   "id": "d829144d",
   "metadata": {},
   "outputs": [
    {
     "data": {
      "text/plain": [
       "{0,\n",
       " 1,\n",
       " 2,\n",
       " 3,\n",
       " 4,\n",
       " 5,\n",
       " 6,\n",
       " 7,\n",
       " 8,\n",
       " 9,\n",
       " 10,\n",
       " 11,\n",
       " 12,\n",
       " 13,\n",
       " 14,\n",
       " 15,\n",
       " 16,\n",
       " 17,\n",
       " 18,\n",
       " 19,\n",
       " 20,\n",
       " 21,\n",
       " 22,\n",
       " 23,\n",
       " 24,\n",
       " 25,\n",
       " 26,\n",
       " 27,\n",
       " 28,\n",
       " 29,\n",
       " 30,\n",
       " 31,\n",
       " 32,\n",
       " 33,\n",
       " 34,\n",
       " 35,\n",
       " 36,\n",
       " 37,\n",
       " 38,\n",
       " 39,\n",
       " 40,\n",
       " 41,\n",
       " 42,\n",
       " 43,\n",
       " 44,\n",
       " 45,\n",
       " 46,\n",
       " 47,\n",
       " 48,\n",
       " 49,\n",
       " 50,\n",
       " 51,\n",
       " 52,\n",
       " 53,\n",
       " 54,\n",
       " 55,\n",
       " 56,\n",
       " 57,\n",
       " 58,\n",
       " 59,\n",
       " 60,\n",
       " 61,\n",
       " 62,\n",
       " 63,\n",
       " 64,\n",
       " 65,\n",
       " 66,\n",
       " 67,\n",
       " 68,\n",
       " 69,\n",
       " 70,\n",
       " 71,\n",
       " 72,\n",
       " 73,\n",
       " 74,\n",
       " 75,\n",
       " 76,\n",
       " 77,\n",
       " 78,\n",
       " 79,\n",
       " 80,\n",
       " 81,\n",
       " 82,\n",
       " 83,\n",
       " 84,\n",
       " 85,\n",
       " 86,\n",
       " 87,\n",
       " 88,\n",
       " 89,\n",
       " 90,\n",
       " 91,\n",
       " 92,\n",
       " 93,\n",
       " 94,\n",
       " 95,\n",
       " 96,\n",
       " 97,\n",
       " 98,\n",
       " 99,\n",
       " 100,\n",
       " 101,\n",
       " 102,\n",
       " 103,\n",
       " 104,\n",
       " 105,\n",
       " 106,\n",
       " 107,\n",
       " 108,\n",
       " 109,\n",
       " 110,\n",
       " 111,\n",
       " 112,\n",
       " 113,\n",
       " 114,\n",
       " 115,\n",
       " 116,\n",
       " 117,\n",
       " 118,\n",
       " 119,\n",
       " 120,\n",
       " 121,\n",
       " 122,\n",
       " 123,\n",
       " 124,\n",
       " 125,\n",
       " 126,\n",
       " 127,\n",
       " 128,\n",
       " 129,\n",
       " 130,\n",
       " 131,\n",
       " 132,\n",
       " 133,\n",
       " 134,\n",
       " 135,\n",
       " 136,\n",
       " 137,\n",
       " 138,\n",
       " 139,\n",
       " 140,\n",
       " 141,\n",
       " 142,\n",
       " 143,\n",
       " 144,\n",
       " 145,\n",
       " 146,\n",
       " 147,\n",
       " 148,\n",
       " 149,\n",
       " 150,\n",
       " 151,\n",
       " 152,\n",
       " 153,\n",
       " 154,\n",
       " 155,\n",
       " 156,\n",
       " 157,\n",
       " 158,\n",
       " 159,\n",
       " 160,\n",
       " 161,\n",
       " 162,\n",
       " 163,\n",
       " 164,\n",
       " 165,\n",
       " 166,\n",
       " 167,\n",
       " 168,\n",
       " 169,\n",
       " 170,\n",
       " 171,\n",
       " 172,\n",
       " 173,\n",
       " 174,\n",
       " 175,\n",
       " 176,\n",
       " 177,\n",
       " 178,\n",
       " 179,\n",
       " 180,\n",
       " 181,\n",
       " 182,\n",
       " 183,\n",
       " 184,\n",
       " 185,\n",
       " 186,\n",
       " 187,\n",
       " 188,\n",
       " 189,\n",
       " 190,\n",
       " 191,\n",
       " 192,\n",
       " 193,\n",
       " 194,\n",
       " 195,\n",
       " 196,\n",
       " 197,\n",
       " 198,\n",
       " 199,\n",
       " 200,\n",
       " 201,\n",
       " 202,\n",
       " 203,\n",
       " 204,\n",
       " 205,\n",
       " 206,\n",
       " 207,\n",
       " 208,\n",
       " 209,\n",
       " 210,\n",
       " 211,\n",
       " 212,\n",
       " 213,\n",
       " 214,\n",
       " 215,\n",
       " 216,\n",
       " 217,\n",
       " 218,\n",
       " 219,\n",
       " 220,\n",
       " 221,\n",
       " 222,\n",
       " 223,\n",
       " 224,\n",
       " 225,\n",
       " 226,\n",
       " 227,\n",
       " 228,\n",
       " 229,\n",
       " 230,\n",
       " 231,\n",
       " 232,\n",
       " 233,\n",
       " 234,\n",
       " 235,\n",
       " 236,\n",
       " 237,\n",
       " 238,\n",
       " 239,\n",
       " 240,\n",
       " 241,\n",
       " 242,\n",
       " 243,\n",
       " 244,\n",
       " 245,\n",
       " 246,\n",
       " 247,\n",
       " 248,\n",
       " 249,\n",
       " 250,\n",
       " 251,\n",
       " 252,\n",
       " 253,\n",
       " 254,\n",
       " 255,\n",
       " 256,\n",
       " 257,\n",
       " 258,\n",
       " 259,\n",
       " 260,\n",
       " 261,\n",
       " 262,\n",
       " 263,\n",
       " 264,\n",
       " 265,\n",
       " 266,\n",
       " 267,\n",
       " 268,\n",
       " 269,\n",
       " 270,\n",
       " 271,\n",
       " 272,\n",
       " 273,\n",
       " 274,\n",
       " 275,\n",
       " 276,\n",
       " 277,\n",
       " 278,\n",
       " 279,\n",
       " 280,\n",
       " 281,\n",
       " 282,\n",
       " 283,\n",
       " 284,\n",
       " 285,\n",
       " 286,\n",
       " 287,\n",
       " 288,\n",
       " 289,\n",
       " 290,\n",
       " 291,\n",
       " 292,\n",
       " 293,\n",
       " 294,\n",
       " 295,\n",
       " 296,\n",
       " 297,\n",
       " 298,\n",
       " 299,\n",
       " 300,\n",
       " 301,\n",
       " 302,\n",
       " 303,\n",
       " 304,\n",
       " 305,\n",
       " 306,\n",
       " 307,\n",
       " 308,\n",
       " 309,\n",
       " 310,\n",
       " 311,\n",
       " 312,\n",
       " 313,\n",
       " 314,\n",
       " 315,\n",
       " 316,\n",
       " 317,\n",
       " 318,\n",
       " 319,\n",
       " 320,\n",
       " 321,\n",
       " 322,\n",
       " 323,\n",
       " 324,\n",
       " 325,\n",
       " 326,\n",
       " 327,\n",
       " 328,\n",
       " 329,\n",
       " 330,\n",
       " 331,\n",
       " 332,\n",
       " 333,\n",
       " 334,\n",
       " 335,\n",
       " 336,\n",
       " 337,\n",
       " 338,\n",
       " 339,\n",
       " 340,\n",
       " 341,\n",
       " 342,\n",
       " 343,\n",
       " 344,\n",
       " 345,\n",
       " 346,\n",
       " 347,\n",
       " 348,\n",
       " 349,\n",
       " 350,\n",
       " 351,\n",
       " 352,\n",
       " 353,\n",
       " 354,\n",
       " 355,\n",
       " 356,\n",
       " 357,\n",
       " 358,\n",
       " 359,\n",
       " 360,\n",
       " 361,\n",
       " 362,\n",
       " 363,\n",
       " 364,\n",
       " 365,\n",
       " 366,\n",
       " 367,\n",
       " 368,\n",
       " 369,\n",
       " 370,\n",
       " 371,\n",
       " 372,\n",
       " 373,\n",
       " 374,\n",
       " 375,\n",
       " 376,\n",
       " 377,\n",
       " 378,\n",
       " 379,\n",
       " 380,\n",
       " 381,\n",
       " 382,\n",
       " 383,\n",
       " 384,\n",
       " 385,\n",
       " 386,\n",
       " 387,\n",
       " 388,\n",
       " 389,\n",
       " 390,\n",
       " 391,\n",
       " 392,\n",
       " 393,\n",
       " 394,\n",
       " 395,\n",
       " 396,\n",
       " 397,\n",
       " 398,\n",
       " 399,\n",
       " 400,\n",
       " 401,\n",
       " 402,\n",
       " 403,\n",
       " 404,\n",
       " 405,\n",
       " 406,\n",
       " 407,\n",
       " 408,\n",
       " 409,\n",
       " 410,\n",
       " 411,\n",
       " 412,\n",
       " 413,\n",
       " 414,\n",
       " 415,\n",
       " 416,\n",
       " 417,\n",
       " 418,\n",
       " 419,\n",
       " 420,\n",
       " 421,\n",
       " 422,\n",
       " 423,\n",
       " 424,\n",
       " 425,\n",
       " 426,\n",
       " 427,\n",
       " 428,\n",
       " 429,\n",
       " 430,\n",
       " 431,\n",
       " 432,\n",
       " 433,\n",
       " 434,\n",
       " 435,\n",
       " 436,\n",
       " 437,\n",
       " 438,\n",
       " 439,\n",
       " 440,\n",
       " 441,\n",
       " 442,\n",
       " 443,\n",
       " 444,\n",
       " 445,\n",
       " 446,\n",
       " 447,\n",
       " 448,\n",
       " 449,\n",
       " 450,\n",
       " 451,\n",
       " 452,\n",
       " 453,\n",
       " 454,\n",
       " 455,\n",
       " 456,\n",
       " 457,\n",
       " 458,\n",
       " 459,\n",
       " 460,\n",
       " 461,\n",
       " 462,\n",
       " 463,\n",
       " 464,\n",
       " 465,\n",
       " 466,\n",
       " 467,\n",
       " 468,\n",
       " 469,\n",
       " 470,\n",
       " 471,\n",
       " 472,\n",
       " 473,\n",
       " 474,\n",
       " 475,\n",
       " 476,\n",
       " 477,\n",
       " 478,\n",
       " 479,\n",
       " 480,\n",
       " 481,\n",
       " 482,\n",
       " 483,\n",
       " 484,\n",
       " 485,\n",
       " 486,\n",
       " 487,\n",
       " 488,\n",
       " 489,\n",
       " 490,\n",
       " 491,\n",
       " 492,\n",
       " 493,\n",
       " 494,\n",
       " 495,\n",
       " 496,\n",
       " 497,\n",
       " 498,\n",
       " 499,\n",
       " 500,\n",
       " 501,\n",
       " 502,\n",
       " 503,\n",
       " 504,\n",
       " 505,\n",
       " 506,\n",
       " 507,\n",
       " 508,\n",
       " 509,\n",
       " 510,\n",
       " 511,\n",
       " 512,\n",
       " 513,\n",
       " 514,\n",
       " 515,\n",
       " 516,\n",
       " 517,\n",
       " 518,\n",
       " 519,\n",
       " 520,\n",
       " 521,\n",
       " 522,\n",
       " 523,\n",
       " 524,\n",
       " 525,\n",
       " 526,\n",
       " 527,\n",
       " 528,\n",
       " 529,\n",
       " 530,\n",
       " 531,\n",
       " 532,\n",
       " 533,\n",
       " 534,\n",
       " 535,\n",
       " 536,\n",
       " 537,\n",
       " 538,\n",
       " 539,\n",
       " 540,\n",
       " 541,\n",
       " 542,\n",
       " 543,\n",
       " 544,\n",
       " 545,\n",
       " 546,\n",
       " 547,\n",
       " 548,\n",
       " 549,\n",
       " 550,\n",
       " 551,\n",
       " 552,\n",
       " 553,\n",
       " 554,\n",
       " 555,\n",
       " 556,\n",
       " 557,\n",
       " 558,\n",
       " 559,\n",
       " 560,\n",
       " 561,\n",
       " 562,\n",
       " 563,\n",
       " 564,\n",
       " 565,\n",
       " 566,\n",
       " 567,\n",
       " 568,\n",
       " 569,\n",
       " 570,\n",
       " 571,\n",
       " 572,\n",
       " 573,\n",
       " 574,\n",
       " 575,\n",
       " 576,\n",
       " 577,\n",
       " 578,\n",
       " 579,\n",
       " 580,\n",
       " 581,\n",
       " 582,\n",
       " 583,\n",
       " 584,\n",
       " 585,\n",
       " 586,\n",
       " 587,\n",
       " 588,\n",
       " 589,\n",
       " 590,\n",
       " 591,\n",
       " 592,\n",
       " 593,\n",
       " 594,\n",
       " 595,\n",
       " 596,\n",
       " 597,\n",
       " 598,\n",
       " 599,\n",
       " 600,\n",
       " 601,\n",
       " 602,\n",
       " 603,\n",
       " 604,\n",
       " 605,\n",
       " 606,\n",
       " 607,\n",
       " 608,\n",
       " 609,\n",
       " 610,\n",
       " 611,\n",
       " 612,\n",
       " 613,\n",
       " 614,\n",
       " 615,\n",
       " 616,\n",
       " 617,\n",
       " 618,\n",
       " 619,\n",
       " 620,\n",
       " 621,\n",
       " 622,\n",
       " 623,\n",
       " 624,\n",
       " 625,\n",
       " 626,\n",
       " 627,\n",
       " 628,\n",
       " 629,\n",
       " 630,\n",
       " 631,\n",
       " 632,\n",
       " 633,\n",
       " 634,\n",
       " 635,\n",
       " 636,\n",
       " 637,\n",
       " 638,\n",
       " 639,\n",
       " 640,\n",
       " 641,\n",
       " 642,\n",
       " 643,\n",
       " 644,\n",
       " 645,\n",
       " 646,\n",
       " 647,\n",
       " 648,\n",
       " 649,\n",
       " 650,\n",
       " 651,\n",
       " 652,\n",
       " 653,\n",
       " 654,\n",
       " 655,\n",
       " 656,\n",
       " 657,\n",
       " 658,\n",
       " 659,\n",
       " 660,\n",
       " 661,\n",
       " 662,\n",
       " 663,\n",
       " 664,\n",
       " 665,\n",
       " 666,\n",
       " 667,\n",
       " 668,\n",
       " 669,\n",
       " 670,\n",
       " 671,\n",
       " 672,\n",
       " 673,\n",
       " 674,\n",
       " 675,\n",
       " 676,\n",
       " 677,\n",
       " 678,\n",
       " 679,\n",
       " 680,\n",
       " 681,\n",
       " 682,\n",
       " 683,\n",
       " 684,\n",
       " 685,\n",
       " 686,\n",
       " 687,\n",
       " 688,\n",
       " 689,\n",
       " 690,\n",
       " 691,\n",
       " 692,\n",
       " 693,\n",
       " 694,\n",
       " 695,\n",
       " 696,\n",
       " 697,\n",
       " 698,\n",
       " 699,\n",
       " 700,\n",
       " 701,\n",
       " 702,\n",
       " 703,\n",
       " 704,\n",
       " 705,\n",
       " 706,\n",
       " 707,\n",
       " 708,\n",
       " 709,\n",
       " 710,\n",
       " 711,\n",
       " 712,\n",
       " 713,\n",
       " 714,\n",
       " 715,\n",
       " 716,\n",
       " 717,\n",
       " 718,\n",
       " 719,\n",
       " 720,\n",
       " 721,\n",
       " 722,\n",
       " 723,\n",
       " 724,\n",
       " 725,\n",
       " 726,\n",
       " 727,\n",
       " 728,\n",
       " 729,\n",
       " 730,\n",
       " 731,\n",
       " 732,\n",
       " 733,\n",
       " 734,\n",
       " 735,\n",
       " 736,\n",
       " 737,\n",
       " 738,\n",
       " 739,\n",
       " 740,\n",
       " 741,\n",
       " 742,\n",
       " 743,\n",
       " 744,\n",
       " 745,\n",
       " 746,\n",
       " 747,\n",
       " 748,\n",
       " 749,\n",
       " 750,\n",
       " 751,\n",
       " 752,\n",
       " 753,\n",
       " 754,\n",
       " 755,\n",
       " 756,\n",
       " 757,\n",
       " 758,\n",
       " 759,\n",
       " 760,\n",
       " 761,\n",
       " 762,\n",
       " 763,\n",
       " 764,\n",
       " 765,\n",
       " 766,\n",
       " 767,\n",
       " 768,\n",
       " 769,\n",
       " 770,\n",
       " 771,\n",
       " 772,\n",
       " 773,\n",
       " 774,\n",
       " 775,\n",
       " 776,\n",
       " 777,\n",
       " 778,\n",
       " 779,\n",
       " 780,\n",
       " 781,\n",
       " 782,\n",
       " 783,\n",
       " 784,\n",
       " 785,\n",
       " 786,\n",
       " 787,\n",
       " 788,\n",
       " 789,\n",
       " 790,\n",
       " 791,\n",
       " 792,\n",
       " 793,\n",
       " 794,\n",
       " 795,\n",
       " 796,\n",
       " 797,\n",
       " 798,\n",
       " 799,\n",
       " 800,\n",
       " 801,\n",
       " 802,\n",
       " 803,\n",
       " 804,\n",
       " 805,\n",
       " 806,\n",
       " 807,\n",
       " 808,\n",
       " 809,\n",
       " 810,\n",
       " 811,\n",
       " 812,\n",
       " 813,\n",
       " 814,\n",
       " 815,\n",
       " 816,\n",
       " 817,\n",
       " 818,\n",
       " 819,\n",
       " 820,\n",
       " 821,\n",
       " 822,\n",
       " 823,\n",
       " 824,\n",
       " 825,\n",
       " 826,\n",
       " 827,\n",
       " 828,\n",
       " 829,\n",
       " 830,\n",
       " 831,\n",
       " 832,\n",
       " 833,\n",
       " 834,\n",
       " 835,\n",
       " 836,\n",
       " 837,\n",
       " 838,\n",
       " 839,\n",
       " 840,\n",
       " 841,\n",
       " 842,\n",
       " 843,\n",
       " 844,\n",
       " 845,\n",
       " 846,\n",
       " 847,\n",
       " 848,\n",
       " 849,\n",
       " 850,\n",
       " 851,\n",
       " 852,\n",
       " 853,\n",
       " 854,\n",
       " 855,\n",
       " 856,\n",
       " 857,\n",
       " 858,\n",
       " 859,\n",
       " 860,\n",
       " 861,\n",
       " 862,\n",
       " 863,\n",
       " 864,\n",
       " 865,\n",
       " 866,\n",
       " 867,\n",
       " 868,\n",
       " 869,\n",
       " 870,\n",
       " 871,\n",
       " 872,\n",
       " 873,\n",
       " 874,\n",
       " 875,\n",
       " 876,\n",
       " 877,\n",
       " 878,\n",
       " 879,\n",
       " 880,\n",
       " 881,\n",
       " 882,\n",
       " 883,\n",
       " 884,\n",
       " 885,\n",
       " 886,\n",
       " 887,\n",
       " 888,\n",
       " 889,\n",
       " 890,\n",
       " 891,\n",
       " 892,\n",
       " 893,\n",
       " 894,\n",
       " 895,\n",
       " 896,\n",
       " 897,\n",
       " 898,\n",
       " 899,\n",
       " 900,\n",
       " 901,\n",
       " 902,\n",
       " 903,\n",
       " 904,\n",
       " 905,\n",
       " 906,\n",
       " 907,\n",
       " 908,\n",
       " 909,\n",
       " 910,\n",
       " 911,\n",
       " 912,\n",
       " 913,\n",
       " 914,\n",
       " 915,\n",
       " 916,\n",
       " 917,\n",
       " 918,\n",
       " 919,\n",
       " 920,\n",
       " 921,\n",
       " 922,\n",
       " 923,\n",
       " 924,\n",
       " 925,\n",
       " 926,\n",
       " 927,\n",
       " 928,\n",
       " 929,\n",
       " 930,\n",
       " 931,\n",
       " 932,\n",
       " 933,\n",
       " 934,\n",
       " 935,\n",
       " 936,\n",
       " 937,\n",
       " 938,\n",
       " 939,\n",
       " 940,\n",
       " 941,\n",
       " 942,\n",
       " 943,\n",
       " 944,\n",
       " 945,\n",
       " 946,\n",
       " 947,\n",
       " 948,\n",
       " 949,\n",
       " 950,\n",
       " 951,\n",
       " 952,\n",
       " 953,\n",
       " 954,\n",
       " 955,\n",
       " 956,\n",
       " 957,\n",
       " 958,\n",
       " 959,\n",
       " 960,\n",
       " 961,\n",
       " 962,\n",
       " 963,\n",
       " 964,\n",
       " 965,\n",
       " 966,\n",
       " 967,\n",
       " 968,\n",
       " 969,\n",
       " 970,\n",
       " 971,\n",
       " 972,\n",
       " 973,\n",
       " 974,\n",
       " 975,\n",
       " 976,\n",
       " 977,\n",
       " 978,\n",
       " 979,\n",
       " 980,\n",
       " 981,\n",
       " 982,\n",
       " 983,\n",
       " 984,\n",
       " 985,\n",
       " 986,\n",
       " 987,\n",
       " 988,\n",
       " 989,\n",
       " 990,\n",
       " 991,\n",
       " 992,\n",
       " 993,\n",
       " 994,\n",
       " 995,\n",
       " 996,\n",
       " 997,\n",
       " 998,\n",
       " 999,\n",
       " ...}"
      ]
     },
     "execution_count": 218,
     "metadata": {},
     "output_type": "execute_result"
    }
   ],
   "source": [
    "set(range(num_item))"
   ]
  },
  {
   "cell_type": "code",
   "execution_count": 9,
   "id": "6cdf1daf",
   "metadata": {},
   "outputs": [],
   "source": [
    "user = []\n",
    "item_pos = []\n",
    "item_neg = []\n",
    "item_set = set(range(num_item))\n",
    "for i in range(num_user):\n",
    "    like_item = (train_df.loc[train_df['user_id'] == i, 'item_id']).tolist()\n",
    "    unlike_item = list(item_set - set(like_item))\n",
    "    if len(unlike_item) < 5:\n",
    "        tmp_neg = len(unlike_item)\n",
    "    else:\n",
    "        tmp_neg = 5\n",
    "    for l in like_item:\n",
    "        neg_samples = (np.random.choice(unlike_item, size=tmp_neg, replace=False)).tolist()\n",
    "        user += [i] * tmp_neg\n",
    "        item_pos += [l] * tmp_neg\n",
    "        item_neg += neg_samples\n",
    "    num_sample = len(user)\n",
    "#      num_sample, np.array(user).reshape((num_sample, 1)),\\\n",
    "#        np.array(item_pos).reshape((num_sample, 1)), np.array(item_neg).reshape((num_sample, 1))"
   ]
  },
  {
   "cell_type": "code",
   "execution_count": 10,
   "id": "b55b5ba9",
   "metadata": {},
   "outputs": [
    {
     "data": {
      "text/plain": [
       "array([   0,    0,    0, ..., 6035, 6035, 6035])"
      ]
     },
     "execution_count": 10,
     "metadata": {},
     "output_type": "execute_result"
    }
   ],
   "source": [
    "np.array(user)"
   ]
  },
  {
   "cell_type": "code",
   "execution_count": 11,
   "id": "a901eb2e",
   "metadata": {},
   "outputs": [
    {
     "data": {
      "text/plain": [
       "[48,\n",
       " 137,\n",
       " 625,\n",
       " 634,\n",
       " 198,\n",
       " 308,\n",
       " 315,\n",
       " 833,\n",
       " 745,\n",
       " 410,\n",
       " 565,\n",
       " 1164,\n",
       " 337,\n",
       " 511,\n",
       " 840,\n",
       " 790,\n",
       " 690,\n",
       " 186,\n",
       " 47,\n",
       " 964,\n",
       " 122,\n",
       " 136,\n",
       " 346,\n",
       " 28,\n",
       " 44,\n",
       " 63,\n",
       " 651,\n",
       " 39,\n",
       " 133,\n",
       " 98,\n",
       " 1221,\n",
       " 419,\n",
       " 134,\n",
       " 655,\n",
       " 183,\n",
       " 50,\n",
       " 193,\n",
       " 195,\n",
       " 669,\n",
       " 169,\n",
       " 172,\n",
       " 670,\n",
       " 798,\n",
       " 607,\n",
       " 902,\n",
       " 129,\n",
       " 214,\n",
       " 341,\n",
       " 501,\n",
       " 35,\n",
       " 36,\n",
       " 103,\n",
       " 369,\n",
       " 84,\n",
       " 524,\n",
       " 109,\n",
       " 648,\n",
       " 40,\n",
       " 589,\n",
       " 42,\n",
       " 793,\n",
       " 58,\n",
       " 280,\n",
       " 286,\n",
       " 89,\n",
       " 123,\n",
       " 403,\n",
       " 1116,\n",
       " 597,\n",
       " 22,\n",
       " 495,\n",
       " 767,\n",
       " 303,\n",
       " 306,\n",
       " 115,\n",
       " 349,\n",
       " 153,\n",
       " 61,\n",
       " 70,\n",
       " 67,\n",
       " 298,\n",
       " 317,\n",
       " 71,\n",
       " 342,\n",
       " 353,\n",
       " 240,\n",
       " 358,\n",
       " 507,\n",
       " 578,\n",
       " 583]"
      ]
     },
     "execution_count": 11,
     "metadata": {},
     "output_type": "execute_result"
    }
   ],
   "source": [
    "like_item"
   ]
  },
  {
   "cell_type": "code",
   "execution_count": null,
   "id": "8b10184e",
   "metadata": {},
   "outputs": [],
   "source": []
  }
 ],
 "metadata": {
  "kernelspec": {
   "display_name": "Python 3 (ipykernel)",
   "language": "python",
   "name": "python3"
  },
  "language_info": {
   "codemirror_mode": {
    "name": "ipython",
    "version": 3
   },
   "file_extension": ".py",
   "mimetype": "text/x-python",
   "name": "python",
   "nbconvert_exporter": "python",
   "pygments_lexer": "ipython3",
   "version": "3.9.7"
  }
 },
 "nbformat": 4,
 "nbformat_minor": 5
}
